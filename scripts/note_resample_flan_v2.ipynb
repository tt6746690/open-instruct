{
 "cells": [
  {
   "cell_type": "code",
   "execution_count": 3,
   "id": "1a90d27d",
   "metadata": {},
   "outputs": [
    {
     "name": "stdout",
     "output_type": "stream",
     "text": [
      "The autoreload extension is already loaded. To reload it, use:\n",
      "  %reload_ext autoreload\n"
     ]
    },
    {
     "data": {
      "text/html": [
       "<style>.container { width:100% !important; }</style>"
      ],
      "text/plain": [
       "<IPython.core.display.HTML object>"
      ]
     },
     "metadata": {},
     "output_type": "display_data"
    }
   ],
   "source": [
    "from rosemary import jpt_parse_args, jpt_setup, jpt_in_notebook; jpt_setup()\n"
   ]
  },
  {
   "cell_type": "code",
   "execution_count": 4,
   "id": "4d91b5ac",
   "metadata": {},
   "outputs": [],
   "source": [
    "import os\n",
    "import itertools\n",
    "from rosemary import jpt_in_notebook\n",
    "from llm.submit import submit_job, multiline_to_singleline, shell_scripts_template_slurm\n"
   ]
  },
  {
   "cell_type": "code",
   "execution_count": 7,
   "id": "979b7605",
   "metadata": {},
   "outputs": [],
   "source": [
    "from note_pruning_analysis import get_dataset\n",
    "\n",
    "# ds = get_dataset('flan2022/niv2_fs_noopt_train.jsonl', processed=False)"
   ]
  },
  {
   "cell_type": "code",
   "execution_count": 8,
   "id": "021e2d50",
   "metadata": {},
   "outputs": [
    {
     "name": "stderr",
     "output_type": "stream",
     "text": [
      "Found cached dataset json (/gpfs/u/home/PTFM/PTFMqngp/scratch/github/mitibm2023/external/open-instruct/data/raw_train/json/default-1d7a878687ccf868/0.0.0/8bb11242116d547c741b2e8a1f18598ffdd40a1d4f2a2872c7a28b697434bc96)\n",
      "Found cached dataset json (/gpfs/u/home/PTFM/PTFMqngp/scratch/github/mitibm2023/external/open-instruct/data/raw_train/json/default-e63bbb75ae936d4f/0.0.0/8bb11242116d547c741b2e8a1f18598ffdd40a1d4f2a2872c7a28b697434bc96)\n"
     ]
    },
    {
     "name": "stdout",
     "output_type": "stream",
     "text": [
      "Downloading and preparing dataset json/default to /gpfs/u/home/PTFM/PTFMqngp/scratch/github/mitibm2023/external/open-instruct/data/raw_train/json/default-5ebf04b734e102f1/0.0.0/8bb11242116d547c741b2e8a1f18598ffdd40a1d4f2a2872c7a28b697434bc96...\n"
     ]
    },
    {
     "data": {
      "application/vnd.jupyter.widget-view+json": {
       "model_id": "4235353842414873afeadd32c5024289",
       "version_major": 2,
       "version_minor": 0
      },
      "text/plain": [
       "Downloading data files:   0%|          | 0/1 [00:00<?, ?it/s]"
      ]
     },
     "metadata": {},
     "output_type": "display_data"
    },
    {
     "data": {
      "application/vnd.jupyter.widget-view+json": {
       "model_id": "deb4c1e3dd6a411e8da9734cb86582e4",
       "version_major": 2,
       "version_minor": 0
      },
      "text/plain": [
       "Extracting data files:   0%|          | 0/1 [00:00<?, ?it/s]"
      ]
     },
     "metadata": {},
     "output_type": "display_data"
    },
    {
     "data": {
      "application/vnd.jupyter.widget-view+json": {
       "model_id": "",
       "version_major": 2,
       "version_minor": 0
      },
      "text/plain": [
       "Generating train split: 0 examples [00:00, ? examples/s]"
      ]
     },
     "metadata": {},
     "output_type": "display_data"
    },
    {
     "name": "stdout",
     "output_type": "stream",
     "text": [
      "Dataset json downloaded and prepared to /gpfs/u/home/PTFM/PTFMqngp/scratch/github/mitibm2023/external/open-instruct/data/raw_train/json/default-5ebf04b734e102f1/0.0.0/8bb11242116d547c741b2e8a1f18598ffdd40a1d4f2a2872c7a28b697434bc96. Subsequent calls will reuse this data.\n"
     ]
    }
   ],
   "source": [
    "ds1 = get_dataset('flan_v2/flan_v2_resampled_100k.jsonl', processed=False)\n",
    "ds2 = get_dataset('flan2022/flan2022_1m.jsonl', processed=False)\n",
    "ds3 = get_dataset('flan2022/flan2022v1_1m.jsonl', processed=False)"
   ]
  },
  {
   "cell_type": "code",
   "execution_count": null,
   "id": "50abc39c",
   "metadata": {
    "scrolled": true
   },
   "outputs": [],
   "source": [
    "from collections import Counter\n",
    "\n",
    "ds = ds1\n",
    "for i, ds in enumerate([ds1, ds2]):\n",
    "    print(i)\n",
    "    for k in ['_task_source', '_template_type']:\n",
    "        counts = dict(Counter(ds[k]))\n",
    "        s = sum(counts.values())\n",
    "        counts = {k: v/s for k, v in counts.items()}\n",
    "        print(k, counts)\n",
    "    break"
   ]
  },
  {
   "cell_type": "code",
   "execution_count": null,
   "id": "21b90229",
   "metadata": {
    "scrolled": true
   },
   "outputs": [],
   "source": [
    "for i in range(200, 300):\n",
    "    print(i)\n",
    "    s = ds1[i]['inputs'][:100]\n",
    "    dsf = ds2.filter(lambda x: x['inputs'].startswith(s), num_proc=32, keep_in_memory=True)\n",
    "    if len(dsf)!=0:\n",
    "        s = ds1[i]['targets'][:100]\n",
    "        dsf = dsf.filter(lambda x: x['targets'].startswith(s), num_proc=4, keep_in_memory=True)\n",
    "        if len(dsf)!=0:\n",
    "            break\n",
    "    "
   ]
  },
  {
   "cell_type": "code",
   "execution_count": 15,
   "id": "69319196",
   "metadata": {},
   "outputs": [
    {
     "name": "stdout",
     "output_type": "stream",
     "text": [
      "\n",
      "Submiting job with:\n",
      "{\n",
      "    \"job_name\": \"resample_flan_v2\",\n",
      "    \"nodes\": 1,\n",
      "    \"num_cpus\": 64,\n",
      "    \"cpu_mem\": 128,\n",
      "    \"num_gpus\": 1,\n",
      "    \"gpu_type\": \"v100\",\n",
      "    \"test_run\": false,\n",
      "    \"queue\": \"el8\",\n",
      "    \"num_jobs\": 1\n",
      "}\n",
      "python resample_flan_v2.py --flan_v2_data_dir data/raw_train/flan2022 --total_num_samples 100000 --output_path data/raw_train/flan2022/flan2022v1_100k.jsonl --portions_type flan2022v1\n",
      "\n",
      "Submiting job with:\n",
      "{\n",
      "    \"job_name\": \"resample_flan_v2\",\n",
      "    \"nodes\": 1,\n",
      "    \"num_cpus\": 64,\n",
      "    \"cpu_mem\": 128,\n",
      "    \"num_gpus\": 1,\n",
      "    \"gpu_type\": \"v100\",\n",
      "    \"test_run\": false,\n",
      "    \"queue\": \"el8\",\n",
      "    \"num_jobs\": 1\n",
      "}\n",
      "python resample_flan_v2.py --flan_v2_data_dir data/raw_train/flan2022 --total_num_samples 100000 --output_path data/raw_train/flan2022/flan2022v2_100k.jsonl --portions_type flan2022v2\n"
     ]
    }
   ],
   "source": [
    "test_run = 0\n",
    "test_run = bool(test_run)\n",
    "\n",
    "portions_list = ['flan2022v1', 'flan2022v2']\n",
    "\n",
    "N = 1000000; N_str = '1m'\n",
    "N =  100000; N_str = '100k'\n",
    "# N =   50000; N_str = '50k'\n",
    "\n",
    "save_dir = 'data/raw_train/flan2022/'\n",
    "\n",
    "for portions in portions_list:\n",
    "    output_filename = f'{portions}_{N_str}.jsonl'\n",
    "    \n",
    "    cmd = f\"\"\"\n",
    "    python resample_flan_v2.py \\\n",
    "        --flan_v2_data_dir data/raw_train/flan2022 \\\n",
    "        --total_num_samples {N} \\\n",
    "        --output_path {os.path.join(save_dir, output_filename)} \\\n",
    "        --portions_type {portions} \\\n",
    "    \"\"\"\n",
    "    cmd = multiline_to_singleline(cmd)\n",
    "    shell_scripts = shell_scripts_template_slurm.format(\n",
    "        conda_env='open-instruct',\n",
    "        cwd=os.getcwd(),\n",
    "        cmd=cmd,\n",
    "        log_dir=os.getcwd(),\n",
    "        save_dir=save_dir)\n",
    "    out = submit_job(\n",
    "        shell_scripts, \n",
    "        job_name=f'resample_flan_v2', \n",
    "        nodes=1,\n",
    "        num_cpus=64,\n",
    "        cpu_mem=128,\n",
    "        num_gpus=1,\n",
    "        gpu_type='v100',\n",
    "        test_run=test_run,\n",
    "        job_duration=6,\n",
    "    )\n",
    "    print(cmd)"
   ]
  },
  {
   "cell_type": "code",
   "execution_count": null,
   "id": "bf38044d",
   "metadata": {},
   "outputs": [],
   "source": [
    "\n",
    "# python open_instruct/reformat_datasets.py --raw_data_dir data/raw_train --output_dir data/processed --dataset flan2022\n",
    "\n",
    "\n",
    "\n"
   ]
  },
  {
   "cell_type": "code",
   "execution_count": null,
   "id": "db4669ca",
   "metadata": {},
   "outputs": [],
   "source": []
  }
 ],
 "metadata": {
  "kernelspec": {
   "display_name": "Python [conda env:open-instruct]",
   "language": "python",
   "name": "conda-env-open-instruct-py"
  },
  "language_info": {
   "codemirror_mode": {
    "name": "ipython",
    "version": 3
   },
   "file_extension": ".py",
   "mimetype": "text/x-python",
   "name": "python",
   "nbconvert_exporter": "python",
   "pygments_lexer": "ipython3",
   "version": "3.10.12"
  }
 },
 "nbformat": 4,
 "nbformat_minor": 5
}
