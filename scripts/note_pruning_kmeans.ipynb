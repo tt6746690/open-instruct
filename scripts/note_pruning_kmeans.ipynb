{
 "cells": [
  {
   "cell_type": "code",
   "execution_count": 4,
   "id": "53cd74bc",
   "metadata": {},
   "outputs": [
    {
     "name": "stdout",
     "output_type": "stream",
     "text": [
      "(100000, 4096) (100000,)\n"
     ]
    }
   ],
   "source": [
    "\n",
    "import numpy as np\n",
    "\n",
    "from sklearn.datasets import make_blobs\n",
    "\n",
    "np.random.seed(0)\n",
    "\n",
    "\n",
    "N = 3000; D = 2\n",
    "centers = [[1, 1], [-1, -1], [1, -1]]\n",
    "\n",
    "\n",
    "N = 3000; D = 4096\n",
    "M = 300\n",
    "\n",
    "N = 100000; D = 4096; M = 3000 # 208.63360142707825\n",
    "# N = 1000000; D = 4096; M = 3000\n",
    "# #\n",
    "#\n",
    "\n",
    "\n",
    "\n",
    "np.random.seed(0)\n",
    "centers = np.random.choice([-1,1], size=(M,D))\n",
    "\n",
    "\n",
    "batch_size = 45\n",
    "\n",
    "\n",
    "n_clusters = len(centers) \n",
    "X, labels_true = make_blobs(n_samples=N, n_features=D, centers=centers, cluster_std=0.7)\n",
    "print(X.shape, labels_true.shape)\n"
   ]
  },
  {
   "cell_type": "code",
   "execution_count": 8,
   "id": "34a3e802",
   "metadata": {},
   "outputs": [
    {
     "data": {
      "text/plain": [
       "array([77.73471704, 78.44254383, 78.38583308, ..., 77.01015835,\n",
       "       77.79393951, 79.02334815])"
      ]
     },
     "execution_count": 8,
     "metadata": {},
     "output_type": "execute_result"
    }
   ],
   "source": []
  },
  {
   "cell_type": "code",
   "execution_count": 1,
   "id": "630372cd",
   "metadata": {
    "scrolled": true
   },
   "outputs": [
    {
     "name": "stderr",
     "output_type": "stream",
     "text": [
      "\n",
      "KeyboardInterrupt\n",
      "\n"
     ]
    }
   ],
   "source": [
    "\n",
    "import time\n",
    "\n",
    "from sklearn.cluster import KMeans\n",
    "\n",
    "k_means = KMeans(\n",
    "    init=\"k-means++\", \n",
    "    n_clusters=M,\n",
    "    n_init=1,\n",
    "    verbose=True)\n",
    "t0 = time.time()\n",
    "k_means.fit(X)\n",
    "t_batch = time.time() - t0\n",
    "\n",
    "t_batch"
   ]
  },
  {
   "cell_type": "code",
   "execution_count": 29,
   "id": "4c167101",
   "metadata": {},
   "outputs": [
    {
     "name": "stdout",
     "output_type": "stream",
     "text": [
      "Init 1/10 with method k-means++\n",
      "Inertia for init 1/10: 20458183.106620252\n",
      "Init 2/10 with method k-means++\n",
      "Inertia for init 2/10: 20010222.19905167\n",
      "Init 3/10 with method k-means++\n",
      "Inertia for init 3/10: 19748517.081220113\n",
      "Init 4/10 with method k-means++\n",
      "Inertia for init 4/10: 20267073.9373442\n",
      "Init 5/10 with method k-means++\n",
      "Inertia for init 5/10: 20297750.308077335\n",
      "Init 6/10 with method k-means++\n",
      "Inertia for init 6/10: 20303124.531271003\n",
      "Init 7/10 with method k-means++\n",
      "Inertia for init 7/10: 20365465.601093814\n",
      "Init 8/10 with method k-means++\n",
      "Inertia for init 8/10: 20102434.52103792\n",
      "Init 9/10 with method k-means++\n",
      "Inertia for init 9/10: 20485510.43442885\n",
      "Init 10/10 with method k-means++\n",
      "Inertia for init 10/10: 20013119.705826335\n",
      "[MiniBatchKMeans] Reassigning 512 cluster centers.\n",
      "Minibatch step 1/9765: mean batch inertia: 6540.017042432597\n",
      "[MiniBatchKMeans] Reassigning 512 cluster centers.\n",
      "Minibatch step 2/9765: mean batch inertia: 5120.813109708034, ewa inertia: 5120.813109708034\n",
      "[MiniBatchKMeans] Reassigning 512 cluster centers.\n",
      "Minibatch step 3/9765: mean batch inertia: 4650.557996586743, ewa inertia: 5111.182381298594\n",
      "[MiniBatchKMeans] Reassigning 512 cluster centers.\n",
      "Minibatch step 4/9765: mean batch inertia: 4579.921170059568, ewa inertia: 5100.302260493627\n",
      "[MiniBatchKMeans] Reassigning 512 cluster centers.\n",
      "Minibatch step 5/9765: mean batch inertia: 4426.383930393251, ewa inertia: 5086.5005511102645\n",
      "[MiniBatchKMeans] Reassigning 512 cluster centers.\n",
      "Minibatch step 6/9765: mean batch inertia: 4188.550431740197, ewa inertia: 5068.1107165639105\n",
      "[MiniBatchKMeans] Reassigning 512 cluster centers.\n",
      "Minibatch step 7/9765: mean batch inertia: 4171.474238432341, ewa inertia: 5049.747785121091\n",
      "[MiniBatchKMeans] Reassigning 512 cluster centers.\n",
      "Minibatch step 8/9765: mean batch inertia: 4194.6886457266555, ewa inertia: 5032.236349060653\n",
      "[MiniBatchKMeans] Reassigning 512 cluster centers.\n",
      "Minibatch step 9/9765: mean batch inertia: 3981.451292679493, ewa inertia: 5010.716486304595\n",
      "[MiniBatchKMeans] Reassigning 512 cluster centers.\n",
      "Minibatch step 10/9765: mean batch inertia: 3815.635301331307, ewa inertia: 4986.241468386521\n",
      "[MiniBatchKMeans] Reassigning 512 cluster centers.\n",
      "Minibatch step 11/9765: mean batch inertia: 3755.510143363924, ewa inertia: 4961.036342901313\n",
      "[MiniBatchKMeans] Reassigning 512 cluster centers.\n",
      "Minibatch step 12/9765: mean batch inertia: 3635.9681286506334, ewa inertia: 4933.899217244716\n",
      "[MiniBatchKMeans] Reassigning 512 cluster centers.\n",
      "Minibatch step 13/9765: mean batch inertia: 3653.27791750084, ewa inertia: 4907.6723552945805\n",
      "Minibatch step 14/9765: mean batch inertia: 3537.0799129996003, ewa inertia: 4879.602902770905\n",
      "Minibatch step 15/9765: mean batch inertia: 3548.4942604534144, ewa inertia: 4852.342070384567\n",
      "Minibatch step 16/9765: mean batch inertia: 3417.4926068403875, ewa inertia: 4822.956647225414\n",
      "Minibatch step 17/9765: mean batch inertia: 3337.155421377436, ewa inertia: 4792.527742409095\n",
      "Minibatch step 18/9765: mean batch inertia: 3393.233312291518, ewa inertia: 4763.87047905292\n",
      "Minibatch step 19/9765: mean batch inertia: 3317.257275015511, ewa inertia: 4734.244136897655\n",
      "Minibatch step 20/9765: mean batch inertia: 3354.8711578567822, ewa inertia: 4705.99486077966\n",
      "Minibatch step 21/9765: mean batch inertia: 3283.4768719521107, ewa inertia: 4676.861983697242\n",
      "Minibatch step 22/9765: mean batch inertia: 3290.292466230965, ewa inertia: 4648.4653239461295\n",
      "Minibatch step 23/9765: mean batch inertia: 3240.561175722551, ewa inertia: 4619.631735326397\n",
      "Minibatch step 24/9765: mean batch inertia: 3278.7754334709184, ewa inertia: 4592.171272869021\n",
      "Minibatch step 25/9765: mean batch inertia: 3308.9167867483134, ewa inertia: 4565.8904838011595\n",
      "Minibatch step 26/9765: mean batch inertia: 3228.909557711774, ewa inertia: 4538.509388245805\n",
      "Minibatch step 27/9765: mean batch inertia: 3222.956357906949, ewa inertia: 4511.567131607031\n",
      "Minibatch step 28/9765: mean batch inertia: 3255.389404021052, ewa inertia: 4485.840869008695\n",
      "Minibatch step 29/9765: mean batch inertia: 3210.1659508724742, ewa inertia: 4459.715307940876\n",
      "Minibatch step 30/9765: mean batch inertia: 3175.904793466909, ewa inertia: 4433.423131526213\n",
      "Minibatch step 31/9765: mean batch inertia: 3156.1388751355007, ewa inertia: 4407.264611540531\n",
      "Minibatch step 32/9765: mean batch inertia: 3211.306853670262, ewa inertia: 4382.771641589047\n",
      "Minibatch step 33/9765: mean batch inertia: 3176.460484176294, ewa inertia: 4358.066636135288\n",
      "Minibatch step 34/9765: mean batch inertia: 3143.1955500354916, ewa inertia: 4333.186325095075\n",
      "Minibatch step 35/9765: mean batch inertia: 3104.3457356116223, ewa inertia: 4308.01992148649\n",
      "Minibatch step 36/9765: mean batch inertia: 3127.587928583009, ewa inertia: 4283.8449160218815\n",
      "Minibatch step 37/9765: mean batch inertia: 3223.292404719588, ewa inertia: 4262.125017789393\n",
      "Minibatch step 38/9765: mean batch inertia: 3153.4590622741985, ewa inertia: 4239.419766072959\n",
      "Minibatch step 39/9765: mean batch inertia: 3043.0055417627273, ewa inertia: 4214.917447782268\n",
      "Minibatch step 40/9765: mean batch inertia: 3099.4630929756486, ewa inertia: 4192.073171038595\n",
      "Minibatch step 41/9765: mean batch inertia: 3125.469797079636, ewa inertia: 4170.229352378102\n",
      "Minibatch step 42/9765: mean batch inertia: 3001.999638140777, ewa inertia: 4146.304247081574\n",
      "[MiniBatchKMeans] Reassigning 512 cluster centers.\n",
      "Minibatch step 43/9765: mean batch inertia: 3193.7709389898687, ewa inertia: 4126.796560008727\n",
      "Minibatch step 44/9765: mean batch inertia: 3000.1282520273267, ewa inertia: 4103.722623800631\n",
      "Minibatch step 45/9765: mean batch inertia: 2930.4528113549745, ewa inertia: 4079.694298324998\n",
      "Minibatch step 46/9765: mean batch inertia: 3025.172323634356, ewa inertia: 4058.097904247274\n",
      "Minibatch step 47/9765: mean batch inertia: 3045.3451297979695, ewa inertia: 4037.3569348362466\n",
      "Minibatch step 48/9765: mean batch inertia: 2912.218115657803, ewa inertia: 4014.314322245598\n",
      "Minibatch step 49/9765: mean batch inertia: 3048.392615821928, ewa inertia: 3994.532443516828\n",
      "Minibatch step 50/9765: mean batch inertia: 2916.3522994319956, ewa inertia: 3972.451534975056\n",
      "Minibatch step 51/9765: mean batch inertia: 2921.4574764105746, ewa inertia: 3950.927391897086\n",
      "Minibatch step 52/9765: mean batch inertia: 2978.183854756334, ewa inertia: 3931.0058034723274\n",
      "Minibatch step 53/9765: mean batch inertia: 2865.0521161657757, ewa inertia: 3909.175290261421\n",
      "Minibatch step 54/9765: mean batch inertia: 2904.3047832699654, ewa inertia: 3888.595748073658\n",
      "Minibatch step 55/9765: mean batch inertia: 2883.6370708310383, ewa inertia: 3868.014400177208\n",
      "Minibatch step 56/9765: mean batch inertia: 2937.345709481954, ewa inertia: 3848.9544959908108\n",
      "Minibatch step 57/9765: mean batch inertia: 2917.2650720908487, ewa inertia: 3829.8736873974253\n",
      "Minibatch step 58/9765: mean batch inertia: 2860.9073762832204, ewa inertia: 3810.0294557881225\n",
      "Minibatch step 59/9765: mean batch inertia: 3047.6068990789995, ewa inertia: 3794.415197969298\n",
      "Minibatch step 60/9765: mean batch inertia: 3032.628323188805, ewa inertia: 3778.813958786185\n",
      "Minibatch step 61/9765: mean batch inertia: 2912.593693216417, ewa inertia: 3761.0739451474524\n",
      "Minibatch step 62/9765: mean batch inertia: 2983.2846822079546, ewa inertia: 3745.1449803320997\n",
      "Minibatch step 63/9765: mean batch inertia: 2941.492634759771, ewa inertia: 3728.6863448811328\n",
      "Minibatch step 64/9765: mean batch inertia: 2849.334845263254, ewa inertia: 3710.6774062583445\n",
      "Minibatch step 65/9765: mean batch inertia: 2849.7156201592093, ewa inertia: 3693.0450852022445\n",
      "Minibatch step 66/9765: mean batch inertia: 2842.929975745122, ewa inertia: 3675.634901862396\n",
      "Minibatch step 67/9765: mean batch inertia: 2921.9091055355393, ewa inertia: 3660.198751915121\n",
      "Minibatch step 68/9765: mean batch inertia: 2934.5506623425113, ewa inertia: 3645.3376276519166\n",
      "Minibatch step 69/9765: mean batch inertia: 2810.6776204791036, ewa inertia: 3628.2439616416773\n",
      "Minibatch step 70/9765: mean batch inertia: 2884.23721797902, ewa inertia: 3613.0068559025235\n",
      "Minibatch step 71/9765: mean batch inertia: 2926.096509844013, ewa inertia: 3598.9390726930774\n",
      "Minibatch step 72/9765: mean batch inertia: 2990.209723314402, ewa inertia: 3586.4724202843263\n"
     ]
    },
    {
     "name": "stdout",
     "output_type": "stream",
     "text": [
      "[MiniBatchKMeans] Reassigning 512 cluster centers.\n",
      "Minibatch step 73/9765: mean batch inertia: 2932.6873621337327, ewa inertia: 3573.083036187243\n",
      "Minibatch step 74/9765: mean batch inertia: 2811.1936501865052, ewa inertia: 3557.4796975953336\n",
      "Minibatch step 75/9765: mean batch inertia: 2778.22945064193, ewa inertia: 3541.5208121265823\n",
      "Minibatch step 76/9765: mean batch inertia: 2722.9583836473353, ewa inertia: 3524.7568212312362\n",
      "Minibatch step 77/9765: mean batch inertia: 2699.742218673837, ewa inertia: 3507.8606911321613\n",
      "Minibatch step 78/9765: mean batch inertia: 2798.531575407564, ewa inertia: 3493.3337761112716\n",
      "Minibatch step 79/9765: mean batch inertia: 2756.1180599182862, ewa inertia: 3478.235749223908\n",
      "Minibatch step 80/9765: mean batch inertia: 2775.48051478855, ewa inertia: 3463.8434659455042\n",
      "Minibatch step 81/9765: mean batch inertia: 2759.7577860651213, ewa inertia: 3449.423935416859\n",
      "Minibatch step 82/9765: mean batch inertia: 2830.339991103836, ewa inertia: 3436.745223024452\n",
      "Minibatch step 83/9765: mean batch inertia: 2803.0625800993735, ewa inertia: 3423.767532274254\n",
      "Minibatch step 84/9765: mean batch inertia: 2659.33904067489, ewa inertia: 3408.1121933196887\n",
      "Minibatch step 85/9765: mean batch inertia: 2752.800170963536, ewa inertia: 3394.691537308395\n",
      "Minibatch step 86/9765: mean batch inertia: 2726.1921453146724, ewa inertia: 3381.0008066676696\n",
      "Minibatch step 87/9765: mean batch inertia: 2698.2826527738316, ewa inertia: 3367.0188786952035\n",
      "Minibatch step 88/9765: mean batch inertia: 2684.9037152838882, ewa inertia: 3353.0492998443283\n",
      "Minibatch step 89/9765: mean batch inertia: 2745.182175072667, ewa inertia: 3340.600305618947\n",
      "Minibatch step 90/9765: mean batch inertia: 2659.638398537029, ewa inertia: 3326.6543452215133\n",
      "Minibatch step 91/9765: mean batch inertia: 2664.3779258918994, ewa inertia: 3313.0910597864968\n",
      "Minibatch step 92/9765: mean batch inertia: 2709.515252389027, ewa inertia: 3300.7299508620854\n",
      "Minibatch step 93/9765: mean batch inertia: 2624.72239662667, ewa inertia: 3286.8854545963068\n",
      "Minibatch step 94/9765: mean batch inertia: 2794.536338826555, ewa inertia: 3276.802245537433\n",
      "Minibatch step 95/9765: mean batch inertia: 2650.014564968556, ewa inertia: 3263.965762204216\n",
      "Minibatch step 96/9765: mean batch inertia: 2768.8725915895016, ewa inertia: 3253.826355464094\n",
      "Minibatch step 97/9765: mean batch inertia: 2764.709546210563, ewa inertia: 3243.809343380702\n",
      "Minibatch step 98/9765: mean batch inertia: 2739.437720636494, ewa inertia: 3233.4799158411756\n",
      "Minibatch step 99/9765: mean batch inertia: 2665.8120019951502, ewa inertia: 3221.854193222835\n",
      "Minibatch step 100/9765: mean batch inertia: 2678.2406540443208, ewa inertia: 3210.7210992713985\n",
      "Minibatch step 101/9765: mean batch inertia: 2748.8678441325314, ewa inertia: 3201.262439192755\n",
      "Minibatch step 102/9765: mean batch inertia: 2641.223268006963, ewa inertia: 3189.7929516617455\n",
      "[MiniBatchKMeans] Reassigning 512 cluster centers.\n",
      "Minibatch step 103/9765: mean batch inertia: 2703.482048432732, ewa inertia: 3179.833403959092\n",
      "Minibatch step 104/9765: mean batch inertia: 2692.0278633069092, ewa inertia: 3169.8432463881104\n",
      "Minibatch step 105/9765: mean batch inertia: 2708.1887957477097, ewa inertia: 3160.388657784881\n",
      "Minibatch step 106/9765: mean batch inertia: 2676.503748901175, ewa inertia: 3150.4787939495814\n",
      "Minibatch step 107/9765: mean batch inertia: 2627.4702533181694, ewa inertia: 3139.767686148528\n",
      "Minibatch step 108/9765: mean batch inertia: 2668.914950700083, ewa inertia: 3130.1247185562192\n",
      "Minibatch step 109/9765: mean batch inertia: 2621.0353881841697, ewa inertia: 3119.6986733306517\n",
      "Minibatch step 110/9765: mean batch inertia: 2565.364814196207, ewa inertia: 3108.346029422017\n",
      "Minibatch step 111/9765: mean batch inertia: 2687.8592638142586, ewa inertia: 3099.7345465771987\n",
      "Minibatch step 112/9765: mean batch inertia: 2644.235804447183, ewa inertia: 3090.4060256235857\n",
      "Minibatch step 113/9765: mean batch inertia: 2593.299757796775, ewa inertia: 3080.225391064838\n",
      "Minibatch step 114/9765: mean batch inertia: 2557.813755195793, ewa inertia: 3069.526507751073\n",
      "Minibatch step 115/9765: mean batch inertia: 2634.998376884689, ewa inertia: 3060.627460621401\n",
      "Minibatch step 116/9765: mean batch inertia: 2643.2971786784806, ewa inertia: 3052.080621915597\n",
      "Minibatch step 117/9765: mean batch inertia: 2564.9278476923796, ewa inertia: 3042.103832867396\n",
      "Minibatch step 118/9765: mean batch inertia: 2670.958318614324, ewa inertia: 3034.502848745334\n",
      "Minibatch step 119/9765: mean batch inertia: 2660.7340091128453, ewa inertia: 3026.848139456754\n",
      "Minibatch step 120/9765: mean batch inertia: 2707.5969575855556, ewa inertia: 3020.3099406340198\n",
      "Minibatch step 121/9765: mean batch inertia: 2608.690688928744, ewa inertia: 3011.8800626578754\n",
      "Minibatch step 122/9765: mean batch inertia: 2634.8497030475096, ewa inertia: 3004.1585581081004\n",
      "Minibatch step 123/9765: mean batch inertia: 2668.4461322594707, ewa inertia: 2997.2832363799375\n",
      "Minibatch step 124/9765: mean batch inertia: 2675.9961694714702, ewa inertia: 2990.7033430485853\n",
      "Minibatch step 125/9765: mean batch inertia: 2588.54838355068, ewa inertia: 2982.4672918385804\n",
      "Minibatch step 126/9765: mean batch inertia: 2596.468036486712, ewa inertia: 2974.562106140831\n",
      "Minibatch step 127/9765: mean batch inertia: 2599.9556203625734, ewa inertia: 2966.8902420307336\n",
      "Minibatch step 128/9765: mean batch inertia: 2590.7650616279484, ewa inertia: 2959.187275365751\n",
      "Minibatch step 129/9765: mean batch inertia: 2647.8558713140465, ewa inertia: 2952.8112719708056\n",
      "Minibatch step 130/9765: mean batch inertia: 2628.134949086385, ewa inertia: 2946.1619673711784\n",
      "Minibatch step 131/9765: mean batch inertia: 2648.363308207392, ewa inertia: 2940.0631118200595\n",
      "Minibatch step 132/9765: mean batch inertia: 2693.1297628883544, ewa inertia: 2935.0059674053823\n",
      "[MiniBatchKMeans] Reassigning 512 cluster centers.\n",
      "Minibatch step 133/9765: mean batch inertia: 2690.1558940070313, ewa inertia: 2929.9914880469773\n",
      "Minibatch step 134/9765: mean batch inertia: 2682.470620354025, ewa inertia: 2924.9223113683925\n",
      "Minibatch step 135/9765: mean batch inertia: 2499.5466236666816, ewa inertia: 2916.210704400331\n",
      "Minibatch step 136/9765: mean batch inertia: 2657.6595474460637, ewa inertia: 2910.9156296566553\n",
      "Minibatch step 137/9765: mean batch inertia: 2612.1087923925925, ewa inertia: 2904.7961268245153\n",
      "Minibatch step 138/9765: mean batch inertia: 2634.9705851135186, ewa inertia: 2899.2701549899925\n",
      "Minibatch step 139/9765: mean batch inertia: 2645.337181161497, ewa inertia: 2894.0696596909374\n",
      "Minibatch step 140/9765: mean batch inertia: 2629.4842188862076, ewa inertia: 2888.651004049813\n",
      "Minibatch step 141/9765: mean batch inertia: 2537.8875072098363, ewa inertia: 2881.467439470176\n",
      "Minibatch step 142/9765: mean batch inertia: 2564.1515244695483, ewa inertia: 2874.9688745166127\n",
      "Minibatch step 143/9765: mean batch inertia: 2533.7594229584815, ewa inertia: 2867.980974827699\n",
      "Minibatch step 144/9765: mean batch inertia: 2645.710778678889, ewa inertia: 2863.4289267310523\n",
      "Minibatch step 145/9765: mean batch inertia: 2615.4124236694843, ewa inertia: 2858.3495995416233\n",
      "Minibatch step 146/9765: mean batch inertia: 2643.012232870317, ewa inertia: 2853.9395343728465\n",
      "Minibatch step 147/9765: mean batch inertia: 2568.7077762911536, ewa inertia: 2848.098046382213\n",
      "Minibatch step 148/9765: mean batch inertia: 2596.6945175752785, ewa inertia: 2842.949353599175\n",
      "Minibatch step 149/9765: mean batch inertia: 2570.8222327818603, ewa inertia: 2837.3762458959136\n",
      "Minibatch step 150/9765: mean batch inertia: 2657.5281732588855, ewa inertia: 2833.692994200824\n",
      "Minibatch step 151/9765: mean batch inertia: 2581.2027741815264, ewa inertia: 2828.522046204309\n",
      "Minibatch step 152/9765: mean batch inertia: 2642.1183100108783, ewa inertia: 2824.704535862171\n",
      "Minibatch step 153/9765: mean batch inertia: 2510.4369587088336, ewa inertia: 2818.2684002434266\n",
      "Minibatch step 154/9765: mean batch inertia: 2635.4711892489386, ewa inertia: 2814.5247507987538\n",
      "Minibatch step 155/9765: mean batch inertia: 2614.3895014046466, ewa inertia: 2810.4260218784516\n",
      "Minibatch step 156/9765: mean batch inertia: 2627.4609075397393, ewa inertia: 2806.6789338076755\n"
     ]
    },
    {
     "name": "stdout",
     "output_type": "stream",
     "text": [
      "Minibatch step 157/9765: mean batch inertia: 2681.0345816212184, ewa inertia: 2804.1057632066027\n",
      "Minibatch step 158/9765: mean batch inertia: 2661.363688275165, ewa inertia: 2801.182434745291\n",
      "Minibatch step 159/9765: mean batch inertia: 2588.249899054814, ewa inertia: 2796.8216200224974\n",
      "Minibatch step 160/9765: mean batch inertia: 2660.295556518092, ewa inertia: 2794.0255942021854\n",
      "Minibatch step 161/9765: mean batch inertia: 2531.243636291873, ewa inertia: 2788.6438735213887\n",
      "Minibatch step 162/9765: mean batch inertia: 2576.9020085903658, ewa inertia: 2784.3074434919017\n",
      "[MiniBatchKMeans] Reassigning 512 cluster centers.\n",
      "Minibatch step 163/9765: mean batch inertia: 2580.689761260116, ewa inertia: 2780.1373950602792\n",
      "Minibatch step 164/9765: mean batch inertia: 2661.50709948748, ewa inertia: 2777.70787090219\n",
      "Minibatch step 165/9765: mean batch inertia: 2598.8139437120926, ewa inertia: 2774.0441599104465\n",
      "Minibatch step 166/9765: mean batch inertia: 2636.906974878614, ewa inertia: 2771.235618446409\n",
      "Minibatch step 167/9765: mean batch inertia: 2607.844939248069, ewa inertia: 2767.889410798503\n",
      "Minibatch step 168/9765: mean batch inertia: 2589.5030257414664, ewa inertia: 2764.236094165701\n",
      "Minibatch step 169/9765: mean batch inertia: 2505.8094069790354, ewa inertia: 2758.9435685373746\n",
      "Minibatch step 170/9765: mean batch inertia: 2592.956098535891, ewa inertia: 2755.5441791456383\n",
      "Minibatch step 171/9765: mean batch inertia: 2652.9719422371127, ewa inertia: 2753.4435207403358\n",
      "Minibatch step 172/9765: mean batch inertia: 2659.177533406926, ewa inertia: 2751.5129726252285\n",
      "Minibatch step 173/9765: mean batch inertia: 2611.638556269043, ewa inertia: 2748.6483732242477\n",
      "Minibatch step 174/9765: mean batch inertia: 2585.285684964075, ewa inertia: 2745.3027388250234\n",
      "Minibatch step 175/9765: mean batch inertia: 2640.226638339556, ewa inertia: 2743.1508018064515\n",
      "Minibatch step 176/9765: mean batch inertia: 2652.6168628692753, ewa inertia: 2741.2966852781833\n",
      "Minibatch step 177/9765: mean batch inertia: 2613.194553812458, ewa inertia: 2738.6731798608193\n",
      "Minibatch step 178/9765: mean batch inertia: 2512.5695093621257, ewa inertia: 2734.0426229945747\n",
      "Minibatch step 179/9765: mean batch inertia: 2581.4277179471287, ewa inertia: 2730.917100994423\n",
      "Minibatch step 180/9765: mean batch inertia: 2582.7710184421603, ewa inertia: 2727.883099563767\n",
      "Minibatch step 181/9765: mean batch inertia: 2737.6739051369614, ewa inertia: 2728.083613256769\n",
      "Minibatch step 182/9765: mean batch inertia: 2573.876252205688, ewa inertia: 2724.9254780837946\n",
      "Minibatch step 183/9765: mean batch inertia: 2662.4350225920707, ewa inertia: 2723.645686353241\n",
      "Minibatch step 184/9765: mean batch inertia: 2570.1419698828013, ewa inertia: 2720.5019616771733\n",
      "Minibatch step 185/9765: mean batch inertia: 2671.4552765373046, ewa inertia: 2719.4974956101696\n",
      "Minibatch step 186/9765: mean batch inertia: 2631.240086989433, ewa inertia: 2717.6900019565537\n",
      "Minibatch step 187/9765: mean batch inertia: 2588.077177636155, ewa inertia: 2715.035557858913\n",
      "Minibatch step 188/9765: mean batch inertia: 2677.62654792536, ewa inertia: 2714.269428996762\n",
      "Minibatch step 189/9765: mean batch inertia: 2606.4527385057418, ewa inertia: 2712.0613652561433\n",
      "Minibatch step 190/9765: mean batch inertia: 2576.0111386277767, ewa inertia: 2709.275084477602\n",
      "Minibatch step 191/9765: mean batch inertia: 2683.7443075574365, ewa inertia: 2708.752219394928\n",
      "Minibatch step 192/9765: mean batch inertia: 2573.851663377001, ewa inertia: 2705.989483635038\n",
      "[MiniBatchKMeans] Reassigning 512 cluster centers.\n",
      "Minibatch step 193/9765: mean batch inertia: 2567.499708380647, ewa inertia: 2703.1532414002504\n",
      "Minibatch step 194/9765: mean batch inertia: 2625.5440194510497, ewa inertia: 2701.5638204289403\n",
      "Minibatch step 195/9765: mean batch inertia: 2594.5111749808166, ewa inertia: 2699.371404174325\n",
      "Minibatch step 196/9765: mean batch inertia: 2547.6243162404107, ewa inertia: 2696.2636548909313\n",
      "Minibatch step 197/9765: mean batch inertia: 2606.945659611603, ewa inertia: 2694.434440639753\n",
      "Minibatch step 198/9765: mean batch inertia: 2702.58691612047, ewa inertia: 2694.601401667988\n",
      "Minibatch step 199/9765: mean batch inertia: 2593.9158834954787, ewa inertia: 2692.539382876003\n",
      "Minibatch step 200/9765: mean batch inertia: 2669.1453959257205, ewa inertia: 2692.0602788143015\n",
      "Minibatch step 201/9765: mean batch inertia: 2542.390135140741, ewa inertia: 2688.995064924006\n",
      "Minibatch step 202/9765: mean batch inertia: 2629.2459756958037, ewa inertia: 2687.771415813103\n",
      "Minibatch step 203/9765: mean batch inertia: 2664.724683999718, ewa inertia: 2687.299423465488\n",
      "Minibatch step 204/9765: mean batch inertia: 2636.8760065093425, ewa inertia: 2686.2667622128383\n",
      "Minibatch step 205/9765: mean batch inertia: 2617.2426767856814, ewa inertia: 2684.8531630792813\n",
      "Minibatch step 206/9765: mean batch inertia: 2515.592198966147, ewa inertia: 2681.386733198543\n",
      "Minibatch step 207/9765: mean batch inertia: 2577.9768803010534, ewa inertia: 2679.2689205893284\n",
      "Minibatch step 208/9765: mean batch inertia: 2528.529922519708, ewa inertia: 2676.1818167799006\n",
      "Minibatch step 209/9765: mean batch inertia: 2585.9786340691194, ewa inertia: 2674.3344740714106\n",
      "Minibatch step 210/9765: mean batch inertia: 2513.5149708702697, ewa inertia: 2671.040923581356\n",
      "Minibatch step 211/9765: mean batch inertia: 2660.717741412466, ewa inertia: 2670.8295069247033\n",
      "Minibatch step 212/9765: mean batch inertia: 2687.7360814662384, ewa inertia: 2671.1757501088823\n",
      "Minibatch step 213/9765: mean batch inertia: 2594.918828650142, ewa inertia: 2669.6140239746687\n",
      "Minibatch step 214/9765: mean batch inertia: 2589.6892363848433, ewa inertia: 2667.9771806932617\n",
      "Minibatch step 215/9765: mean batch inertia: 2498.635691959781, ewa inertia: 2664.5091016847905\n",
      "Minibatch step 216/9765: mean batch inertia: 2639.440295956096, ewa inertia: 2663.995697677507\n",
      "Minibatch step 217/9765: mean batch inertia: 2495.304925924033, ewa inertia: 2660.5409452195204\n",
      "Minibatch step 218/9765: mean batch inertia: 2639.0719473716044, ewa inertia: 2660.1012645404016\n",
      "Minibatch step 219/9765: mean batch inertia: 2523.485106662295, ewa inertia: 2657.3033936057673\n",
      "Minibatch step 220/9765: mean batch inertia: 2543.2435526966583, ewa inertia: 2654.9674714231705\n",
      "Minibatch step 221/9765: mean batch inertia: 2626.254058219291, ewa inertia: 2654.3794266012032\n",
      "Minibatch step 222/9765: mean batch inertia: 2579.0702931090104, ewa inertia: 2652.837110970439\n",
      "[MiniBatchKMeans] Reassigning 512 cluster centers.\n",
      "Minibatch step 223/9765: mean batch inertia: 2623.356695716315, ewa inertia: 2652.233358103563\n",
      "Minibatch step 224/9765: mean batch inertia: 2628.662184385299, ewa inertia: 2651.750625293141\n",
      "Minibatch step 225/9765: mean batch inertia: 2638.248149668004, ewa inertia: 2651.4740973576177\n",
      "Minibatch step 226/9765: mean batch inertia: 2628.9533244229888, ewa inertia: 2651.0128765401246\n",
      "Minibatch step 227/9765: mean batch inertia: 2589.98445218429, ewa inertia: 2649.763026907813\n",
      "Minibatch step 228/9765: mean batch inertia: 2553.9267339713288, ewa inertia: 2647.80031925555\n",
      "Minibatch step 229/9765: mean batch inertia: 2631.268759735928, ewa inertia: 2647.461756302218\n",
      "Minibatch step 230/9765: mean batch inertia: 2583.4535409096557, ewa inertia: 2646.1508811597296\n",
      "Minibatch step 231/9765: mean batch inertia: 2579.4413544434196, ewa inertia: 2644.784683714554\n",
      "Minibatch step 232/9765: mean batch inertia: 2631.00895800029, ewa inertia: 2644.502559673166\n",
      "Minibatch step 233/9765: mean batch inertia: 2604.232852897718, ewa inertia: 2643.677844325558\n",
      "Minibatch step 234/9765: mean batch inertia: 2574.4428221932812, ewa inertia: 2642.2599252514797\n",
      "Minibatch step 235/9765: mean batch inertia: 2550.716988543534, ewa inertia: 2640.385144655507\n",
      "Minibatch step 236/9765: mean batch inertia: 2627.6150386893164, ewa inertia: 2640.123615500611\n",
      "Minibatch step 237/9765: mean batch inertia: 2522.895334059809, ewa inertia: 2637.7228043048153\n",
      "Minibatch step 238/9765: mean batch inertia: 2627.0466418383444, ewa inertia: 2637.504158683958\n",
      "Minibatch step 239/9765: mean batch inertia: 2662.2502828978527, ewa inertia: 2638.0109542399027\n",
      "Minibatch step 240/9765: mean batch inertia: 2615.4692395857273, ewa inertia: 2637.549304540282\n"
     ]
    },
    {
     "name": "stdout",
     "output_type": "stream",
     "text": [
      "Minibatch step 241/9765: mean batch inertia: 2614.8450391906204, ewa inertia: 2637.0843258357077\n",
      "Minibatch step 242/9765: mean batch inertia: 2611.09196723083, ewa inertia: 2636.552007654662\n",
      "Minibatch step 243/9765: mean batch inertia: 2603.507068054528, ewa inertia: 2635.875254059187\n",
      "Minibatch step 244/9765: mean batch inertia: 2504.699393286496, ewa inertia: 2633.1887992951097\n",
      "Minibatch step 245/9765: mean batch inertia: 2617.350138424683, ewa inertia: 2632.8644267642085\n",
      "Minibatch step 246/9765: mean batch inertia: 2538.0819549020384, ewa inertia: 2630.923301151727\n",
      "Minibatch step 247/9765: mean batch inertia: 2563.5113556787105, ewa inertia: 2629.542718314268\n",
      "Minibatch step 248/9765: mean batch inertia: 2580.101754477088, ewa inertia: 2628.5301775002904\n",
      "Minibatch step 249/9765: mean batch inertia: 2562.7004945882813, ewa inertia: 2627.181999076037\n",
      "Minibatch step 250/9765: mean batch inertia: 2634.3557586566617, ewa inertia: 2627.3289162030765\n",
      "Minibatch step 251/9765: mean batch inertia: 2572.436020174674, ewa inertia: 2626.2047209343673\n",
      "Minibatch step 252/9765: mean batch inertia: 2648.3991049174906, ewa inertia: 2626.659257372977\n",
      "[MiniBatchKMeans] Reassigning 512 cluster centers.\n",
      "Minibatch step 253/9765: mean batch inertia: 2599.9607415508867, ewa inertia: 2626.112477236742\n",
      "Minibatch step 254/9765: mean batch inertia: 2580.2730781587165, ewa inertia: 2625.173695731439\n",
      "Minibatch step 255/9765: mean batch inertia: 2625.2779958466, ewa inertia: 2625.175831776437\n",
      "Minibatch step 256/9765: mean batch inertia: 2538.0995528789695, ewa inertia: 2623.3925274176604\n",
      "Minibatch step 257/9765: mean batch inertia: 2695.2347929565985, ewa inertia: 2624.863842302749\n",
      "Minibatch step 258/9765: mean batch inertia: 2608.8674926992935, ewa inertia: 2624.53624033889\n",
      "Minibatch step 259/9765: mean batch inertia: 2564.8432049354706, ewa inertia: 2623.3137391988394\n",
      "Minibatch step 260/9765: mean batch inertia: 2561.7752968939594, ewa inertia: 2622.0534445033823\n",
      "Minibatch step 261/9765: mean batch inertia: 2654.1685130849364, ewa inertia: 2622.711154530832\n",
      "Minibatch step 262/9765: mean batch inertia: 2585.223363919744, ewa inertia: 2621.9434122565394\n",
      "Minibatch step 263/9765: mean batch inertia: 2592.3714904321528, ewa inertia: 2621.3377853538445\n",
      "Minibatch step 264/9765: mean batch inertia: 2602.332244217888, ewa inertia: 2620.948555763676\n",
      "Minibatch step 265/9765: mean batch inertia: 2575.6617424726373, ewa inertia: 2620.0210911021218\n",
      "Minibatch step 266/9765: mean batch inertia: 2605.0315193277324, ewa inertia: 2619.714107742016\n",
      "Minibatch step 267/9765: mean batch inertia: 2640.6054788258703, ewa inertia: 2620.1419587433033\n",
      "Minibatch step 268/9765: mean batch inertia: 2692.0576546084544, ewa inertia: 2621.614777466434\n",
      "Minibatch step 269/9765: mean batch inertia: 2663.2691228429208, ewa inertia: 2622.4678499290203\n",
      "Minibatch step 270/9765: mean batch inertia: 2570.6639715394963, ewa inertia: 2621.406917108931\n",
      "Minibatch step 271/9765: mean batch inertia: 2638.784123132673, ewa inertia: 2621.7627987294804\n",
      "Minibatch step 272/9765: mean batch inertia: 2547.5027632904234, ewa inertia: 2620.241968411992\n",
      "Minibatch step 273/9765: mean batch inertia: 2714.8182619074914, ewa inertia: 2622.1788715337484\n",
      "Minibatch step 274/9765: mean batch inertia: 2502.000311252859, ewa inertia: 2619.7176392315187\n",
      "Minibatch step 275/9765: mean batch inertia: 2561.3475034597946, ewa inertia: 2618.522230804998\n",
      "Minibatch step 276/9765: mean batch inertia: 2623.7539086244547, ewa inertia: 2618.629374495303\n",
      "Minibatch step 277/9765: mean batch inertia: 2560.6816853972164, ewa inertia: 2617.442617690142\n",
      "Minibatch step 278/9765: mean batch inertia: 2599.5745110321277, ewa inertia: 2617.0766825251376\n",
      "Minibatch step 279/9765: mean batch inertia: 2531.12756584944, ewa inertia: 2615.3164622178224\n",
      "Minibatch step 280/9765: mean batch inertia: 2551.187038701596, ewa inertia: 2614.0031047577845\n",
      "Minibatch step 281/9765: mean batch inertia: 2589.991072501751, ewa inertia: 2613.511343254796\n",
      "Minibatch step 282/9765: mean batch inertia: 2583.6194627027357, ewa inertia: 2612.8991636628857\n",
      "[MiniBatchKMeans] Reassigning 512 cluster centers.\n",
      "Minibatch step 283/9765: mean batch inertia: 2567.699300376449, ewa inertia: 2611.973479719619\n",
      "Minibatch step 284/9765: mean batch inertia: 2608.594281246342, ewa inertia: 2611.904274426939\n",
      "Minibatch step 285/9765: mean batch inertia: 2600.3906845842444, ewa inertia: 2611.66847846492\n",
      "Minibatch step 286/9765: mean batch inertia: 2673.959231541136, ewa inertia: 2612.9441803309023\n",
      "Minibatch step 287/9765: mean batch inertia: 2637.7620075041164, ewa inertia: 2613.4524443487694\n",
      "Minibatch step 288/9765: mean batch inertia: 2614.396016513335, ewa inertia: 2613.471768513458\n",
      "Minibatch step 289/9765: mean batch inertia: 2597.7863359079197, ewa inertia: 2613.150534066041\n",
      "Minibatch step 290/9765: mean batch inertia: 2556.656067900969, ewa inertia: 2611.9935389689313\n",
      "Minibatch step 291/9765: mean batch inertia: 2709.7506814049534, ewa inertia: 2613.9955852255584\n",
      "Minibatch step 292/9765: mean batch inertia: 2595.195858401543, ewa inertia: 2613.610570670348\n",
      "Minibatch step 293/9765: mean batch inertia: 2652.7927001418134, ewa inertia: 2614.4130126575037\n",
      "Minibatch step 294/9765: mean batch inertia: 2603.39557627187, ewa inertia: 2614.1873778166746\n",
      "Minibatch step 295/9765: mean batch inertia: 2611.28441477658, ewa inertia: 2614.127925728134\n",
      "Converged (lack of improvement in inertia) at step 295/9765\n"
     ]
    },
    {
     "data": {
      "text/plain": [
       "345.1020803451538"
      ]
     },
     "execution_count": 29,
     "metadata": {},
     "output_type": "execute_result"
    }
   ],
   "source": [
    "\n",
    "from sklearn.cluster import MiniBatchKMeans\n",
    "\n",
    "mbk = MiniBatchKMeans(\n",
    "    init=\"k-means++\",\n",
    "    n_clusters=3000,\n",
    "    batch_size=1024,\n",
    "    n_init=10,\n",
    "    random_state=0,\n",
    "    max_no_improvement=10,\n",
    "    verbose=True,\n",
    ")\n",
    "t0 = time.time()\n",
    "\n",
    "mbk.fit(X)\n",
    "# mbk.fit((X / np.linalg.norm(X, axis=1, ord=2)[:, np.newaxis]))\n",
    "\n",
    "t_mini_batch = time.time() - t0\n",
    "\n",
    "t_mini_batch"
   ]
  },
  {
   "cell_type": "code",
   "execution_count": 32,
   "id": "2d939911",
   "metadata": {},
   "outputs": [
    {
     "data": {
      "text/plain": [
       "array([[ 0.00144485,  0.00207233,  0.01038065, ..., -0.00181125,\n",
       "        -0.02703555,  0.0127866 ],\n",
       "       [ 0.0012747 ,  0.00847752,  0.02480053, ..., -0.00608293,\n",
       "         0.00796271,  0.01464281],\n",
       "       [-0.01576424,  0.01226471,  0.0063845 , ..., -0.0093581 ,\n",
       "         0.01743153, -0.01145029],\n",
       "       ...,\n",
       "       [-0.00139366, -0.01188411, -0.00791378, ..., -0.01520196,\n",
       "         0.02034394,  0.02260962],\n",
       "       [-0.0089464 , -0.02169339, -0.00665901, ..., -0.0092554 ,\n",
       "         0.00667818, -0.00155518],\n",
       "       [ 0.02690872,  0.0082245 , -0.00330859, ..., -0.00375407,\n",
       "        -0.02044065, -0.02093226]])"
      ]
     },
     "execution_count": 32,
     "metadata": {},
     "output_type": "execute_result"
    }
   ],
   "source": [
    "Xn = X / np.linalg.norm(X, axis=1, ord=2)[:, np.newaxis]\n",
    "Xn"
   ]
  },
  {
   "cell_type": "code",
   "execution_count": 37,
   "id": "4f61b3ff",
   "metadata": {},
   "outputs": [],
   "source": [
    "\n",
    "cluster_centers = mbk.cluster_centers_\n",
    "cluster_labels = mbk.labels_\n",
    "\n",
    "cluster_centers = cluster_centers / np.linalg.norm(cluster_centers, axis=1, ord=2)[:, np.newaxis]\n",
    "P = cluster_centers[cluster_labels]\n",
    "D = np.sum(Xn*P, axis=1)"
   ]
  },
  {
   "cell_type": "code",
   "execution_count": 25,
   "id": "d6be1ed1",
   "metadata": {},
   "outputs": [
    {
     "data": {
      "text/plain": [
       "array([64.58758167, 64.59753247, 78.17195115, ..., 64.5411345 ,\n",
       "       64.63581666, 64.38705158])"
      ]
     },
     "execution_count": 25,
     "metadata": {},
     "output_type": "execute_result"
    }
   ],
   "source": [
    "center_norms = np.linalg.norm(mbk.cluster_centers_, axis=-1)\n",
    "center_norms"
   ]
  },
  {
   "cell_type": "code",
   "execution_count": 31,
   "id": "555d6ab3",
   "metadata": {},
   "outputs": [
    {
     "name": "stdout",
     "output_type": "stream",
     "text": [
      "inertia:  262516921.7517366\n"
     ]
    }
   ],
   "source": [
    "\n",
    "print('inertia: ', mbk.inertia_)\n",
    "\n",
    "# print('centroid norm: ', np.mean(center_norms), center_norms)\n"
   ]
  },
  {
   "cell_type": "code",
   "execution_count": 23,
   "id": "3cfa181e",
   "metadata": {
    "scrolled": true
   },
   "outputs": [
    {
     "data": {
      "text/plain": [
       "(array([1.000e+00, 0.000e+00, 0.000e+00, 0.000e+00, 0.000e+00, 0.000e+00,\n",
       "        0.000e+00, 0.000e+00, 2.721e+03, 2.780e+02]),\n",
       " array([0.04197882, 0.13778093, 0.23358305, 0.32938517, 0.42518729,\n",
       "        0.52098941, 0.61679153, 0.71259364, 0.80839576, 0.90419788,\n",
       "        1.        ]),\n",
       " <BarContainer object of 10 artists>)"
      ]
     },
     "execution_count": 23,
     "metadata": {},
     "output_type": "execute_result"
    },
    {
     "data": {
      "image/png": "[encoded data removed]",
      "text/plain": [
       "<Figure size 640x480 with 1 Axes>"
      ]
     },
     "metadata": {},
     "output_type": "display_data"
    }
   ],
   "source": [
    "import matplotlib.pyplot as plt\n",
    "plt.hist(center_norms)"
   ]
  },
  {
   "cell_type": "code",
   "execution_count": 41,
   "id": "3349e63d",
   "metadata": {},
   "outputs": [
    {
     "data": {
      "text/plain": [
       "(609463055.9107844, 609988056.1067324)"
      ]
     },
     "execution_count": 41,
     "metadata": {},
     "output_type": "execute_result"
    }
   ],
   "source": [
    "\n",
    "# Data is generated from make_blobs(centers=3000)\n",
    "# \n",
    "# N | D | #clusters | n_init | bsz | KMeans time | MiniBatchKMeans time | KMeans inertia | MiniBatchKMeans inertia\n",
    "# 100k | 4096 | 3 | 10 | 45 | 208.63360142707825 | 7.031473636627197 | 609463055.9107844 | 609988056.1067324\n",
    "\n",
    "\n",
    "\"\"\"\n",
    "take-aways\n",
    "- \n",
    "\"\"\"\n",
    "\n",
    "# MiniBatchKMeans\n",
    "\n",
    "N | D | #clusters | n_init | bsz | time (s) | inertia | comments\n",
    "100k | 4096 | 3 | 10 | 45 | 7  | 609988056 | -\n",
    "100k | 4096 | 3000 | 10 | 45 | 883  | 238845223 | n_clusters=3→3000 ⇒ ↓time\n",
    "100k | 4096 | 3000 | 1  | 45 | 60  | 411357893 | n_init=10→1 ⇒ ↑speed\n",
    "100k | 4096 | 3000 | 1  | 1024 | 189  | 262201827 | ↑bsz ⇒ ↑inertia\n",
    "100k | 4096 | 3000 | 1  | 45 | 521  | 38600 | fit(X/norm(X,-1)), inertia not comparable\n",
    "\n",
    "\n"
   ]
  },
  {
   "cell_type": "code",
   "execution_count": 33,
   "id": "a1db24c0",
   "metadata": {},
   "outputs": [],
   "source": [
    "\n",
    "from sklearn.metrics.pairwise import pairwise_distances_argmin\n",
    "\n",
    "k_means_cluster_centers = k_means.cluster_centers_\n",
    "order = pairwise_distances_argmin(k_means.cluster_centers_, mbk.cluster_centers_)\n",
    "mbk_means_cluster_centers = mbk.cluster_centers_[order]\n",
    "\n",
    "k_means_labels = pairwise_distances_argmin(X, k_means_cluster_centers)\n",
    "mbk_means_labels = pairwise_distances_argmin(X, mbk_means_cluster_centers)\n"
   ]
  },
  {
   "cell_type": "code",
   "execution_count": 38,
   "id": "2fe396e0",
   "metadata": {},
   "outputs": [
    {
     "ename": "IndexError",
     "evalue": "boolean index did not match indexed array along dimension 0; dimension is 100000 but corresponding boolean dimension is 3000",
     "output_type": "error",
     "traceback": [
      "\u001b[0;31m---------------------------------------------------------------------------\u001b[0m",
      "\u001b[0;31mIndexError\u001b[0m                                Traceback (most recent call last)",
      "Cell \u001b[0;32mIn[38], line 12\u001b[0m\n\u001b[1;32m     10\u001b[0m     my_members \u001b[38;5;241m=\u001b[39m k_means_labels \u001b[38;5;241m==\u001b[39m k\n\u001b[1;32m     11\u001b[0m     cluster_center \u001b[38;5;241m=\u001b[39m k_means_cluster_centers[k]\n\u001b[0;32m---> 12\u001b[0m     ax\u001b[38;5;241m.\u001b[39mplot(\u001b[43mX\u001b[49m\u001b[43m[\u001b[49m\u001b[43mmy_members\u001b[49m\u001b[43m,\u001b[49m\u001b[43m \u001b[49m\u001b[38;5;241;43m0\u001b[39;49m\u001b[43m]\u001b[49m, X[my_members, \u001b[38;5;241m1\u001b[39m], \u001b[38;5;124m\"\u001b[39m\u001b[38;5;124mw\u001b[39m\u001b[38;5;124m\"\u001b[39m, markerfacecolor\u001b[38;5;241m=\u001b[39mcol, marker\u001b[38;5;241m=\u001b[39m\u001b[38;5;124m\"\u001b[39m\u001b[38;5;124m.\u001b[39m\u001b[38;5;124m\"\u001b[39m)\n\u001b[1;32m     13\u001b[0m     ax\u001b[38;5;241m.\u001b[39mplot(\n\u001b[1;32m     14\u001b[0m         cluster_center[\u001b[38;5;241m0\u001b[39m],\n\u001b[1;32m     15\u001b[0m         cluster_center[\u001b[38;5;241m1\u001b[39m],\n\u001b[0;32m   (...)\u001b[0m\n\u001b[1;32m     19\u001b[0m         markersize\u001b[38;5;241m=\u001b[39m\u001b[38;5;241m6\u001b[39m,\n\u001b[1;32m     20\u001b[0m     )\n\u001b[1;32m     21\u001b[0m ax\u001b[38;5;241m.\u001b[39mset_title(\u001b[38;5;124m\"\u001b[39m\u001b[38;5;124mKMeans\u001b[39m\u001b[38;5;124m\"\u001b[39m)\n",
      "\u001b[0;31mIndexError\u001b[0m: boolean index did not match indexed array along dimension 0; dimension is 100000 but corresponding boolean dimension is 3000"
     ]
    },
    {
     "data": {
      "image/png": "[encoded data removed]",
      "text/plain": [
       "<Figure size 800x300 with 1 Axes>"
      ]
     },
     "metadata": {},
     "output_type": "display_data"
    }
   ],
   "source": [
    "\n",
    "import matplotlib.pyplot as plt\n",
    "\n",
    "fig = plt.figure(figsize=(8, 3))\n",
    "fig.subplots_adjust(left=0.02, right=0.98, bottom=0.05, top=0.9)\n",
    "colors = [\"#4EACC5\", \"#FF9C34\", \"#4E9A06\"]\n",
    "\n",
    "# KMeans\n",
    "ax = fig.add_subplot(1, 3, 1)\n",
    "for k, col in zip(range(n_clusters), colors):\n",
    "    my_members = k_means_labels == k\n",
    "    cluster_center = k_means_cluster_centers[k]\n",
    "    ax.plot(X[my_members, 0], X[my_members, 1], \"w\", markerfacecolor=col, marker=\".\")\n",
    "    ax.plot(\n",
    "        cluster_center[0],\n",
    "        cluster_center[1],\n",
    "        \"o\",\n",
    "        markerfacecolor=col,\n",
    "        markeredgecolor=\"k\",\n",
    "        markersize=6,\n",
    "    )\n",
    "ax.set_title(\"KMeans\")\n",
    "ax.set_xticks(())\n",
    "ax.set_yticks(())\n",
    "plt.text(-3.5, 1.8, \"train time: %.2fs\\ninertia: %f\" % (t_batch, k_means.inertia_))\n",
    "\n",
    "# MiniBatchKMeans\n",
    "ax = fig.add_subplot(1, 3, 2)\n",
    "for k, col in zip(range(n_clusters), colors):\n",
    "    my_members = mbk_means_labels == k\n",
    "    cluster_center = mbk_means_cluster_centers[k]\n",
    "    ax.plot(X[my_members, 0], X[my_members, 1], \"w\", markerfacecolor=col, marker=\".\")\n",
    "    ax.plot(\n",
    "        cluster_center[0],\n",
    "        cluster_center[1],\n",
    "        \"o\",\n",
    "        markerfacecolor=col,\n",
    "        markeredgecolor=\"k\",\n",
    "        markersize=6,\n",
    "    )\n",
    "ax.set_title(\"MiniBatchKMeans\")\n",
    "ax.set_xticks(())\n",
    "ax.set_yticks(())\n",
    "plt.text(-3.5, 1.8, \"train time: %.2fs\\ninertia: %f\" % (t_mini_batch, mbk.inertia_))\n",
    "\n",
    "# Initialize the different array to all False\n",
    "different = mbk_means_labels == 4\n",
    "ax = fig.add_subplot(1, 3, 3)\n",
    "\n",
    "for k in range(n_clusters):\n",
    "    different += (k_means_labels == k) != (mbk_means_labels == k)\n",
    "\n",
    "identical = np.logical_not(different)\n",
    "ax.plot(X[identical, 0], X[identical, 1], \"w\", markerfacecolor=\"#bbbbbb\", marker=\".\")\n",
    "ax.plot(X[different, 0], X[different, 1], \"w\", markerfacecolor=\"m\", marker=\".\")\n",
    "ax.set_title(\"Difference\")\n",
    "ax.set_xticks(())\n",
    "ax.set_yticks(())\n",
    "\n",
    "plt.show()"
   ]
  },
  {
   "cell_type": "code",
   "execution_count": 24,
   "id": "e689acce",
   "metadata": {},
   "outputs": [
    {
     "data": {
      "text/plain": [
       "(3000, 4096)"
      ]
     },
     "execution_count": 24,
     "metadata": {},
     "output_type": "execute_result"
    }
   ],
   "source": []
  }
 ],
 "metadata": {
  "kernelspec": {
   "display_name": "Python [conda env:open-instruct]",
   "language": "python",
   "name": "conda-env-open-instruct-py"
  },
  "language_info": {
   "codemirror_mode": {
    "name": "ipython",
    "version": 3
   },
   "file_extension": ".py",
   "mimetype": "text/x-python",
   "name": "python",
   "nbconvert_exporter": "python",
   "pygments_lexer": "ipython3",
   "version": "3.10.12"
  }
 },
 "nbformat": 4,
 "nbformat_minor": 5
}
