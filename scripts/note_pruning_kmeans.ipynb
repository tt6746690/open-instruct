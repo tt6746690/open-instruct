{
 "cells": [
  {
   "cell_type": "code",
   "execution_count": 4,
   "id": "6f09970e",
   "metadata": {},
   "outputs": [
    {
     "name": "stdout",
     "output_type": "stream",
     "text": [
      "(100000, 4096) (100000,)\n"
     ]
    }
   ],
   "source": [
    "\n",
    "import numpy as np\n",
    "\n",
    "from sklearn.datasets import make_blobs\n",
    "\n",
    "np.random.seed(0)\n",
    "\n",
    "\n",
    "N = 3000; D = 2\n",
    "centers = [[1, 1], [-1, -1], [1, -1]]\n",
    "\n",
    "\n",
    "N = 3000; D = 4096\n",
    "M = 300\n",
    "\n",
    "N = 100000; D = 4096; M = 3000 # 208.63360142707825\n",
    "# N = 1000000; D = 4096; M = 3000\n",
    "# #\n",
    "#\n",
    "\n",
    "\n",
    "\n",
    "np.random.seed(0)\n",
    "centers = np.random.choice([-1,1], size=(M,D))\n",
    "\n",
    "\n",
    "batch_size = 45\n",
    "\n",
    "\n",
    "n_clusters = len(centers) \n",
    "X, labels_true = make_blobs(n_samples=N, n_features=D, centers=centers, cluster_std=0.7)\n",
    "print(X.shape, labels_true.shape)\n"
   ]
  },
  {
   "cell_type": "code",
   "execution_count": 8,
   "id": "5afb3afc",
   "metadata": {},
   "outputs": [
    {
     "data": {
      "text/plain": [
       "array([77.73471704, 78.44254383, 78.38583308, ..., 77.01015835,\n",
       "       77.79393951, 79.02334815])"
      ]
     },
     "execution_count": 8,
     "metadata": {},
     "output_type": "execute_result"
    }
   ],
   "source": []
  },
  {
   "cell_type": "code",
   "execution_count": 1,
   "id": "ac3a2161",
   "metadata": {
    "scrolled": true
   },
   "outputs": [
    {
     "name": "stderr",
     "output_type": "stream",
     "text": [
      "\n",
      "KeyboardInterrupt\n",
      "\n"
     ]
    }
   ],
   "source": [
    "\n",
    "import time\n",
    "\n",
    "from sklearn.cluster import KMeans\n",
    "\n",
    "k_means = KMeans(\n",
    "    init=\"k-means++\", \n",
    "    n_clusters=M,\n",
    "    n_init=1,\n",
    "    verbose=True)\n",
    "t0 = time.time()\n",
    "k_means.fit(X)\n",
    "t_batch = time.time() - t0\n",
    "\n",
    "t_batch"
   ]
  },
  {
   "cell_type": "code",
   "execution_count": 43,
   "id": "1e509b1a",
   "metadata": {},
   "outputs": [
    {
     "name": "stdout",
     "output_type": "stream",
     "text": [
      "Init 1/10 with method k-means++\n"
     ]
    },
    {
     "name": "stderr",
     "output_type": "stream",
     "text": [
      "\n",
      "KeyboardInterrupt\n",
      "\n"
     ]
    }
   ],
   "source": [
    "\n",
    "from sklearn.cluster import MiniBatchKMeans\n",
    "\n",
    "mbk = MiniBatchKMeans(\n",
    "    init=\"k-means++\",\n",
    "    n_clusters=3000,\n",
    "    batch_size=1024,\n",
    "    n_init=10,\n",
    "    random_state=0,\n",
    "    max_no_improvement=10,\n",
    "    verbose=True,\n",
    ")\n",
    "t0 = time.time()\n",
    "\n",
    "mbk.fit(X.astype(np.float32))\n",
    "# mbk.fit((X / np.linalg.norm(X, axis=1, ord=2)[:, np.newaxis]))\n",
    "\n",
    "t_mini_batch = time.time() - t0\n",
    "\n",
    "t_mini_batch"
   ]
  },
  {
   "cell_type": "code",
   "execution_count": 37,
   "id": "94347df4",
   "metadata": {},
   "outputs": [],
   "source": [
    "\n",
    "cluster_centers = mbk.cluster_centers_\n",
    "cluster_labels = mbk.labels_\n",
    "\n",
    "cluster_centers = cluster_centers / np.linalg.norm(cluster_centers, axis=1, ord=2)[:, np.newaxis]\n",
    "P = cluster_centers[cluster_labels]\n",
    "D = np.sum(Xn*P, axis=1)"
   ]
  },
  {
   "cell_type": "code",
   "execution_count": 25,
   "id": "79343acd",
   "metadata": {},
   "outputs": [
    {
     "data": {
      "text/plain": [
       "array([64.58758167, 64.59753247, 78.17195115, ..., 64.5411345 ,\n",
       "       64.63581666, 64.38705158])"
      ]
     },
     "execution_count": 25,
     "metadata": {},
     "output_type": "execute_result"
    }
   ],
   "source": [
    "center_norms = np.linalg.norm(mbk.cluster_centers_, axis=-1)\n",
    "center_norms"
   ]
  },
  {
   "cell_type": "code",
   "execution_count": 31,
   "id": "2f99f1ae",
   "metadata": {},
   "outputs": [
    {
     "name": "stdout",
     "output_type": "stream",
     "text": [
      "inertia:  262516921.7517366\n"
     ]
    }
   ],
   "source": [
    "\n",
    "print('inertia: ', mbk.inertia_)\n",
    "\n",
    "# print('centroid norm: ', np.mean(center_norms), center_norms)\n"
   ]
  },
  {
   "cell_type": "code",
   "execution_count": 23,
   "id": "bf4f89f1",
   "metadata": {
    "scrolled": true
   },
   "outputs": [
    {
     "data": {
      "text/plain": [
       "(array([1.000e+00, 0.000e+00, 0.000e+00, 0.000e+00, 0.000e+00, 0.000e+00,\n",
       "        0.000e+00, 0.000e+00, 2.721e+03, 2.780e+02]),\n",
       " array([0.04197882, 0.13778093, 0.23358305, 0.32938517, 0.42518729,\n",
       "        0.52098941, 0.61679153, 0.71259364, 0.80839576, 0.90419788,\n",
       "        1.        ]),\n",
       " <BarContainer object of 10 artists>)"
      ]
     },
     "execution_count": 23,
     "metadata": {},
     "output_type": "execute_result"
    },
    {
     "data": {
      "image/png": "[encoded data removed]",
      "text/plain": [
       "<Figure size 640x480 with 1 Axes>"
      ]
     },
     "metadata": {},
     "output_type": "display_data"
    }
   ],
   "source": [
    "import matplotlib.pyplot as plt\n",
    "plt.hist(center_norms)"
   ]
  },
  {
   "cell_type": "code",
   "execution_count": 41,
   "id": "78bfba13",
   "metadata": {},
   "outputs": [
    {
     "data": {
      "text/plain": [
       "(609463055.9107844, 609988056.1067324)"
      ]
     },
     "execution_count": 41,
     "metadata": {},
     "output_type": "execute_result"
    }
   ],
   "source": [
    "\n",
    "# Data is generated from make_blobs(centers=3000)\n",
    "# \n",
    "# N | D | #clusters | n_init | bsz | KMeans time | MiniBatchKMeans time | KMeans inertia | MiniBatchKMeans inertia\n",
    "# 100k | 4096 | 3 | 10 | 45 | 208.63360142707825 | 7.031473636627197 | 609463055.9107844 | 609988056.1067324\n",
    "\n",
    "\n",
    "\"\"\"\n",
    "take-aways\n",
    "- \n",
    "\"\"\"\n",
    "\n",
    "# MiniBatchKMeans\n",
    "\n",
    "N | D | #clusters | n_init | bsz | time (s) | inertia | comments\n",
    "100k | 4096 | 3 | 10 | 45 | 7  | 609988056 | -\n",
    "100k | 4096 | 3000 | 10 | 45 | 883  | 238845223 | n_clusters=3→3000 ⇒ ↓time\n",
    "100k | 4096 | 3000 | 1  | 45 | 60  | 411357893 | n_init=10→1 ⇒ ↑speed\n",
    "100k | 4096 | 3000 | 1  | 1024 | 189  | 262201827 | ↑bsz ⇒ ↑inertia\n",
    "100k | 4096 | 3000 | 1  | 45 | 521  | 38600 | fit(X/norm(X,-1)), inertia not comparable\n",
    "\n",
    "\n"
   ]
  },
  {
   "cell_type": "code",
   "execution_count": 33,
   "id": "84ff50c4",
   "metadata": {},
   "outputs": [],
   "source": [
    "\n",
    "from sklearn.metrics.pairwise import pairwise_distances_argmin\n",
    "\n",
    "k_means_cluster_centers = k_means.cluster_centers_\n",
    "order = pairwise_distances_argmin(k_means.cluster_centers_, mbk.cluster_centers_)\n",
    "mbk_means_cluster_centers = mbk.cluster_centers_[order]\n",
    "\n",
    "k_means_labels = pairwise_distances_argmin(X, k_means_cluster_centers)\n",
    "mbk_means_labels = pairwise_distances_argmin(X, mbk_means_cluster_centers)\n"
   ]
  },
  {
   "cell_type": "code",
   "execution_count": 38,
   "id": "287e9e73",
   "metadata": {},
   "outputs": [
    {
     "ename": "IndexError",
     "evalue": "boolean index did not match indexed array along dimension 0; dimension is 100000 but corresponding boolean dimension is 3000",
     "output_type": "error",
     "traceback": [
      "\u001b[0;31m---------------------------------------------------------------------------\u001b[0m",
      "\u001b[0;31mIndexError\u001b[0m                                Traceback (most recent call last)",
      "Cell \u001b[0;32mIn[38], line 12\u001b[0m\n\u001b[1;32m     10\u001b[0m     my_members \u001b[38;5;241m=\u001b[39m k_means_labels \u001b[38;5;241m==\u001b[39m k\n\u001b[1;32m     11\u001b[0m     cluster_center \u001b[38;5;241m=\u001b[39m k_means_cluster_centers[k]\n\u001b[0;32m---> 12\u001b[0m     ax\u001b[38;5;241m.\u001b[39mplot(\u001b[43mX\u001b[49m\u001b[43m[\u001b[49m\u001b[43mmy_members\u001b[49m\u001b[43m,\u001b[49m\u001b[43m \u001b[49m\u001b[38;5;241;43m0\u001b[39;49m\u001b[43m]\u001b[49m, X[my_members, \u001b[38;5;241m1\u001b[39m], \u001b[38;5;124m\"\u001b[39m\u001b[38;5;124mw\u001b[39m\u001b[38;5;124m\"\u001b[39m, markerfacecolor\u001b[38;5;241m=\u001b[39mcol, marker\u001b[38;5;241m=\u001b[39m\u001b[38;5;124m\"\u001b[39m\u001b[38;5;124m.\u001b[39m\u001b[38;5;124m\"\u001b[39m)\n\u001b[1;32m     13\u001b[0m     ax\u001b[38;5;241m.\u001b[39mplot(\n\u001b[1;32m     14\u001b[0m         cluster_center[\u001b[38;5;241m0\u001b[39m],\n\u001b[1;32m     15\u001b[0m         cluster_center[\u001b[38;5;241m1\u001b[39m],\n\u001b[0;32m   (...)\u001b[0m\n\u001b[1;32m     19\u001b[0m         markersize\u001b[38;5;241m=\u001b[39m\u001b[38;5;241m6\u001b[39m,\n\u001b[1;32m     20\u001b[0m     )\n\u001b[1;32m     21\u001b[0m ax\u001b[38;5;241m.\u001b[39mset_title(\u001b[38;5;124m\"\u001b[39m\u001b[38;5;124mKMeans\u001b[39m\u001b[38;5;124m\"\u001b[39m)\n",
      "\u001b[0;31mIndexError\u001b[0m: boolean index did not match indexed array along dimension 0; dimension is 100000 but corresponding boolean dimension is 3000"
     ]
    },
    {
     "data": {
      "image/png": "[encoded data removed]",
      "text/plain": [
       "<Figure size 800x300 with 1 Axes>"
      ]
     },
     "metadata": {},
     "output_type": "display_data"
    }
   ],
   "source": [
    "\n",
    "import matplotlib.pyplot as plt\n",
    "\n",
    "fig = plt.figure(figsize=(8, 3))\n",
    "fig.subplots_adjust(left=0.02, right=0.98, bottom=0.05, top=0.9)\n",
    "colors = [\"#4EACC5\", \"#FF9C34\", \"#4E9A06\"]\n",
    "\n",
    "# KMeans\n",
    "ax = fig.add_subplot(1, 3, 1)\n",
    "for k, col in zip(range(n_clusters), colors):\n",
    "    my_members = k_means_labels == k\n",
    "    cluster_center = k_means_cluster_centers[k]\n",
    "    ax.plot(X[my_members, 0], X[my_members, 1], \"w\", markerfacecolor=col, marker=\".\")\n",
    "    ax.plot(\n",
    "        cluster_center[0],\n",
    "        cluster_center[1],\n",
    "        \"o\",\n",
    "        markerfacecolor=col,\n",
    "        markeredgecolor=\"k\",\n",
    "        markersize=6,\n",
    "    )\n",
    "ax.set_title(\"KMeans\")\n",
    "ax.set_xticks(())\n",
    "ax.set_yticks(())\n",
    "plt.text(-3.5, 1.8, \"train time: %.2fs\\ninertia: %f\" % (t_batch, k_means.inertia_))\n",
    "\n",
    "# MiniBatchKMeans\n",
    "ax = fig.add_subplot(1, 3, 2)\n",
    "for k, col in zip(range(n_clusters), colors):\n",
    "    my_members = mbk_means_labels == k\n",
    "    cluster_center = mbk_means_cluster_centers[k]\n",
    "    ax.plot(X[my_members, 0], X[my_members, 1], \"w\", markerfacecolor=col, marker=\".\")\n",
    "    ax.plot(\n",
    "        cluster_center[0],\n",
    "        cluster_center[1],\n",
    "        \"o\",\n",
    "        markerfacecolor=col,\n",
    "        markeredgecolor=\"k\",\n",
    "        markersize=6,\n",
    "    )\n",
    "ax.set_title(\"MiniBatchKMeans\")\n",
    "ax.set_xticks(())\n",
    "ax.set_yticks(())\n",
    "plt.text(-3.5, 1.8, \"train time: %.2fs\\ninertia: %f\" % (t_mini_batch, mbk.inertia_))\n",
    "\n",
    "# Initialize the different array to all False\n",
    "different = mbk_means_labels == 4\n",
    "ax = fig.add_subplot(1, 3, 3)\n",
    "\n",
    "for k in range(n_clusters):\n",
    "    different += (k_means_labels == k) != (mbk_means_labels == k)\n",
    "\n",
    "identical = np.logical_not(different)\n",
    "ax.plot(X[identical, 0], X[identical, 1], \"w\", markerfacecolor=\"#bbbbbb\", marker=\".\")\n",
    "ax.plot(X[different, 0], X[different, 1], \"w\", markerfacecolor=\"m\", marker=\".\")\n",
    "ax.set_title(\"Difference\")\n",
    "ax.set_xticks(())\n",
    "ax.set_yticks(())\n",
    "\n",
    "plt.show()"
   ]
  },
  {
   "cell_type": "code",
   "execution_count": 24,
   "id": "ececeb62",
   "metadata": {},
   "outputs": [
    {
     "data": {
      "text/plain": [
       "(3000, 4096)"
      ]
     },
     "execution_count": 24,
     "metadata": {},
     "output_type": "execute_result"
    }
   ],
   "source": []
  }
 ],
 "metadata": {
  "kernelspec": {
   "display_name": "Python [conda env:open-instruct]",
   "language": "python",
   "name": "conda-env-open-instruct-py"
  },
  "language_info": {
   "codemirror_mode": {
    "name": "ipython",
    "version": 3
   },
   "file_extension": ".py",
   "mimetype": "text/x-python",
   "name": "python",
   "nbconvert_exporter": "python",
   "pygments_lexer": "ipython3",
   "version": "3.10.13"
  }
 },
 "nbformat": 4,
 "nbformat_minor": 5
}
