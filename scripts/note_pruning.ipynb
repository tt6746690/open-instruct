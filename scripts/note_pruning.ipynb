{
 "cells": [
  {
   "cell_type": "code",
   "execution_count": 208,
   "id": "0bf2dd69",
   "metadata": {
    "scrolled": true
   },
   "outputs": [
    {
     "name": "stdout",
     "output_type": "stream",
     "text": [
      "The autoreload extension is already loaded. To reload it, use:\n",
      "  %reload_ext autoreload\n"
     ]
    },
    {
     "data": {
      "text/html": [
       "<style>.container { width:100% !important; }</style>"
      ],
      "text/plain": [
       "<IPython.core.display.HTML object>"
      ]
     },
     "metadata": {},
     "output_type": "display_data"
    },
    {
     "name": "stdout",
     "output_type": "stream",
     "text": [
      "2\n"
     ]
    },
    {
     "ename": "IndexError",
     "evalue": "list index out of range",
     "output_type": "error",
     "traceback": [
      "\u001b[0;31m---------------------------------------------------------------------------\u001b[0m",
      "\u001b[0;31mIndexError\u001b[0m                                Traceback (most recent call last)",
      "Cell \u001b[0;32mIn[208], line 7\u001b[0m\n\u001b[1;32m      4\u001b[0m \u001b[38;5;28;01mimport\u001b[39;00m \u001b[38;5;21;01mos\u001b[39;00m\n\u001b[1;32m      5\u001b[0m \u001b[38;5;28mprint\u001b[39m(os\u001b[38;5;241m.\u001b[39menviron[\u001b[38;5;124m'\u001b[39m\u001b[38;5;124mCUDA_VISIBLE_DEVICES\u001b[39m\u001b[38;5;124m'\u001b[39m])\n\u001b[1;32m      6\u001b[0m os\u001b[38;5;241m.\u001b[39menviron[\u001b[38;5;124m'\u001b[39m\u001b[38;5;124mCUDA_VISIBLE_DEVICES\u001b[39m\u001b[38;5;124m'\u001b[39m] \u001b[38;5;241m=\u001b[39m \\\n\u001b[0;32m----> 7\u001b[0m     \u001b[43mos\u001b[49m\u001b[38;5;241;43m.\u001b[39;49m\u001b[43menviron\u001b[49m\u001b[43m[\u001b[49m\u001b[38;5;124;43m'\u001b[39;49m\u001b[38;5;124;43mCUDA_VISIBLE_DEVICES\u001b[39;49m\u001b[38;5;124;43m'\u001b[39;49m\u001b[43m]\u001b[49m\u001b[38;5;241;43m.\u001b[39;49m\u001b[43msplit\u001b[49m\u001b[43m(\u001b[49m\u001b[38;5;124;43m'\u001b[39;49m\u001b[38;5;124;43m,\u001b[39;49m\u001b[38;5;124;43m'\u001b[39;49m\u001b[43m)\u001b[49m\u001b[43m[\u001b[49m\u001b[38;5;241;43m1\u001b[39;49m\u001b[43m]\u001b[49m\n\u001b[1;32m      8\u001b[0m \u001b[38;5;66;03m# '0,1,2,3,4,5'\u001b[39;00m\n\u001b[1;32m      9\u001b[0m \u001b[38;5;28mprint\u001b[39m(os\u001b[38;5;241m.\u001b[39menviron[\u001b[38;5;124m'\u001b[39m\u001b[38;5;124mCUDA_VISIBLE_DEVICES\u001b[39m\u001b[38;5;124m'\u001b[39m])\n",
      "\u001b[0;31mIndexError\u001b[0m: list index out of range"
     ]
    }
   ],
   "source": [
    "from rosemary import jpt_parse_args, jpt_setup, jpt_in_notebook; jpt_setup()\n",
    "\n",
    "if jpt_in_notebook():\n",
    "    import os\n",
    "    print(os.environ['CUDA_VISIBLE_DEVICES'])\n",
    "    os.environ['CUDA_VISIBLE_DEVICES'] = \\\n",
    "        os.environ['CUDA_VISIBLE_DEVICES'].split(',')[1]\n",
    "    # '0,1,2,3,4,5'\n",
    "    print(os.environ['CUDA_VISIBLE_DEVICES'])\n",
    "    \n",
    "!nvidia-smi"
   ]
  },
  {
   "cell_type": "code",
   "execution_count": 8,
   "id": "1cf384bc",
   "metadata": {
    "scrolled": true
   },
   "outputs": [
    {
     "name": "stdout",
     "output_type": "stream",
     "text": [
      "test_run = True\n",
      "\n",
      "Submiting job with:\n",
      "{\n",
      "    \"job_name\": \"prune.ultrachat15.dppmapbd_nc=200_k=vmf_gamma=0.3_kmd=mpnet\",\n",
      "    \"nodes\": 1,\n",
      "    \"num_cpus\": 64,\n",
      "    \"cpu_mem\": 256,\n",
      "    \"num_gpus\": 1,\n",
      "    \"gpu_type\": \"v100\",\n",
      "    \"test_run\": true,\n",
      "    \"queue\": \"x86_6h\",\n",
      "    \"num_jobs\": 1\n",
      "}\n",
      "python note_pruning.py --dataset ultrachat15 --sort_by dppmapbd_nc=200_k=vmf_gamma=0.3_kmd=mpnet --model_name all-mpnet-base-v2 --encode_fn_type input --save_dir /gpfs/u/home/PTFM/PTFMqngp/scratch/github/mitibm2023/external/open-instruct/scripts/data_inds/all-mpnet-base-v2/ultrachat15\n",
      "\n",
      "Submiting job with:\n",
      "{\n",
      "    \"job_name\": \"prune.ultrachat15.dppmapbd_nc=200_k=vmf_gamma=1.0_kmd=mpnet\",\n",
      "    \"nodes\": 1,\n",
      "    \"num_cpus\": 64,\n",
      "    \"cpu_mem\": 256,\n",
      "    \"num_gpus\": 1,\n",
      "    \"gpu_type\": \"v100\",\n",
      "    \"test_run\": true,\n",
      "    \"queue\": \"x86_6h\",\n",
      "    \"num_jobs\": 1\n",
      "}\n",
      "python note_pruning.py --dataset ultrachat15 --sort_by dppmapbd_nc=200_k=vmf_gamma=1.0_kmd=mpnet --model_name all-mpnet-base-v2 --encode_fn_type input --save_dir /gpfs/u/home/PTFM/PTFMqngp/scratch/github/mitibm2023/external/open-instruct/scripts/data_inds/all-mpnet-base-v2/ultrachat15\n",
      "\n",
      "Submiting job with:\n",
      "{\n",
      "    \"job_name\": \"prune.ultrachat15.dppmapbd_nc=200_k=vmf_gamma=3.0_kmd=mpnet\",\n",
      "    \"nodes\": 1,\n",
      "    \"num_cpus\": 64,\n",
      "    \"cpu_mem\": 256,\n",
      "    \"num_gpus\": 1,\n",
      "    \"gpu_type\": \"v100\",\n",
      "    \"test_run\": true,\n",
      "    \"queue\": \"x86_6h\",\n",
      "    \"num_jobs\": 1\n",
      "}\n",
      "python note_pruning.py --dataset ultrachat15 --sort_by dppmapbd_nc=200_k=vmf_gamma=3.0_kmd=mpnet --model_name all-mpnet-base-v2 --encode_fn_type input --save_dir /gpfs/u/home/PTFM/PTFMqngp/scratch/github/mitibm2023/external/open-instruct/scripts/data_inds/all-mpnet-base-v2/ultrachat15\n",
      "\n",
      "Submiting job with:\n",
      "{\n",
      "    \"job_name\": \"prune.ultrachat15.dppmapbd_nc=200_k=vmf_gamma=10.0_kmd=mpnet\",\n",
      "    \"nodes\": 1,\n",
      "    \"num_cpus\": 64,\n",
      "    \"cpu_mem\": 256,\n",
      "    \"num_gpus\": 1,\n",
      "    \"gpu_type\": \"v100\",\n",
      "    \"test_run\": true,\n",
      "    \"queue\": \"x86_6h\",\n",
      "    \"num_jobs\": 1\n",
      "}\n",
      "python note_pruning.py --dataset ultrachat15 --sort_by dppmapbd_nc=200_k=vmf_gamma=10.0_kmd=mpnet --model_name all-mpnet-base-v2 --encode_fn_type input --save_dir /gpfs/u/home/PTFM/PTFMqngp/scratch/github/mitibm2023/external/open-instruct/scripts/data_inds/all-mpnet-base-v2/ultrachat15\n",
      "\n",
      "Submiting job with:\n",
      "{\n",
      "    \"job_name\": \"prune.ultrachat15.dppmapbd_nc=200_k=lin_kmd=mpnet\",\n",
      "    \"nodes\": 1,\n",
      "    \"num_cpus\": 64,\n",
      "    \"cpu_mem\": 256,\n",
      "    \"num_gpus\": 1,\n",
      "    \"gpu_type\": \"v100\",\n",
      "    \"test_run\": true,\n",
      "    \"queue\": \"x86_6h\",\n",
      "    \"num_jobs\": 1\n",
      "}\n",
      "python note_pruning.py --dataset ultrachat15 --sort_by dppmapbd_nc=200_k=lin_kmd=mpnet --model_name all-mpnet-base-v2 --encode_fn_type input --save_dir /gpfs/u/home/PTFM/PTFMqngp/scratch/github/mitibm2023/external/open-instruct/scripts/data_inds/all-mpnet-base-v2/ultrachat15\n",
      "#cmds:  5\n"
     ]
    }
   ],
   "source": [
    "import os\n",
    "import itertools\n",
    "from rosemary import jpt_in_notebook\n",
    "from llm.submit import submit_job, multiline_to_singleline, shell_scripts_template_slurm\n",
    "\n",
    "log_dir = '/gpfs/u/home/PTFM/PTFMqngp/scratch/github/mitibm2023/external/open-instruct/scripts/'\n",
    "\n",
    "test_run = 1\n",
    "test_run = bool(test_run)\n",
    "\n",
    "# model_name = 'llama-7b'; encode_fn_type = 'sft'; md = 'llama7b'\n",
    "# model_name = 'llama-7b+lora:r=256:a=256'; encode_fn_type = 'sft'; md = 'llama7b'\n",
    "# model_name = 'mistral-7b+lora:r=256:a=256'; encode_fn_type = 'sft'; md = 'mistral7b'\n",
    "model_name = 'all-mpnet-base-v2'; encode_fn_type = 'input'; md = 'mpnet'\n",
    "# model_name = 'bge-large-en-v1.5'; encode_fn_type = 'input'; md = 'bge'\n",
    "\n",
    "\n",
    "sort_by_list = [\n",
    "    f'dppmapbd_nc=200_k=vmf_gamma={gamma}_kmd=mpnet' \n",
    "    for gamma in [.3, 1., 3., 10.]] # [.3, 1., 3., 10., 15.]\n",
    "sort_by_list += [f'dppmapbd_nc=200_k=lin_kmd=mpnet']\n",
    "# sort_by_list = [\n",
    "#     f'dppmap_theta={theta}_k=vmf_gamma=3.0_kmd=mpnet_q=log+prob_qmd=mistral7b' for theta in [0, .3, .6, .9, .95]\n",
    "# ]\n",
    "\n",
    "\n",
    "# nc_list = [100, 500, 1000]\n",
    "# nc_list = [100, 200, 300, 400, 500, 600]\n",
    "# sort_by_list = [\n",
    "#     f'semdedup_cl=kmeansfaisscd_md={md}_dist=cd_emb={emb}_nc={nc}'\n",
    "#     for nc in nc_list\n",
    "#     for emb in ['text+embedding', 'grad+rp+loraB'] # 'grad+rp+loraB' \n",
    "# ]\n",
    "\n",
    "# sort_by_list = [\n",
    "#     'random_s=0', 'random_s=1', 'random_s=2',\n",
    "#     'log_prob', 'logit_margin', 'el2n_agg=mean',\n",
    "#     'grad_loraB_l2n', 'numtoks'\n",
    "# ]\n",
    "# sort_by_list += [\n",
    "# #     'kmeansl2_emb=grad+rp+loraB_nc=300',\n",
    "# #     'kmeansl2_emb=grad+rp+loraB_nc=1000',\n",
    "#     'kmeansl2_emb=grad+rp+loraB_nc=3000',\n",
    "# #     'kmeansl2_emb=text+embedding_nc=300',\n",
    "#     'kmeansl2_emb=text+embedding_nc=1000',\n",
    "# #     'kmeansl2_emb=text+embedding_nc=3000',\n",
    "# ]\n",
    "# sort_by_list = ['numtoks']\n",
    "\n",
    "# sort_by_list += [\n",
    "#     'dppmap_emb=grad+rp+loraB_k=Kcos', \n",
    "#     'dppmap_emb=text+embedding_k=Kcos', \n",
    "#     'dppmap_emb=grad+rp+loraB_k=Kcosp', \n",
    "#     'dppmap_emb=text+embedding_k=Kcosp',\n",
    "#     'dppmap_emb=grad+rp+loraB_k=Kcos1np', \n",
    "#     'dppmap_emb=text+embedding_k=Kcos1np',\n",
    "# ]\n",
    "# dataset_list = ['lima']\n",
    "# dataset_list = ['flan2022_1m']\n",
    "# dataset_list = ['tulu_v1_mix']\n",
    "# dataset_list = ['ultrachat']\n",
    "dataset_list = ['ultrachat15']\n",
    "# dataset_list = ['wizardlm']\n",
    "# dataset_list = ['sharegpt']\n",
    "\n",
    "\n",
    "# sort_by_list = [\n",
    "#  'log_prob',\n",
    "#  'el2n_agg=mean',\n",
    "#  'el2n_agg=l2n',\n",
    "#  'logit_margin',\n",
    "# ]\n",
    "# if 'lora' in model_name:\n",
    "#     sort_by_list += ['grad_loraB_l2n']\n",
    "# else:\n",
    "#     sort_by_list += ['grad_all_l2n', 'grad_qkv_l2n', 'grad_mlp_l2n', 'grad_last_l2n',]\n",
    "# sort_by_list = ['kmeansl2_emb=grad+rp+loraB_nc=30',\n",
    "#                 'kmeansl2_emb=text+embedding_nc=30']\n",
    "# dataset_list = ['lima']\n",
    "\n",
    "\n",
    "# model_name = 'pythia-1b-deduped'\n",
    "# model_name = 'pythia-1b-deduped+lora:r=256:a=256'\n",
    "# dataset_list = ['cot', 'dolly', 'flan_v2', 'lima', 'oasst1']\n",
    "# # sort_by_list = ['random_s=0', \n",
    "# #                 'log_prob', 'logit_margin', 'el2n_agg=mean', 'el2n_agg=l2n', \n",
    "# #                 'kmeansl2_nc=3000', 'kmeanscd_nc=3000',\n",
    "# #                 'grad_loraB_l2n',\n",
    "# #                 'grad_all_l2n', 'grad_qkv_l2n', 'grad_mlp_l2n', 'grad_last_l2n',\n",
    "# #                ]\n",
    "# sort_by_list = ['grad_loraB_l2n']\n",
    "\n",
    "from note_pruning_analysis import data_inds_dir\n",
    "\n",
    "options_list = itertools.product(dataset_list, sort_by_list)\n",
    "\n",
    "print('test_run =',test_run)\n",
    "cmds = []\n",
    "for dataset, sort_by in options_list:\n",
    "    save_dir = os.path.join(data_inds_dir, model_name, dataset)\n",
    "    cmd = f\"\"\"\n",
    "     python note_pruning.py \\\n",
    "        --dataset {dataset} \\\n",
    "        --sort_by {sort_by} \\\n",
    "        --model_name {model_name} \\\n",
    "        --encode_fn_type {encode_fn_type} \\\n",
    "        --save_dir {save_dir} \\\n",
    "    \"\"\".strip()\n",
    "    cmd = multiline_to_singleline(cmd)\n",
    "    shell_scripts = shell_scripts_template_slurm.format(\n",
    "        conda_env='open-instruct',\n",
    "        cwd=os.getcwd(),\n",
    "        cmd=cmd,\n",
    "        log_dir=log_dir,\n",
    "        save_dir=save_dir)\n",
    "    out = submit_job(\n",
    "        shell_scripts, \n",
    "        job_name=f'prune.{dataset}.{sort_by}', \n",
    "        nodes=1,\n",
    "        num_cpus=64, # 32\n",
    "        cpu_mem=256, # 128\n",
    "        num_gpus=1,\n",
    "        gpu_type='v100',\n",
    "        test_run=test_run,\n",
    "        job_duration=6,\n",
    "    )\n",
    "    cmds.append(cmd)\n",
    "    print(cmd)\n",
    "        \n",
    "print('#cmds: ', len(cmds))\n"
   ]
  },
  {
   "cell_type": "code",
   "execution_count": 9,
   "id": "d38b6f04",
   "metadata": {},
   "outputs": [
    {
     "name": "stdout",
     "output_type": "stream",
     "text": [
      "{\n",
      "  \"dataset\": \"ultrachat15\",\n",
      "  \"sort_by\": \"dppmapbd_nc=200_k=vmf_gamma=1.0_kmd=mpnet\",\n",
      "  \"model_name\": \"all-mpnet-base-v2\",\n",
      "  \"save_dir\": \"/gpfs/u/home/PTFM/PTFMqngp/scratch/github/mitibm2023/external/open-instruct/scripts/data_inds/all-mpnet-base-v2/ultrachat15\",\n",
      "  \"encode_fn_type\": \"input\",\n",
      "  \"test_run\": false\n",
      "}\n",
      "Calling note_pruning_dpp.compute_dppmap with kwargs={\n",
      "    \"dppmap_type\": \"dppmapbd\",\n",
      "    \"dataset\": \"ultrachat15\",\n",
      "    \"kernel_type\": \"vmf\",\n",
      "    \"kernel_embed_model\": \"mpnet\",\n",
      "    \"kernel_embed_type\": \"text_embedding\",\n",
      "    \"kernel_kwargs\": {\n",
      "        \"gamma\": 1.0\n",
      "    },\n",
      "    \"quality_score_type\": null,\n",
      "    \"quality_score_embed_model\": null,\n",
      "    \"theta\": 0.0,\n",
      "    \"device\": \"cuda\",\n",
      "    \"max_length\": 5000\n",
      "}\n",
      "dppmapbd: cluster = 0 / 200\n",
      "/gpfs/u/scratch/PTFM/PTFMqngp/github/mitibm2023/external/open-instruct/scripts/note_pruning_dpp.py:199: UserWarning: The use of `x.T` on tensors of dimension other than 2 to reverse their shape is deprecated and it will throw an error in a future release. Consider `x.mT` to transpose batches of matrices or `x.permute(*torch.arange(x.ndim - 1, -1, -1))` to reverse the dimensions of a tensor. (Triggered internally at ../aten/src/ATen/native/TensorShape.cpp:3614.)\n",
      "  S = X@Y.T\n",
      "100%|██████████████████████████████████████| 4999/4999 [00:14<00:00, 333.76it/s]\n",
      "dppmapbd: cluster = 1 / 200\n",
      "100%|██████████████████████████████████████| 4999/4999 [00:16<00:00, 308.99it/s]\n",
      "dppmapbd: cluster = 2 / 200\n",
      "100%|██████████████████████████████████████| 4999/4999 [00:14<00:00, 335.82it/s]\n",
      "dppmapbd: cluster = 3 / 200\n",
      "100%|██████████████████████████████████████| 4999/4999 [00:12<00:00, 388.30it/s]\n",
      "dppmapbd: cluster = 4 / 200\n",
      "100%|██████████████████████████████████████| 4999/4999 [00:13<00:00, 365.16it/s]\n",
      "dppmapbd: cluster = 5 / 200\n",
      "100%|██████████████████████████████████████| 4999/4999 [00:13<00:00, 370.61it/s]\n",
      "dppmapbd: cluster = 6 / 200\n",
      "100%|██████████████████████████████████████| 4999/4999 [00:12<00:00, 398.24it/s]\n",
      "dppmapbd: cluster = 7 / 200\n",
      "100%|██████████████████████████████████████| 4999/4999 [00:12<00:00, 412.46it/s]\n",
      "dppmapbd: cluster = 8 / 200\n",
      "100%|██████████████████████████████████████| 4999/4999 [00:13<00:00, 380.96it/s]\n",
      "dppmapbd: cluster = 9 / 200\n",
      "100%|██████████████████████████████████████| 4999/4999 [00:12<00:00, 410.22it/s]\n",
      "dppmapbd: cluster = 10 / 200\n",
      "100%|██████████████████████████████████████| 4999/4999 [00:11<00:00, 417.57it/s]\n",
      "dppmapbd: cluster = 11 / 200\n",
      "100%|██████████████████████████████████████| 4999/4999 [00:13<00:00, 374.32it/s]\n",
      "dppmapbd: cluster = 12 / 200\n",
      "100%|██████████████████████████████████████| 4999/4999 [00:12<00:00, 395.49it/s]\n",
      "dppmapbd: cluster = 13 / 200\n",
      "100%|██████████████████████████████████████| 4999/4999 [00:12<00:00, 399.48it/s]\n",
      "dppmapbd: cluster = 14 / 200\n",
      "100%|██████████████████████████████████████| 4999/4999 [00:11<00:00, 429.71it/s]\n",
      "dppmapbd: cluster = 15 / 200\n",
      "100%|██████████████████████████████████████| 4999/4999 [00:11<00:00, 429.64it/s]\n",
      "dppmapbd: cluster = 16 / 200\n",
      "100%|██████████████████████████████████████| 4999/4999 [00:11<00:00, 427.59it/s]\n",
      "dppmapbd: cluster = 17 / 200\n",
      "100%|██████████████████████████████████████| 4999/4999 [00:11<00:00, 422.32it/s]\n",
      "dppmapbd: cluster = 18 / 200\n",
      "100%|██████████████████████████████████████| 4999/4999 [00:10<00:00, 474.17it/s]\n",
      "dppmapbd: cluster = 19 / 200\n",
      "100%|██████████████████████████████████████| 4999/4999 [00:11<00:00, 435.56it/s]\n",
      "dppmapbd: cluster = 20 / 200\n",
      "100%|██████████████████████████████████████| 4999/4999 [00:10<00:00, 478.47it/s]\n",
      "dppmapbd: cluster = 21 / 200\n",
      "100%|██████████████████████████████████████| 4999/4999 [00:10<00:00, 497.71it/s]\n",
      "dppmapbd: cluster = 22 / 200\n",
      "100%|██████████████████████████████████████| 4999/4999 [00:11<00:00, 440.79it/s]\n",
      "dppmapbd: cluster = 23 / 200\n",
      "100%|██████████████████████████████████████| 4999/4999 [00:11<00:00, 441.33it/s]\n",
      "dppmapbd: cluster = 24 / 200\n",
      "100%|██████████████████████████████████████| 4999/4999 [00:10<00:00, 489.48it/s]\n",
      "dppmapbd: cluster = 25 / 200\n",
      "100%|██████████████████████████████████████| 4999/4999 [00:09<00:00, 500.13it/s]\n",
      "dppmapbd: cluster = 26 / 200\n",
      "100%|██████████████████████████████████████| 4999/4999 [00:10<00:00, 484.44it/s]\n",
      "dppmapbd: cluster = 27 / 200\n",
      "100%|██████████████████████████████████████| 4999/4999 [00:09<00:00, 508.34it/s]\n",
      "dppmapbd: cluster = 28 / 200\n",
      "100%|██████████████████████████████████████| 4999/4999 [00:10<00:00, 456.01it/s]\n",
      "dppmapbd: cluster = 29 / 200\n",
      "100%|██████████████████████████████████████| 4999/4999 [00:09<00:00, 501.36it/s]\n",
      "dppmapbd: cluster = 30 / 200\n",
      "100%|██████████████████████████████████████| 4999/4999 [00:09<00:00, 531.44it/s]\n",
      "dppmapbd: cluster = 31 / 200\n",
      "100%|██████████████████████████████████████| 4999/4999 [00:09<00:00, 505.79it/s]\n",
      "dppmapbd: cluster = 32 / 200\n",
      "100%|██████████████████████████████████████| 4999/4999 [00:09<00:00, 554.60it/s]\n",
      "dppmapbd: cluster = 33 / 200\n",
      "100%|██████████████████████████████████████| 4999/4999 [00:09<00:00, 540.32it/s]\n",
      "dppmapbd: cluster = 34 / 200\n",
      "100%|██████████████████████████████████████| 4999/4999 [00:09<00:00, 538.38it/s]\n",
      "dppmapbd: cluster = 35 / 200\n",
      "100%|██████████████████████████████████████| 4999/4999 [00:09<00:00, 509.71it/s]\n",
      "dppmapbd: cluster = 36 / 200\n",
      "100%|██████████████████████████████████████| 4999/4999 [00:09<00:00, 530.09it/s]\n",
      "dppmapbd: cluster = 37 / 200\n",
      "100%|██████████████████████████████████████| 4999/4999 [00:09<00:00, 541.75it/s]\n",
      "dppmapbd: cluster = 38 / 200\n",
      "100%|██████████████████████████████████████| 4999/4999 [00:09<00:00, 538.62it/s]\n",
      "dppmapbd: cluster = 39 / 200\n",
      "100%|██████████████████████████████████████| 4999/4999 [00:08<00:00, 567.35it/s]\n",
      "dppmapbd: cluster = 40 / 200\n",
      "100%|██████████████████████████████████████| 4999/4999 [00:09<00:00, 525.05it/s]\n",
      "dppmapbd: cluster = 41 / 200\n",
      "100%|██████████████████████████████████████| 4999/4999 [00:09<00:00, 510.48it/s]\n",
      "dppmapbd: cluster = 42 / 200\n",
      "100%|██████████████████████████████████████| 4999/4999 [00:09<00:00, 521.79it/s]\n",
      "dppmapbd: cluster = 43 / 200\n",
      "100%|██████████████████████████████████████| 4999/4999 [00:11<00:00, 445.96it/s]\n",
      "dppmapbd: cluster = 44 / 200\n",
      "100%|██████████████████████████████████████| 4999/4999 [00:09<00:00, 537.02it/s]\n",
      "dppmapbd: cluster = 45 / 200\n",
      "100%|██████████████████████████████████████| 4999/4999 [00:09<00:00, 518.45it/s]\n",
      "dppmapbd: cluster = 46 / 200\n",
      "100%|██████████████████████████████████████| 4999/4999 [00:09<00:00, 519.28it/s]\n",
      "dppmapbd: cluster = 47 / 200\n",
      "100%|██████████████████████████████████████| 4999/4999 [00:09<00:00, 520.13it/s]\n",
      "dppmapbd: cluster = 48 / 200\n",
      "100%|██████████████████████████████████████| 4999/4999 [00:09<00:00, 534.16it/s]\n",
      "dppmapbd: cluster = 49 / 200\n",
      "100%|██████████████████████████████████████| 4999/4999 [00:09<00:00, 529.09it/s]\n",
      "dppmapbd: cluster = 50 / 200\n",
      "100%|██████████████████████████████████████| 4999/4999 [00:10<00:00, 485.94it/s]\n",
      "dppmapbd: cluster = 51 / 200\n",
      "100%|██████████████████████████████████████| 4999/4999 [00:09<00:00, 539.44it/s]\n",
      "dppmapbd: cluster = 52 / 200\n",
      "100%|██████████████████████████████████████| 4999/4999 [00:09<00:00, 552.24it/s]\n",
      "dppmapbd: cluster = 53 / 200\n",
      "100%|██████████████████████████████████████| 4999/4999 [00:08<00:00, 561.88it/s]\n",
      "dppmapbd: cluster = 54 / 200\n",
      "100%|██████████████████████████████████████| 4999/4999 [00:08<00:00, 587.75it/s]\n",
      "dppmapbd: cluster = 55 / 200\n",
      "100%|██████████████████████████████████████| 4999/4999 [00:09<00:00, 549.86it/s]\n",
      "dppmapbd: cluster = 56 / 200\n",
      "100%|██████████████████████████████████████| 4999/4999 [00:09<00:00, 529.04it/s]\n",
      "dppmapbd: cluster = 57 / 200\n",
      "100%|██████████████████████████████████████| 4999/4999 [00:08<00:00, 588.16it/s]\n",
      "dppmapbd: cluster = 58 / 200\n",
      "100%|██████████████████████████████████████| 4999/4999 [00:10<00:00, 499.61it/s]\n",
      "dppmapbd: cluster = 59 / 200\n",
      "100%|██████████████████████████████████████| 4999/4999 [00:09<00:00, 526.02it/s]\n",
      "dppmapbd: cluster = 60 / 200\n",
      "100%|██████████████████████████████████████| 4999/4999 [00:09<00:00, 550.14it/s]\n",
      "dppmapbd: cluster = 61 / 200\n",
      "100%|██████████████████████████████████████| 4999/4999 [00:08<00:00, 569.27it/s]\n",
      "dppmapbd: cluster = 62 / 200\n",
      "100%|██████████████████████████████████████| 4999/4999 [00:09<00:00, 530.06it/s]\n",
      "dppmapbd: cluster = 63 / 200\n",
      "100%|██████████████████████████████████████| 4999/4999 [00:09<00:00, 514.09it/s]\n",
      "dppmapbd: cluster = 64 / 200\n",
      "100%|██████████████████████████████████████| 4999/4999 [00:08<00:00, 567.35it/s]\n",
      "dppmapbd: cluster = 65 / 200\n",
      "100%|██████████████████████████████████████| 4999/4999 [00:09<00:00, 513.53it/s]\n",
      "dppmapbd: cluster = 66 / 200\n",
      "100%|██████████████████████████████████████| 4999/4999 [00:08<00:00, 587.27it/s]\n",
      "dppmapbd: cluster = 67 / 200\n",
      "100%|██████████████████████████████████████| 4999/4999 [00:09<00:00, 542.21it/s]\n",
      "dppmapbd: cluster = 68 / 200\n",
      "100%|██████████████████████████████████████| 4999/4999 [00:09<00:00, 545.09it/s]\n",
      "dppmapbd: cluster = 69 / 200\n",
      "100%|██████████████████████████████████████| 4999/4999 [00:09<00:00, 529.92it/s]\n",
      "dppmapbd: cluster = 70 / 200\n",
      "100%|██████████████████████████████████████| 4999/4999 [00:08<00:00, 567.49it/s]\n",
      "dppmapbd: cluster = 71 / 200\n",
      "100%|██████████████████████████████████████| 4999/4999 [00:09<00:00, 521.63it/s]\n",
      "dppmapbd: cluster = 72 / 200\n",
      "100%|██████████████████████████████████████| 4999/4999 [00:09<00:00, 553.96it/s]\n",
      "dppmapbd: cluster = 73 / 200\n",
      "100%|██████████████████████████████████████| 4999/4999 [00:09<00:00, 520.81it/s]\n",
      "dppmapbd: cluster = 74 / 200\n",
      "100%|██████████████████████████████████████| 4999/4999 [00:08<00:00, 555.64it/s]\n",
      "dppmapbd: cluster = 75 / 200\n",
      "100%|██████████████████████████████████████| 4999/4999 [00:08<00:00, 564.32it/s]\n",
      "dppmapbd: cluster = 76 / 200\n",
      "100%|██████████████████████████████████████| 4999/4999 [00:08<00:00, 592.95it/s]\n",
      "dppmapbd: cluster = 77 / 200\n",
      "100%|██████████████████████████████████████| 4999/4999 [00:09<00:00, 537.85it/s]\n",
      "dppmapbd: cluster = 78 / 200\n",
      "100%|██████████████████████████████████████| 4999/4999 [00:08<00:00, 567.94it/s]\n",
      "dppmapbd: cluster = 79 / 200\n",
      "100%|██████████████████████████████████████| 4999/4999 [00:09<00:00, 545.76it/s]\n",
      "dppmapbd: cluster = 80 / 200\n",
      "100%|██████████████████████████████████████| 4999/4999 [00:08<00:00, 595.82it/s]\n",
      "dppmapbd: cluster = 81 / 200\n",
      "100%|██████████████████████████████████████| 4999/4999 [00:08<00:00, 585.05it/s]\n",
      "dppmapbd: cluster = 82 / 200\n",
      "100%|██████████████████████████████████████| 4999/4999 [00:08<00:00, 605.70it/s]\n",
      "dppmapbd: cluster = 83 / 200\n",
      "100%|██████████████████████████████████████| 4999/4999 [00:08<00:00, 603.84it/s]\n",
      "dppmapbd: cluster = 84 / 200\n",
      "100%|██████████████████████████████████████| 4999/4999 [00:08<00:00, 601.31it/s]\n",
      "dppmapbd: cluster = 85 / 200\n",
      "100%|██████████████████████████████████████| 4999/4999 [00:07<00:00, 637.91it/s]\n",
      "dppmapbd: cluster = 86 / 200\n",
      "100%|██████████████████████████████████████| 4999/4999 [00:08<00:00, 621.37it/s]\n",
      "dppmapbd: cluster = 87 / 200\n",
      "100%|██████████████████████████████████████| 4999/4999 [00:07<00:00, 634.15it/s]\n",
      "dppmapbd: cluster = 88 / 200\n",
      "100%|██████████████████████████████████████| 4999/4999 [00:08<00:00, 620.04it/s]\n",
      "dppmapbd: cluster = 89 / 200\n",
      "100%|██████████████████████████████████████| 4999/4999 [00:07<00:00, 670.35it/s]\n",
      "dppmapbd: cluster = 90 / 200\n",
      "100%|██████████████████████████████████████| 4999/4999 [00:07<00:00, 677.23it/s]\n",
      "dppmapbd: cluster = 91 / 200\n",
      "100%|██████████████████████████████████████| 4999/4999 [00:07<00:00, 646.78it/s]\n",
      "dppmapbd: cluster = 92 / 200\n",
      "100%|██████████████████████████████████████| 4999/4999 [00:07<00:00, 703.97it/s]\n",
      "dppmapbd: cluster = 93 / 200\n",
      "100%|██████████████████████████████████████| 4999/4999 [00:07<00:00, 653.43it/s]\n",
      "dppmapbd: cluster = 94 / 200\n",
      "100%|██████████████████████████████████████| 4999/4999 [00:07<00:00, 626.91it/s]\n",
      "dppmapbd: cluster = 95 / 200\n",
      "100%|██████████████████████████████████████| 4999/4999 [00:08<00:00, 561.93it/s]\n",
      "dppmapbd: cluster = 96 / 200\n",
      "100%|██████████████████████████████████████| 4999/4999 [00:08<00:00, 568.41it/s]\n",
      "dppmapbd: cluster = 97 / 200\n",
      "100%|██████████████████████████████████████| 4999/4999 [00:07<00:00, 690.16it/s]\n",
      "dppmapbd: cluster = 98 / 200\n",
      "100%|██████████████████████████████████████| 4999/4999 [00:07<00:00, 654.45it/s]\n",
      "dppmapbd: cluster = 99 / 200\n",
      "100%|██████████████████████████████████████| 4999/4999 [00:07<00:00, 687.04it/s]\n",
      "dppmapbd: cluster = 100 / 200\n",
      "100%|██████████████████████████████████████| 4999/4999 [00:07<00:00, 695.80it/s]\n",
      "dppmapbd: cluster = 101 / 200\n",
      "100%|██████████████████████████████████████| 4999/4999 [00:08<00:00, 605.62it/s]\n",
      "dppmapbd: cluster = 102 / 200\n",
      "100%|██████████████████████████████████████| 4999/4999 [00:07<00:00, 713.38it/s]\n",
      "dppmapbd: cluster = 103 / 200\n",
      "100%|██████████████████████████████████████| 4999/4999 [00:07<00:00, 701.51it/s]\n",
      "dppmapbd: cluster = 104 / 200\n",
      "100%|██████████████████████████████████████| 4999/4999 [00:06<00:00, 718.70it/s]\n",
      "dppmapbd: cluster = 105 / 200\n",
      "100%|██████████████████████████████████████| 4999/4999 [00:06<00:00, 750.30it/s]\n",
      "dppmapbd: cluster = 106 / 200\n",
      "100%|██████████████████████████████████████| 4999/4999 [00:07<00:00, 706.88it/s]\n",
      "dppmapbd: cluster = 107 / 200\n",
      "100%|██████████████████████████████████████| 4999/4999 [00:06<00:00, 717.97it/s]\n",
      "dppmapbd: cluster = 108 / 200\n",
      "100%|██████████████████████████████████████| 4999/4999 [00:07<00:00, 670.46it/s]\n",
      "dppmapbd: cluster = 109 / 200\n",
      "100%|██████████████████████████████████████| 4999/4999 [00:07<00:00, 712.74it/s]\n",
      "dppmapbd: cluster = 110 / 200\n",
      "100%|██████████████████████████████████████| 4999/4999 [00:06<00:00, 749.62it/s]\n",
      "dppmapbd: cluster = 111 / 200\n",
      "100%|██████████████████████████████████████| 4999/4999 [00:06<00:00, 744.14it/s]\n",
      "dppmapbd: cluster = 112 / 200\n",
      "100%|██████████████████████████████████████| 4999/4999 [00:06<00:00, 738.27it/s]\n",
      "dppmapbd: cluster = 113 / 200\n",
      "100%|██████████████████████████████████████| 4999/4999 [00:06<00:00, 812.03it/s]\n",
      "dppmapbd: cluster = 114 / 200\n",
      "100%|██████████████████████████████████████| 4999/4999 [00:05<00:00, 835.67it/s]\n",
      "dppmapbd: cluster = 115 / 200\n",
      "100%|██████████████████████████████████████| 4999/4999 [00:06<00:00, 802.89it/s]\n",
      "dppmapbd: cluster = 116 / 200\n",
      "100%|██████████████████████████████████████| 4999/4999 [00:06<00:00, 752.22it/s]\n",
      "dppmapbd: cluster = 117 / 200\n",
      "100%|██████████████████████████████████████| 4999/4999 [00:06<00:00, 722.14it/s]\n",
      "dppmapbd: cluster = 118 / 200\n",
      "100%|██████████████████████████████████████| 4999/4999 [00:06<00:00, 796.45it/s]\n",
      "dppmapbd: cluster = 119 / 200\n",
      "100%|██████████████████████████████████████| 4999/4999 [00:06<00:00, 815.95it/s]\n",
      "dppmapbd: cluster = 120 / 200\n",
      "100%|██████████████████████████████████████| 4999/4999 [00:06<00:00, 797.71it/s]\n",
      "dppmapbd: cluster = 121 / 200\n",
      "100%|██████████████████████████████████████| 4999/4999 [00:06<00:00, 798.03it/s]\n",
      "dppmapbd: cluster = 122 / 200\n",
      "100%|██████████████████████████████████████| 4999/4999 [00:06<00:00, 798.08it/s]\n",
      "dppmapbd: cluster = 123 / 200\n",
      "100%|██████████████████████████████████████| 4999/4999 [00:06<00:00, 817.70it/s]\n",
      "dppmapbd: cluster = 124 / 200\n",
      "100%|██████████████████████████████████████| 4999/4999 [00:06<00:00, 816.88it/s]\n",
      "dppmapbd: cluster = 125 / 200\n",
      "100%|██████████████████████████████████████| 4999/4999 [00:06<00:00, 821.17it/s]\n",
      "dppmapbd: cluster = 126 / 200\n",
      "100%|██████████████████████████████████████| 4999/4999 [00:06<00:00, 775.58it/s]\n",
      "dppmapbd: cluster = 127 / 200\n",
      "100%|██████████████████████████████████████| 4999/4999 [00:05<00:00, 849.12it/s]\n",
      "dppmapbd: cluster = 128 / 200\n",
      "100%|██████████████████████████████████████| 4999/4999 [00:06<00:00, 818.96it/s]\n",
      "dppmapbd: cluster = 129 / 200\n",
      "100%|██████████████████████████████████████| 4999/4999 [00:06<00:00, 801.48it/s]\n",
      "dppmapbd: cluster = 130 / 200\n",
      "100%|██████████████████████████████████████| 4999/4999 [00:05<00:00, 856.57it/s]\n",
      "dppmapbd: cluster = 131 / 200\n",
      "100%|██████████████████████████████████████| 4999/4999 [00:06<00:00, 819.56it/s]\n",
      "dppmapbd: cluster = 132 / 200\n",
      "100%|██████████████████████████████████████| 4999/4999 [00:05<00:00, 877.24it/s]\n",
      "dppmapbd: cluster = 133 / 200\n",
      "100%|██████████████████████████████████████| 4999/4999 [00:05<00:00, 886.91it/s]\n",
      "dppmapbd: cluster = 134 / 200\n",
      "100%|██████████████████████████████████████| 4999/4999 [00:05<00:00, 889.16it/s]\n",
      "dppmapbd: cluster = 135 / 200\n",
      "100%|██████████████████████████████████████| 4999/4999 [00:05<00:00, 924.07it/s]\n",
      "dppmapbd: cluster = 136 / 200\n",
      "100%|██████████████████████████████████████| 4999/4999 [00:05<00:00, 929.28it/s]\n",
      "dppmapbd: cluster = 137 / 200\n"
     ]
    },
    {
     "name": "stdout",
     "output_type": "stream",
     "text": [
      "100%|██████████████████████████████████████| 4999/4999 [00:05<00:00, 983.96it/s]\n",
      "dppmapbd: cluster = 138 / 200\n",
      "100%|██████████████████████████████████████| 4999/4999 [00:05<00:00, 929.66it/s]\n",
      "dppmapbd: cluster = 139 / 200\n",
      "100%|██████████████████████████████████████| 4999/4999 [00:05<00:00, 919.07it/s]\n",
      "dppmapbd: cluster = 140 / 200\n",
      "100%|██████████████████████████████████████| 4999/4999 [00:05<00:00, 935.98it/s]\n",
      "dppmapbd: cluster = 141 / 200\n",
      "100%|█████████████████████████████████████| 4999/4999 [00:04<00:00, 1027.73it/s]\n",
      "dppmapbd: cluster = 142 / 200\n",
      "100%|██████████████████████████████████████| 4999/4999 [00:05<00:00, 911.80it/s]\n",
      "dppmapbd: cluster = 143 / 200\n",
      "100%|██████████████████████████████████████| 4999/4999 [00:05<00:00, 921.70it/s]\n",
      "dppmapbd: cluster = 144 / 200\n",
      "100%|██████████████████████████████████████| 4999/4999 [00:05<00:00, 928.13it/s]\n",
      "dppmapbd: cluster = 145 / 200\n",
      "100%|██████████████████████████████████████| 4999/4999 [00:05<00:00, 964.89it/s]\n",
      "dppmapbd: cluster = 146 / 200\n",
      "100%|█████████████████████████████████████| 4999/4999 [00:04<00:00, 1090.26it/s]\n",
      "dppmapbd: cluster = 147 / 200\n",
      "100%|██████████████████████████████████████| 4999/4999 [00:06<00:00, 804.54it/s]\n",
      "dppmapbd: cluster = 148 / 200\n",
      "100%|█████████████████████████████████████| 4999/4999 [00:04<00:00, 1033.02it/s]\n",
      "dppmapbd: cluster = 149 / 200\n",
      "100%|██████████████████████████████████████| 4999/4999 [00:05<00:00, 966.34it/s]\n",
      "dppmapbd: cluster = 150 / 200\n",
      "100%|██████████████████████████████████████| 4999/4999 [00:05<00:00, 939.34it/s]\n",
      "dppmapbd: cluster = 151 / 200\n",
      "100%|█████████████████████████████████████| 4999/4999 [00:04<00:00, 1000.21it/s]\n",
      "dppmapbd: cluster = 152 / 200\n",
      "100%|██████████████████████████████████████| 4999/4999 [00:05<00:00, 971.84it/s]\n",
      "dppmapbd: cluster = 153 / 200\n",
      "100%|██████████████████████████████████████| 4999/4999 [00:05<00:00, 985.93it/s]\n",
      "dppmapbd: cluster = 154 / 200\n",
      "100%|██████████████████████████████████████| 4999/4999 [00:05<00:00, 933.08it/s]\n",
      "dppmapbd: cluster = 155 / 200\n",
      " 99%|█████████████████████████████████████▋| 4954/4999 [00:05<00:00, 438.96it/s]Stop on dᵢ^2 = -1.1599603499945488e-09. len(inds)=4975 / 5359\n",
      " 99%|█████████████████████████████████████▊| 4974/4999 [00:05<00:00, 926.67it/s]\n",
      "dppmapbd: cluster = 156 / 200\n",
      "100%|█████████████████████████████████████| 4999/4999 [00:04<00:00, 1006.39it/s]\n",
      "dppmapbd: cluster = 157 / 200\n",
      "100%|██████████████████████████████████████| 4999/4999 [00:05<00:00, 937.61it/s]\n",
      "dppmapbd: cluster = 158 / 200\n",
      "100%|██████████████████████████████████████| 4999/4999 [00:05<00:00, 974.12it/s]\n",
      "dppmapbd: cluster = 159 / 200\n",
      "100%|██████████████████████████████████████| 4999/4999 [00:05<00:00, 978.14it/s]\n",
      "dppmapbd: cluster = 160 / 200\n",
      "100%|██████████████████████████████████████| 4999/4999 [00:05<00:00, 979.51it/s]\n",
      "dppmapbd: cluster = 161 / 200\n",
      " 99%|█████████████████████████████████████▌| 4906/4971 [00:04<00:00, 593.57it/s]Stop on dᵢ^2 = -4.485334059722845e-08. len(inds)=4920 / 4972\n",
      " 99%|████████████████████████████████████▌| 4919/4971 [00:04<00:00, 1191.79it/s]\n",
      "dppmapbd: cluster = 162 / 200\n",
      " 99%|█████████████████████████████████████▍| 4882/4951 [00:04<00:00, 535.80it/s]Stop on dᵢ^2 = -1.0882927625743832e-07. len(inds)=4925 / 4952\n",
      " 99%|████████████████████████████████████▊| 4924/4951 [00:04<00:00, 1138.06it/s]\n",
      "dppmapbd: cluster = 163 / 200\n",
      " 99%|█████████████████████████████████████▌| 4878/4935 [00:04<00:00, 540.73it/s]Stop on dᵢ^2 = -2.2945760846937446e-08. len(inds)=4887 / 4936\n",
      " 99%|████████████████████████████████████▋| 4886/4935 [00:04<00:00, 1174.88it/s]\n",
      "dppmapbd: cluster = 164 / 200\n",
      " 99%|█████████████████████████████████████▊| 4819/4849 [00:04<00:00, 577.21it/s]Stop on dᵢ^2 = -4.4754081329756445e-08. len(inds)=4823 / 4850\n",
      " 99%|████████████████████████████████████▊| 4822/4849 [00:04<00:00, 1169.41it/s]\n",
      "dppmapbd: cluster = 165 / 200\n",
      " 98%|█████████████████████████████████████▏| 4746/4842 [00:04<00:00, 565.02it/s]Stop on dᵢ^2 = -1.029581824241177e-07. len(inds)=4796 / 4843\n",
      " 99%|████████████████████████████████████▋| 4795/4842 [00:04<00:00, 1169.49it/s]\n",
      "dppmapbd: cluster = 166 / 200\n",
      " 99%|█████████████████████████████████████▍| 4775/4840 [00:03<00:00, 583.89it/s]Stop on dᵢ^2 = -4.4746947480689414e-08. len(inds)=4824 / 4841\n",
      "100%|████████████████████████████████████▊| 4823/4840 [00:04<00:00, 1187.37it/s]\n",
      "dppmapbd: cluster = 167 / 200\n",
      " 98%|█████████████████████████████████████▎| 4744/4827 [00:04<00:00, 570.64it/s]Stop on dᵢ^2 = -1.997487245053442e-11. len(inds)=4799 / 4828\n",
      " 99%|████████████████████████████████████▊| 4798/4827 [00:04<00:00, 1165.67it/s]\n",
      "dppmapbd: cluster = 168 / 200\n",
      " 98%|█████████████████████████████████████▎| 4604/4681 [00:03<00:00, 678.21it/s]Stop on dᵢ^2 = -9.638119635724252e-09. len(inds)=4655 / 4682\n",
      " 99%|████████████████████████████████████▊| 4654/4681 [00:03<00:00, 1329.13it/s]\n",
      "dppmapbd: cluster = 169 / 200\n",
      " 97%|████████████████████████████████████▉ | 4544/4678 [00:03<00:00, 633.55it/s]Stop on dᵢ^2 = -3.8377370970010816e-07. len(inds)=4602 / 4679\n",
      " 98%|████████████████████████████████████▍| 4601/4678 [00:03<00:00, 1288.11it/s]\n",
      "dppmapbd: cluster = 170 / 200\n",
      " 99%|█████████████████████████████████████▊| 4602/4628 [00:03<00:00, 646.05it/s]Stop on dᵢ^2 = -6.501788334389857e-07. len(inds)=4618 / 4629\n",
      "100%|████████████████████████████████████▉| 4617/4628 [00:03<00:00, 1287.33it/s]\n",
      "dppmapbd: cluster = 171 / 200\n",
      " 98%|█████████████████████████████████████▎| 4420/4500 [00:03<00:00, 736.65it/s]Stop on dᵢ^2 = -4.857409408032254e-08. len(inds)=4482 / 4501\n",
      "100%|████████████████████████████████████▊| 4481/4500 [00:03<00:00, 1396.77it/s]\n",
      "dppmapbd: cluster = 172 / 200\n",
      " 97%|█████████████████████████████████████ | 4373/4491 [00:02<00:00, 769.16it/s]Stop on dᵢ^2 = -2.9842688320513844e-08. len(inds)=4446 / 4492\n",
      " 99%|████████████████████████████████████▌| 4445/4491 [00:03<00:00, 1437.88it/s]\n",
      "dppmapbd: cluster = 173 / 200\n",
      " 97%|████████████████████████████████████▉ | 4201/4325 [00:02<00:00, 862.91it/s]Stop on dᵢ^2 = -5.727238683306268e-10. len(inds)=4283 / 4326\n",
      " 99%|████████████████████████████████████▋| 4282/4325 [00:02<00:00, 1497.16it/s]\n",
      "dppmapbd: cluster = 174 / 200\n",
      " 99%|█████████████████████████████████████▌| 4271/4318 [00:02<00:00, 844.22it/s]Stop on dᵢ^2 = -5.97891087750213e-08. len(inds)=4297 / 4319\n",
      " 99%|████████████████████████████████████▊| 4296/4318 [00:02<00:00, 1537.51it/s]\n",
      "dppmapbd: cluster = 175 / 200\n",
      " 96%|████████████████████████████████████▌ | 4154/4312 [00:02<00:00, 955.80it/s]Stop on dᵢ^2 = -2.8054387257725466e-08. len(inds)=4246 / 4313\n",
      " 98%|████████████████████████████████████▍| 4245/4312 [00:02<00:00, 1620.01it/s]\n",
      "dppmapbd: cluster = 176 / 200\n",
      "100%|████████████████████████████████████▉| 4218/4231 [00:02<00:00, 1054.82it/s]Stop on dᵢ^2 = -2.087866732836119e-07. len(inds)=4229 / 4232\n",
      "100%|████████████████████████████████████▉| 4228/4231 [00:02<00:00, 1721.85it/s]\n",
      "dppmapbd: cluster = 177 / 200\n",
      " 99%|█████████████████████████████████████▍| 4147/4203 [00:02<00:00, 914.82it/s]Stop on dᵢ^2 = -7.809325963670233e-10. len(inds)=4170 / 4204\n",
      " 99%|████████████████████████████████████▋| 4169/4203 [00:02<00:00, 1582.58it/s]\n",
      "dppmapbd: cluster = 178 / 200\n",
      " 99%|█████████████████████████████████████▌| 4159/4201 [00:02<00:00, 894.34it/s]Stop on dᵢ^2 = -2.984801028560469e-08. len(inds)=4161 / 4202\n",
      " 99%|████████████████████████████████████▋| 4160/4201 [00:02<00:00, 1581.89it/s]\n",
      "dppmapbd: cluster = 179 / 200\n",
      " 97%|████████████████████████████████████▊ | 4028/4158 [00:02<00:00, 998.63it/s]Stop on dᵢ^2 = -4.761118361784611e-07. len(inds)=4129 / 4159\n",
      " 99%|████████████████████████████████████▋| 4128/4158 [00:02<00:00, 1639.30it/s]\n",
      "dppmapbd: cluster = 180 / 200\n",
      " 97%|█████████████████████████████████████ | 4049/4156 [00:02<00:00, 936.85it/s]Stop on dᵢ^2 = -2.8209123925648782e-08. len(inds)=4120 / 4157\n",
      " 99%|████████████████████████████████████▋| 4119/4156 [00:02<00:00, 1584.53it/s]\n",
      "dppmapbd: cluster = 181 / 200\n",
      " 99%|█████████████████████████████████████▌| 4072/4124 [00:02<00:00, 980.45it/s]Stop on dᵢ^2 = -8.992007138886038e-08. len(inds)=4112 / 4125\n",
      "100%|████████████████████████████████████▉| 4111/4124 [00:02<00:00, 1626.01it/s]\n",
      "dppmapbd: cluster = 182 / 200\n",
      " 99%|█████████████████████████████████████▌| 4049/4095 [00:03<00:00, 682.31it/s]Stop on dᵢ^2 = -1.235094058277264e-11. len(inds)=4063 / 4096\n",
      " 99%|████████████████████████████████████▋| 4062/4095 [00:03<00:00, 1322.41it/s]\n",
      "dppmapbd: cluster = 183 / 200\n"
     ]
    },
    {
     "name": "stdout",
     "output_type": "stream",
     "text": [
      " 97%|████████████████████████████████████ | 3891/3993 [00:02<00:00, 1151.30it/s]Stop on dᵢ^2 = -7.52173008322643e-08. len(inds)=3953 / 3994\n",
      " 99%|████████████████████████████████████▌| 3952/3993 [00:02<00:00, 1791.86it/s]\n",
      "dppmapbd: cluster = 184 / 200\n",
      " 97%|███████████████████████████████████▊ | 3809/3942 [00:02<00:00, 1081.79it/s]Stop on dᵢ^2 = -2.8949008523682096e-08. len(inds)=3905 / 3943\n",
      " 99%|████████████████████████████████████▋| 3904/3942 [00:02<00:00, 1665.21it/s]\n",
      "dppmapbd: cluster = 185 / 200\n",
      " 98%|████████████████████████████████████▏| 3788/3873 [00:02<00:00, 1216.97it/s]Stop on dᵢ^2 = -1.6469194008550403e-07. len(inds)=3865 / 3874\n",
      "100%|████████████████████████████████████▉| 3864/3873 [00:02<00:00, 1769.16it/s]\n",
      "dppmapbd: cluster = 186 / 200\n",
      " 97%|███████████████████████████████████▊ | 3507/3629 [00:01<00:00, 1696.16it/s]Stop on dᵢ^2 = -8.911991500326621e-08. len(inds)=3620 / 3630\n",
      "100%|████████████████████████████████████▉| 3619/3629 [00:01<00:00, 2073.98it/s]\n",
      "dppmapbd: cluster = 187 / 200\n",
      " 97%|███████████████████████████████████▊ | 3501/3618 [00:01<00:00, 1649.80it/s]Stop on dᵢ^2 = -3.088993949518226e-08. len(inds)=3609 / 3619\n",
      "100%|████████████████████████████████████▉| 3608/3618 [00:01<00:00, 2059.31it/s]\n",
      "dppmapbd: cluster = 188 / 200\n",
      " 99%|████████████████████████████████████▊| 3450/3469 [00:01<00:00, 1648.52it/s]Stop on dᵢ^2 = -4.473240835523029e-07. len(inds)=3463 / 3470\n",
      "100%|████████████████████████████████████▉| 3462/3469 [00:01<00:00, 2070.10it/s]\n",
      "dppmapbd: cluster = 189 / 200\n",
      " 99%|████████████████████████████████████▋| 3399/3426 [00:01<00:00, 1886.85it/s]Stop on dᵢ^2 = -2.536621934723371e-07. len(inds)=3424 / 3427\n",
      "100%|████████████████████████████████████▉| 3423/3426 [00:01<00:00, 2224.63it/s]\n",
      "dppmapbd: cluster = 190 / 200\n",
      " 94%|██████████████████████████████████▉  | 3105/3286 [00:01<00:00, 1978.25it/s]Stop on dᵢ^2 = -4.436135903063132e-10. len(inds)=3272 / 3287\n",
      "100%|████████████████████████████████████▊| 3271/3286 [00:01<00:00, 2195.49it/s]\n",
      "dppmapbd: cluster = 191 / 200\n",
      " 93%|██████████████████████████████████▌  | 2981/3191 [00:01<00:00, 2155.44it/s]Stop on dᵢ^2 = -1.9092075143056775e-10. len(inds)=3028 / 3192\n",
      " 95%|███████████████████████████████████  | 3027/3191 [00:01<00:00, 2341.65it/s]\n",
      "dppmapbd: cluster = 192 / 200\n",
      " 94%|██████████████████████████████████▋  | 2964/3166 [00:01<00:00, 2071.82it/s]Stop on dᵢ^2 = -1.9664909700622957e-08. len(inds)=3157 / 3167\n",
      "100%|████████████████████████████████████▉| 3156/3166 [00:01<00:00, 2263.67it/s]\n",
      "dppmapbd: cluster = 193 / 200\n",
      " 96%|███████████████████████████████████▌ | 2953/3071 [00:01<00:00, 2029.90it/s]Stop on dᵢ^2 = -2.268686039030854e-08. len(inds)=3057 / 3072\n",
      "100%|████████████████████████████████████▊| 3056/3071 [00:01<00:00, 2266.23it/s]\n",
      "dppmapbd: cluster = 194 / 200\n",
      " 95%|███████████████████████████████████  | 2782/2936 [00:01<00:00, 2166.90it/s]Stop on dᵢ^2 = -2.245938368616862e-08. len(inds)=2932 / 2937\n",
      "100%|████████████████████████████████████▉| 2931/2936 [00:01<00:00, 2338.75it/s]\n",
      "dppmapbd: cluster = 195 / 200\n",
      " 97%|███████████████████████████████████▋ | 2321/2403 [00:00<00:00, 2437.74it/s]Stop on dᵢ^2 = -2.2581192027359975e-08. len(inds)=2344 / 2404\n",
      " 98%|████████████████████████████████████ | 2343/2403 [00:00<00:00, 2506.36it/s]\n",
      "dppmapbd: cluster = 196 / 200\n",
      " 96%|███████████████████████████████████▍ | 2201/2298 [00:00<00:00, 2532.77it/s]Stop on dᵢ^2 = -1.508664659866099e-08. len(inds)=2258 / 2299\n",
      " 98%|████████████████████████████████████▎| 2257/2298 [00:00<00:00, 2627.28it/s]\n",
      "dppmapbd: cluster = 197 / 200\n",
      " 91%|█████████████████████████████████▌   | 1918/2112 [00:00<00:00, 2607.43it/s]Stop on dᵢ^2 = -6.751676995264688e-11. len(inds)=2081 / 2113\n",
      " 98%|████████████████████████████████████▍| 2080/2112 [00:00<00:00, 2643.25it/s]\n",
      "dppmapbd: cluster = 198 / 200\n",
      " 98%|████████████████████████████████████▎| 1954/1988 [00:00<00:00, 2657.26it/s]Stop on dᵢ^2 = -3.003679083235511e-08. len(inds)=1986 / 1989\n",
      "100%|████████████████████████████████████▉| 1985/1988 [00:00<00:00, 2711.18it/s]\n",
      "dppmapbd: cluster = 199 / 200\n",
      " 92%|██████████████████████████████████▏  | 1708/1847 [00:00<00:00, 2566.39it/s]Stop on dᵢ^2 = -2.990376657407978e-08. len(inds)=1814 / 1848\n",
      " 98%|████████████████████████████████████▎| 1813/1847 [00:00<00:00, 2650.35it/s]\n",
      "Rank datapoints with dppmapbd_nc=200_k=vmf_gamma=1.0_kmd=mpnet took 1556.99 seconds.\n",
      "save inds (length = 1461456) to /gpfs/u/home/PTFM/PTFMqngp/scratch/github/mitibm2023/external/open-instruct/scripts/data_inds/all-mpnet-base-v2/ultrachat15/dppmapbd_nc=200_k=vmf_gamma=1.0_kmd=mpnet_incr.pkl\n",
      "save inds (length = 1461456) to /gpfs/u/home/PTFM/PTFMqngp/scratch/github/mitibm2023/external/open-instruct/scripts/data_inds/all-mpnet-base-v2/ultrachat15/dppmapbd_nc=200_k=vmf_gamma=1.0_kmd=mpnet_decr.pkl\n"
     ]
    }
   ],
   "source": [
    "!CUDA_VISIBLE_DEVICES=1 python note_pruning.py --dataset ultrachat15 --sort_by dppmapbd_nc=200_k=vmf_gamma=1.0_kmd=mpnet --model_name all-mpnet-base-v2 --encode_fn_type input --save_dir /gpfs/u/home/PTFM/PTFMqngp/scratch/github/mitibm2023/external/open-instruct/scripts/data_inds/all-mpnet-base-v2/ultrachat15\n"
   ]
  },
  {
   "cell_type": "code",
   "execution_count": null,
   "id": "160a7b13",
   "metadata": {},
   "outputs": [],
   "source": [
    "with open('note_pruning_run_cmds.sh', 'w') as f:\n",
    "    s = 'set -e\\nset -x\\n'\n",
    "    devices = os.environ['CUDA_VISIBLE_DEVICES']\n",
    "    devices = 1\n",
    "    s += '\\n\\n'.join([f\"CUDA_VISIBLE_DEVICES={devices} \"+x for x in cmds])\n",
    "    f.write(s)"
   ]
  },
  {
   "cell_type": "markdown",
   "id": "3363aa87",
   "metadata": {},
   "source": [
    "### Generate curriculum from pre-computed scores (via `note_pruning.py`)"
   ]
  },
  {
   "cell_type": "code",
   "execution_count": 60,
   "id": "2a25a293",
   "metadata": {
    "scrolled": true
   },
   "outputs": [
    {
     "name": "stdout",
     "output_type": "stream",
     "text": [
      "save inds (length = 400000) to curriculum/mistral-7b+lora:r=256:a=256/ultrachat15/numtoks_input/inds_prune_size=400000_ep=2.pkl\n",
      "save inds (length = 400000) to curriculum/mistral-7b+lora:r=256:a=256/ultrachat15/numtoks_total_neg/inds_prune_size=400000_ep=2.pkl\n",
      "save inds (length = 400000) to curriculum/mistral-7b+lora:r=256:a=256/ultrachat15/semdedup_cl=kmeansfaisscd_md=mistral7b_dist=cd_emb=grad+rp+loraB_nc=500/inds_prune_size=400000_ep=2.pkl\n",
      "save inds (length = 400000) to curriculum/mistral-7b+lora:r=256:a=256/ultrachat15/numtoks_input_neg/inds_prune_size=400000_ep=2.pkl\n",
      "save inds (length = 400000) to curriculum/mistral-7b+lora:r=256:a=256/ultrachat15/el2n_agg=mean_neg/inds_prune_size=400000_ep=2.pkl\n",
      "save inds (length = 400000) to curriculum/mistral-7b+lora:r=256:a=256/ultrachat15/semdedup_cl=kmeansfaisscd_md=mistral7b_dist=cd_emb=grad+rp+loraB_nc=600_neg/inds_prune_size=400000_ep=2.pkl\n",
      "save inds (length = 400000) to curriculum/mistral-7b+lora:r=256:a=256/ultrachat15/semdedup_cl=kmeansfaisscd_md=mistral7b_dist=cd_emb=text+embedding_nc=500/inds_prune_size=400000_ep=2.pkl\n",
      "save inds (length = 400000) to curriculum/mistral-7b+lora:r=256:a=256/ultrachat15/logit_margin_neg/inds_prune_size=400000_ep=2.pkl\n",
      "save inds (length = 400000) to curriculum/mistral-7b+lora:r=256:a=256/ultrachat15/random_s=0_neg/inds_prune_size=400000_ep=2.pkl\n",
      "save inds (length = 400000) to curriculum/mistral-7b+lora:r=256:a=256/ultrachat15/numtoks_output/inds_prune_size=400000_ep=2.pkl\n",
      "save inds (length = 400000) to curriculum/mistral-7b+lora:r=256:a=256/ultrachat15/logit_margin/inds_prune_size=400000_ep=2.pkl\n",
      "save inds (length = 400000) to curriculum/mistral-7b+lora:r=256:a=256/ultrachat15/semdedup_cl=kmeansfaisscd_md=mistral7b_dist=cd_emb=text+embedding_nc=600/inds_prune_size=400000_ep=2.pkl\n",
      "save inds (length = 400000) to curriculum/mistral-7b+lora:r=256:a=256/ultrachat15/semdedup_cl=kmeansfaisscd_md=mistral7b_dist=cd_emb=text+embedding_nc=400/inds_prune_size=400000_ep=2.pkl\n",
      "save inds (length = 400000) to curriculum/mistral-7b+lora:r=256:a=256/ultrachat15/semdedup_cl=kmeansfaisscd_md=mistral7b_dist=cd_emb=text+embedding_nc=100_neg/inds_prune_size=400000_ep=2.pkl\n",
      "save inds (length = 400000) to curriculum/mistral-7b+lora:r=256:a=256/ultrachat15/semdedup_cl=kmeansfaisscd_md=mistral7b_dist=cd_emb=grad+rp+loraB_nc=500_neg/inds_prune_size=400000_ep=2.pkl\n",
      "save inds (length = 400000) to curriculum/mistral-7b+lora:r=256:a=256/ultrachat15/el2n_agg=mean/inds_prune_size=400000_ep=2.pkl\n",
      "save inds (length = 400000) to curriculum/mistral-7b+lora:r=256:a=256/ultrachat15/semdedup_cl=kmeansfaisscd_md=mistral7b_dist=cd_emb=text+embedding_nc=200/inds_prune_size=400000_ep=2.pkl\n",
      "save inds (length = 400000) to curriculum/mistral-7b+lora:r=256:a=256/ultrachat15/semdedup_cl=kmeansfaisscd_md=mistral7b_dist=cd_emb=text+embedding_nc=200_neg/inds_prune_size=400000_ep=2.pkl\n",
      "save inds (length = 400000) to curriculum/mistral-7b+lora:r=256:a=256/ultrachat15/random_s=2_neg/inds_prune_size=400000_ep=2.pkl\n",
      "save inds (length = 400000) to curriculum/mistral-7b+lora:r=256:a=256/ultrachat15/semdedup_cl=kmeansfaisscd_md=mistral7b_dist=cd_emb=grad+rp+loraB_nc=300_neg/inds_prune_size=400000_ep=2.pkl\n",
      "save inds (length = 400000) to curriculum/mistral-7b+lora:r=256:a=256/ultrachat15/numtoks_output_neg/inds_prune_size=400000_ep=2.pkl\n",
      "save inds (length = 400000) to curriculum/mistral-7b+lora:r=256:a=256/ultrachat15/semdedup_cl=kmeansfaisscd_md=mistral7b_dist=cd_emb=grad+rp+loraB_nc=600/inds_prune_size=400000_ep=2.pkl\n",
      "save inds (length = 400000) to curriculum/mistral-7b+lora:r=256:a=256/ultrachat15/semdedup_cl=kmeansfaisscd_md=mistral7b_dist=cd_emb=grad+rp+loraB_nc=300/inds_prune_size=400000_ep=2.pkl\n",
      "save inds (length = 400000) to curriculum/mistral-7b+lora:r=256:a=256/ultrachat15/random_s=1/inds_prune_size=400000_ep=2.pkl\n",
      "save inds (length = 400000) to curriculum/mistral-7b+lora:r=256:a=256/ultrachat15/log_prob_neg/inds_prune_size=400000_ep=2.pkl\n",
      "save inds (length = 400000) to curriculum/mistral-7b+lora:r=256:a=256/ultrachat15/random_s=2/inds_prune_size=400000_ep=2.pkl\n",
      "save inds (length = 400000) to curriculum/mistral-7b+lora:r=256:a=256/ultrachat15/semdedup_cl=kmeansfaisscd_md=mistral7b_dist=cd_emb=text+embedding_nc=100/inds_prune_size=400000_ep=2.pkl\n",
      "save inds (length = 400000) to curriculum/mistral-7b+lora:r=256:a=256/ultrachat15/numtoks_total/inds_prune_size=400000_ep=2.pkl\n",
      "save inds (length = 400000) to curriculum/mistral-7b+lora:r=256:a=256/ultrachat15/semdedup_cl=kmeansfaisscd_md=mistral7b_dist=cd_emb=text+embedding_nc=300/inds_prune_size=400000_ep=2.pkl\n",
      "save inds (length = 400000) to curriculum/mistral-7b+lora:r=256:a=256/ultrachat15/grad_loraB_l2n/inds_prune_size=400000_ep=2.pkl\n",
      "save inds (length = 400000) to curriculum/mistral-7b+lora:r=256:a=256/ultrachat15/grad_loraB_l2n_neg/inds_prune_size=400000_ep=2.pkl\n",
      "save inds (length = 400000) to curriculum/mistral-7b+lora:r=256:a=256/ultrachat15/log_prob/inds_prune_size=400000_ep=2.pkl\n",
      "save inds (length = 400000) to curriculum/mistral-7b+lora:r=256:a=256/ultrachat15/semdedup_cl=kmeansfaisscd_md=mistral7b_dist=cd_emb=grad+rp+loraB_nc=400_neg/inds_prune_size=400000_ep=2.pkl\n",
      "save inds (length = 400000) to curriculum/mistral-7b+lora:r=256:a=256/ultrachat15/semdedup_cl=kmeansfaisscd_md=mistral7b_dist=cd_emb=grad+rp+loraB_nc=200/inds_prune_size=400000_ep=2.pkl\n",
      "save inds (length = 400000) to curriculum/mistral-7b+lora:r=256:a=256/ultrachat15/semdedup_cl=kmeansfaisscd_md=mistral7b_dist=cd_emb=text+embedding_nc=400_neg/inds_prune_size=400000_ep=2.pkl\n",
      "save inds (length = 400000) to curriculum/mistral-7b+lora:r=256:a=256/ultrachat15/random_s=0/inds_prune_size=400000_ep=2.pkl\n",
      "save inds (length = 400000) to curriculum/mistral-7b+lora:r=256:a=256/ultrachat15/semdedup_cl=kmeansfaisscd_md=mistral7b_dist=cd_emb=grad+rp+loraB_nc=400/inds_prune_size=400000_ep=2.pkl\n",
      "save inds (length = 400000) to curriculum/mistral-7b+lora:r=256:a=256/ultrachat15/semdedup_cl=kmeansfaisscd_md=mistral7b_dist=cd_emb=text+embedding_nc=600_neg/inds_prune_size=400000_ep=2.pkl\n",
      "save inds (length = 400000) to curriculum/mistral-7b+lora:r=256:a=256/ultrachat15/random_s=1_neg/inds_prune_size=400000_ep=2.pkl\n",
      "save inds (length = 400000) to curriculum/mistral-7b+lora:r=256:a=256/ultrachat15/semdedup_cl=kmeansfaisscd_md=mistral7b_dist=cd_emb=grad+rp+loraB_nc=200_neg/inds_prune_size=400000_ep=2.pkl\n",
      "save inds (length = 400000) to curriculum/mistral-7b+lora:r=256:a=256/ultrachat15/semdedup_cl=kmeansfaisscd_md=mistral7b_dist=cd_emb=grad+rp+loraB_nc=100_neg/inds_prune_size=400000_ep=2.pkl\n",
      "save inds (length = 400000) to curriculum/mistral-7b+lora:r=256:a=256/ultrachat15/semdedup_cl=kmeansfaisscd_md=mistral7b_dist=cd_emb=grad+rp+loraB_nc=100/inds_prune_size=400000_ep=2.pkl\n",
      "save inds (length = 400000) to curriculum/mistral-7b+lora:r=256:a=256/ultrachat15/semdedup_cl=kmeansfaisscd_md=mistral7b_dist=cd_emb=text+embedding_nc=500_neg/inds_prune_size=400000_ep=2.pkl\n",
      "save inds (length = 400000) to curriculum/mistral-7b+lora:r=256:a=256/ultrachat15/semdedup_cl=kmeansfaisscd_md=mistral7b_dist=cd_emb=text+embedding_nc=300_neg/inds_prune_size=400000_ep=2.pkl\n"
     ]
    }
   ],
   "source": [
    "import itertools\n",
    "from note_curriculum import (\n",
    "    get_curriculum_scores,\n",
    "    get_curriculum,\n",
    "    generate_curriculum,\n",
    "    generate_curriculum_forall_scoring_fn,\n",
    "    scores_path_to_attrs,\n",
    "    np_random_choice_maximize_noreplacement,\n",
    "    plt_curriculum,\n",
    ")\n",
    "from note_pruning_analysis import assets_dir\n",
    "\n",
    "# model_name = 'llama-7b'; dataset = 'tulu_v1_mix'; M = 150_000\n",
    "# model_name = 'llama-7b'; dataset = 'sharegpt'; M = 150_000\n",
    "\n",
    "## mistral+ultrachat\n",
    "# model_name = 'mistral-7b'; dataset = 'ultrachat200k'; M = 50_000\n",
    "# model_name = 'mistral-7b'; dataset = 'ultrachat15'; M = 100_000\n",
    "model_name = 'mistral-7b'; dataset = 'ultrachat15'; M = 200_000 # 400_000 # \n",
    "\n",
    "## semdedup\n",
    "# model_name = 'llama-7b'; dataset = 'wizardlm'; M = 100_000\n",
    "# model_name = 'all-mpnet-base-v2'; dataset = 'wizardlm'; M = 100_000\n",
    "# model_name = 'bge-large-en-v1.5'; dataset = 'wizardlm'; M = 100_000\n",
    "# model_name = 'all-mpnet-base-v2'; dataset = 'ultrachat15'; M = 100_000\n",
    "# model_name = 'mistral-7b'; dataset = 'ultrachat15'; M = 100_000\n",
    "\n",
    "\n",
    "pacing_fn_list = [\n",
    "#     f'prune_size={M}_ep=1',\n",
    "    f'prune_size={M}_ep=2',\n",
    "#     f'prune_size={M}_ep=3',\n",
    "#     f'singlestep_size={M}_startingfrac=0.1',\n",
    "#     f'singlestep_size={M}_startingfrac=0.05',\n",
    "#     f'fep_size={M}_nsteps=5_startingfrac=0.05_inc=1.5',\n",
    "]\n",
    "\n",
    "output_list = generate_curriculum_forall_scoring_fn(\n",
    "    model_name, dataset, pacing_fn_list, verbose=False)"
   ]
  },
  {
   "cell_type": "code",
   "execution_count": null,
   "id": "774da90b",
   "metadata": {},
   "outputs": [],
   "source": [
    "1"
   ]
  },
  {
   "cell_type": "code",
   "execution_count": null,
   "id": "772cdbf7",
   "metadata": {
    "scrolled": false
   },
   "outputs": [],
   "source": [
    "import re\n",
    "import numpy as np\n",
    "from note_curriculum import get_curriculum_scores, generate_curriculum, plt_curriculum\n",
    "import glob\n",
    "import matplotlib.pyplot as plt\n",
    "\n",
    "model_name = 'mistral-7b'; dataset = 'ultrachat'; M =  50_000\n",
    "# model_name = 'llama-7b'; dataset = 'tulu_v1_mix'; M = 150_000\n",
    "\n",
    "\n",
    "paths = glob.glob('curriculum/*/*/*/scores.pkl')\n",
    "paths = [x for x in paths if 'llama' in x and 'tulu_v1_mix' in x and 'log_prob_neg' in x]\n",
    "path = paths[0]\n",
    "\n",
    "verbose = True\n",
    "print(path)\n",
    "pacing_fn = f'prune_size={M}_ep=3'\n",
    "# pacing_fn = f'singlestep_size={M}_startingfrac=0.1'\n",
    "# pacing_fn = f'singlestep_size={M}_startingfrac=0.2'\n",
    "# pacing_fn = f'singlestep_size={M}_startingfrac=0.3'\n",
    "# pacing_fn = f'fep_size={M}_nsteps=5_startingfrac=0.1_inc=2'\n",
    "# pacing_fn = f'fep_size={M}_nsteps=5_startingfrac=0.1_inc=1.5'\n",
    "# pacing_fn = f'fep_size={M}_nsteps=5_startingfrac=0.2_inc=1.5'\n",
    "# pacing_fn = f'fep_size={M}_nsteps=5_startingfrac=0.1_inc=1.5'\n",
    "\n",
    "pacing_fn_list = [\n",
    "    f'prune_size={M}_ep=3',\n",
    "    f'singlestep_size={M}_startingfrac=0.05',\n",
    "#     f'singlestep_size={M}_startingfrac=0.1',\n",
    "#     f'singlestep_size={M}_startingfrac=0.2',\n",
    "#     f'singlestep_size={M}_startingfrac=0.3',\n",
    "#     f'fep_size={M}_nsteps=5_startingfrac=0.1_inc=1.5',\n",
    "#     f'fep_size={M}_nsteps=5_startingfrac=0.1_inc=2',\n",
    "#     f'fep_size={M}_nsteps=5_startingfrac=0.1_inc=3',\n",
    "    f'fep_size={M}_nsteps=5_startingfrac=0.05_inc=1.5',\n",
    "    f'fep_size={M}_nsteps=5_startingfrac=0.05_inc=2',\n",
    "#     f'fep_size={M}_nsteps=5_startingfrac=0.05_inc=3',\n",
    "#     f'fep_size={M}_nsteps=5_startingfrac=0.05_inc=1.25'\n",
    "]\n",
    "\n",
    "\n",
    "\n",
    "nrows = len(pacing_fn_list)\n",
    "fig, axs = plt.subplots(nrows, 3, figsize=(15,3*nrows), sharey=False, gridspec_kw={'width_ratios': [2,.5,.5]})\n",
    "\n",
    "for i, pacing_fn in enumerate(pacing_fn_list):\n",
    "\n",
    "    plt_kwargs = generate_curriculum(path, pacing_fn, verbose=True, save_output=False)\n",
    "    output = plt_kwargs.pop('output')\n",
    "    plt_kwargs.update({'fig': fig, 'axs': axs[i]})\n",
    "    plt_curriculum(**plt_kwargs)\n",
    "\n",
    "fig.tight_layout()\n",
    "\n",
    "\n",
    "\n",
    "save_plt = 0\n",
    "if save_plt:\n",
    "    model_name, dataset, scoring_fn = output['model_name'], output['dataset'], output['scoring_fn']\n",
    "    save_path = os.path.join(\n",
    "        assets_dir, f'note_curriculum_{model_name}:{dataset}:{scoring_fn}.png')\n",
    "    fig.savefig(save_path, bbox_inches='tight', dpi=100)\n",
    "\n"
   ]
  },
  {
   "cell_type": "markdown",
   "id": "3f82473d",
   "metadata": {},
   "source": [
    "### main code"
   ]
  },
  {
   "cell_type": "code",
   "execution_count": 209,
   "id": "0c1891b2",
   "metadata": {},
   "outputs": [],
   "source": [
    "import os\n",
    "import sys\n",
    "import numpy as np\n",
    "import time\n",
    "import re\n",
    "import random\n",
    "import json\n",
    "import pickle\n",
    "from tqdm import tqdm \n",
    "\n",
    "import pyarrow\n",
    "import torch\n",
    "import transformers\n",
    "import pandas as pd\n",
    "\n",
    "from note_pruning import (\n",
    "    save_to_pickle,\n",
    "    save_sorted_inds,\n",
    "    sort_kmeans_dist_to_cluster_centers,\n",
    "    sort_dpp_map,\n",
    "    save_prune_results,\n",
    "    sort_dpp_map_memefficient,\n",
    ")\n",
    "from note_pruning_analysis import get_lm_output\n",
    "from note_pruning_dpp import torch_vmf_kernel, torch_rbf_kernel\n",
    "from functools import partial\n",
    "\n",
    "from transformers import AutoTokenizer\n",
    "\n",
    "from rosemary import parse_kv_from_string, create_string_from_kv\n",
    "from note_pruning_analysis import lm_output_dir, get_dataset_token_lengths\n",
    "\n",
    "import note_pruning_dpp\n",
    "import note_pruning_clustering"
   ]
  },
  {
   "cell_type": "code",
   "execution_count": 210,
   "id": "2c45b5d8",
   "metadata": {},
   "outputs": [
    {
     "name": "stdout",
     "output_type": "stream",
     "text": [
      "wizardlm all-mpnet-base-v2 dppmap_emb=text+embedding_k=Kcos\n",
      "data_inds/input/all-mpnet-base-v2/wizardlm\n"
     ]
    }
   ],
   "source": [
    "test_run = False\n",
    "dataset = 'tulu_v1_human_mix'\n",
    "dataset = 'tulu_v2_human_mix'\n",
    "dataset = 'flan_v2'\n",
    "dataset = 'lima'\n",
    "dataset = 'flan2022_1m'\n",
    "dataset = 'tulu_v1_mix'\n",
    "dataset = 'lima'\n",
    "dataset = 'ultrachat200k'\n",
    "dataset = 'wizardlm'\n",
    "# dataset = 'ultrachat15'\n",
    "\n",
    "# sort_by = 'random_s=0'\n",
    "# sort_by = 'kmeansl2_nc=3000'\n",
    "# sort_by = 'kmeanscd_nc=3000'\n",
    "# sort_by = 'log_prob'\n",
    "# sort_by = 'dppmap_k=Kcos'\n",
    "# sort_by = 'dppmap_k=Kcos1np'\n",
    "# sort_by = 'el2n'\n",
    "# sort_by = 'grad_norm'\n",
    "# sort_by = 'kmeansl2_emb=grad+rp+loraB_nc=3000'\n",
    "# sort_by = 'kmeansl2_emb=text+embedding_nc=3000'\n",
    "sort_by = 'dppmap_emb=text+embedding_k=Kcos'\n",
    "# sort_by = 'logit_margin'\n",
    "# rhov1: mistral-7b base-tuned(ultrachat200k_beforesplitlongconv)\n",
    "# sort_by = 'rhov1'\n",
    "# sort_by = 'numtoks'\n",
    "# sort_by = 'semdedup_cl=kmeansfaisscd_md=mpnet_dist=cd_emb=text+embedding_nc=200'\n",
    "\n",
    "# used for generating model output.\n",
    "# model_name = 'llama-7b'; encode_fn_type = 'sft'\n",
    "# model_name = 'llama-7b_ft=hmv1'; encode_fn_type = 'sft'\n",
    "# model_name = 'llama-7b+lora:r=256:a=256'; encode_fn_type = 'sft'\n",
    "# model_name = 'mistral-7b+lora:r=256:a=256'; encode_fn_type = 'sft'\n",
    "model_name = 'all-mpnet-base-v2'; encode_fn_type = 'input'\n",
    "# model_name = 'bge-large-en-v1.5'; encode_fn_type = 'input'\n",
    "\n",
    "# model_name = 'mistral-7b+lora:r=256:a=256__rho__mistral-7b-ultrachat200k-v1+lora:r=256:a=256'\n",
    "\n",
    "\n",
    "save_dir = f\"data_inds/\"\n",
    "save_dir = os.path.join(save_dir, '' if encode_fn_type=='sft' else encode_fn_type, model_name, dataset)\n",
    "os.makedirs(save_dir, exist_ok=True) \n",
    "\n",
    "print(dataset, model_name, sort_by)\n",
    "print(save_dir)"
   ]
  },
  {
   "cell_type": "code",
   "execution_count": 161,
   "id": "1c46bde0",
   "metadata": {},
   "outputs": [],
   "source": [
    "sort_by_list = [\n",
    "    'dppmapbd_nc=200_k=lin_kmd=mpnet',\n",
    "]\n",
    "sort_by_list += [\n",
    "    f'dppmapbd_nc=200_k=vmf_gamma={gamma}_kmd=mpnet' for gamma in [.3, 1., 3., 10., 15.]\n",
    "]\n",
    "\n",
    "infos = {}\n",
    "for sort_by in sort_by_list:\n",
    "    path = f'data_inds/all-mpnet-base-v2/ultrachat15/{sort_by}_incr.pkl'\n",
    "    with open(path, 'rb') as f:\n",
    "        d = pickle.load(f)\n",
    "    info = d['info']\n",
    "    infos[sort_by] = info"
   ]
  },
  {
   "cell_type": "code",
   "execution_count": 164,
   "id": "f078ff97",
   "metadata": {},
   "outputs": [
    {
     "name": "stdout",
     "output_type": "stream",
     "text": [
      "dppmapbd_nc=200_k=lin_kmd=mpnet\n",
      "156326 5000\n",
      "2.9915136678937415e-07\n",
      "dppmapbd_nc=200_k=vmf_gamma=0.3_kmd=mpnet\n",
      "955220 5000\n",
      "2.652129751368193e-07\n",
      "dppmapbd_nc=200_k=vmf_gamma=1.0_kmd=mpnet\n",
      "955330 5000\n",
      "3.2768440405561705e-07\n",
      "dppmapbd_nc=200_k=vmf_gamma=3.0_kmd=mpnet\n",
      "955449 5000\n",
      "7.163745294747059e-07\n",
      "dppmapbd_nc=200_k=vmf_gamma=10.0_kmd=mpnet\n",
      "955905 5000\n",
      "1.9072674604103668e-06\n",
      "dppmapbd_nc=200_k=vmf_gamma=15.0_kmd=mpnet\n",
      "956101 5000\n",
      "3.57563038733133e-07\n"
     ]
    },
    {
     "data": {
      "text/plain": [
       "<matplotlib.legend.Legend at 0x7facb5db0a60>"
      ]
     },
     "execution_count": 164,
     "metadata": {},
     "output_type": "execute_result"
    },
    {
     "data": {
      "image/png": "[encoded data removed]",
      "text/plain": [
       "<Figure size 500x500 with 1 Axes>"
      ]
     },
     "metadata": {},
     "output_type": "display_data"
    }
   ],
   "source": [
    "import matplotlib.pyplot as plt\n",
    "\n",
    "spacings = 1000\n",
    "fig, ax = plt.subplots(1,1,figsize=(5,5))\n",
    "\n",
    "for sort_by, info in infos.items():\n",
    "    print(sort_by)\n",
    "    M = info['M']\n",
    "    max_length = info['max_length']\n",
    "    print(M, max_length)\n",
    "    ys = info['marginal_gains'][::spacings]\n",
    "    print(np.array(ys).min())\n",
    "    ax.plot(ys, label=sort_by)\n",
    "    ax.set_yscale('log')\n",
    "    \n",
    "# ax.set_xlim((0, 200_000/spacings))\n",
    "ax.legend()"
   ]
  },
  {
   "cell_type": "code",
   "execution_count": 26,
   "id": "f985baf8",
   "metadata": {},
   "outputs": [
    {
     "name": "stdout",
     "output_type": "stream",
     "text": [
      "143000\n"
     ]
    }
   ],
   "source": [
    "d = get_lm_output(dataset, model_name, encode_fn_type=encode_fn_type, return_text_embedding=True)\n",
    "if test_run:\n",
    "    d = {k: v[:1000] for k, v in d.items()}\n",
    "    \n",
    "# some entries are nan, impute with mean value.\n",
    "N = d['text_embedding'].shape[0]\n",
    "print(N)"
   ]
  },
  {
   "cell_type": "code",
   "execution_count": 277,
   "id": "0f792932",
   "metadata": {},
   "outputs": [
    {
     "name": "stdout",
     "output_type": "stream",
     "text": [
      "Calling note_pruning_dpp.compute_dppmap with kwargs={\n",
      "    \"dppmap_type\": \"dppmapbd\",\n",
      "    \"dataset\": \"wizardlm\",\n",
      "    \"kernel_type\": \"lin\",\n",
      "    \"kernel_embed_model\": \"mpnet\",\n",
      "    \"kernel_embed_type\": \"text_embedding\",\n",
      "    \"kernel_kwargs\": {},\n",
      "    \"quality_score_type\": null,\n",
      "    \"quality_score_embed_model\": null,\n",
      "    \"theta\": 0.0,\n",
      "    \"device\": \"cuda\",\n",
      "    \"max_length\": 5000,\n",
      "    \"run_name\": \"dppmapbd_nc=200_k=lin_kmd=mpnet\"\n",
      "}\n",
      "dppmapbd: cluster = 0 / 200\n"
     ]
    },
    {
     "name": "stderr",
     "output_type": "stream",
     "text": [
      " 51%|█████     | 780/1538 [00:00<00:00, 3185.30it/s]\n"
     ]
    },
    {
     "name": "stdout",
     "output_type": "stream",
     "text": [
      "Stop on dᵢ^2 = -1.2315820185904158e-07. len(inds)=781 / 1539\n",
      "dppmapbd: cluster = 1 / 200\n"
     ]
    },
    {
     "name": "stderr",
     "output_type": "stream",
     "text": [
      " 53%|█████▎    | 779/1462 [00:00<00:00, 3254.52it/s]\n"
     ]
    },
    {
     "name": "stdout",
     "output_type": "stream",
     "text": [
      "Stop on dᵢ^2 = -8.79344383974967e-08. len(inds)=780 / 1463\n",
      "dppmapbd: cluster = 2 / 200\n"
     ]
    },
    {
     "name": "stderr",
     "output_type": "stream",
     "text": [
      " 55%|█████▍    | 774/1413 [00:00<00:00, 3215.30it/s]\n"
     ]
    },
    {
     "name": "stdout",
     "output_type": "stream",
     "text": [
      "Stop on dᵢ^2 = -5.5397780585053624e-08. len(inds)=775 / 1414\n",
      "dppmapbd: cluster = 3 / 200\n"
     ]
    },
    {
     "name": "stderr",
     "output_type": "stream",
     "text": [
      " 57%|█████▋    | 778/1365 [00:00<00:00, 3212.55it/s]\n"
     ]
    },
    {
     "name": "stdout",
     "output_type": "stream",
     "text": [
      "Stop on dᵢ^2 = -1.9780850379902404e-07. len(inds)=779 / 1366\n",
      "dppmapbd: cluster = 4 / 200\n"
     ]
    },
    {
     "name": "stderr",
     "output_type": "stream",
     "text": [
      " 58%|█████▊    | 774/1337 [00:00<00:00, 3286.16it/s]\n"
     ]
    },
    {
     "name": "stdout",
     "output_type": "stream",
     "text": [
      "Stop on dᵢ^2 = -4.0539387669014104e-07. len(inds)=775 / 1338\n",
      "dppmapbd: cluster = 5 / 200\n"
     ]
    },
    {
     "name": "stderr",
     "output_type": "stream",
     "text": [
      " 58%|█████▊    | 775/1337 [00:00<00:00, 3239.25it/s]\n"
     ]
    },
    {
     "name": "stdout",
     "output_type": "stream",
     "text": [
      "Stop on dᵢ^2 = -1.8022767278580432e-07. len(inds)=776 / 1338\n",
      "dppmapbd: cluster = 6 / 200\n"
     ]
    },
    {
     "name": "stderr",
     "output_type": "stream",
     "text": [
      " 59%|█████▊    | 775/1322 [00:00<00:00, 3217.00it/s]\n"
     ]
    },
    {
     "name": "stdout",
     "output_type": "stream",
     "text": [
      "Stop on dᵢ^2 = -3.862549419864081e-06. len(inds)=776 / 1323\n",
      "dppmapbd: cluster = 7 / 200\n"
     ]
    },
    {
     "name": "stderr",
     "output_type": "stream",
     "text": [
      " 61%|██████    | 775/1276 [00:00<00:00, 3239.85it/s]\n"
     ]
    },
    {
     "name": "stdout",
     "output_type": "stream",
     "text": [
      "Stop on dᵢ^2 = -7.938866275480905e-08. len(inds)=776 / 1277\n",
      "dppmapbd: cluster = 8 / 200\n"
     ]
    },
    {
     "name": "stderr",
     "output_type": "stream",
     "text": [
      " 63%|██████▎   | 780/1236 [00:00<00:00, 3275.68it/s]\n"
     ]
    },
    {
     "name": "stdout",
     "output_type": "stream",
     "text": [
      "Stop on dᵢ^2 = -1.742593127573855e-07. len(inds)=781 / 1237\n",
      "dppmapbd: cluster = 9 / 200\n"
     ]
    },
    {
     "name": "stderr",
     "output_type": "stream",
     "text": [
      " 63%|██████▎   | 774/1234 [00:00<00:00, 3297.04it/s]\n"
     ]
    },
    {
     "name": "stdout",
     "output_type": "stream",
     "text": [
      "Stop on dᵢ^2 = -5.271766099212982e-07. len(inds)=775 / 1235\n",
      "dppmapbd: cluster = 10 / 200\n"
     ]
    },
    {
     "name": "stderr",
     "output_type": "stream",
     "text": [
      " 64%|██████▎   | 773/1216 [00:00<00:00, 3300.17it/s]\n"
     ]
    },
    {
     "name": "stdout",
     "output_type": "stream",
     "text": [
      "Stop on dᵢ^2 = -4.470690839752933e-08. len(inds)=774 / 1217\n",
      "dppmapbd: cluster = 11 / 200\n"
     ]
    },
    {
     "name": "stderr",
     "output_type": "stream",
     "text": [
      " 65%|██████▍   | 774/1197 [00:00<00:00, 3184.68it/s]\n"
     ]
    },
    {
     "name": "stdout",
     "output_type": "stream",
     "text": [
      "Stop on dᵢ^2 = -1.2124914405831078e-07. len(inds)=775 / 1198\n",
      "dppmapbd: cluster = 12 / 200\n"
     ]
    },
    {
     "name": "stderr",
     "output_type": "stream",
     "text": [
      " 66%|██████▋   | 786/1185 [00:00<00:00, 3316.09it/s]\n"
     ]
    },
    {
     "name": "stdout",
     "output_type": "stream",
     "text": [
      "Stop on dᵢ^2 = -4.591984748003597e-08. len(inds)=787 / 1186\n",
      "dppmapbd: cluster = 13 / 200\n"
     ]
    },
    {
     "name": "stderr",
     "output_type": "stream",
     "text": [
      " 66%|██████▋   | 773/1164 [00:00<00:00, 3364.67it/s]\n"
     ]
    },
    {
     "name": "stdout",
     "output_type": "stream",
     "text": [
      "Stop on dᵢ^2 = -2.300482265127357e-06. len(inds)=774 / 1165\n",
      "dppmapbd: cluster = 14 / 200\n"
     ]
    },
    {
     "name": "stderr",
     "output_type": "stream",
     "text": [
      " 68%|██████▊   | 774/1132 [00:00<00:00, 3312.14it/s]\n"
     ]
    },
    {
     "name": "stdout",
     "output_type": "stream",
     "text": [
      "Stop on dᵢ^2 = -9.44931883850586e-08. len(inds)=775 / 1133\n",
      "dppmapbd: cluster = 15 / 200\n"
     ]
    },
    {
     "name": "stderr",
     "output_type": "stream",
     "text": [
      " 68%|██████▊   | 771/1127 [00:00<00:00, 3326.09it/s]\n"
     ]
    },
    {
     "name": "stdout",
     "output_type": "stream",
     "text": [
      "Stop on dᵢ^2 = -1.4947957538424816e-08. len(inds)=772 / 1128\n",
      "dppmapbd: cluster = 16 / 200\n"
     ]
    },
    {
     "name": "stderr",
     "output_type": "stream",
     "text": [
      " 69%|██████▉   | 771/1114 [00:00<00:00, 3231.29it/s]\n"
     ]
    },
    {
     "name": "stdout",
     "output_type": "stream",
     "text": [
      "Stop on dᵢ^2 = -4.936160848956206e-07. len(inds)=772 / 1115\n",
      "dppmapbd: cluster = 17 / 200\n"
     ]
    },
    {
     "name": "stderr",
     "output_type": "stream",
     "text": [
      " 70%|██████▉   | 773/1107 [00:00<00:00, 3318.48it/s]\n"
     ]
    },
    {
     "name": "stdout",
     "output_type": "stream",
     "text": [
      "Stop on dᵢ^2 = -1.3857298597486079e-07. len(inds)=774 / 1108\n",
      "dppmapbd: cluster = 18 / 200\n"
     ]
    },
    {
     "name": "stderr",
     "output_type": "stream",
     "text": [
      " 70%|███████   | 777/1107 [00:00<00:00, 3306.58it/s]\n"
     ]
    },
    {
     "name": "stdout",
     "output_type": "stream",
     "text": [
      "Stop on dᵢ^2 = -8.230995973690369e-08. len(inds)=778 / 1108\n",
      "dppmapbd: cluster = 19 / 200\n"
     ]
    },
    {
     "name": "stderr",
     "output_type": "stream",
     "text": [
      " 70%|██████▉   | 772/1103 [00:00<00:00, 3353.83it/s]\n"
     ]
    },
    {
     "name": "stdout",
     "output_type": "stream",
     "text": [
      "Stop on dᵢ^2 = -2.42684734530485e-07. len(inds)=773 / 1104\n",
      "dppmapbd: cluster = 20 / 200\n"
     ]
    },
    {
     "name": "stderr",
     "output_type": "stream",
     "text": [
      " 76%|███████▌  | 771/1016 [00:00<00:00, 3244.82it/s]\n"
     ]
    },
    {
     "name": "stdout",
     "output_type": "stream",
     "text": [
      "Stop on dᵢ^2 = -2.910299485847645e-07. len(inds)=772 / 1017\n",
      "dppmapbd: cluster = 21 / 200\n"
     ]
    },
    {
     "name": "stderr",
     "output_type": "stream",
     "text": [
      " 76%|███████▋  | 774/1013 [00:00<00:00, 3194.75it/s]\n"
     ]
    },
    {
     "name": "stdout",
     "output_type": "stream",
     "text": [
      "Stop on dᵢ^2 = -1.141624323963697e-07. len(inds)=775 / 1014\n",
      "dppmapbd: cluster = 22 / 200\n"
     ]
    },
    {
     "name": "stderr",
     "output_type": "stream",
     "text": [
      " 77%|███████▋  | 770/1000 [00:00<00:00, 3326.37it/s]\n"
     ]
    },
    {
     "name": "stdout",
     "output_type": "stream",
     "text": [
      "Stop on dᵢ^2 = -5.061090178060113e-07. len(inds)=771 / 1001\n",
      "dppmapbd: cluster = 23 / 200\n"
     ]
    },
    {
     "name": "stderr",
     "output_type": "stream",
     "text": [
      " 78%|███████▊  | 772/992 [00:00<00:00, 3319.09it/s]\n"
     ]
    },
    {
     "name": "stdout",
     "output_type": "stream",
     "text": [
      "Stop on dᵢ^2 = -1.7220548897967092e-07. len(inds)=773 / 993\n",
      "dppmapbd: cluster = 24 / 200\n"
     ]
    },
    {
     "name": "stderr",
     "output_type": "stream",
     "text": [
      " 78%|███████▊  | 776/992 [00:00<00:00, 2991.66it/s]\n"
     ]
    },
    {
     "name": "stdout",
     "output_type": "stream",
     "text": [
      "Stop on dᵢ^2 = -4.511526441319802e-08. len(inds)=777 / 993\n",
      "dppmapbd: cluster = 25 / 200\n"
     ]
    },
    {
     "name": "stderr",
     "output_type": "stream",
     "text": [
      " 78%|███████▊  | 774/991 [00:00<00:00, 3409.67it/s]\n"
     ]
    },
    {
     "name": "stdout",
     "output_type": "stream",
     "text": [
      "Stop on dᵢ^2 = -2.1309881503839279e-07. len(inds)=775 / 992\n",
      "dppmapbd: cluster = 26 / 200\n"
     ]
    },
    {
     "name": "stderr",
     "output_type": "stream",
     "text": [
      " 79%|███████▉  | 776/980 [00:00<00:00, 3309.32it/s]\n"
     ]
    },
    {
     "name": "stdout",
     "output_type": "stream",
     "text": [
      "Stop on dᵢ^2 = -1.7885841430143046e-07. len(inds)=777 / 981\n",
      "dppmapbd: cluster = 27 / 200\n"
     ]
    },
    {
     "name": "stderr",
     "output_type": "stream",
     "text": [
      " 80%|███████▉  | 777/972 [00:00<00:00, 3318.00it/s]\n"
     ]
    },
    {
     "name": "stdout",
     "output_type": "stream",
     "text": [
      "Stop on dᵢ^2 = -2.188616861076298e-07. len(inds)=778 / 973\n",
      "dppmapbd: cluster = 28 / 200\n"
     ]
    },
    {
     "name": "stderr",
     "output_type": "stream",
     "text": [
      " 81%|████████  | 771/950 [00:00<00:00, 3339.70it/s]\n"
     ]
    },
    {
     "name": "stdout",
     "output_type": "stream",
     "text": [
      "Stop on dᵢ^2 = -1.6633473478577798e-06. len(inds)=772 / 951\n",
      "dppmapbd: cluster = 29 / 200\n"
     ]
    },
    {
     "name": "stderr",
     "output_type": "stream",
     "text": [
      " 83%|████████▎ | 775/939 [00:00<00:00, 3342.53it/s]\n"
     ]
    },
    {
     "name": "stdout",
     "output_type": "stream",
     "text": [
      "Stop on dᵢ^2 = -1.2031122764710744e-07. len(inds)=776 / 940\n",
      "dppmapbd: cluster = 30 / 200\n"
     ]
    },
    {
     "name": "stderr",
     "output_type": "stream",
     "text": [
      " 82%|████████▏ | 771/938 [00:00<00:00, 3263.43it/s]\n"
     ]
    },
    {
     "name": "stdout",
     "output_type": "stream",
     "text": [
      "Stop on dᵢ^2 = -4.963718538419926e-07. len(inds)=772 / 939\n",
      "dppmapbd: cluster = 31 / 200\n"
     ]
    },
    {
     "name": "stderr",
     "output_type": "stream",
     "text": [
      " 83%|████████▎ | 776/936 [00:00<00:00, 3270.21it/s]\n"
     ]
    },
    {
     "name": "stdout",
     "output_type": "stream",
     "text": [
      "Stop on dᵢ^2 = -3.917721258517304e-08. len(inds)=777 / 937\n",
      "dppmapbd: cluster = 32 / 200\n"
     ]
    },
    {
     "name": "stderr",
     "output_type": "stream",
     "text": [
      " 83%|████████▎ | 775/932 [00:00<00:00, 3389.53it/s]\n"
     ]
    },
    {
     "name": "stdout",
     "output_type": "stream",
     "text": [
      "Stop on dᵢ^2 = -1.0517321236136468e-08. len(inds)=776 / 933\n",
      "dppmapbd: cluster = 33 / 200\n"
     ]
    },
    {
     "name": "stderr",
     "output_type": "stream",
     "text": [
      " 83%|████████▎ | 773/927 [00:00<00:00, 3365.32it/s]\n"
     ]
    },
    {
     "name": "stdout",
     "output_type": "stream",
     "text": [
      "Stop on dᵢ^2 = -2.1009425665852177e-07. len(inds)=774 / 928\n",
      "dppmapbd: cluster = 34 / 200\n"
     ]
    },
    {
     "name": "stderr",
     "output_type": "stream",
     "text": [
      " 83%|████████▎ | 768/920 [00:00<00:00, 3382.60it/s]\n"
     ]
    },
    {
     "name": "stdout",
     "output_type": "stream",
     "text": [
      "Stop on dᵢ^2 = -6.004056558595039e-07. len(inds)=769 / 921\n",
      "dppmapbd: cluster = 35 / 200\n"
     ]
    },
    {
     "name": "stderr",
     "output_type": "stream",
     "text": [
      " 84%|████████▍ | 771/919 [00:00<00:00, 3320.20it/s]\n"
     ]
    },
    {
     "name": "stdout",
     "output_type": "stream",
     "text": [
      "Stop on dᵢ^2 = -8.508103377380394e-08. len(inds)=772 / 920\n",
      "dppmapbd: cluster = 36 / 200\n"
     ]
    },
    {
     "name": "stderr",
     "output_type": "stream",
     "text": [
      " 85%|████████▍ | 779/918 [00:00<00:00, 3373.91it/s]\n"
     ]
    },
    {
     "name": "stdout",
     "output_type": "stream",
     "text": [
      "Stop on dᵢ^2 = -1.3221851702382992e-07. len(inds)=780 / 919\n",
      "dppmapbd: cluster = 37 / 200\n"
     ]
    },
    {
     "name": "stderr",
     "output_type": "stream",
     "text": [
      " 85%|████████▍ | 772/913 [00:00<00:00, 3380.58it/s]\n"
     ]
    },
    {
     "name": "stdout",
     "output_type": "stream",
     "text": [
      "Stop on dᵢ^2 = -5.1249084975779624e-08. len(inds)=773 / 914\n",
      "dppmapbd: cluster = 38 / 200\n"
     ]
    },
    {
     "name": "stderr",
     "output_type": "stream",
     "text": [
      " 85%|████████▍ | 772/913 [00:00<00:00, 3277.76it/s]\n"
     ]
    },
    {
     "name": "stdout",
     "output_type": "stream",
     "text": [
      "Stop on dᵢ^2 = -5.4004090088710655e-06. len(inds)=773 / 914\n",
      "dppmapbd: cluster = 39 / 200\n"
     ]
    },
    {
     "name": "stderr",
     "output_type": "stream",
     "text": [
      " 85%|████████▍ | 770/906 [00:00<00:00, 3249.17it/s]\n"
     ]
    },
    {
     "name": "stdout",
     "output_type": "stream",
     "text": [
      "Stop on dᵢ^2 = -2.985978042602255e-08. len(inds)=771 / 907\n",
      "dppmapbd: cluster = 40 / 200\n"
     ]
    },
    {
     "name": "stderr",
     "output_type": "stream",
     "text": [
      " 86%|████████▋ | 770/892 [00:00<00:00, 3283.09it/s]\n"
     ]
    },
    {
     "name": "stdout",
     "output_type": "stream",
     "text": [
      "Stop on dᵢ^2 = -8.298668063844161e-08. len(inds)=771 / 893\n",
      "dppmapbd: cluster = 41 / 200\n"
     ]
    },
    {
     "name": "stderr",
     "output_type": "stream",
     "text": [
      " 87%|████████▋ | 771/885 [00:00<00:00, 3290.60it/s]\n"
     ]
    },
    {
     "name": "stdout",
     "output_type": "stream",
     "text": [
      "Stop on dᵢ^2 = -9.209048101865847e-08. len(inds)=772 / 886\n",
      "dppmapbd: cluster = 42 / 200\n"
     ]
    },
    {
     "name": "stderr",
     "output_type": "stream",
     "text": [
      " 88%|████████▊ | 775/880 [00:00<00:00, 3374.61it/s]\n"
     ]
    },
    {
     "name": "stdout",
     "output_type": "stream",
     "text": [
      "Stop on dᵢ^2 = -3.2511056957673645e-08. len(inds)=776 / 881\n",
      "dppmapbd: cluster = 43 / 200\n"
     ]
    },
    {
     "name": "stderr",
     "output_type": "stream",
     "text": [
      " 88%|████████▊ | 773/877 [00:00<00:00, 3379.52it/s]\n"
     ]
    },
    {
     "name": "stdout",
     "output_type": "stream",
     "text": [
      "Stop on dᵢ^2 = -1.0716804354160558e-05. len(inds)=774 / 878\n",
      "dppmapbd: cluster = 44 / 200\n"
     ]
    },
    {
     "name": "stderr",
     "output_type": "stream",
     "text": [
      " 88%|████████▊ | 773/877 [00:00<00:00, 3398.78it/s]\n"
     ]
    },
    {
     "name": "stdout",
     "output_type": "stream",
     "text": [
      "Stop on dᵢ^2 = -8.941061224732039e-08. len(inds)=774 / 878\n",
      "dppmapbd: cluster = 45 / 200\n"
     ]
    },
    {
     "name": "stderr",
     "output_type": "stream",
     "text": [
      " 88%|████████▊ | 774/875 [00:00<00:00, 3399.91it/s]\n"
     ]
    },
    {
     "name": "stdout",
     "output_type": "stream",
     "text": [
      "Stop on dᵢ^2 = -1.1156415524737895e-07. len(inds)=775 / 876\n",
      "dppmapbd: cluster = 46 / 200\n"
     ]
    },
    {
     "name": "stderr",
     "output_type": "stream",
     "text": [
      " 89%|████████▊ | 776/875 [00:02<00:00, 272.00it/s] \n"
     ]
    },
    {
     "name": "stdout",
     "output_type": "stream",
     "text": [
      "Stop on dᵢ^2 = -2.0594798399997671e-07. len(inds)=777 / 876\n",
      "dppmapbd: cluster = 47 / 200\n"
     ]
    },
    {
     "name": "stderr",
     "output_type": "stream",
     "text": [
      " 88%|████████▊ | 771/873 [00:00<00:00, 3251.25it/s]\n"
     ]
    },
    {
     "name": "stdout",
     "output_type": "stream",
     "text": [
      "Stop on dᵢ^2 = -5.213288289951379e-08. len(inds)=772 / 874\n",
      "dppmapbd: cluster = 48 / 200\n"
     ]
    },
    {
     "name": "stderr",
     "output_type": "stream",
     "text": [
      " 90%|████████▉ | 775/864 [00:00<00:00, 3318.98it/s]\n"
     ]
    },
    {
     "name": "stdout",
     "output_type": "stream",
     "text": [
      "Stop on dᵢ^2 = -6.275034536429303e-08. len(inds)=776 / 865\n",
      "dppmapbd: cluster = 49 / 200\n"
     ]
    },
    {
     "name": "stderr",
     "output_type": "stream",
     "text": [
      " 91%|█████████ | 781/858 [00:00<00:00, 3238.94it/s]\n"
     ]
    },
    {
     "name": "stdout",
     "output_type": "stream",
     "text": [
      "Stop on dᵢ^2 = -3.719793895129442e-08. len(inds)=782 / 859\n",
      "dppmapbd: cluster = 50 / 200\n"
     ]
    },
    {
     "name": "stderr",
     "output_type": "stream",
     "text": [
      " 91%|█████████ | 774/854 [00:00<00:00, 3097.76it/s]\n"
     ]
    },
    {
     "name": "stdout",
     "output_type": "stream",
     "text": [
      "Stop on dᵢ^2 = -1.126900315284729e-07. len(inds)=775 / 855\n",
      "dppmapbd: cluster = 51 / 200\n"
     ]
    },
    {
     "name": "stderr",
     "output_type": "stream",
     "text": [
      " 91%|█████████ | 771/849 [00:00<00:00, 3287.56it/s]\n"
     ]
    },
    {
     "name": "stdout",
     "output_type": "stream",
     "text": [
      "Stop on dᵢ^2 = -2.5593994479322646e-08. len(inds)=772 / 850\n",
      "dppmapbd: cluster = 52 / 200\n"
     ]
    },
    {
     "name": "stderr",
     "output_type": "stream",
     "text": [
      " 91%|█████████ | 769/845 [00:00<00:00, 3325.70it/s]\n"
     ]
    },
    {
     "name": "stdout",
     "output_type": "stream",
     "text": [
      "Stop on dᵢ^2 = -3.2049806577560958e-06. len(inds)=770 / 846\n",
      "dppmapbd: cluster = 53 / 200\n"
     ]
    },
    {
     "name": "stderr",
     "output_type": "stream",
     "text": [
      " 92%|█████████▏| 771/841 [00:00<00:00, 3048.23it/s]\n"
     ]
    },
    {
     "name": "stdout",
     "output_type": "stream",
     "text": [
      "Stop on dᵢ^2 = -5.803535785275926e-08. len(inds)=772 / 842\n",
      "dppmapbd: cluster = 54 / 200\n"
     ]
    },
    {
     "name": "stderr",
     "output_type": "stream",
     "text": [
      " 94%|█████████▎| 767/819 [00:00<00:00, 3154.14it/s]\n"
     ]
    },
    {
     "name": "stdout",
     "output_type": "stream",
     "text": [
      "Stop on dᵢ^2 = -3.007521627296228e-07. len(inds)=768 / 820\n",
      "dppmapbd: cluster = 55 / 200\n"
     ]
    },
    {
     "name": "stderr",
     "output_type": "stream",
     "text": [
      " 94%|█████████▍| 771/817 [00:00<00:00, 3234.49it/s]\n"
     ]
    },
    {
     "name": "stdout",
     "output_type": "stream",
     "text": [
      "Stop on dᵢ^2 = -9.445531645724259e-08. len(inds)=772 / 818\n",
      "dppmapbd: cluster = 56 / 200\n"
     ]
    },
    {
     "name": "stderr",
     "output_type": "stream",
     "text": [
      " 95%|█████████▍| 769/813 [00:00<00:00, 3334.24it/s]\n"
     ]
    },
    {
     "name": "stdout",
     "output_type": "stream",
     "text": [
      "Stop on dᵢ^2 = -2.7919651301999693e-07. len(inds)=770 / 814\n",
      "dppmapbd: cluster = 57 / 200\n"
     ]
    },
    {
     "name": "stderr",
     "output_type": "stream",
     "text": [
      " 95%|█████████▍| 769/812 [00:00<00:00, 3301.77it/s]\n"
     ]
    },
    {
     "name": "stdout",
     "output_type": "stream",
     "text": [
      "Stop on dᵢ^2 = -3.070008958161452e-08. len(inds)=770 / 813\n",
      "dppmapbd: cluster = 58 / 200\n"
     ]
    },
    {
     "name": "stderr",
     "output_type": "stream",
     "text": [
      " 98%|█████████▊| 768/787 [00:00<00:00, 3170.76it/s]\n"
     ]
    },
    {
     "name": "stdout",
     "output_type": "stream",
     "text": [
      "Stop on dᵢ^2 = -4.3095482737953716e-08. len(inds)=769 / 788\n",
      "dppmapbd: cluster = 59 / 200\n"
     ]
    },
    {
     "name": "stderr",
     "output_type": "stream",
     "text": [
      " 99%|█████████▊| 769/779 [00:00<00:00, 2984.26it/s]\n"
     ]
    },
    {
     "name": "stdout",
     "output_type": "stream",
     "text": [
      "Stop on dᵢ^2 = -2.2721570758221787e-07. len(inds)=770 / 780\n",
      "dppmapbd: cluster = 60 / 200\n"
     ]
    },
    {
     "name": "stderr",
     "output_type": "stream",
     "text": [
      " 99%|█████████▊| 765/776 [00:00<00:00, 3133.02it/s]\n"
     ]
    },
    {
     "name": "stdout",
     "output_type": "stream",
     "text": [
      "Stop on dᵢ^2 = -4.2595550553414796e-07. len(inds)=766 / 777\n",
      "dppmapbd: cluster = 61 / 200\n"
     ]
    },
    {
     "name": "stderr",
     "output_type": "stream",
     "text": [
      " 99%|█████████▉| 767/772 [00:00<00:00, 3057.01it/s]\n"
     ]
    },
    {
     "name": "stdout",
     "output_type": "stream",
     "text": [
      "Stop on dᵢ^2 = -4.728596891823145e-08. len(inds)=768 / 773\n",
      "dppmapbd: cluster = 62 / 200\n"
     ]
    },
    {
     "name": "stderr",
     "output_type": "stream",
     "text": [
      " 99%|█████████▉| 764/771 [00:00<00:00, 3202.49it/s]\n"
     ]
    },
    {
     "name": "stdout",
     "output_type": "stream",
     "text": [
      "Stop on dᵢ^2 = -1.3937984988388052e-07. len(inds)=765 / 772\n",
      "dppmapbd: cluster = 63 / 200\n"
     ]
    },
    {
     "name": "stderr",
     "output_type": "stream",
     "text": [
      " 99%|█████████▉| 765/770 [00:00<00:00, 3030.99it/s]\n"
     ]
    },
    {
     "name": "stdout",
     "output_type": "stream",
     "text": [
      "Stop on dᵢ^2 = -1.1034533144993475e-06. len(inds)=766 / 771\n",
      "dppmapbd: cluster = 64 / 200\n"
     ]
    },
    {
     "name": "stderr",
     "output_type": "stream",
     "text": [
      " 99%|█████████▉| 762/769 [00:00<00:00, 3072.84it/s]\n"
     ]
    },
    {
     "name": "stdout",
     "output_type": "stream",
     "text": [
      "Stop on dᵢ^2 = -7.100246079971839e-08. len(inds)=763 / 770\n",
      "dppmapbd: cluster = 65 / 200\n"
     ]
    },
    {
     "name": "stderr",
     "output_type": "stream",
     "text": [
      "100%|█████████▉| 766/769 [00:00<00:00, 3121.96it/s]\n"
     ]
    },
    {
     "name": "stdout",
     "output_type": "stream",
     "text": [
      "Stop on dᵢ^2 = -1.424721358489478e-05. len(inds)=767 / 770\n",
      "dppmapbd: cluster = 66 / 200\n"
     ]
    },
    {
     "name": "stderr",
     "output_type": "stream",
     "text": [
      "100%|█████████▉| 760/763 [00:00<00:00, 3059.85it/s]\n"
     ]
    },
    {
     "name": "stdout",
     "output_type": "stream",
     "text": [
      "Stop on dᵢ^2 = -6.726534707013343e-08. len(inds)=761 / 764\n",
      "dppmapbd: cluster = 67 / 200\n"
     ]
    },
    {
     "name": "stderr",
     "output_type": "stream",
     "text": [
      " 99%|█████████▉| 757/762 [00:00<00:00, 3245.91it/s]\n"
     ]
    },
    {
     "name": "stdout",
     "output_type": "stream",
     "text": [
      "Stop on dᵢ^2 = -4.663533914595064e-08. len(inds)=758 / 763\n",
      "dppmapbd: cluster = 68 / 200\n"
     ]
    },
    {
     "name": "stderr",
     "output_type": "stream",
     "text": [
      " 99%|█████████▉| 752/756 [00:00<00:00, 3028.61it/s]\n"
     ]
    },
    {
     "name": "stdout",
     "output_type": "stream",
     "text": [
      "Stop on dᵢ^2 = -2.2567968471776112e-07. len(inds)=753 / 757\n",
      "dppmapbd: cluster = 69 / 200\n"
     ]
    },
    {
     "name": "stderr",
     "output_type": "stream",
     "text": [
      "100%|█████████▉| 752/755 [00:00<00:00, 3323.23it/s]\n"
     ]
    },
    {
     "name": "stdout",
     "output_type": "stream",
     "text": [
      "Stop on dᵢ^2 = -1.1859086868071245e-07. len(inds)=753 / 756\n",
      "dppmapbd: cluster = 70 / 200\n"
     ]
    },
    {
     "name": "stderr",
     "output_type": "stream",
     "text": [
      " 99%|█████████▉| 749/754 [00:00<00:00, 3137.87it/s]\n"
     ]
    },
    {
     "name": "stdout",
     "output_type": "stream",
     "text": [
      "Stop on dᵢ^2 = -2.2361181351016057e-08. len(inds)=750 / 755\n",
      "dppmapbd: cluster = 71 / 200\n"
     ]
    },
    {
     "name": "stderr",
     "output_type": "stream",
     "text": [
      "100%|█████████▉| 748/750 [00:00<00:00, 3207.15it/s]\n"
     ]
    },
    {
     "name": "stdout",
     "output_type": "stream",
     "text": [
      "Stop on dᵢ^2 = -9.062667061243701e-08. len(inds)=749 / 751\n",
      "dppmapbd: cluster = 72 / 200\n"
     ]
    },
    {
     "name": "stderr",
     "output_type": "stream",
     "text": [
      "100%|█████████▉| 738/739 [00:00<00:00, 3265.20it/s]\n"
     ]
    },
    {
     "name": "stdout",
     "output_type": "stream",
     "text": [
      "Stop on dᵢ^2 = -5.272323377880639e-08. len(inds)=739 / 740\n",
      "dppmapbd: cluster = 73 / 200\n"
     ]
    },
    {
     "name": "stderr",
     "output_type": "stream",
     "text": [
      " 99%|█████████▉| 732/736 [00:00<00:00, 3145.95it/s]\n"
     ]
    },
    {
     "name": "stdout",
     "output_type": "stream",
     "text": [
      "Stop on dᵢ^2 = -4.711222629794065e-07. len(inds)=733 / 737\n",
      "dppmapbd: cluster = 74 / 200\n"
     ]
    },
    {
     "name": "stderr",
     "output_type": "stream",
     "text": [
      "100%|█████████▉| 725/727 [00:00<00:00, 3088.20it/s]\n"
     ]
    },
    {
     "name": "stdout",
     "output_type": "stream",
     "text": [
      "Stop on dᵢ^2 = -1.4954657956423034e-07. len(inds)=726 / 728\n",
      "dppmapbd: cluster = 75 / 200\n"
     ]
    },
    {
     "name": "stderr",
     "output_type": "stream",
     "text": [
      " 99%|█████████▉| 720/724 [00:00<00:00, 2946.50it/s]\n"
     ]
    },
    {
     "name": "stdout",
     "output_type": "stream",
     "text": [
      "Stop on dᵢ^2 = -2.9905322662671097e-08. len(inds)=721 / 725\n",
      "dppmapbd: cluster = 76 / 200\n"
     ]
    },
    {
     "name": "stderr",
     "output_type": "stream",
     "text": [
      "100%|█████████▉| 720/723 [00:00<00:00, 2959.47it/s]\n"
     ]
    },
    {
     "name": "stdout",
     "output_type": "stream",
     "text": [
      "Stop on dᵢ^2 = -5.23479428693463e-08. len(inds)=721 / 724\n",
      "dppmapbd: cluster = 77 / 200\n"
     ]
    },
    {
     "name": "stderr",
     "output_type": "stream",
     "text": [
      "100%|█████████▉| 718/721 [00:02<00:00, 350.28it/s] \n"
     ]
    },
    {
     "name": "stdout",
     "output_type": "stream",
     "text": [
      "Stop on dᵢ^2 = -4.876636694461922e-08. len(inds)=719 / 722\n",
      "dppmapbd: cluster = 78 / 200\n"
     ]
    },
    {
     "name": "stderr",
     "output_type": "stream",
     "text": [
      " 99%|█████████▉| 714/720 [00:01<00:00, 367.81it/s] \n"
     ]
    },
    {
     "name": "stdout",
     "output_type": "stream",
     "text": [
      "Stop on dᵢ^2 = -7.525831335897237e-08. len(inds)=715 / 721\n",
      "dppmapbd: cluster = 79 / 200\n"
     ]
    },
    {
     "name": "stderr",
     "output_type": "stream",
     "text": [
      "100%|██████████| 719/719 [00:02<00:00, 271.90it/s] \n"
     ]
    },
    {
     "name": "stdout",
     "output_type": "stream",
     "text": [
      "dppmapbd: cluster = 80 / 200\n"
     ]
    },
    {
     "name": "stderr",
     "output_type": "stream",
     "text": [
      " 98%|█████████▊| 706/719 [00:01<00:00, 396.19it/s] \n"
     ]
    },
    {
     "name": "stdout",
     "output_type": "stream",
     "text": [
      "Stop on dᵢ^2 = -4.8884974290785976e-08. len(inds)=707 / 720\n",
      "dppmapbd: cluster = 81 / 200\n"
     ]
    },
    {
     "name": "stderr",
     "output_type": "stream",
     "text": [
      "100%|█████████▉| 714/717 [00:00<00:00, 2988.19it/s]\n"
     ]
    },
    {
     "name": "stdout",
     "output_type": "stream",
     "text": [
      "Stop on dᵢ^2 = -9.13831001980725e-08. len(inds)=715 / 718\n",
      "dppmapbd: cluster = 82 / 200\n"
     ]
    },
    {
     "name": "stderr",
     "output_type": "stream",
     "text": [
      "100%|█████████▉| 707/708 [00:00<00:00, 3075.29it/s]\n"
     ]
    },
    {
     "name": "stdout",
     "output_type": "stream",
     "text": [
      "Stop on dᵢ^2 = -1.4963765693210007e-07. len(inds)=708 / 709\n",
      "dppmapbd: cluster = 83 / 200\n"
     ]
    },
    {
     "name": "stderr",
     "output_type": "stream",
     "text": [
      " 99%|█████████▉| 697/704 [00:00<00:00, 3210.90it/s]\n"
     ]
    },
    {
     "name": "stdout",
     "output_type": "stream",
     "text": [
      "Stop on dᵢ^2 = -4.494863503623492e-08. len(inds)=698 / 705\n",
      "dppmapbd: cluster = 84 / 200\n"
     ]
    },
    {
     "name": "stderr",
     "output_type": "stream",
     "text": [
      "100%|██████████| 700/700 [00:00<00:00, 3408.30it/s]\n"
     ]
    },
    {
     "name": "stdout",
     "output_type": "stream",
     "text": [
      "dppmapbd: cluster = 85 / 200\n"
     ]
    },
    {
     "name": "stderr",
     "output_type": "stream",
     "text": [
      " 99%|█████████▉| 692/696 [00:00<00:00, 3012.94it/s]\n"
     ]
    },
    {
     "name": "stdout",
     "output_type": "stream",
     "text": [
      "Stop on dᵢ^2 = -1.6213526521369204e-07. len(inds)=693 / 697\n",
      "dppmapbd: cluster = 86 / 200\n"
     ]
    },
    {
     "name": "stderr",
     "output_type": "stream",
     "text": [
      "100%|█████████▉| 693/696 [00:00<00:00, 3261.26it/s]\n"
     ]
    },
    {
     "name": "stdout",
     "output_type": "stream",
     "text": [
      "Stop on dᵢ^2 = -2.0333574468622828e-07. len(inds)=694 / 697\n",
      "dppmapbd: cluster = 87 / 200\n"
     ]
    },
    {
     "name": "stderr",
     "output_type": "stream",
     "text": [
      "100%|█████████▉| 693/696 [00:00<00:00, 3012.19it/s]\n"
     ]
    },
    {
     "name": "stdout",
     "output_type": "stream",
     "text": [
      "Stop on dᵢ^2 = -6.052047041293918e-08. len(inds)=694 / 697\n",
      "dppmapbd: cluster = 88 / 200\n"
     ]
    },
    {
     "name": "stderr",
     "output_type": "stream",
     "text": [
      "100%|█████████▉| 690/691 [00:00<00:00, 3087.84it/s]\n"
     ]
    },
    {
     "name": "stdout",
     "output_type": "stream",
     "text": [
      "Stop on dᵢ^2 = -5.096728372677717e-08. len(inds)=691 / 692\n",
      "dppmapbd: cluster = 89 / 200\n"
     ]
    },
    {
     "name": "stderr",
     "output_type": "stream",
     "text": [
      " 99%|█████████▉| 685/690 [00:00<00:00, 2958.78it/s]\n"
     ]
    },
    {
     "name": "stdout",
     "output_type": "stream",
     "text": [
      "Stop on dᵢ^2 = -1.1924581144739932e-07. len(inds)=686 / 691\n",
      "dppmapbd: cluster = 90 / 200\n"
     ]
    },
    {
     "name": "stderr",
     "output_type": "stream",
     "text": [
      "100%|█████████▉| 686/689 [00:00<00:00, 3093.92it/s]\n"
     ]
    },
    {
     "name": "stdout",
     "output_type": "stream",
     "text": [
      "Stop on dᵢ^2 = -4.4451456915339804e-07. len(inds)=687 / 690\n",
      "dppmapbd: cluster = 91 / 200\n"
     ]
    },
    {
     "name": "stderr",
     "output_type": "stream",
     "text": [
      " 99%|█████████▉| 683/687 [00:00<00:00, 3106.20it/s]\n"
     ]
    },
    {
     "name": "stdout",
     "output_type": "stream",
     "text": [
      "Stop on dᵢ^2 = -3.782879565150665e-10. len(inds)=684 / 688\n",
      "dppmapbd: cluster = 92 / 200\n"
     ]
    },
    {
     "name": "stderr",
     "output_type": "stream",
     "text": [
      " 99%|█████████▉| 681/686 [00:00<00:00, 3330.96it/s]\n"
     ]
    },
    {
     "name": "stdout",
     "output_type": "stream",
     "text": [
      "Stop on dᵢ^2 = -1.0299075370312494e-07. len(inds)=682 / 687\n",
      "dppmapbd: cluster = 93 / 200\n"
     ]
    },
    {
     "name": "stderr",
     "output_type": "stream",
     "text": [
      "100%|█████████▉| 680/683 [00:00<00:00, 3394.77it/s]\n"
     ]
    },
    {
     "name": "stdout",
     "output_type": "stream",
     "text": [
      "Stop on dᵢ^2 = -2.5205926590388117e-07. len(inds)=681 / 684\n",
      "dppmapbd: cluster = 94 / 200\n"
     ]
    },
    {
     "name": "stderr",
     "output_type": "stream",
     "text": [
      " 99%|█████████▉| 673/678 [00:00<00:00, 3373.40it/s]\n"
     ]
    },
    {
     "name": "stdout",
     "output_type": "stream",
     "text": [
      "Stop on dᵢ^2 = -1.1363757579374578e-07. len(inds)=674 / 679\n",
      "dppmapbd: cluster = 95 / 200\n"
     ]
    },
    {
     "name": "stderr",
     "output_type": "stream",
     "text": [
      " 99%|█████████▉| 670/677 [00:00<00:00, 3404.63it/s]\n"
     ]
    },
    {
     "name": "stdout",
     "output_type": "stream",
     "text": [
      "Stop on dᵢ^2 = -1.1555100626337023e-11. len(inds)=671 / 678\n",
      "dppmapbd: cluster = 96 / 200\n"
     ]
    },
    {
     "name": "stderr",
     "output_type": "stream",
     "text": [
      "100%|█████████▉| 669/672 [00:00<00:00, 3380.87it/s]\n"
     ]
    },
    {
     "name": "stdout",
     "output_type": "stream",
     "text": [
      "Stop on dᵢ^2 = -3.011465565805338e-08. len(inds)=670 / 673\n",
      "dppmapbd: cluster = 97 / 200\n"
     ]
    },
    {
     "name": "stderr",
     "output_type": "stream",
     "text": [
      " 99%|█████████▉| 667/671 [00:00<00:00, 3471.35it/s]\n"
     ]
    },
    {
     "name": "stdout",
     "output_type": "stream",
     "text": [
      "Stop on dᵢ^2 = -1.8642552390701894e-07. len(inds)=668 / 672\n",
      "dppmapbd: cluster = 98 / 200\n"
     ]
    },
    {
     "name": "stderr",
     "output_type": "stream",
     "text": [
      " 99%|█████████▉| 667/671 [00:00<00:00, 3483.25it/s]\n"
     ]
    },
    {
     "name": "stdout",
     "output_type": "stream",
     "text": [
      "Stop on dᵢ^2 = -2.6080419601726135e-08. len(inds)=668 / 672\n",
      "dppmapbd: cluster = 99 / 200\n"
     ]
    },
    {
     "name": "stderr",
     "output_type": "stream",
     "text": [
      "100%|█████████▉| 666/669 [00:00<00:00, 3414.68it/s]\n"
     ]
    },
    {
     "name": "stdout",
     "output_type": "stream",
     "text": [
      "Stop on dᵢ^2 = -8.246029636893581e-08. len(inds)=667 / 670\n",
      "dppmapbd: cluster = 100 / 200\n"
     ]
    },
    {
     "name": "stderr",
     "output_type": "stream",
     "text": [
      "100%|█████████▉| 667/668 [00:00<00:00, 3490.49it/s]\n"
     ]
    },
    {
     "name": "stdout",
     "output_type": "stream",
     "text": [
      "Stop on dᵢ^2 = -2.0864489158611832e-07. len(inds)=668 / 669\n",
      "dppmapbd: cluster = 101 / 200\n"
     ]
    },
    {
     "name": "stderr",
     "output_type": "stream",
     "text": [
      " 99%|█████████▉| 661/668 [00:00<00:00, 3375.65it/s]\n"
     ]
    },
    {
     "name": "stdout",
     "output_type": "stream",
     "text": [
      "Stop on dᵢ^2 = -9.32810308995613e-08. len(inds)=662 / 669\n",
      "dppmapbd: cluster = 102 / 200\n"
     ]
    },
    {
     "name": "stderr",
     "output_type": "stream",
     "text": [
      "100%|██████████| 665/665 [00:00<00:00, 3375.94it/s]\n"
     ]
    },
    {
     "name": "stdout",
     "output_type": "stream",
     "text": [
      "dppmapbd: cluster = 103 / 200\n"
     ]
    },
    {
     "name": "stderr",
     "output_type": "stream",
     "text": [
      " 99%|█████████▉| 657/663 [00:00<00:00, 3317.23it/s]\n"
     ]
    },
    {
     "name": "stdout",
     "output_type": "stream",
     "text": [
      "Stop on dᵢ^2 = -3.656693650100351e-07. len(inds)=658 / 664\n",
      "dppmapbd: cluster = 104 / 200\n"
     ]
    },
    {
     "name": "stderr",
     "output_type": "stream",
     "text": [
      " 99%|█████████▉| 658/662 [00:00<00:00, 3359.35it/s]\n"
     ]
    },
    {
     "name": "stdout",
     "output_type": "stream",
     "text": [
      "Stop on dᵢ^2 = -3.418767846596893e-08. len(inds)=659 / 663\n",
      "dppmapbd: cluster = 105 / 200\n"
     ]
    },
    {
     "name": "stderr",
     "output_type": "stream",
     "text": [
      "100%|█████████▉| 659/661 [00:00<00:00, 3414.78it/s]\n"
     ]
    },
    {
     "name": "stdout",
     "output_type": "stream",
     "text": [
      "Stop on dᵢ^2 = -7.980635530202562e-08. len(inds)=660 / 662\n",
      "dppmapbd: cluster = 106 / 200\n"
     ]
    },
    {
     "name": "stderr",
     "output_type": "stream",
     "text": [
      "100%|█████████▉| 655/657 [00:00<00:00, 3428.59it/s]\n"
     ]
    },
    {
     "name": "stdout",
     "output_type": "stream",
     "text": [
      "Stop on dᵢ^2 = -3.0224438063441994e-08. len(inds)=656 / 658\n",
      "dppmapbd: cluster = 107 / 200\n"
     ]
    },
    {
     "name": "stderr",
     "output_type": "stream",
     "text": [
      " 99%|█████████▉| 651/655 [00:00<00:00, 3528.59it/s]\n"
     ]
    },
    {
     "name": "stdout",
     "output_type": "stream",
     "text": [
      "Stop on dᵢ^2 = -1.194477050603382e-07. len(inds)=652 / 656\n",
      "dppmapbd: cluster = 108 / 200\n"
     ]
    },
    {
     "name": "stderr",
     "output_type": "stream",
     "text": [
      " 99%|█████████▉| 645/649 [00:00<00:00, 3446.83it/s]\n"
     ]
    },
    {
     "name": "stdout",
     "output_type": "stream",
     "text": [
      "Stop on dᵢ^2 = -3.934374248615313e-08. len(inds)=646 / 650\n",
      "dppmapbd: cluster = 109 / 200\n"
     ]
    },
    {
     "name": "stderr",
     "output_type": "stream",
     "text": [
      " 99%|█████████▉| 642/646 [00:00<00:00, 3489.22it/s]\n"
     ]
    },
    {
     "name": "stdout",
     "output_type": "stream",
     "text": [
      "Stop on dᵢ^2 = -1.610384742223303e-11. len(inds)=643 / 647\n",
      "dppmapbd: cluster = 110 / 200\n"
     ]
    },
    {
     "name": "stderr",
     "output_type": "stream",
     "text": [
      " 99%|█████████▉| 639/645 [00:00<00:00, 3088.23it/s]\n"
     ]
    },
    {
     "name": "stdout",
     "output_type": "stream",
     "text": [
      "Stop on dᵢ^2 = -3.018911698404736e-08. len(inds)=640 / 646\n",
      "dppmapbd: cluster = 111 / 200\n"
     ]
    },
    {
     "name": "stderr",
     "output_type": "stream",
     "text": [
      "100%|█████████▉| 643/645 [00:00<00:00, 3490.45it/s]\n"
     ]
    },
    {
     "name": "stdout",
     "output_type": "stream",
     "text": [
      "Stop on dᵢ^2 = -1.1921835607608955e-07. len(inds)=644 / 646\n",
      "dppmapbd: cluster = 112 / 200\n"
     ]
    },
    {
     "name": "stderr",
     "output_type": "stream",
     "text": [
      " 99%|█████████▉| 636/643 [00:00<00:00, 3488.15it/s]\n"
     ]
    },
    {
     "name": "stdout",
     "output_type": "stream",
     "text": [
      "Stop on dᵢ^2 = -4.4198298354558574e-08. len(inds)=637 / 644\n",
      "dppmapbd: cluster = 113 / 200\n"
     ]
    },
    {
     "name": "stderr",
     "output_type": "stream",
     "text": [
      "100%|█████████▉| 640/642 [00:00<00:00, 3488.00it/s]\n"
     ]
    },
    {
     "name": "stdout",
     "output_type": "stream",
     "text": [
      "Stop on dᵢ^2 = -5.959849431746989e-07. len(inds)=641 / 643\n",
      "dppmapbd: cluster = 114 / 200\n"
     ]
    },
    {
     "name": "stderr",
     "output_type": "stream",
     "text": [
      " 99%|█████████▉| 634/638 [00:00<00:00, 3478.70it/s]\n"
     ]
    },
    {
     "name": "stdout",
     "output_type": "stream",
     "text": [
      "Stop on dᵢ^2 = -9.81075913841778e-08. len(inds)=635 / 639\n",
      "dppmapbd: cluster = 115 / 200\n"
     ]
    },
    {
     "name": "stderr",
     "output_type": "stream",
     "text": [
      "100%|█████████▉| 632/634 [00:00<00:00, 3384.58it/s]\n"
     ]
    },
    {
     "name": "stdout",
     "output_type": "stream",
     "text": [
      "Stop on dᵢ^2 = -2.6840115197046543e-07. len(inds)=633 / 635\n",
      "dppmapbd: cluster = 116 / 200\n"
     ]
    },
    {
     "name": "stderr",
     "output_type": "stream",
     "text": [
      "100%|█████████▉| 630/632 [00:00<00:00, 2759.82it/s]\n"
     ]
    },
    {
     "name": "stdout",
     "output_type": "stream",
     "text": [
      "Stop on dᵢ^2 = -2.6473870207155414e-07. len(inds)=631 / 633\n",
      "dppmapbd: cluster = 117 / 200\n"
     ]
    },
    {
     "name": "stderr",
     "output_type": "stream",
     "text": [
      " 99%|█████████▉| 623/628 [00:02<00:00, 230.98it/s] \n"
     ]
    },
    {
     "name": "stdout",
     "output_type": "stream",
     "text": [
      "Stop on dᵢ^2 = -6.360378534964184e-08. len(inds)=624 / 629\n",
      "dppmapbd: cluster = 118 / 200\n"
     ]
    },
    {
     "name": "stderr",
     "output_type": "stream",
     "text": [
      "100%|█████████▉| 625/627 [00:00<00:00, 1399.98it/s]\n"
     ]
    },
    {
     "name": "stdout",
     "output_type": "stream",
     "text": [
      "Stop on dᵢ^2 = -1.4161710737425892e-07. len(inds)=626 / 628\n",
      "dppmapbd: cluster = 119 / 200\n"
     ]
    },
    {
     "name": "stderr",
     "output_type": "stream",
     "text": [
      "100%|██████████| 626/626 [00:00<00:00, 1400.97it/s]\n"
     ]
    },
    {
     "name": "stdout",
     "output_type": "stream",
     "text": [
      "dppmapbd: cluster = 120 / 200\n"
     ]
    },
    {
     "name": "stderr",
     "output_type": "stream",
     "text": [
      "100%|██████████| 625/625 [00:00<00:00, 832.41it/s] \n"
     ]
    },
    {
     "name": "stdout",
     "output_type": "stream",
     "text": [
      "dppmapbd: cluster = 121 / 200\n"
     ]
    },
    {
     "name": "stderr",
     "output_type": "stream",
     "text": [
      "100%|█████████▉| 618/621 [00:00<00:00, 2743.06it/s]\n"
     ]
    },
    {
     "name": "stdout",
     "output_type": "stream",
     "text": [
      "Stop on dᵢ^2 = -1.7761155390871863e-07. len(inds)=619 / 622\n",
      "dppmapbd: cluster = 122 / 200\n"
     ]
    },
    {
     "name": "stderr",
     "output_type": "stream",
     "text": [
      "100%|█████████▉| 618/620 [00:00<00:00, 1246.36it/s]\n"
     ]
    },
    {
     "name": "stdout",
     "output_type": "stream",
     "text": [
      "Stop on dᵢ^2 = -1.2636354540518369e-07. len(inds)=619 / 621\n",
      "dppmapbd: cluster = 123 / 200\n"
     ]
    },
    {
     "name": "stderr",
     "output_type": "stream",
     "text": [
      "100%|█████████▉| 613/616 [00:00<00:00, 1664.17it/s]\n"
     ]
    },
    {
     "name": "stdout",
     "output_type": "stream",
     "text": [
      "Stop on dᵢ^2 = -4.10238726544776e-07. len(inds)=614 / 617\n",
      "dppmapbd: cluster = 124 / 200\n"
     ]
    },
    {
     "name": "stderr",
     "output_type": "stream",
     "text": [
      "100%|█████████▉| 613/616 [00:00<00:00, 705.76it/s] \n"
     ]
    },
    {
     "name": "stdout",
     "output_type": "stream",
     "text": [
      "Stop on dᵢ^2 = -3.2631181090536643e-10. len(inds)=614 / 617\n",
      "dppmapbd: cluster = 125 / 200\n"
     ]
    },
    {
     "name": "stderr",
     "output_type": "stream",
     "text": [
      "100%|█████████▉| 613/614 [00:02<00:00, 221.40it/s] \n"
     ]
    },
    {
     "name": "stdout",
     "output_type": "stream",
     "text": [
      "Stop on dᵢ^2 = -7.977650966495275e-07. len(inds)=614 / 615\n",
      "dppmapbd: cluster = 126 / 200\n"
     ]
    },
    {
     "name": "stderr",
     "output_type": "stream",
     "text": [
      " 99%|█████████▉| 609/614 [00:00<00:00, 3091.68it/s]\n"
     ]
    },
    {
     "name": "stdout",
     "output_type": "stream",
     "text": [
      "Stop on dᵢ^2 = -2.726273748976382e-07. len(inds)=610 / 615\n",
      "dppmapbd: cluster = 127 / 200\n"
     ]
    },
    {
     "name": "stderr",
     "output_type": "stream",
     "text": [
      "100%|█████████▉| 612/614 [00:00<00:00, 3211.88it/s]\n"
     ]
    },
    {
     "name": "stdout",
     "output_type": "stream",
     "text": [
      "Stop on dᵢ^2 = -9.995748673219396e-10. len(inds)=613 / 615\n",
      "dppmapbd: cluster = 128 / 200\n"
     ]
    },
    {
     "name": "stderr",
     "output_type": "stream",
     "text": [
      " 99%|█████████▊| 601/609 [00:00<00:00, 3156.97it/s]\n"
     ]
    },
    {
     "name": "stdout",
     "output_type": "stream",
     "text": [
      "Stop on dᵢ^2 = -8.365773351837191e-12. len(inds)=602 / 610\n",
      "dppmapbd: cluster = 129 / 200\n"
     ]
    },
    {
     "name": "stderr",
     "output_type": "stream",
     "text": [
      " 99%|█████████▉| 600/604 [00:00<00:00, 3268.40it/s]\n"
     ]
    },
    {
     "name": "stdout",
     "output_type": "stream",
     "text": [
      "Stop on dᵢ^2 = -2.3106736080080736e-08. len(inds)=601 / 605\n",
      "dppmapbd: cluster = 130 / 200\n"
     ]
    },
    {
     "name": "stderr",
     "output_type": "stream",
     "text": [
      "100%|█████████▉| 597/598 [00:00<00:00, 2847.34it/s]\n"
     ]
    },
    {
     "name": "stdout",
     "output_type": "stream",
     "text": [
      "Stop on dᵢ^2 = -3.9501563264821016e-07. len(inds)=598 / 599\n",
      "dppmapbd: cluster = 131 / 200\n"
     ]
    },
    {
     "name": "stderr",
     "output_type": "stream",
     "text": [
      "100%|██████████| 596/596 [00:00<00:00, 3326.72it/s]\n"
     ]
    },
    {
     "name": "stdout",
     "output_type": "stream",
     "text": [
      "dppmapbd: cluster = 132 / 200\n"
     ]
    },
    {
     "name": "stderr",
     "output_type": "stream",
     "text": [
      "100%|█████████▉| 593/595 [00:00<00:00, 3151.75it/s]\n"
     ]
    },
    {
     "name": "stdout",
     "output_type": "stream",
     "text": [
      "Stop on dᵢ^2 = -2.9569491744041443e-08. len(inds)=594 / 596\n",
      "dppmapbd: cluster = 133 / 200\n"
     ]
    },
    {
     "name": "stderr",
     "output_type": "stream",
     "text": [
      " 99%|█████████▉| 591/594 [00:00<00:00, 2030.13it/s]\n"
     ]
    },
    {
     "name": "stdout",
     "output_type": "stream",
     "text": [
      "Stop on dᵢ^2 = -1.1921871134745743e-07. len(inds)=592 / 595\n",
      "dppmapbd: cluster = 134 / 200\n"
     ]
    },
    {
     "name": "stderr",
     "output_type": "stream",
     "text": [
      " 99%|█████████▉| 586/592 [00:00<00:00, 3338.68it/s]"
     ]
    },
    {
     "name": "stdout",
     "output_type": "stream",
     "text": [
      "Stop on dᵢ^2 = -8.940900642073757e-08. len(inds)=587 / 593\n"
     ]
    },
    {
     "name": "stderr",
     "output_type": "stream",
     "text": [
      "\n"
     ]
    },
    {
     "name": "stdout",
     "output_type": "stream",
     "text": [
      "dppmapbd: cluster = 135 / 200\n"
     ]
    },
    {
     "name": "stderr",
     "output_type": "stream",
     "text": [
      "100%|██████████| 591/591 [00:00<00:00, 3194.49it/s]\n"
     ]
    },
    {
     "name": "stdout",
     "output_type": "stream",
     "text": [
      "dppmapbd: cluster = 136 / 200\n"
     ]
    },
    {
     "name": "stderr",
     "output_type": "stream",
     "text": [
      " 99%|█████████▉| 584/587 [00:00<00:00, 3247.50it/s]\n"
     ]
    },
    {
     "name": "stdout",
     "output_type": "stream",
     "text": [
      "Stop on dᵢ^2 = -1.4909042533872707e-07. len(inds)=585 / 588\n",
      "dppmapbd: cluster = 137 / 200\n"
     ]
    },
    {
     "name": "stderr",
     "output_type": "stream",
     "text": [
      " 99%|█████████▉| 580/583 [00:00<00:00, 3240.84it/s]\n"
     ]
    },
    {
     "name": "stdout",
     "output_type": "stream",
     "text": [
      "Stop on dᵢ^2 = -1.7309565691903117e-07. len(inds)=581 / 584\n",
      "dppmapbd: cluster = 138 / 200\n"
     ]
    },
    {
     "name": "stderr",
     "output_type": "stream",
     "text": [
      " 98%|█████████▊| 570/582 [00:00<00:00, 3320.26it/s]"
     ]
    },
    {
     "name": "stdout",
     "output_type": "stream",
     "text": [
      "Stop on dᵢ^2 = -1.8177194471835634e-10. len(inds)=571 / 583\n",
      "dppmapbd: cluster = 139 / 200\n"
     ]
    },
    {
     "name": "stderr",
     "output_type": "stream",
     "text": [
      "\n",
      "100%|██████████| 577/577 [00:00<00:00, 3300.81it/s]"
     ]
    },
    {
     "name": "stdout",
     "output_type": "stream",
     "text": [
      "dppmapbd: cluster = 140 / 200\n"
     ]
    },
    {
     "name": "stderr",
     "output_type": "stream",
     "text": [
      "\n",
      " 99%|█████████▉| 569/573 [00:00<00:00, 3281.06it/s]\n"
     ]
    },
    {
     "name": "stdout",
     "output_type": "stream",
     "text": [
      "Stop on dᵢ^2 = -9.839330739058738e-11. len(inds)=570 / 574\n",
      "dppmapbd: cluster = 141 / 200\n"
     ]
    },
    {
     "name": "stderr",
     "output_type": "stream",
     "text": [
      "100%|██████████| 568/568 [00:00<00:00, 3064.34it/s]\n"
     ]
    },
    {
     "name": "stdout",
     "output_type": "stream",
     "text": [
      "dppmapbd: cluster = 142 / 200\n"
     ]
    },
    {
     "name": "stderr",
     "output_type": "stream",
     "text": [
      " 98%|█████████▊| 558/567 [00:00<00:00, 3458.96it/s]\n"
     ]
    },
    {
     "name": "stdout",
     "output_type": "stream",
     "text": [
      "Stop on dᵢ^2 = -1.076618308393229e-11. len(inds)=559 / 568\n",
      "dppmapbd: cluster = 143 / 200\n"
     ]
    },
    {
     "name": "stderr",
     "output_type": "stream",
     "text": [
      " 99%|█████████▉| 560/564 [00:00<00:00, 3014.79it/s]\n"
     ]
    },
    {
     "name": "stdout",
     "output_type": "stream",
     "text": [
      "Stop on dᵢ^2 = -2.0139654566264653e-07. len(inds)=561 / 565\n",
      "dppmapbd: cluster = 144 / 200\n"
     ]
    },
    {
     "name": "stderr",
     "output_type": "stream",
     "text": [
      "100%|█████████▉| 558/560 [00:00<00:00, 3248.08it/s]"
     ]
    },
    {
     "name": "stdout",
     "output_type": "stream",
     "text": [
      "Stop on dᵢ^2 = -4.489009858277271e-11. len(inds)=559 / 561\n",
      "dppmapbd: cluster = 145 / 200\n"
     ]
    },
    {
     "name": "stderr",
     "output_type": "stream",
     "text": [
      "\n",
      " 99%|█████████▉| 553/557 [00:00<00:00, 3422.37it/s]"
     ]
    },
    {
     "name": "stdout",
     "output_type": "stream",
     "text": [
      "Stop on dᵢ^2 = -4.456410934716715e-11. len(inds)=554 / 558\n",
      "dppmapbd: cluster = 146 / 200\n"
     ]
    },
    {
     "name": "stderr",
     "output_type": "stream",
     "text": [
      "\n",
      "100%|██████████| 556/556 [00:00<00:00, 3328.27it/s]"
     ]
    },
    {
     "name": "stdout",
     "output_type": "stream",
     "text": [
      "dppmapbd: cluster = 147 / 200\n"
     ]
    },
    {
     "name": "stderr",
     "output_type": "stream",
     "text": [
      "\n",
      "100%|█████████▉| 552/553 [00:00<00:00, 3312.37it/s]\n"
     ]
    },
    {
     "name": "stdout",
     "output_type": "stream",
     "text": [
      "Stop on dᵢ^2 = -5.407599132922769e-07. len(inds)=553 / 554\n",
      "dppmapbd: cluster = 148 / 200\n"
     ]
    },
    {
     "name": "stderr",
     "output_type": "stream",
     "text": [
      " 99%|█████████▉| 549/552 [00:00<00:00, 3438.40it/s]"
     ]
    },
    {
     "name": "stdout",
     "output_type": "stream",
     "text": [
      "Stop on dᵢ^2 = -9.34772675931228e-11. len(inds)=550 / 553\n",
      "dppmapbd: cluster = 149 / 200\n"
     ]
    },
    {
     "name": "stderr",
     "output_type": "stream",
     "text": [
      "\n",
      " 99%|█████████▊| 545/552 [00:00<00:00, 3352.55it/s]"
     ]
    },
    {
     "name": "stdout",
     "output_type": "stream",
     "text": [
      "Stop on dᵢ^2 = -2.3850077468523523e-07. len(inds)=546 / 553\n",
      "dppmapbd: cluster = 150 / 200\n"
     ]
    },
    {
     "name": "stderr",
     "output_type": "stream",
     "text": [
      "\n",
      "100%|█████████▉| 549/550 [00:00<00:00, 3353.70it/s]"
     ]
    },
    {
     "name": "stdout",
     "output_type": "stream",
     "text": [
      "Stop on dᵢ^2 = -3.8752645536987984e-07. len(inds)=550 / 551\n",
      "dppmapbd: cluster = 151 / 200\n"
     ]
    },
    {
     "name": "stderr",
     "output_type": "stream",
     "text": [
      "\n",
      "100%|█████████▉| 543/544 [00:00<00:00, 3501.58it/s]\n"
     ]
    },
    {
     "name": "stdout",
     "output_type": "stream",
     "text": [
      "Stop on dᵢ^2 = -2.2028430635145924e-07. len(inds)=544 / 545\n",
      "dppmapbd: cluster = 152 / 200\n"
     ]
    },
    {
     "name": "stderr",
     "output_type": "stream",
     "text": [
      " 99%|█████████▉| 539/543 [00:00<00:00, 3416.49it/s]"
     ]
    },
    {
     "name": "stdout",
     "output_type": "stream",
     "text": [
      "Stop on dᵢ^2 = -1.0248547255287122e-07. len(inds)=540 / 544\n",
      "dppmapbd: cluster = 153 / 200\n"
     ]
    },
    {
     "name": "stderr",
     "output_type": "stream",
     "text": [
      "\n",
      " 99%|█████████▉| 539/543 [00:00<00:00, 3563.01it/s]\n"
     ]
    },
    {
     "name": "stdout",
     "output_type": "stream",
     "text": [
      "Stop on dᵢ^2 = -8.204276724654846e-08. len(inds)=540 / 544\n",
      "dppmapbd: cluster = 154 / 200\n"
     ]
    },
    {
     "name": "stderr",
     "output_type": "stream",
     "text": [
      " 94%|█████████▍| 509/542 [00:00<00:00, 3389.69it/s]\n"
     ]
    },
    {
     "name": "stdout",
     "output_type": "stream",
     "text": [
      "Stop on dᵢ^2 = -2.4569501988480624e-09. len(inds)=510 / 543\n",
      "dppmapbd: cluster = 155 / 200\n"
     ]
    },
    {
     "name": "stderr",
     "output_type": "stream",
     "text": [
      "100%|█████████▉| 533/535 [00:00<00:00, 3449.17it/s]\n"
     ]
    },
    {
     "name": "stdout",
     "output_type": "stream",
     "text": [
      "Stop on dᵢ^2 = -1.7884488556774158e-07. len(inds)=534 / 536\n",
      "dppmapbd: cluster = 156 / 200\n"
     ]
    },
    {
     "name": "stderr",
     "output_type": "stream",
     "text": [
      " 98%|█████████▊| 525/534 [00:00<00:00, 3549.90it/s]\n"
     ]
    },
    {
     "name": "stdout",
     "output_type": "stream",
     "text": [
      "Stop on dᵢ^2 = -5.232180555481136e-08. len(inds)=526 / 535\n",
      "dppmapbd: cluster = 157 / 200\n"
     ]
    },
    {
     "name": "stderr",
     "output_type": "stream",
     "text": [
      " 99%|█████████▉| 524/528 [00:00<00:00, 3571.83it/s]\n"
     ]
    },
    {
     "name": "stdout",
     "output_type": "stream",
     "text": [
      "Stop on dᵢ^2 = -5.966813887425815e-08. len(inds)=525 / 529\n",
      "dppmapbd: cluster = 158 / 200\n"
     ]
    },
    {
     "name": "stderr",
     "output_type": "stream",
     "text": [
      " 99%|█████████▉| 507/512 [00:00<00:00, 3450.35it/s]\n"
     ]
    },
    {
     "name": "stdout",
     "output_type": "stream",
     "text": [
      "Stop on dᵢ^2 = -1.2040075880737078e-10. len(inds)=508 / 513\n",
      "dppmapbd: cluster = 159 / 200\n"
     ]
    },
    {
     "name": "stderr",
     "output_type": "stream",
     "text": [
      "100%|█████████▉| 509/511 [00:00<00:00, 3562.29it/s]\n"
     ]
    },
    {
     "name": "stdout",
     "output_type": "stream",
     "text": [
      "Stop on dᵢ^2 = -2.6827368060367007e-07. len(inds)=510 / 512\n",
      "dppmapbd: cluster = 160 / 200\n"
     ]
    },
    {
     "name": "stderr",
     "output_type": "stream",
     "text": [
      " 99%|█████████▉| 506/510 [00:00<00:00, 3415.89it/s]\n"
     ]
    },
    {
     "name": "stdout",
     "output_type": "stream",
     "text": [
      "Stop on dᵢ^2 = -5.971957506289982e-08. len(inds)=507 / 511\n",
      "dppmapbd: cluster = 161 / 200\n"
     ]
    },
    {
     "name": "stderr",
     "output_type": "stream",
     "text": [
      "100%|██████████| 509/509 [00:00<00:00, 3443.05it/s]\n"
     ]
    },
    {
     "name": "stdout",
     "output_type": "stream",
     "text": [
      "dppmapbd: cluster = 162 / 200\n"
     ]
    },
    {
     "name": "stderr",
     "output_type": "stream",
     "text": [
      "100%|█████████▉| 506/507 [00:00<00:00, 3107.47it/s]\n"
     ]
    },
    {
     "name": "stdout",
     "output_type": "stream",
     "text": [
      "Stop on dᵢ^2 = -1.0260093858960317e-06. len(inds)=507 / 508\n",
      "dppmapbd: cluster = 163 / 200\n"
     ]
    },
    {
     "name": "stderr",
     "output_type": "stream",
     "text": [
      " 99%|█████████▉| 501/506 [00:00<00:00, 3493.17it/s]\n"
     ]
    },
    {
     "name": "stdout",
     "output_type": "stream",
     "text": [
      "Stop on dᵢ^2 = -8.941406548501618e-08. len(inds)=502 / 507\n",
      "dppmapbd: cluster = 164 / 200\n"
     ]
    },
    {
     "name": "stderr",
     "output_type": "stream",
     "text": [
      "100%|█████████▉| 499/500 [00:00<00:00, 3278.75it/s]\n"
     ]
    },
    {
     "name": "stdout",
     "output_type": "stream",
     "text": [
      "Stop on dᵢ^2 = -1.8814937163824652e-07. len(inds)=500 / 501\n",
      "dppmapbd: cluster = 165 / 200\n"
     ]
    },
    {
     "name": "stderr",
     "output_type": "stream",
     "text": [
      " 99%|█████████▉| 494/499 [00:00<00:00, 3246.70it/s]\n"
     ]
    },
    {
     "name": "stdout",
     "output_type": "stream",
     "text": [
      "Stop on dᵢ^2 = -9.706284487265293e-08. len(inds)=495 / 500\n",
      "dppmapbd: cluster = 166 / 200\n"
     ]
    },
    {
     "name": "stderr",
     "output_type": "stream",
     "text": [
      "100%|█████████▉| 494/495 [00:00<00:00, 3401.68it/s]\n"
     ]
    },
    {
     "name": "stdout",
     "output_type": "stream",
     "text": [
      "Stop on dᵢ^2 = -2.8317572287051007e-07. len(inds)=495 / 496\n",
      "dppmapbd: cluster = 167 / 200\n"
     ]
    },
    {
     "name": "stderr",
     "output_type": "stream",
     "text": [
      "100%|█████████▉| 490/491 [00:00<00:00, 3447.57it/s]\n"
     ]
    },
    {
     "name": "stdout",
     "output_type": "stream",
     "text": [
      "Stop on dᵢ^2 = -2.832322252288577e-07. len(inds)=491 / 492\n",
      "dppmapbd: cluster = 168 / 200\n"
     ]
    },
    {
     "name": "stderr",
     "output_type": "stream",
     "text": [
      "100%|██████████| 491/491 [00:00<00:00, 3546.53it/s]\n"
     ]
    },
    {
     "name": "stdout",
     "output_type": "stream",
     "text": [
      "dppmapbd: cluster = 169 / 200\n"
     ]
    },
    {
     "name": "stderr",
     "output_type": "stream",
     "text": [
      " 99%|█████████▉| 483/488 [00:00<00:00, 3340.24it/s]\n"
     ]
    },
    {
     "name": "stdout",
     "output_type": "stream",
     "text": [
      "Stop on dᵢ^2 = -1.506079172486352e-08. len(inds)=484 / 489\n",
      "dppmapbd: cluster = 170 / 200\n"
     ]
    },
    {
     "name": "stderr",
     "output_type": "stream",
     "text": [
      "100%|██████████| 485/485 [00:00<00:00, 2930.65it/s]"
     ]
    },
    {
     "name": "stdout",
     "output_type": "stream",
     "text": [
      "dppmapbd: cluster = 171 / 200\n"
     ]
    },
    {
     "name": "stderr",
     "output_type": "stream",
     "text": [
      "\n",
      " 99%|█████████▉| 479/484 [00:00<00:00, 3408.52it/s]\n"
     ]
    },
    {
     "name": "stdout",
     "output_type": "stream",
     "text": [
      "Stop on dᵢ^2 = -1.6189077856054723e-11. len(inds)=480 / 485\n",
      "dppmapbd: cluster = 172 / 200\n"
     ]
    },
    {
     "name": "stderr",
     "output_type": "stream",
     "text": [
      " 99%|█████████▉| 477/482 [00:00<00:00, 3576.62it/s]\n"
     ]
    },
    {
     "name": "stdout",
     "output_type": "stream",
     "text": [
      "Stop on dᵢ^2 = -1.3175553021937958e-06. len(inds)=478 / 483\n",
      "dppmapbd: cluster = 173 / 200\n"
     ]
    },
    {
     "name": "stderr",
     "output_type": "stream",
     "text": [
      "100%|█████████▉| 475/477 [00:00<00:00, 3555.07it/s]\n"
     ]
    },
    {
     "name": "stdout",
     "output_type": "stream",
     "text": [
      "Stop on dᵢ^2 = -6.704223981524038e-11. len(inds)=476 / 478\n",
      "dppmapbd: cluster = 174 / 200\n"
     ]
    },
    {
     "name": "stderr",
     "output_type": "stream",
     "text": [
      " 99%|█████████▉| 471/474 [00:00<00:00, 3388.71it/s]\n"
     ]
    },
    {
     "name": "stdout",
     "output_type": "stream",
     "text": [
      "Stop on dᵢ^2 = -5.968723826299538e-08. len(inds)=472 / 475\n",
      "dppmapbd: cluster = 175 / 200\n"
     ]
    },
    {
     "name": "stderr",
     "output_type": "stream",
     "text": [
      " 99%|█████████▉| 467/470 [00:00<00:00, 3211.70it/s]\n"
     ]
    },
    {
     "name": "stdout",
     "output_type": "stream",
     "text": [
      "Stop on dᵢ^2 = -7.635874571532142e-11. len(inds)=468 / 471\n",
      "dppmapbd: cluster = 176 / 200\n"
     ]
    },
    {
     "name": "stderr",
     "output_type": "stream",
     "text": [
      " 99%|█████████▉| 459/464 [00:00<00:00, 674.74it/s] \n"
     ]
    },
    {
     "name": "stdout",
     "output_type": "stream",
     "text": [
      "Stop on dᵢ^2 = -5.960473004051892e-08. len(inds)=460 / 465\n",
      "dppmapbd: cluster = 177 / 200\n"
     ]
    },
    {
     "name": "stderr",
     "output_type": "stream",
     "text": [
      " 99%|█████████▉| 459/462 [00:00<00:00, 3301.46it/s]\n"
     ]
    },
    {
     "name": "stdout",
     "output_type": "stream",
     "text": [
      "Stop on dᵢ^2 = -2.980695512633247e-07. len(inds)=460 / 463\n",
      "dppmapbd: cluster = 178 / 200\n"
     ]
    },
    {
     "name": "stderr",
     "output_type": "stream",
     "text": [
      " 99%|█████████▉| 454/458 [00:00<00:00, 3305.54it/s]\n"
     ]
    },
    {
     "name": "stdout",
     "output_type": "stream",
     "text": [
      "Stop on dᵢ^2 = -1.4906694900673756e-07. len(inds)=455 / 459\n",
      "dppmapbd: cluster = 179 / 200\n"
     ]
    },
    {
     "name": "stderr",
     "output_type": "stream",
     "text": [
      " 99%|█████████▉| 454/458 [00:00<00:00, 3353.67it/s]\n"
     ]
    },
    {
     "name": "stdout",
     "output_type": "stream",
     "text": [
      "Stop on dᵢ^2 = -9.81770540420257e-08. len(inds)=455 / 459\n",
      "dppmapbd: cluster = 180 / 200\n"
     ]
    },
    {
     "name": "stderr",
     "output_type": "stream",
     "text": [
      "100%|█████████▉| 455/457 [00:00<00:00, 3330.54it/s]\n"
     ]
    },
    {
     "name": "stdout",
     "output_type": "stream",
     "text": [
      "Stop on dᵢ^2 = -9.872019290924072e-08. len(inds)=456 / 458\n",
      "dppmapbd: cluster = 181 / 200\n"
     ]
    },
    {
     "name": "stderr",
     "output_type": "stream",
     "text": [
      "100%|█████████▉| 450/451 [00:00<00:00, 3344.60it/s]\n"
     ]
    },
    {
     "name": "stdout",
     "output_type": "stream",
     "text": [
      "Stop on dᵢ^2 = -4.321894380154845e-07. len(inds)=451 / 452\n",
      "dppmapbd: cluster = 182 / 200\n"
     ]
    },
    {
     "name": "stderr",
     "output_type": "stream",
     "text": [
      "100%|██████████| 444/444 [00:00<00:00, 3369.82it/s]\n"
     ]
    },
    {
     "name": "stdout",
     "output_type": "stream",
     "text": [
      "dppmapbd: cluster = 183 / 200\n"
     ]
    },
    {
     "name": "stderr",
     "output_type": "stream",
     "text": [
      "100%|█████████▉| 437/438 [00:00<00:00, 3261.95it/s]\n"
     ]
    },
    {
     "name": "stdout",
     "output_type": "stream",
     "text": [
      "Stop on dᵢ^2 = -1.6344711184501648e-07. len(inds)=438 / 439\n",
      "dppmapbd: cluster = 184 / 200\n"
     ]
    },
    {
     "name": "stderr",
     "output_type": "stream",
     "text": [
      "100%|██████████| 435/435 [00:00<00:00, 2873.83it/s]\n"
     ]
    },
    {
     "name": "stdout",
     "output_type": "stream",
     "text": [
      "dppmapbd: cluster = 185 / 200\n"
     ]
    },
    {
     "name": "stderr",
     "output_type": "stream",
     "text": [
      "100%|██████████| 426/426 [00:00<00:00, 3361.93it/s]\n"
     ]
    },
    {
     "name": "stdout",
     "output_type": "stream",
     "text": [
      "dppmapbd: cluster = 186 / 200\n"
     ]
    },
    {
     "name": "stderr",
     "output_type": "stream",
     "text": [
      " 99%|█████████▉| 420/424 [00:00<00:00, 3397.68it/s]\n"
     ]
    },
    {
     "name": "stdout",
     "output_type": "stream",
     "text": [
      "Stop on dᵢ^2 = -2.086425325842356e-07. len(inds)=421 / 425\n",
      "dppmapbd: cluster = 187 / 200\n"
     ]
    },
    {
     "name": "stderr",
     "output_type": "stream",
     "text": [
      "100%|█████████▉| 421/423 [00:00<00:00, 3353.11it/s]\n"
     ]
    },
    {
     "name": "stdout",
     "output_type": "stream",
     "text": [
      "Stop on dᵢ^2 = -4.7968562455480424e-08. len(inds)=422 / 424\n",
      "dppmapbd: cluster = 188 / 200\n"
     ]
    },
    {
     "name": "stderr",
     "output_type": "stream",
     "text": [
      " 98%|█████████▊| 416/423 [00:00<00:00, 3294.10it/s]\n"
     ]
    },
    {
     "name": "stdout",
     "output_type": "stream",
     "text": [
      "Stop on dᵢ^2 = -1.49933843118788e-08. len(inds)=417 / 424\n",
      "dppmapbd: cluster = 189 / 200\n"
     ]
    },
    {
     "name": "stderr",
     "output_type": "stream",
     "text": [
      "100%|█████████▉| 415/417 [00:00<00:00, 3335.48it/s]\n"
     ]
    },
    {
     "name": "stdout",
     "output_type": "stream",
     "text": [
      "Stop on dᵢ^2 = -3.2785277426228276e-07. len(inds)=416 / 418\n",
      "dppmapbd: cluster = 190 / 200\n"
     ]
    },
    {
     "name": "stderr",
     "output_type": "stream",
     "text": [
      "100%|█████████▉| 395/396 [00:00<00:00, 3393.02it/s]\n"
     ]
    },
    {
     "name": "stdout",
     "output_type": "stream",
     "text": [
      "Stop on dᵢ^2 = -7.492203302206235e-09. len(inds)=396 / 397\n",
      "dppmapbd: cluster = 191 / 200\n"
     ]
    },
    {
     "name": "stderr",
     "output_type": "stream",
     "text": [
      " 99%|█████████▉| 334/337 [00:00<00:00, 3818.22it/s]\n"
     ]
    },
    {
     "name": "stdout",
     "output_type": "stream",
     "text": [
      "Stop on dᵢ^2 = -7.452095474036469e-08. len(inds)=335 / 338\n",
      "dppmapbd: cluster = 192 / 200\n"
     ]
    },
    {
     "name": "stderr",
     "output_type": "stream",
     "text": [
      " 99%|█████████▉| 325/328 [00:00<00:00, 3830.73it/s]\n"
     ]
    },
    {
     "name": "stdout",
     "output_type": "stream",
     "text": [
      "Stop on dᵢ^2 = -1.937458335987685e-07. len(inds)=326 / 329\n",
      "dppmapbd: cluster = 193 / 200\n"
     ]
    },
    {
     "name": "stderr",
     "output_type": "stream",
     "text": [
      " 99%|█████████▉| 321/323 [00:00<00:00, 3867.42it/s]\n"
     ]
    },
    {
     "name": "stdout",
     "output_type": "stream",
     "text": [
      "Stop on dᵢ^2 = -1.1922115561446844e-07. len(inds)=322 / 324\n",
      "dppmapbd: cluster = 194 / 200\n"
     ]
    },
    {
     "name": "stderr",
     "output_type": "stream",
     "text": [
      " 99%|█████████▉| 300/302 [00:00<00:00, 4069.53it/s]"
     ]
    },
    {
     "name": "stdout",
     "output_type": "stream",
     "text": [
      "Stop on dᵢ^2 = -1.0248622572817112e-07. len(inds)=301 / 303\n",
      "dppmapbd: cluster = 195 / 200\n"
     ]
    },
    {
     "name": "stderr",
     "output_type": "stream",
     "text": [
      "\n",
      " 98%|█████████▊| 293/298 [00:00<00:00, 4084.90it/s]\n"
     ]
    },
    {
     "name": "stdout",
     "output_type": "stream",
     "text": [
      "Stop on dᵢ^2 = -7.828063530723739e-08. len(inds)=294 / 299\n",
      "dppmapbd: cluster = 196 / 200\n"
     ]
    },
    {
     "name": "stderr",
     "output_type": "stream",
     "text": [
      "100%|██████████| 297/297 [00:00<00:00, 4012.42it/s]\n"
     ]
    },
    {
     "name": "stdout",
     "output_type": "stream",
     "text": [
      "dppmapbd: cluster = 197 / 200\n"
     ]
    },
    {
     "name": "stderr",
     "output_type": "stream",
     "text": [
      "100%|█████████▉| 265/266 [00:00<00:00, 4169.49it/s]\n"
     ]
    },
    {
     "name": "stdout",
     "output_type": "stream",
     "text": [
      "Stop on dᵢ^2 = -1.3413033173037547e-07. len(inds)=266 / 267\n",
      "dppmapbd: cluster = 198 / 200\n"
     ]
    },
    {
     "name": "stderr",
     "output_type": "stream",
     "text": [
      "  0%|          | 1/240 [00:00<00:00, 1397.64it/s]\n"
     ]
    },
    {
     "name": "stdout",
     "output_type": "stream",
     "text": [
      "Stop on dᵢ^2 = 0.0. len(inds)=2 / 241\n",
      "dppmapbd: cluster = 199 / 200\n"
     ]
    },
    {
     "name": "stderr",
     "output_type": "stream",
     "text": [
      "100%|██████████| 232/232 [00:00<00:00, 4383.28it/s]\n"
     ]
    },
    {
     "name": "stdout",
     "output_type": "stream",
     "text": [
      "Rank datapoints with dppmapbd_nc=200_k=lin_kmd=mpnet took 70.80 seconds.\n"
     ]
    }
   ],
   "source": [
    "## the copy in `note_pruning.py` is most up to date\n",
    "\n",
    "pkl_extra = {}\n",
    "inds = None\n",
    "\n",
    "# sort_by = 'dppmap_theta=.5_k=vmf_gamma=1.0_kmd=mpnet_q=log+prob_qmd=llama7b'\n",
    "\n",
    "\n",
    "# sort_by = 'dppmap_k=vmf_gamma=1.0_kmd=mpnet'\n",
    "# sort_by = 'dppmap_k=vmf_gamma=0.3_kmd=mpnet'\n",
    "# sort_by = 'dppmap_k=vmf_gamma=3.0_kmd=mpnet'\n",
    "# sort_by = 'dppmap_theta=.5_k=vmf_gamma=3.0_kmd=mpnet_q=log+prob_qmd=mistral7b'\n",
    "\n",
    "sort_by = 'dppmapbd_nc=200_k=vmf_gamma=0.3_kmd=mpnet'\n",
    "# sort_by = 'dppmapbd_nc=200_k=lin_kmd=mpnet'\n",
    "# sort_by = 'dppmapbd_nc=200_k=vmf_gamma=1.0_kmd=mpnet'\n",
    "\n",
    "\n",
    "\n",
    "t0 = time.time()\n",
    "if any(sort_by.startswith(x) for x in [\n",
    "        'log_prob', \n",
    "        'el2n',  # el2n_agg={l2n|mean}\n",
    "        'logit_margin', \n",
    "        'grad',  # grad_{loraB|qkv|all|last}_l2n\n",
    "    ]):\n",
    "    if sort_by not in d:\n",
    "        print(f'sort_by={sort_by} not in model output: ({dataset}, {model_name})')\n",
    "    S = np.nan_to_num(d[sort_by], nan=np.nanmean(d[sort_by])).squeeze()\n",
    "elif sort_by.startswith('random'):\n",
    "    match = re.search(r's=(\\d+)', sort_by)\n",
    "    seed = int(match.group(1))\n",
    "    np.random.seed(seed)\n",
    "    S = np.random.rand(N)\n",
    "    assert(S.shape == np.unique(S).shape)\n",
    "if sort_by.startswith('kmeans'):\n",
    "    dist_fn = 'l2' if sort_by.startswith('kmeansl2') else 'cd'\n",
    "    match = re.search(r'nc=(\\d+)', sort_by)\n",
    "    n_clusters = int(match.group(1)) if match else None\n",
    "    match = re.search(r'emb=([^_]+)', sort_by)\n",
    "    embed_type = re.sub(r'[+]', '_', match.group(1)) if match else 'text_embedding'\n",
    "    if embed_type not in set(d.keys()).intersection(set(['text_embedding', 'grad_rp_loraB'])):\n",
    "        raise ValueError(f'Invalid embed_type = {embed_type}')\n",
    "    emb = d[embed_type]\n",
    "    print(f'Running kmeans(n_clusters={n_clusters}) {{ {embed_type} }} to compute {\"euclidean\" if dist_fn == \"l2\" else \"cosine\"} distance to cluster centers.')\n",
    "    S, kms = sort_kmeans_dist_to_cluster_centers(emb, n_clusters, dist_fn=dist_fn)\n",
    "    pkl_extra['kmeans'] = kms\n",
    "elif sort_by.startswith('semdedup'):\n",
    "    kvs = parse_kv_from_string(sort_by)\n",
    "    md = kvs['md']\n",
    "    if (md == 'mpnet' and model_name != 'all-mpnet-base-v2') or \\\n",
    "    (md == 'bge' and model_name != 'bge-large-en-v1.5') or \\\n",
    "    (md == 'llama7b' and not model_name.lower().startswith('llama-7b')) or \\\n",
    "    (md == 'mistral7b' and not model_name.lower().startswith('mistral-7b')):\n",
    "        raise ValueError(f'md={md} does not match with model_name={model_name}')\n",
    "    clustering_fn = create_string_from_kv(\n",
    "        {k: v for k, v in kvs.items() if k in ['cl', 'nc', 'bsz', 'ms', 'emb']})\n",
    "    dist = kvs['dist']\n",
    "    assert(dist in ['cd', 'l2'])\n",
    "    embed_type = re.sub(r'[+]', '_', kvs['emb'])\n",
    "    save_dir_clustering = os.path.join('clustering', encode_fn_type, model_name, dataset, clustering_fn)\n",
    "    os.makedirs(save_dir_clustering, exist_ok=True)\n",
    "    # normalize embeddings to unit norm if the model that generated the embeddings does the \n",
    "    # same, e.g., mpnet, bge, or if using spherical kmeans clustering.\n",
    "    if any(x in model_name for x in ['mpnet', 'bge']) or 'kmeansfaisscd' in clustering_fn:\n",
    "        normalize_embeddings = True\n",
    "    else:\n",
    "        normalize_embeddings = False\n",
    "    kwargs = {\n",
    "        'model_name': model_name,\n",
    "        'dataset': dataset,\n",
    "        'encode_fn_type': encode_fn_type,\n",
    "        'clustering_fn': clustering_fn,\n",
    "        'embed_type': embed_type,\n",
    "        'normalize_embeddings': normalize_embeddings,\n",
    "        'first_N': None,\n",
    "        'save_dir': save_dir_clustering,\n",
    "    }\n",
    "    print(f'Calling note_pruning_clustering.main with kwargs={json.dumps(kwargs, indent=4)}')\n",
    "    X, Y, C = note_pruning_clustering.main(**kwargs)\n",
    "    print('Apply SemDeDup to discard duplicates.')\n",
    "    S = note_pruning_clustering.semdedup(X, Y, dist=dist, device='cuda')\n",
    "elif sort_by.startswith('dpp_'):\n",
    "    match = re.search(r'k=(\\w+)', sort_by)\n",
    "    kernel_type = match.group(1) if match else None\n",
    "    match = re.search(r'emb=([^_]+)', sort_by)\n",
    "    embed_type = re.sub(r'[+]', '_', match.group(1)) if match else 'text_embedding'\n",
    "    emb = d[embed_type]\n",
    "    log_prob = d['log_prob']\n",
    "    inds = sort_dpp_map_memefficient(emb, log_prob, kernel_type=kernel_type, torch_compile=False)\n",
    "elif sort_by.startswith('dppmap_'):\n",
    "    kvs = parse_kv_from_string(sort_by)\n",
    "    if kvs['k'] == 'vmf':\n",
    "        kernel_kwargs = {'gamma': kvs['gamma']}\n",
    "    elif kvs['k'] == 'rbf':\n",
    "        kernel_kwargs = {'sigma': kvs['sigma']}\n",
    "    else:\n",
    "        kernel_kwargs = {}\n",
    "    kwargs = {\n",
    "        'dppmap_type': 'dppmap',\n",
    "        'dataset': dataset,\n",
    "        'kernel_type': kvs['k'],\n",
    "        'kernel_embed_model': kvs['kmd'],\n",
    "        'kernel_embed_type': re.sub(r'[+]', '_', kvs['kemb']) if 'kemb' in kvs else 'text_embedding',\n",
    "        'kernel_kwargs': kernel_kwargs,\n",
    "        'quality_score_type': re.sub(r'[+]', '_', kvs['q']) if 'q' in kvs else None,\n",
    "        'quality_score_embed_model': kvs.get('qmd', None),\n",
    "        'theta': kvs.get('theta', 0.), # defaults to just diversity no quality\n",
    "        'device': 'cuda',\n",
    "        'max_length': min(50_000, .5*N), # balance finish job within 6 hrs with wanting to prune a lot\n",
    "        'run_name': sort_by,\n",
    "    }\n",
    "    print(f'Calling note_pruning_dpp.compute_dppmap with kwargs={json.dumps(kwargs, indent=4)}')\n",
    "    S, output = note_pruning_dpp.compute_dppmap(**kwargs)\n",
    "elif sort_by.startswith('dppmapbd'):\n",
    "    kvs = parse_kv_from_string(sort_by)\n",
    "    md = kvs['kmd']\n",
    "    if (md == 'mpnet' and model_name != 'all-mpnet-base-v2') or \\\n",
    "        (md == 'bge' and model_name != 'bge-large-en-v1.5') or \\\n",
    "        (md == 'llama7b' and not model_name.lower().startswith('llama-7b')) or \\\n",
    "        (md == 'mistral7b' and not model_name.lower().startswith('mistral-7b')):\n",
    "        raise ValueError(f'md={md} does not match with model_name={model_name}')\n",
    "    if kvs['k'] == 'vmf':\n",
    "        kernel_kwargs = {'gamma': kvs['gamma']}\n",
    "    elif kvs['k'] == 'rbf':\n",
    "        kernel_kwargs = {'sigma': kvs['sigma']}\n",
    "    else:\n",
    "        kernel_kwargs = {}\n",
    "    kwargs = {\n",
    "        'dppmap_type': 'dppmapbd',\n",
    "        'dataset': dataset,\n",
    "        'kernel_type': kvs['k'],\n",
    "        'kernel_embed_model': kvs['kmd'],\n",
    "        'kernel_embed_type': re.sub(r'[+]', '_', kvs['kemb']) if 'kemb' in kvs else 'text_embedding',\n",
    "        'kernel_kwargs': kernel_kwargs,\n",
    "        'quality_score_type': re.sub(r'[+]', '_', kvs['q']) if 'q' in kvs else None,\n",
    "        'quality_score_embed_model': kvs.get('qmd', None),\n",
    "        'theta': kvs.get('theta', 0.), # defaults to just diversity no quality\n",
    "        'device': 'cuda',\n",
    "        'max_length': 5_000, # per-cluster max length. \n",
    "        'run_name': sort_by,\n",
    "    }\n",
    "    clustering_fn = create_string_from_kv({\n",
    "        'cl': kvs.get('cl', 'kmeansfaisscd'),\n",
    "        'md': kwargs['kernel_embed_model'],\n",
    "        'emb': kvs['kemb'] if 'kemb' in kvs else 'text+embedding',\n",
    "        'nc': kvs['nc'],\n",
    "    })\n",
    "    save_dir_clustering = os.path.join(\n",
    "        'clustering', encode_fn_type, model_name, dataset, clustering_fn)\n",
    "    os.makedirs(save_dir_clustering, exist_ok=True)\n",
    "    clustering_data_path = os.path.join(save_dir_clustering, 'data.pkl')\n",
    "    if not os.path.isfile(clustering_data_path):\n",
    "        normalize_embeddings = True if \\\n",
    "            (any(x in model_name for x in ['mpnet', 'bge']) or 'kmeansfaisscd' in clustering_fn) else False\n",
    "        kwargs_clustering = {\n",
    "            'model_name': model_name,\n",
    "            'dataset': dataset,\n",
    "            'encode_fn_type': encode_fn_type,\n",
    "            'clustering_fn': clustering_fn,\n",
    "            'embed_type': kwargs['kernel_embed_type'],\n",
    "            'normalize_embeddings': normalize_embeddings,\n",
    "            'first_N': None,\n",
    "            'save_dir': save_dir_clustering,\n",
    "        }\n",
    "        print(f'Calling note_pruning_clustering.main with kwargs={json.dumps(kwargs_clustering, indent=4)}')\n",
    "        X, Y, C = note_pruning_clustering.main(**kwargs_clustering)\n",
    "    else:\n",
    "        with open(clustering_data_path, 'rb') as f:\n",
    "            data = pickle.load(f)\n",
    "        Y = data['Y']\n",
    "    print(f'Calling note_pruning_dpp.compute_dppmap with kwargs={json.dumps(kwargs, indent=4)}')\n",
    "    kwargs.update({'Y': Y})\n",
    "    S, output = note_pruning_dpp.compute_dppmap(**kwargs)\n",
    "elif sort_by.startswith('rho'):\n",
    "    if sort_by == 'rhov1':\n",
    "        model_names = ['mistral-7b+lora:r=256:a=256',\n",
    "                       'mistral-7b-ultrachat200k-v1+lora:r=256:a=256']\n",
    "        assert(model_name == model_names[0])\n",
    "    else:\n",
    "        raise ValueError(f'sort_by={sort_by} not implemented.')\n",
    "    assert(len(model_names) == 2)\n",
    "    ds = []\n",
    "    for x in model_names:\n",
    "        ds.append(get_lm_output(dataset, x, return_text_embedding=False, fill_nan=False))\n",
    "    ks = [set(d.keys()) for d in ds]\n",
    "    ks = ks[0] & ks[1]\n",
    "    for k in ks:\n",
    "        S0 = ds[0][k]\n",
    "        S1 = ds[1][k]\n",
    "        # handle nan entries properly.\n",
    "        nan_mask = np.logical_or(np.isnan(S0), np.isnan(S1))\n",
    "        S = np.subtract(S0, S1)\n",
    "        S[nan_mask] = np.nan\n",
    "        S = S.squeeze()\n",
    "        save_prune_results(save_dir, None, S, {}, f'{sort_by}_{k}', model_name, dataset)\n",
    "elif sort_by.startswith('numtoks'):\n",
    "    if 'llama' in model_name.lower():\n",
    "        tokenizer = AutoTokenizer.from_pretrained('results/baselines/huggyllama/llama-7b', use_fast=False)\n",
    "    elif 'mistral' in model_name.lower():\n",
    "        tokenizer = AutoTokenizer.from_pretrained('results/baselines/mistralai/Mistral-7B-v0.1', use_fast=False)\n",
    "    else:\n",
    "        raise ValueError('Need to supply appropriate tokenizer to count token lengths,')\n",
    "    d = get_dataset_token_lengths(dataset, tokenizer)\n",
    "\n",
    "    d['total_len'] = d['input_len'] + d['output_len']\n",
    "    for k in ['input', 'output', 'total']:\n",
    "        S = d[f'{k}_len']\n",
    "        save_prune_results(save_dir, None, S, {}, f'{sort_by}_{k}', model_name, dataset)\n",
    "\n",
    "\n",
    "        \n",
    "t1 = time.time()\n",
    "print(f'Rank datapoints with {sort_by} took {t1-t0:.2f} seconds.')\n"
   ]
  },
  {
   "cell_type": "code",
   "execution_count": 40,
   "id": "dcfc8db8",
   "metadata": {},
   "outputs": [
    {
     "data": {
      "text/plain": [
       "'dppmapbd_nc=200_k=lin_kmd=mpnet'"
      ]
     },
     "execution_count": 40,
     "metadata": {},
     "output_type": "execute_result"
    }
   ],
   "source": []
  },
  {
   "cell_type": "code",
   "execution_count": 110,
   "id": "c9b5b429",
   "metadata": {},
   "outputs": [
    {
     "data": {
      "text/plain": [
       "50000"
      ]
     },
     "execution_count": 110,
     "metadata": {},
     "output_type": "execute_result"
    }
   ],
   "source": [
    "\n",
    "# from note_pruning import save_prune_results\n",
    "if not any(sort_by.startswith(x) for x in ['rho', 'numtoks']):\n",
    "    save_prune_results(save_dir, inds, S, pkl_extra, sort_by, model_name, dataset)"
   ]
  },
  {
   "cell_type": "code",
   "execution_count": null,
   "id": "9c9ebd77",
   "metadata": {},
   "outputs": [],
   "source": []
  },
  {
   "cell_type": "code",
   "execution_count": null,
   "id": "5ec32921",
   "metadata": {},
   "outputs": [],
   "source": []
  },
  {
   "cell_type": "code",
   "execution_count": null,
   "id": "74e8895c",
   "metadata": {},
   "outputs": [],
   "source": []
  },
  {
   "cell_type": "code",
   "execution_count": null,
   "id": "54ea377f",
   "metadata": {},
   "outputs": [],
   "source": []
  }
 ],
 "metadata": {
  "kernelspec": {
   "display_name": "Python [conda env:open-instruct]",
   "language": "python",
   "name": "conda-env-open-instruct-py"
  },
  "language_info": {
   "codemirror_mode": {
    "name": "ipython",
    "version": 3
   },
   "file_extension": ".py",
   "mimetype": "text/x-python",
   "name": "python",
   "nbconvert_exporter": "python",
   "pygments_lexer": "ipython3",
   "version": "3.10.13"
  }
 },
 "nbformat": 4,
 "nbformat_minor": 5
}
