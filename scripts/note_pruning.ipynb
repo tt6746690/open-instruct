{
 "cells": [
  {
   "cell_type": "code",
   "execution_count": 9,
   "id": "1cf384bc",
   "metadata": {},
   "outputs": [
    {
     "name": "stdout",
     "output_type": "stream",
     "text": [
      "\n",
      "Submiting job with:\n",
      "{\n",
      "    \"job_name\": \"prune.tulu_v1_human_mix.prob\",\n",
      "    \"nodes\": 1,\n",
      "    \"num_cpus\": 32,\n",
      "    \"cpu_mem\": 128,\n",
      "    \"num_gpus\": 1,\n",
      "    \"gpu_type\": \"v100\",\n",
      "    \"test_run\": false,\n",
      "    \"queue\": \"el8\",\n",
      "    \"num_jobs\": 1\n",
      "}\n",
      "python note_pruning.py --dataset tulu_v1_human_mix --sort_by prob --lm_output_dir /gpfs/u/home/PTFM/PTFMqngp/scratch/github/mitibm2023/external/open-instruct/scripts/model_outputs/llama-7b_tulu_v1_human_mix --save_dir /gpfs/u/home/PTFM/PTFMqngp/scratch/github/mitibm2023/external/open-instruct/scripts/data_inds/llama-7b_tulu_v1_human_mix/\n",
      "\n",
      "Submiting job with:\n",
      "{\n",
      "    \"job_name\": \"prune.tulu_v1_human_mix.kmeansl2_nc=300\",\n",
      "    \"nodes\": 1,\n",
      "    \"num_cpus\": 32,\n",
      "    \"cpu_mem\": 128,\n",
      "    \"num_gpus\": 1,\n",
      "    \"gpu_type\": \"v100\",\n",
      "    \"test_run\": false,\n",
      "    \"queue\": \"el8\",\n",
      "    \"num_jobs\": 1\n",
      "}\n",
      "python note_pruning.py --dataset tulu_v1_human_mix --sort_by kmeansl2_nc=300 --lm_output_dir /gpfs/u/home/PTFM/PTFMqngp/scratch/github/mitibm2023/external/open-instruct/scripts/model_outputs/llama-7b_tulu_v1_human_mix --save_dir /gpfs/u/home/PTFM/PTFMqngp/scratch/github/mitibm2023/external/open-instruct/scripts/data_inds/llama-7b_tulu_v1_human_mix/\n",
      "\n",
      "Submiting job with:\n",
      "{\n",
      "    \"job_name\": \"prune.tulu_v1_human_mix.kmeansl2_nc=1000\",\n",
      "    \"nodes\": 1,\n",
      "    \"num_cpus\": 32,\n",
      "    \"cpu_mem\": 128,\n",
      "    \"num_gpus\": 1,\n",
      "    \"gpu_type\": \"v100\",\n",
      "    \"test_run\": false,\n",
      "    \"queue\": \"el8\",\n",
      "    \"num_jobs\": 1\n",
      "}\n",
      "python note_pruning.py --dataset tulu_v1_human_mix --sort_by kmeansl2_nc=1000 --lm_output_dir /gpfs/u/home/PTFM/PTFMqngp/scratch/github/mitibm2023/external/open-instruct/scripts/model_outputs/llama-7b_tulu_v1_human_mix --save_dir /gpfs/u/home/PTFM/PTFMqngp/scratch/github/mitibm2023/external/open-instruct/scripts/data_inds/llama-7b_tulu_v1_human_mix/\n",
      "\n",
      "Submiting job with:\n",
      "{\n",
      "    \"job_name\": \"prune.tulu_v1_human_mix.kmeansl2_nc=3000\",\n",
      "    \"nodes\": 1,\n",
      "    \"num_cpus\": 32,\n",
      "    \"cpu_mem\": 128,\n",
      "    \"num_gpus\": 1,\n",
      "    \"gpu_type\": \"v100\",\n",
      "    \"test_run\": false,\n",
      "    \"queue\": \"el8\",\n",
      "    \"num_jobs\": 1\n",
      "}\n",
      "python note_pruning.py --dataset tulu_v1_human_mix --sort_by kmeansl2_nc=3000 --lm_output_dir /gpfs/u/home/PTFM/PTFMqngp/scratch/github/mitibm2023/external/open-instruct/scripts/model_outputs/llama-7b_tulu_v1_human_mix --save_dir /gpfs/u/home/PTFM/PTFMqngp/scratch/github/mitibm2023/external/open-instruct/scripts/data_inds/llama-7b_tulu_v1_human_mix/\n",
      "\n",
      "Submiting job with:\n",
      "{\n",
      "    \"job_name\": \"prune.tulu_v1_human_mix.dppmap_k=Kcos\",\n",
      "    \"nodes\": 1,\n",
      "    \"num_cpus\": 32,\n",
      "    \"cpu_mem\": 128,\n",
      "    \"num_gpus\": 1,\n",
      "    \"gpu_type\": \"v100\",\n",
      "    \"test_run\": false,\n",
      "    \"queue\": \"el8\",\n",
      "    \"num_jobs\": 1\n",
      "}\n",
      "python note_pruning.py --dataset tulu_v1_human_mix --sort_by dppmap_k=Kcos --lm_output_dir /gpfs/u/home/PTFM/PTFMqngp/scratch/github/mitibm2023/external/open-instruct/scripts/model_outputs/llama-7b_tulu_v1_human_mix --save_dir /gpfs/u/home/PTFM/PTFMqngp/scratch/github/mitibm2023/external/open-instruct/scripts/data_inds/llama-7b_tulu_v1_human_mix/\n",
      "\n",
      "Submiting job with:\n",
      "{\n",
      "    \"job_name\": \"prune.tulu_v1_human_mix.dppmap_k=Kcosp\",\n",
      "    \"nodes\": 1,\n",
      "    \"num_cpus\": 32,\n",
      "    \"cpu_mem\": 128,\n",
      "    \"num_gpus\": 1,\n",
      "    \"gpu_type\": \"v100\",\n",
      "    \"test_run\": false,\n",
      "    \"queue\": \"el8\",\n",
      "    \"num_jobs\": 1\n",
      "}\n",
      "python note_pruning.py --dataset tulu_v1_human_mix --sort_by dppmap_k=Kcosp --lm_output_dir /gpfs/u/home/PTFM/PTFMqngp/scratch/github/mitibm2023/external/open-instruct/scripts/model_outputs/llama-7b_tulu_v1_human_mix --save_dir /gpfs/u/home/PTFM/PTFMqngp/scratch/github/mitibm2023/external/open-instruct/scripts/data_inds/llama-7b_tulu_v1_human_mix/\n",
      "\n",
      "Submiting job with:\n",
      "{\n",
      "    \"job_name\": \"prune.tulu_v1_human_mix.dppmap_k=Kcos1np\",\n",
      "    \"nodes\": 1,\n",
      "    \"num_cpus\": 32,\n",
      "    \"cpu_mem\": 128,\n",
      "    \"num_gpus\": 1,\n",
      "    \"gpu_type\": \"v100\",\n",
      "    \"test_run\": false,\n",
      "    \"queue\": \"el8\",\n",
      "    \"num_jobs\": 1\n",
      "}\n",
      "python note_pruning.py --dataset tulu_v1_human_mix --sort_by dppmap_k=Kcos1np --lm_output_dir /gpfs/u/home/PTFM/PTFMqngp/scratch/github/mitibm2023/external/open-instruct/scripts/model_outputs/llama-7b_tulu_v1_human_mix --save_dir /gpfs/u/home/PTFM/PTFMqngp/scratch/github/mitibm2023/external/open-instruct/scripts/data_inds/llama-7b_tulu_v1_human_mix/\n",
      "#cmds:  7\n"
     ]
    }
   ],
   "source": [
    "import itertools\n",
    "from rosemary import jpt_in_notebook\n",
    "from llm.submit import submit_job, multiline_to_singleline\n",
    "\n",
    "shell_scripts_template = \"\"\"\n",
    "echo \"Running on $SLURM_JOB_NODELIST\"\n",
    "echo \"======\"\n",
    "\n",
    "master_addr=$(scontrol show hostnames \"$SLURM_JOB_NODELIST\" | head -n 1)\n",
    "master_port=10002\n",
    "RDZV_ENDPOINT=$master_addr:$master_port\n",
    "\n",
    "source ~/.profile\n",
    "conda activate open-instruct\n",
    "cd /gpfs/u/scratch/PTFM/PTFMqngp/github/mitibm2023/external/open-instruct/scripts\n",
    "\n",
    "set -e\n",
    "set -x\n",
    "echo \"======\"\n",
    "srun {cmd}\n",
    "\n",
    "[ ! -f \"{log_dir}/$SLURM_JOB_ID*.out\" ] && mv {log_dir}/$SLURM_JOB_ID*.out {save_dir}\n",
    "\"\"\"\n",
    "\n",
    "test_run = 1\n",
    "test_run = bool(test_run)\n",
    "\n",
    "model_name = 'llama-7b'\n",
    "model_name = 'llama-7b_tulu_v1_human_mix' # means llama-7b finetuned on tulu humanmix already.\n",
    "\n",
    "save_dir = f\"/gpfs/u/home/PTFM/PTFMqngp/scratch/github/mitibm2023/external/open-instruct/scripts/data_inds/{model_name}/\"\n",
    "lm_output_dir = f'/gpfs/u/home/PTFM/PTFMqngp/scratch/github/mitibm2023/external/open-instruct/scripts/model_outputs/{model_name}'\n",
    "log_dir = '/gpfs/u/home/PTFM/PTFMqngp/scratch/github/mitibm2023/external/open-instruct/scripts/'\n",
    "\n",
    "    \n",
    "dataset_list = [\n",
    "    'flan_v2', \n",
    "#     'tulu_v1_human_mix',\n",
    "] \n",
    "sort_by_list = [\n",
    "    'random', 'prob',\n",
    "    'kmeansl2_nc=300', 'kmeansl2_nc=1000', 'kmeansl2_nc=3000',\n",
    "    'dppmap_k=Kcos', 'dppmap_k=Kcosp', 'dppmap_k=Kcos1np', \n",
    "]\n",
    "\n",
    "options_list = itertools.product(dataset_list, sort_by_list)\n",
    "\n",
    "cmds = []\n",
    "for dataset, sort_by in options_list:\n",
    "    cmd = f\"\"\"\n",
    "     python note_pruning.py \\\n",
    "        --dataset {dataset} \\\n",
    "        --sort_by {sort_by} \\\n",
    "        --lm_output_dir {lm_output_dir} \\\n",
    "        --save_dir {save_dir} \\\n",
    "    \"\"\".strip()\n",
    "    cmd = multiline_to_singleline(cmd)\n",
    "    shell_scripts = shell_scripts_template.format(\n",
    "        cmd=cmd, log_dir=log_dir, save_dir=save_dir)\n",
    "    out = submit_job(\n",
    "        shell_scripts, \n",
    "        job_name=f'prune.{dataset}.{sort_by}', \n",
    "        nodes=1,\n",
    "        num_cpus=32,\n",
    "        cpu_mem=128,\n",
    "        num_gpus=1,\n",
    "        gpu_type='v100',\n",
    "        test_run=test_run,\n",
    "        job_duration=6,\n",
    "    )\n",
    "    cmds.append(cmd)\n",
    "    if not test_run:\n",
    "        print(cmd)\n",
    "        \n",
    "print('#cmds: ', len(cmds))\n"
   ]
  },
  {
   "cell_type": "code",
   "execution_count": 4,
   "id": "ea9f3fc2",
   "metadata": {},
   "outputs": [
    {
     "name": "stdout",
     "output_type": "stream",
     "text": [
      "{\n",
      "    \"flan_zs_opt_train\": 62118170,\n",
      "    \"flan_fs_opt_train\": 123010706,\n",
      "    \"flan_zs_noopt_train\": 62118170,\n",
      "    \"flan_fs_noopt_train\": 61521286,\n",
      "    \"t0_zs_opt_train\": 42881000,\n",
      "    \"t0_zs_noopt_train\": 42881000,\n",
      "    \"t0_fs_noopt_train\": 42545443,\n",
      "    \"niv2_zs_opt_train\": 5031430,\n",
      "    \"niv2_fs_opt_train\": 10031790,\n",
      "    \"cot_zs_opt_train\": 74730,\n",
      "    \"cot_fs_opt_train\": 149490,\n",
      "    \"dialog_zs_opt_train\": 11274820,\n",
      "    \"dialog_fs_opt_train\": 22528240\n",
      "}\n"
     ]
    }
   ],
   "source": [
    "import json\n",
    "\n",
    "num_lines_dict = {'flan_zs_opt_train': 62118170, 'flan_fs_opt_train': 123010706, 'flan_zs_noopt_train': 62118170, 'flan_fs_noopt_train': 61521286, 't0_zs_opt_train': 42881000, 't0_zs_noopt_train': 42881000, 't0_fs_noopt_train': 42545443, 'niv2_zs_opt_train': 5031430, 'niv2_fs_opt_train': 10031790, 'cot_zs_opt_train': 74730, 'cot_fs_opt_train': 149490, 'dialog_zs_opt_train': 11274820, 'dialog_fs_opt_train': 22528240}\n",
    "\n",
    "\n",
    "print(json.dumps(num_lines_dict, indent=4))"
   ]
  },
  {
   "cell_type": "code",
   "execution_count": 1,
   "id": "0bf2dd69",
   "metadata": {},
   "outputs": [
    {
     "name": "stderr",
     "output_type": "stream",
     "text": [
      "/gpfs/u/scratch/PTFM/PTFMqngp/github/rosemary/src/rosemary/__init__.py:25: UserWarning: Install `torch` for functionalities dependent on torch\n",
      "  warn(f'Install `torch` for functionalities dependent on torch')\n"
     ]
    },
    {
     "data": {
      "text/html": [
       "<style>.container { width:100% !important; }</style>"
      ],
      "text/plain": [
       "<IPython.core.display.HTML object>"
      ]
     },
     "metadata": {},
     "output_type": "display_data"
    }
   ],
   "source": [
    "from rosemary import jpt_parse_args, jpt_setup, jpt_in_notebook; jpt_setup()\n",
    "\n",
    "if jpt_in_notebook():\n",
    "    import os\n",
    "    os.environ['CUDA_VISIBLE_DEVICES'] = '0,1,2,3,4,5'\n",
    "    os.environ['CUDA_VISIBLE_DEVICES'] = '0'\n",
    "    "
   ]
  },
  {
   "cell_type": "code",
   "execution_count": 2,
   "id": "0c1891b2",
   "metadata": {},
   "outputs": [],
   "source": [
    "import os\n",
    "import sys\n",
    "import numpy as np\n",
    "import time\n",
    "import re\n",
    "import random\n",
    "import pickle\n",
    "from tqdm import tqdm \n",
    "\n",
    "import pyarrow\n",
    "import torch\n",
    "import transformers\n",
    "\n",
    "from note_pruning import (\n",
    "    save_to_pickle,\n",
    "    save_sorted_inds,\n",
    "    sort_kmeans_l2_to_prototypes,\n",
    "    sort_dpp_map,)"
   ]
  },
  {
   "cell_type": "code",
   "execution_count": 67,
   "id": "2c45b5d8",
   "metadata": {},
   "outputs": [],
   "source": [
    "test_run = False\n",
    "dataset = 'tulu_v1_human_mix'\n",
    "dataset = 'tulu_v2_human_mix'\n",
    "dataset = 'flan_v2'\n",
    "\n",
    "sort_by = 'random'\n",
    "# sort_by = 'kmeansl2_nc=100'\n",
    "# sort_by = 'prob'\n",
    "# sort_by = 'dppmap_k=Kcos'\n",
    "# sort_by = 'dppmap_k=Kcos1np'\n",
    "\n",
    "# used for generating model output.\n",
    "model_name = 'llama-7b'\n",
    "model_name = 'llama-7b_tulu_v1_human_mix'\n",
    "\n",
    "\n",
    "save_dir = f\"/gpfs/u/home/PTFM/PTFMqngp/scratch/github/mitibm2023/external/open-instruct/scripts/data_inds/{model_name}/\"\n",
    "lm_output_dir = f'/gpfs/u/home/PTFM/PTFMqngp/scratch/github/mitibm2023/external/open-instruct/scripts/model_outputs/{model_name}'\n",
    "save_dir = os.path.join(save_dir, dataset)\n",
    "os.makedirs(save_dir, exist_ok=True)\n",
    "\n"
   ]
  },
  {
   "cell_type": "code",
   "execution_count": 68,
   "id": "f985baf8",
   "metadata": {},
   "outputs": [],
   "source": [
    "\n",
    "save_path = os.path.join(lm_output_dir, f'{dataset}.pkl')\n",
    "with open(save_path, 'rb') as f:\n",
    "    d = pickle.load(f)\n",
    "# some entries are nan, impute with mean value.\n",
    "d['log_probs'] = np.nan_to_num(d['log_probs'], nan=np.nanmean(d['log_probs']))\n",
    "text_embeddings = d['text_embeddings']\n",
    "log_probs = d['log_probs'].squeeze()\n",
    "\n",
    "if test_run:\n",
    "    text_embeddings = text_embeddings[:1000]\n",
    "    log_probs = log_probs[:1000]\n"
   ]
  },
  {
   "cell_type": "code",
   "execution_count": 69,
   "id": "0f792932",
   "metadata": {},
   "outputs": [
    {
     "name": "stdout",
     "output_type": "stream",
     "text": [
      "save inds (length = 100000) to /gpfs/u/home/PTFM/PTFMqngp/scratch/github/mitibm2023/external/open-instruct/scripts/data_inds/llama-7b_tulu_v1_human_mix/flan_v2/random.pkl\n"
     ]
    }
   ],
   "source": [
    "\n",
    "\n",
    "\n",
    "if sort_by.startswith('random'):\n",
    "    random.seed(0)\n",
    "    inds = list(range(log_probs.shape[0]))\n",
    "    random.shuffle(inds)\n",
    "if sort_by.startswith('kmeansl2'):\n",
    "    match = re.search(r'(?<=\\=)\\d+', sort_by)\n",
    "    n_clusters = int(match.group()) if match else None\n",
    "    S = sort_kmeans_l2_to_prototypes(text_embeddings, n_clusters)\n",
    "elif sort_by == 'prob':\n",
    "    S = log_probs\n",
    "elif sort_by.startswith('dpp'):\n",
    "    match = re.search(r'k=(\\w+)', sort_by)\n",
    "    kernel_type = match.group(1) if match else None  \n",
    "    inds = sort_dpp_map(text_embeddings, log_probs, kernel_type=kernel_type)\n",
    "\n",
    "if any(sort_by.startswith(x) for x in ['dpp', 'random']):\n",
    "    save_to_pickle(\n",
    "        save_path=os.path.join(save_dir, f'{sort_by}.pkl'),\n",
    "        output={'inds': inds})\n",
    "else:\n",
    "    save_sorted_inds(save_dir, S, sort_by, reverse=False)\n",
    "    save_sorted_inds(save_dir, S, sort_by, reverse=True)\n",
    "\n"
   ]
  },
  {
   "cell_type": "code",
   "execution_count": 59,
   "id": "7ea51412",
   "metadata": {},
   "outputs": [
    {
     "data": {
      "text/plain": [
       "('flan_v2', [74921, 6849, 99252])"
      ]
     },
     "execution_count": 59,
     "metadata": {},
     "output_type": "execute_result"
    }
   ],
   "source": [
    "dataset, inds[:3]"
   ]
  },
  {
   "cell_type": "code",
   "execution_count": 54,
   "id": "564ca193",
   "metadata": {},
   "outputs": [
    {
     "data": {
      "text/plain": [
       "('tulu_v2_human_mix', [71527, 85027, 73714])"
      ]
     },
     "execution_count": 54,
     "metadata": {},
     "output_type": "execute_result"
    }
   ],
   "source": [
    "dataset, inds[:3]"
   ]
  },
  {
   "cell_type": "code",
   "execution_count": 49,
   "id": "9c9ebd77",
   "metadata": {},
   "outputs": [
    {
     "data": {
      "text/plain": [
       "[75931, 11173, 208719]"
      ]
     },
     "execution_count": 49,
     "metadata": {},
     "output_type": "execute_result"
    }
   ],
   "source": [
    "inds[:3]"
   ]
  },
  {
   "cell_type": "code",
   "execution_count": 70,
   "id": "5ec32921",
   "metadata": {},
   "outputs": [
    {
     "data": {
      "text/plain": [
       "('flan_v2', [74921, 6849, 99252])"
      ]
     },
     "execution_count": 70,
     "metadata": {},
     "output_type": "execute_result"
    }
   ],
   "source": [
    "dataset, inds[:3]"
   ]
  }
 ],
 "metadata": {
  "kernelspec": {
   "display_name": "Python [conda env:open-instruct]",
   "language": "python",
   "name": "conda-env-open-instruct-py"
  },
  "language_info": {
   "codemirror_mode": {
    "name": "ipython",
    "version": 3
   },
   "file_extension": ".py",
   "mimetype": "text/x-python",
   "name": "python",
   "nbconvert_exporter": "python",
   "pygments_lexer": "ipython3",
   "version": "3.10.12"
  }
 },
 "nbformat": 4,
 "nbformat_minor": 5
}
