{
 "cells": [
  {
   "cell_type": "code",
   "execution_count": 1,
   "id": "0bf2dd69",
   "metadata": {
    "scrolled": true
   },
   "outputs": [
    {
     "name": "stderr",
     "output_type": "stream",
     "text": [
      "/gpfs/u/scratch/PTFM/PTFMqngp/github/rosemary/src/rosemary/__init__.py:25: UserWarning: Install `torch` for functionalities dependent on torch\n",
      "  warn(f'Install `torch` for functionalities dependent on torch')\n"
     ]
    },
    {
     "data": {
      "text/html": [
       "<style>.container { width:100% !important; }</style>"
      ],
      "text/plain": [
       "<IPython.core.display.HTML object>"
      ]
     },
     "metadata": {},
     "output_type": "display_data"
    },
    {
     "name": "stdout",
     "output_type": "stream",
     "text": [
      "0\n",
      "Wed Nov  1 23:25:19 2023       \n",
      "+-----------------------------------------------------------------------------+\n",
      "| NVIDIA-SMI 460.91.03    Driver Version: 460.91.03    CUDA Version: 11.2     |\n",
      "|-------------------------------+----------------------+----------------------+\n",
      "| GPU  Name        Persistence-M| Bus-Id        Disp.A | Volatile Uncorr. ECC |\n",
      "| Fan  Temp  Perf  Pwr:Usage/Cap|         Memory-Usage | GPU-Util  Compute M. |\n",
      "|                               |                      |               MIG M. |\n",
      "|===============================+======================+======================|\n",
      "|   0  Tesla V100-SXM2...  On   | 00000004:04:00.0 Off |                    0 |\n",
      "| N/A   29C    P0    38W / 300W |      0MiB / 32510MiB |      0%      Default |\n",
      "|                               |                      |                  N/A |\n",
      "+-------------------------------+----------------------+----------------------+\n",
      "|   1  Tesla V100-SXM2...  On   | 00000035:05:00.0 Off |                    0 |\n",
      "| N/A   30C    P0    38W / 300W |      0MiB / 32510MiB |      0%      Default |\n",
      "|                               |                      |                  N/A |\n",
      "+-------------------------------+----------------------+----------------------+\n",
      "                                                                               \n",
      "+-----------------------------------------------------------------------------+\n",
      "| Processes:                                                                  |\n",
      "|  GPU   GI   CI        PID   Type   Process name                  GPU Memory |\n",
      "|        ID   ID                                                   Usage      |\n",
      "|=============================================================================|\n",
      "|  No running processes found                                                 |\n",
      "+-----------------------------------------------------------------------------+\n"
     ]
    }
   ],
   "source": [
    "from rosemary import jpt_parse_args, jpt_setup, jpt_in_notebook; jpt_setup()\n",
    "\n",
    "if jpt_in_notebook():\n",
    "    import os\n",
    "    os.environ['CUDA_VISIBLE_DEVICES'] = os.environ['CUDA_VISIBLE_DEVICES'].split(',')[0] \n",
    "    # '0,1,2,3,4,5'\n",
    "    print(os.environ['CUDA_VISIBLE_DEVICES'])\n",
    "    \n",
    "!nvidia-smi"
   ]
  },
  {
   "cell_type": "code",
   "execution_count": 5,
   "id": "1cf384bc",
   "metadata": {
    "scrolled": true
   },
   "outputs": [
    {
     "name": "stdout",
     "output_type": "stream",
     "text": [
      "test_run = True\n",
      "\n",
      "Submiting job with:\n",
      "{\n",
      "    \"job_name\": \"prune.ultrachat.random_s=0\",\n",
      "    \"nodes\": 1,\n",
      "    \"num_cpus\": 64,\n",
      "    \"cpu_mem\": 256,\n",
      "    \"num_gpus\": 1,\n",
      "    \"gpu_type\": \"v100\",\n",
      "    \"test_run\": true,\n",
      "    \"queue\": \"el8\",\n",
      "    \"num_jobs\": 1\n",
      "}\n",
      "python note_pruning.py --dataset ultrachat --sort_by random_s=0 --lm_output_dir /gpfs/u/home/PTFM/PTFMqngp/scratch/github/mitibm2023/external/open-instruct/scripts/model_outputs/mistral-7b+lora:r=256:a=256 --save_dir /gpfs/u/home/PTFM/PTFMqngp/scratch/github/mitibm2023/external/open-instruct/scripts/data_inds/mistral-7b+lora:r=256:a=256\n",
      "\n",
      "Submiting job with:\n",
      "{\n",
      "    \"job_name\": \"prune.ultrachat.random_s=1\",\n",
      "    \"nodes\": 1,\n",
      "    \"num_cpus\": 64,\n",
      "    \"cpu_mem\": 256,\n",
      "    \"num_gpus\": 1,\n",
      "    \"gpu_type\": \"v100\",\n",
      "    \"test_run\": true,\n",
      "    \"queue\": \"el8\",\n",
      "    \"num_jobs\": 1\n",
      "}\n",
      "python note_pruning.py --dataset ultrachat --sort_by random_s=1 --lm_output_dir /gpfs/u/home/PTFM/PTFMqngp/scratch/github/mitibm2023/external/open-instruct/scripts/model_outputs/mistral-7b+lora:r=256:a=256 --save_dir /gpfs/u/home/PTFM/PTFMqngp/scratch/github/mitibm2023/external/open-instruct/scripts/data_inds/mistral-7b+lora:r=256:a=256\n",
      "\n",
      "Submiting job with:\n",
      "{\n",
      "    \"job_name\": \"prune.ultrachat.random_s=2\",\n",
      "    \"nodes\": 1,\n",
      "    \"num_cpus\": 64,\n",
      "    \"cpu_mem\": 256,\n",
      "    \"num_gpus\": 1,\n",
      "    \"gpu_type\": \"v100\",\n",
      "    \"test_run\": true,\n",
      "    \"queue\": \"el8\",\n",
      "    \"num_jobs\": 1\n",
      "}\n",
      "python note_pruning.py --dataset ultrachat --sort_by random_s=2 --lm_output_dir /gpfs/u/home/PTFM/PTFMqngp/scratch/github/mitibm2023/external/open-instruct/scripts/model_outputs/mistral-7b+lora:r=256:a=256 --save_dir /gpfs/u/home/PTFM/PTFMqngp/scratch/github/mitibm2023/external/open-instruct/scripts/data_inds/mistral-7b+lora:r=256:a=256\n",
      "#cmds:  3\n"
     ]
    }
   ],
   "source": [
    "import os\n",
    "import itertools\n",
    "from rosemary import jpt_in_notebook\n",
    "from llm.submit import submit_job, multiline_to_singleline, shell_scripts_template_slurm\n",
    "\n",
    "log_dir = '/gpfs/u/home/PTFM/PTFMqngp/scratch/github/mitibm2023/external/open-instruct/scripts/'\n",
    "\n",
    "test_run = 1\n",
    "test_run = bool(test_run)\n",
    "\n",
    "# model_name = 'llama-7b'\n",
    "model_name = 'llama-7b+lora:r=256:a=256' # includes lora grad norm\n",
    "# model_name = 'llama-7b_ft=hmv1' # means llama-7b finetuned on tulu humanmix already.\n",
    "model_name = 'mistral-7b+lora:r=256:a=256'\n",
    "\n",
    "\n",
    "sort_by_list = [\n",
    "    'random_s=0', 'random_s=1', 'random_s=2',\n",
    "#     'log_prob', 'logit_margin', 'el2n_agg=mean',\n",
    "#     'grad_loraB_l2n',\n",
    "]\n",
    "# sort_by_list += [\n",
    "# #     'kmeansl2_emb=grad+rp+loraB_nc=300',\n",
    "#     'kmeansl2_emb=grad+rp+loraB_nc=1000',\n",
    "#     'kmeansl2_emb=grad+rp+loraB_nc=3000',\n",
    "# #     'kmeansl2_emb=text+embedding_nc=300',\n",
    "#     'kmeansl2_emb=text+embedding_nc=1000',\n",
    "#     'kmeansl2_emb=text+embedding_nc=3000',\n",
    "# ]\n",
    "# sort_by_list += [\n",
    "#     'dppmap_emb=grad+rp+loraB_k=Kcos', \n",
    "#     'dppmap_emb=text+embedding_k=Kcos', \n",
    "#     'dppmap_emb=grad+rp+loraB_k=Kcosp', \n",
    "#     'dppmap_emb=text+embedding_k=Kcosp',\n",
    "#     'dppmap_emb=grad+rp+loraB_k=Kcos1np', \n",
    "#     'dppmap_emb=text+embedding_k=Kcos1np',\n",
    "# ]\n",
    "# dataset_list = ['lima']\n",
    "# dataset_list = ['flan2022_1m']\n",
    "# dataset_list = ['tulu_v1_mix']\n",
    "dataset_list = ['ultrachat']\n",
    "\n",
    "# sort_by_list = [\n",
    "#  'log_prob',\n",
    "#  'el2n_agg=mean',\n",
    "#  'el2n_agg=l2n',\n",
    "#  'logit_margin',\n",
    "# ]\n",
    "# if 'lora' in model_name:\n",
    "#     sort_by_list += ['grad_loraB_l2n']\n",
    "# else:\n",
    "#     sort_by_list += ['grad_all_l2n', 'grad_qkv_l2n', 'grad_mlp_l2n', 'grad_last_l2n',]\n",
    "# sort_by_list = ['kmeansl2_emb=grad+rp+loraB_nc=30',\n",
    "#                 'kmeansl2_emb=text+embedding_nc=30']\n",
    "# dataset_list = ['lima']\n",
    "\n",
    "\n",
    "# model_name = 'pythia-1b-deduped'\n",
    "# model_name = 'pythia-1b-deduped+lora:r=256:a=256'\n",
    "# dataset_list = ['cot', 'dolly', 'flan_v2', 'lima', 'oasst1']\n",
    "# # sort_by_list = ['random_s=0', \n",
    "# #                 'log_prob', 'logit_margin', 'el2n_agg=mean', 'el2n_agg=l2n', \n",
    "# #                 'kmeansl2_nc=3000', 'kmeanscd_nc=3000',\n",
    "# #                 'grad_loraB_l2n',\n",
    "# #                 'grad_all_l2n', 'grad_qkv_l2n', 'grad_mlp_l2n', 'grad_last_l2n',\n",
    "# #                ]\n",
    "# sort_by_list = ['grad_loraB_l2n']\n",
    "\n",
    "from note_pruning_analysis import lm_output_dir, data_inds_dir\n",
    "save_dir = os.path.join(data_inds_dir, model_name)\n",
    "lm_output_dir = os.path.join(lm_output_dir, model_name)\n",
    "\n",
    "options_list = itertools.product(dataset_list, sort_by_list)\n",
    "\n",
    "print('test_run =',test_run)\n",
    "cmds = []\n",
    "for dataset, sort_by in options_list:\n",
    "    cmd = f\"\"\"\n",
    "     python note_pruning.py \\\n",
    "        --dataset {dataset} \\\n",
    "        --sort_by {sort_by} \\\n",
    "        --lm_output_dir {lm_output_dir} \\\n",
    "        --save_dir {save_dir} \\\n",
    "    \"\"\".strip()\n",
    "    cmd = multiline_to_singleline(cmd)\n",
    "    shell_scripts = shell_scripts_template_slurm.format(\n",
    "        conda_env='open-instruct',\n",
    "        cwd=os.getcwd(),\n",
    "        cmd=cmd,\n",
    "        log_dir=log_dir,\n",
    "        save_dir=os.path.join(save_dir, dataset))\n",
    "    out = submit_job(\n",
    "        shell_scripts, \n",
    "        job_name=f'prune.{dataset}.{sort_by}', \n",
    "        nodes=1,\n",
    "        num_cpus=64, # 32\n",
    "        cpu_mem=256, # 128\n",
    "        num_gpus=1,\n",
    "        gpu_type='v100',\n",
    "        test_run=test_run,\n",
    "        job_duration=6,\n",
    "    )\n",
    "    cmds.append(cmd)\n",
    "    print(cmd)\n",
    "        \n",
    "print('#cmds: ', len(cmds))\n"
   ]
  },
  {
   "cell_type": "markdown",
   "id": "3363aa87",
   "metadata": {},
   "source": [
    "### Generate curriculum from pre-computed scores (via `note_pruning.py`)"
   ]
  },
  {
   "cell_type": "code",
   "execution_count": 43,
   "id": "62c0872f",
   "metadata": {},
   "outputs": [],
   "source": [
    "import itertools\n",
    "from note_curriculum import (\n",
    "    get_curriculum_scores,\n",
    "    get_curriculum,\n",
    "    generate_curriculum,\n",
    "    generate_curriculum_forall_scoring_fn,\n",
    "    scores_path_to_attrs,\n",
    "    np_random_choice_maximize_noreplacement,\n",
    ")\n",
    "\n",
    "# model_name = 'llama-7b'; dataset = 'tulu_v1_mix'; M = 150_000\n",
    "# # model_name = 'mistral-7b'; dataset = 'ultrachat'; M =  50_000\n",
    "\n",
    "# pacing_fn_list = [\n",
    "#     f'prune_size={M}_ep=1',\n",
    "#     f'prune_size={M}_ep=3',\n",
    "#     f'singlestep_size={M}_startingfrac=0.2',\n",
    "#     f'singlestep_size={M}_startingfrac=0.1',\n",
    "# ]\n",
    "\n",
    "# output_list = generate_curriculum_forall_scoring_fn(\n",
    "#     model_name, dataset, pacing_fn_list, verbose=False)"
   ]
  },
  {
   "cell_type": "code",
   "execution_count": 85,
   "id": "3026c0a6",
   "metadata": {},
   "outputs": [
    {
     "data": {
      "text/plain": [
       "(array([     4,     12,     34, ..., 482120, 482139, 482143]),\n",
       " array([     4,     12,     34, ..., 482120, 482139, 482143]))"
      ]
     },
     "execution_count": 85,
     "metadata": {},
     "output_type": "execute_result"
    }
   ],
   "source": [
    "import pickle\n",
    "output = get_curriculum('llama-7b+lora:r=256:a=256',\n",
    "               'tulu_v1_mix',\n",
    "               'log_prob_neg',\n",
    "               'prune_size=150000_ep=3')\n",
    "inds_n = np.unique(output['inds'])\n",
    "\n",
    "p = '/gpfs/u/home/PTFM/PTFMqngp/scratch/github/mitibm2023/external/open-instruct/scripts/data_inds/llama-7b+lora:r=256:a=256/tulu_v1_mix/log_prob_decr.pkl'\n",
    "with open(p, 'rb') as f:\n",
    "    inds_p = np.array(pickle.load(f)['inds'])[:50_000]\n",
    "    \n",
    "    \n",
    "# np.unique(inds_n).shape, inds_p.shape\n",
    "\n",
    "np.sort(inds_n), np.sort(inds_p)\n",
    "# len(set(list(inds_n)) & set(list(inds_p)))\n"
   ]
  },
  {
   "cell_type": "code",
   "execution_count": 80,
   "id": "a672a999",
   "metadata": {},
   "outputs": [
    {
     "data": {
      "text/plain": [
       "11.268095016479492"
      ]
     },
     "execution_count": 80,
     "metadata": {},
     "output_type": "execute_result"
    }
   ],
   "source": [
    "+ srun torchrun --nnodes=5 --nproc_per_node=6 --rdzv-id=1133923 --rdzv-backend=c10d --rdzv-endpoint=dcs093:10002 open_instruct/finetune_trainer.py --model_name_or_path=results/baselines/huggyllama/llama-7b --tokenizer_name=results/baselines/huggyllama/llama-7b --use_fast_tokenizer=True --train_file=data/processed/tulu/tulu_v1_mix.jsonl --max_seq_length=2048 --do_train --preprocessing_num_workers=16 --per_device_train_batch_size=2 --gradient_accumulation_steps=2 --learning_rate=2e-5 --lr_scheduler_type=linear --warmup_ratio=0.03 --weight_decay=0. --optim=adamw_hf --evaluation_strategy=no --logging_steps=1 --save_strategy=steps --save_steps=100 --save_total_limit=1 --num_train_epochs=1 '--fsdp=full_shard auto_wrap' --fsdp_transformer_layer_cls_to_wrap=LlamaDecoderLayer --gradient_checkpointing --report_to=tensorboard --torch_dtype=float32 --dataloader_num_workers=8 --fp16=True --subsample_inds_file=/gpfs/u/home/PTFM/PTFMqngp/scratch/github/mitibm2023/external/open-instruct/scripts/curriculum/llama-7b+lora:r=256:a=256/tulu_v1_mix/log_prob_neg/inds_prune_size=150000_ep=3.pkl --dataloader_sampler SequentialSampler --output_dir=results/oi5_tulu_v1_mix:llama-7b/llama-7b_tuluv1m_score=log:prob:neg_pace=prune:size=150000:ep=3\n",
    "+ srun torchrun --nnodes=5 --nproc_per_node=6 --rdzv-id=1082124 --rdzv-backend=c10d --rdzv-endpoint=dcs199:10002 open_instruct/finetune_trainer.py --model_name_or_path=results/baselines/huggyllama/llama-7b --tokenizer_name=results/baselines/huggyllama/llama-7b --use_fast_tokenizer=True --train_file=data/processed/tulu/tulu_v1_mix.jsonl --max_seq_length=2048 --max_train_samples=50000 --do_train --preprocessing_num_workers=16 --per_device_train_batch_size=2 --gradient_accumulation_steps=2 --learning_rate=2e-5 --lr_scheduler_type=linear --warmup_ratio=0.03 --weight_decay=0. --optim=adamw_hf --evaluation_strategy=no --logging_steps=1 --save_strategy=steps --save_steps=100 --save_total_limit=1 --num_train_epochs=3 '--fsdp=full_shard auto_wrap' --fsdp_transformer_layer_cls_to_wrap=LlamaDecoderLayer --gradient_checkpointing --report_to=tensorboard --torch_dtype=float32 --dataloader_num_workers=8 --fp16=True --subsample_inds_file=/gpfs/u/home/PTFM/PTFMqngp/scratch/github/mitibm2023/external/open-instruct/scripts/data_inds/llama-7b+lora:r=256:a=256/tulu_v1_mix/log_prob_decr.pkl --output_dir=results/oi4_tulu_v1_mix_ep=3/llama-7b_tuluv1m:50k_log_prob_decr\n"
   ]
  },
  {
   "cell_type": "code",
   "execution_count": 65,
   "id": "772cdbf7",
   "metadata": {},
   "outputs": [
    {
     "name": "stdout",
     "output_type": "stream",
     "text": [
      "curriculum/llama-7b+lora:r=256:a=256/tulu_v1_mix/log_prob_neg/scores.pkl\n",
      "150000 0.1 2 0.1\n"
     ]
    },
    {
     "data": {
      "text/plain": [
       "[75000, 75000]"
      ]
     },
     "execution_count": 65,
     "metadata": {},
     "output_type": "execute_result"
    }
   ],
   "source": [
    "import re\n",
    "import numpy as np\n",
    "from note_curriculum import get_curriculum_scores\n",
    "import glob\n",
    "\n",
    "paths = glob.glob('curriculum/*/*/*/scores.pkl')\n",
    "paths = [x for x in paths if 'llama' in x and 'tulu_v1_mix' in x and 'log_prob_neg' in x]\n",
    "path = paths[0]\n",
    "\n",
    "verbose = False\n",
    "print(path)\n",
    "M = 150_000\n",
    "pacing_fn = f'prune_size={M}_ep=3'\n",
    "pacing_fn = f'singlestep_size={M}_startingfrac=0.1'\n",
    "pacing_fn = f'fep_size={M}_nsteps=2_startingfrac=0.1_inc=0.1'\n",
    "\n",
    "\n",
    "output = get_curriculum_scores(path)\n",
    "output['pacing_fn'] = pacing_fn\n",
    "\n",
    "scores = output['scores']\n",
    "N = scores.size\n",
    "inds_sorted = np.argsort(scores).tolist() # increasing `scores`.\n",
    "match = re.search(r'_s=([^_]+)', pacing_fn)\n",
    "seed = int(match.group(1)) if match else 0\n",
    "\n",
    "np.random.seed(seed)\n",
    "\n",
    "inds_sorted = np.arange(len(inds_sorted))/len(inds_sorted)\n",
    "\n",
    "if pacing_fn.startswith('prune'):\n",
    "\n",
    "    match = re.search(r'size=([^_]+)', pacing_fn)\n",
    "    M = int(match.group(1)) # total data points over `num_epochs` epochs.\n",
    "    match = re.search(r'ep=([^_]+)', pacing_fn)\n",
    "    num_epochs = int(match.group(1))\n",
    "\n",
    "    if M >= len(inds_sorted):\n",
    "        raise ValueError(f'size={M} > len(inds)={len(inds_sorted)}')\n",
    "\n",
    "    sizes = []\n",
    "    for _ in range(num_epochs-1):\n",
    "        sizes.append(int(M//num_epochs))\n",
    "    sizes.append(int(M-np.sum(sizes)))\n",
    "\n",
    "    inds = []\n",
    "    for size in sizes:\n",
    "        inds_kept = list(inds_sorted[:size])\n",
    "        np.random.shuffle(inds_kept)\n",
    "        inds.append(inds_kept)\n",
    "    inds = [x for sl in inds for x in sl]\n",
    "    inds = np.array(inds)\n",
    "\n",
    "    if len(inds) != M:\n",
    "        raise ValueError('len(inds) should be equal to size')\n",
    "elif pacing_fn.startswith('singlestep'):\n",
    "\n",
    "    match = re.search(r'size=([^_]+)', pacing_fn)\n",
    "    M = int(match.group(1))\n",
    "    match = re.search(r'startingfrac=([\\d.]+)', pacing_fn)\n",
    "    startingfrac = float(match.group(1))\n",
    "\n",
    "    inds_step1 = list(inds_sorted[:int(startingfrac*N)])\n",
    "    inds_step1_size = int(M//2)\n",
    "    if verbose:\n",
    "        print(f'Step 1: sample {inds_step1_size} from first {len(inds_step1)} examples.')\n",
    "    inds_step1 = np_random_choice_maximize_noreplacement(inds_step1, inds_step1_size)\n",
    "\n",
    "    inds_step2 = list(inds_sorted)\n",
    "    inds_step2_size = M-inds_step1_size\n",
    "    if verbose:\n",
    "        print(f'Step 2: sample {inds_step2_size} from the rest of {len(inds_step2)} examples.')\n",
    "    inds_step2 = np_random_choice_maximize_noreplacement(inds_step2, inds_step2_size)\n",
    "\n",
    "    inds = [inds_step1, inds_step2]\n",
    "    inds = np.hstack([x.reshape(-1) for x in inds])\n",
    "\n",
    "    if len(inds) != M:\n",
    "        raise ValueError('len(inds) should be equal to size')\n",
    "elif pacing_fn.startswith('fep'):\n",
    "#     pacing_fn = f'fep_size={M}_nsteps=2_startingfrac=0.1_inc=0.1'\n",
    "    \n",
    "    match = re.search(r'size=([^_]+)', pacing_fn)\n",
    "    M = int(match.group(1))\n",
    "    match = re.search(r'startingfrac=([\\d.]+)', pacing_fn)\n",
    "    startingfrac = float(match.group(1))\n",
    "    match = re.search(r'nsteps=([^_]+)', pacing_fn)\n",
    "    nsteps = int(match.group(1))\n",
    "    match = re.search(r'inc=([\\d.]+)', pacing_fn)\n",
    "    inc = float(match.group(1))\n",
    "    \n",
    "\n",
    "\n",
    "else:\n",
    "    raise ValueError(f'{pacing_fn} not implemented.')\n",
    "\n",
    "    \n",
    "    \n",
    "    \n",
    "print(M, startingfrac, nsteps, inc)\n",
    "\n",
    "\n",
    "step_lens = []\n",
    "for _ in range(nsteps-1):\n",
    "    step_lens.append(int(M//nsteps))\n",
    "step_lens.append(int(M-np.sum(step_lens)))\n",
    "\n",
    "\n",
    "\n",
    "\n"
   ]
  },
  {
   "cell_type": "code",
   "execution_count": null,
   "id": "86bf68cc",
   "metadata": {},
   "outputs": [],
   "source": []
  },
  {
   "cell_type": "code",
   "execution_count": 61,
   "id": "c86a2a3e",
   "metadata": {},
   "outputs": [
    {
     "data": {
      "text/plain": [
       "Text(0.5, 1.0, '')"
      ]
     },
     "execution_count": 61,
     "metadata": {},
     "output_type": "execute_result"
    },
    {
     "data": {
      "image/png": "[encoded data removed]",
      "text/plain": [
       "<Figure size 800x300 with 1 Axes>"
      ]
     },
     "metadata": {},
     "output_type": "display_data"
    }
   ],
   "source": [
    "import matplotlib.pyplot as plt\n",
    "\n",
    "fig, ax = plt.subplots(1,1,figsize=(8,3))\n",
    "\n",
    "ys = inds[::100]\n",
    "# ys = scores[inds[::100]]\n",
    "ax.scatter(np.arange(len(ys)), ys, alpha=.1)\n",
    "# ax.set_ylim((0,1))\n",
    "ax.set_ylabel('Data Indices (normalized)')\n",
    "ax.set_xlabel('Data Ordering')\n",
    "ax.set_title('')\n"
   ]
  },
  {
   "cell_type": "markdown",
   "id": "3f82473d",
   "metadata": {},
   "source": [
    "### main code"
   ]
  },
  {
   "cell_type": "code",
   "execution_count": 7,
   "id": "0c1891b2",
   "metadata": {},
   "outputs": [],
   "source": [
    "import os\n",
    "import sys\n",
    "import numpy as np\n",
    "import time\n",
    "import re\n",
    "import random\n",
    "import pickle\n",
    "from tqdm import tqdm \n",
    "\n",
    "import pyarrow\n",
    "import torch\n",
    "import transformers\n",
    "import pandas as pd\n",
    "\n",
    "from note_pruning import (\n",
    "    save_to_pickle,\n",
    "    save_sorted_inds,\n",
    "    sort_kmeans_dist_to_cluster_centers,\n",
    "    sort_dpp_map,)"
   ]
  },
  {
   "cell_type": "code",
   "execution_count": 8,
   "id": "2c45b5d8",
   "metadata": {},
   "outputs": [],
   "source": [
    "test_run = False\n",
    "dataset = 'tulu_v1_human_mix'\n",
    "dataset = 'tulu_v2_human_mix'\n",
    "dataset = 'flan_v2'\n",
    "dataset = 'lima'\n",
    "dataset = 'flan2022_1m'\n",
    "dataset = 'tulu_v1_mix'\n",
    "\n",
    "# sort_by = 'random_s=0'\n",
    "# sort_by = 'kmeansl2_nc=3000'\n",
    "# sort_by = 'kmeanscd_nc=3000'\n",
    "sort_by = 'log_prob'\n",
    "# sort_by = 'dppmap_k=Kcos'\n",
    "# sort_by = 'dppmap_k=Kcos1np'\n",
    "# sort_by = 'el2n'\n",
    "# sort_by = 'grad_norm'\n",
    "# sort_by = 'kmeansl2_emb=grad+rp+loraB_nc=3000'\n",
    "# sort_by = 'kmeansl2_emb=text+embedding_nc=3000'\n",
    "# sort_by = 'dppmap_emb=text+embedding_k=Kcos'\n",
    "\n",
    "\n",
    "# used for generating model output.\n",
    "# model_name = 'llama-7b'\n",
    "# model_name = 'llama-7b_ft=hmv1'\n",
    "model_name = 'llama-7b+lora:r=256:a=256'\n",
    "\n",
    "\n",
    "save_dir = f\"/gpfs/u/home/PTFM/PTFMqngp/scratch/github/mitibm2023/external/open-instruct/scripts/data_inds/{model_name}/\"\n",
    "lm_output_dir = f'/gpfs/u/home/PTFM/PTFMqngp/scratch/github/mitibm2023/external/open-instruct/scripts/model_outputs/{model_name}'\n",
    "save_dir = os.path.join(save_dir, dataset)\n",
    "os.makedirs(save_dir, exist_ok=True)"
   ]
  },
  {
   "cell_type": "code",
   "execution_count": 29,
   "id": "f985baf8",
   "metadata": {},
   "outputs": [
    {
     "name": "stdout",
     "output_type": "stream",
     "text": [
      "482145\n"
     ]
    }
   ],
   "source": [
    "save_path = os.path.join(lm_output_dir, f'{dataset}.pkl')\n",
    "with open(save_path, 'rb') as f:\n",
    "    d = pickle.load(f)\n",
    "if test_run:\n",
    "    d = {k: v[:10000] for k, v in d.items()}\n",
    "\n",
    "# some entries are nan, impute with mean value.\n",
    "N = d['text_embedding'].shape[0]\n",
    "log_prob = np.nan_to_num(d['log_prob'], nan=np.nanmean(d['log_prob'])).squeeze()\n",
    "print(N)"
   ]
  },
  {
   "cell_type": "code",
   "execution_count": 30,
   "id": "0f792932",
   "metadata": {},
   "outputs": [
    {
     "name": "stdout",
     "output_type": "stream",
     "text": [
      "Rank datapoints with log_prob took 0.00 seconds.\n"
     ]
    }
   ],
   "source": [
    "## the copy in `note_pruning.py` is most up to date\n",
    "from note_pruning import sort_dpp_map_memefficient\n",
    "\n",
    "pkl_extra = {}\n",
    "\n",
    "t0 = time.time()\n",
    "if any(sort_by.startswith(x) for x in [\n",
    "        'log_prob', \n",
    "        'el2n',  # el2n_agg={l2n|mean}\n",
    "        'logit_margin', \n",
    "        'grad',  # grad_{loraB|qkv|all|last}_l2n\n",
    "    ]):\n",
    "    if sort_by not in d:\n",
    "        print(f'sort_by={sort_by} not in lm_output_dir={lm_output_dir}')\n",
    "    S = np.nan_to_num(d[sort_by], nan=np.nanmean(d[sort_by])).squeeze()\n",
    "elif sort_by.startswith('random'):\n",
    "    match = re.search(r's=(\\d+)', sort_by)\n",
    "    seed = int(match.group(1))\n",
    "    np.random.seed(seed)\n",
    "    S = np.random.rand(N)\n",
    "    assert(S.shape == np.unique(S).shape)\n",
    "if sort_by.startswith('kmeans'):\n",
    "    dist_fn = 'l2' if sort_by.startswith('kmeansl2') else 'cd'\n",
    "    match = re.search(r'nc=(\\d+)', sort_by)\n",
    "    n_clusters = int(match.group(1)) if match else None\n",
    "    match = re.search(r'emb=([^_]+)', sort_by)\n",
    "    embed_type = re.sub(r'[+]', '_', match.group(1)) if match else 'text_embedding'\n",
    "    if embed_type not in set(d.keys()).intersection(set(['text_embedding', 'grad_rp_loraB'])):\n",
    "        raise ValueError(f'Invalid embed_type = {embed_type}')\n",
    "    emb = d[embed_type]\n",
    "    print(f'Running kmeans(n_clusters={n_clusters}) {{ {embed_type} }} to compute {\"euclidean\" if dist_fn == \"l2\" else \"cosine\"} distance to cluster centers.')\n",
    "    S, kms = sort_kmeans_dist_to_cluster_centers(emb, n_clusters, dist_fn=dist_fn)\n",
    "    pkl_extra['kmeans'] = kms\n",
    "elif sort_by.startswith('dpp'):\n",
    "    match = re.search(r'k=(\\w+)', sort_by)\n",
    "    kernel_type = match.group(1) if match else None\n",
    "    match = re.search(r'emb=([^_]+)', sort_by)\n",
    "    embed_type = re.sub(r'[+]', '_', match.group(1)) if match else 'text_embedding'\n",
    "    if embed_type not in set(d.keys()).intersection(set(['text_embedding', 'grad_rp_loraB'])):\n",
    "        raise ValueError(f'Invalid embed_type = {embed_type}')\n",
    "    emb = d[embed_type]\n",
    "    inds = sort_dpp_map_memefficient(emb, log_prob, kernel_type=kernel_type, torch_compile=False)\n",
    "t1 = time.time()\n",
    "print(f'Rank datapoints with {sort_by} took {t1-t0:.2f} seconds.')\n",
    "\n",
    "# if any(sort_by.startswith(x) for x in ['dpp']):\n",
    "#     output = {'inds': inds}\n",
    "#     if pkl_extra:\n",
    "#         output.update(pkl_extra)\n",
    "#     save_to_pickle(\n",
    "#         save_path=os.path.join(save_dir, f'{sort_by}.pkl'),\n",
    "#         output=output)\n",
    "# else:\n",
    "#     save_sorted_inds(save_dir, S, sort_by, extra=pkl_extra, reverse=False)\n",
    "#     save_sorted_inds(save_dir, S, sort_by, extra=pkl_extra, reverse=True)\n",
    "\n",
    "#     ## use `note_pruning` to generate scores for curriculum learning.\n",
    "#     model_name = os.path.basename(lm_output_dir)\n",
    "#     for pacing_fn in [sort_by, sort_by+'_neg']:\n",
    "#         curriculum_output_dir = os.path.join('curriculum', model_name, dataset, pacing_fn)\n",
    "#         os.makedirs(curriculum_output_dir, exist_ok=True)\n",
    "#         save_path = os.path.join(curriculum_output_dir, 'scores.pkl')\n",
    "#         output = {'S': -S if pacing_fn.endswith('_neg') else S}\n",
    "#         save_to_pickle(save_path=save_path, output=output)"
   ]
  },
  {
   "cell_type": "code",
   "execution_count": null,
   "id": "3f483857",
   "metadata": {},
   "outputs": [],
   "source": []
  },
  {
   "cell_type": "code",
   "execution_count": null,
   "id": "f7d0ece3",
   "metadata": {},
   "outputs": [],
   "source": []
  },
  {
   "cell_type": "code",
   "execution_count": null,
   "id": "9c9ebd77",
   "metadata": {},
   "outputs": [],
   "source": []
  },
  {
   "cell_type": "code",
   "execution_count": null,
   "id": "5ec32921",
   "metadata": {},
   "outputs": [],
   "source": []
  },
  {
   "cell_type": "code",
   "execution_count": null,
   "id": "74e8895c",
   "metadata": {},
   "outputs": [],
   "source": []
  },
  {
   "cell_type": "code",
   "execution_count": null,
   "id": "54ea377f",
   "metadata": {},
   "outputs": [],
   "source": []
  }
 ],
 "metadata": {
  "kernelspec": {
   "display_name": "Python [conda env:open-instruct]",
   "language": "python",
   "name": "conda-env-open-instruct-py"
  },
  "language_info": {
   "codemirror_mode": {
    "name": "ipython",
    "version": 3
   },
   "file_extension": ".py",
   "mimetype": "text/x-python",
   "name": "python",
   "nbconvert_exporter": "python",
   "pygments_lexer": "ipython3",
   "version": "3.10.12"
  }
 },
 "nbformat": 4,
 "nbformat_minor": 5
}
