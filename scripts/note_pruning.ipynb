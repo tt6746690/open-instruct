{
 "cells": [
  {
   "cell_type": "code",
   "execution_count": 1,
   "id": "0bf2dd69",
   "metadata": {
    "scrolled": true
   },
   "outputs": [
    {
     "name": "stderr",
     "output_type": "stream",
     "text": [
      "/gpfs/u/scratch/PTFM/PTFMqngp/github/rosemary/src/rosemary/__init__.py:25: UserWarning: Install `torch` for functionalities dependent on torch\n",
      "  warn(f'Install `torch` for functionalities dependent on torch')\n"
     ]
    },
    {
     "data": {
      "text/html": [
       "<style>.container { width:100% !important; }</style>"
      ],
      "text/plain": [
       "<IPython.core.display.HTML object>"
      ]
     },
     "metadata": {},
     "output_type": "display_data"
    },
    {
     "name": "stdout",
     "output_type": "stream",
     "text": [
      "0,1\n",
      "1\n",
      "Wed Jan  3 01:29:02 2024       \n",
      "+-----------------------------------------------------------------------------+\n",
      "| NVIDIA-SMI 460.91.03    Driver Version: 460.91.03    CUDA Version: 11.2     |\n",
      "|-------------------------------+----------------------+----------------------+\n",
      "| GPU  Name        Persistence-M| Bus-Id        Disp.A | Volatile Uncorr. ECC |\n",
      "| Fan  Temp  Perf  Pwr:Usage/Cap|         Memory-Usage | GPU-Util  Compute M. |\n",
      "|                               |                      |               MIG M. |\n",
      "|===============================+======================+======================|\n",
      "|   0  Tesla V100-SXM2...  On   | 00000004:04:00.0 Off |                    0 |\n",
      "| N/A   28C    P0    39W / 300W |      0MiB / 32510MiB |      0%      Default |\n",
      "|                               |                      |                  N/A |\n",
      "+-------------------------------+----------------------+----------------------+\n",
      "|   1  Tesla V100-SXM2...  On   | 00000004:05:00.0 Off |                    0 |\n",
      "| N/A   29C    P0    37W / 300W |      0MiB / 32510MiB |      0%      Default |\n",
      "|                               |                      |                  N/A |\n",
      "+-------------------------------+----------------------+----------------------+\n",
      "|   2  Tesla V100-SXM2...  On   | 00000004:06:00.0 Off |                    0 |\n",
      "| N/A   36C    P0   113W / 300W |  15791MiB / 32510MiB |     57%      Default |\n",
      "|                               |                      |                  N/A |\n",
      "+-------------------------------+----------------------+----------------------+\n",
      "|   3  Tesla V100-SXM2...  On   | 00000035:03:00.0 Off |                    0 |\n",
      "| N/A   40C    P0    68W / 300W |  16183MiB / 32510MiB |     39%      Default |\n",
      "|                               |                      |                  N/A |\n",
      "+-------------------------------+----------------------+----------------------+\n",
      "|   4  Tesla V100-SXM2...  On   | 00000035:04:00.0 Off |                    0 |\n",
      "| N/A   36C    P0   111W / 300W |  15771MiB / 32510MiB |     51%      Default |\n",
      "|                               |                      |                  N/A |\n",
      "+-------------------------------+----------------------+----------------------+\n",
      "|   5  Tesla V100-SXM2...  On   | 00000035:05:00.0 Off |                    0 |\n",
      "| N/A   32C    P0    38W / 300W |      2MiB / 32510MiB |      0%      Default |\n",
      "|                               |                      |                  N/A |\n",
      "+-------------------------------+----------------------+----------------------+\n",
      "                                                                               \n",
      "+-----------------------------------------------------------------------------+\n",
      "| Processes:                                                                  |\n",
      "|  GPU   GI   CI        PID   Type   Process name                  GPU Memory |\n",
      "|        ID   ID                                                   Usage      |\n",
      "|=============================================================================|\n",
      "|    2   N/A  N/A   1128689      C   python                          15789MiB |\n",
      "|    3   N/A  N/A   1127571      C   python                          16181MiB |\n",
      "|    4   N/A  N/A   1127572      C   python                          15769MiB |\n",
      "+-----------------------------------------------------------------------------+\n"
     ]
    }
   ],
   "source": [
    "from rosemary import jpt_parse_args, jpt_setup, jpt_in_notebook; jpt_setup()\n",
    "\n",
    "if jpt_in_notebook():\n",
    "    import os\n",
    "    print(os.environ['CUDA_VISIBLE_DEVICES'])\n",
    "    os.environ['CUDA_VISIBLE_DEVICES'] = \\\n",
    "        os.environ['CUDA_VISIBLE_DEVICES'].split(',')[1]\n",
    "    # '0,1,2,3,4,5'\n",
    "    print(os.environ['CUDA_VISIBLE_DEVICES'])\n",
    "    \n",
    "!nvidia-smi"
   ]
  },
  {
   "cell_type": "code",
   "execution_count": 29,
   "id": "1cf384bc",
   "metadata": {
    "scrolled": true
   },
   "outputs": [
    {
     "name": "stdout",
     "output_type": "stream",
     "text": [
      "test_run = True\n",
      "\n",
      "Submiting job with:\n",
      "{\n",
      "    \"job_name\": \"prune.sharegptv2.dppmap_k=vmf_gamma=auto1000_kmd=llama7br512p4096_kemb=grad+rp+loraB\",\n",
      "    \"nodes\": 1,\n",
      "    \"num_cpus\": 64,\n",
      "    \"cpu_mem\": 400,\n",
      "    \"num_gpus\": 1,\n",
      "    \"gpu_type\": \"v100\",\n",
      "    \"test_run\": true,\n",
      "    \"queue\": \"el8\",\n",
      "    \"num_jobs\": 1\n",
      "}\n",
      "python note_pruning.py --dataset sharegptv2 --sort_by dppmap_k=vmf_gamma=auto1000_kmd=llama7br512p4096_kemb=grad+rp+loraB --model_name llama-7b+lora:r=512:a=11585+proj=4096 --save_dir /gpfs/u/home/PTFM/PTFMqngp/scratch/github/mitibm2023/external/open-instruct/scripts/data_inds/llama-7b+lora:r=512:a=11585+proj=4096/sharegptv2\n",
      "#cmds:  1\n"
     ]
    }
   ],
   "source": [
    "import os\n",
    "import itertools\n",
    "from rosemary import jpt_in_notebook\n",
    "from llm.submit import submit_job, multiline_to_singleline, shell_scripts_template_slurm\n",
    "from note_pruning import get_final_model_name\n",
    "\n",
    "num_gpus = 1\n",
    "job_duration = 6\n",
    "log_dir = '/gpfs/u/home/PTFM/PTFMqngp/scratch/github/mitibm2023/external/open-instruct/scripts/'\n",
    "\n",
    "test_run = 1\n",
    "test_run = bool(test_run)\n",
    "\n",
    "sort_by_list = []\n",
    "\n",
    "\n",
    "# ### relies on `model_name`\n",
    "\n",
    "# # model_name = 'llama-7b'; md = 'llama7b'\n",
    "# # model_name = 'llama-7b+lora:r=256:a=256'; md = 'llama7b'\n",
    "# # model_name = 'llama-7b+lora:r=256:a=4096+proj=4096'; md = 'llama7br256p4096'\n",
    "# model_name = 'llama-7b+lora:r=512:a=11585+proj=4096'; md = 'llama7br512p4096'\n",
    "\n",
    "# # model_name = 'llama2-7b+lora:r=256:a=256'; md = 'llama2:7b'\n",
    "# # model_name = 'llama-7b+lima+lora:r=256:a=256'; md = 'llama7b'\n",
    "# # model_name = 'mistral-7b+lora:r=256:a=256'; md = 'mistral7b'\n",
    "# # model_name = 'all-mpnet-base-v2'; md = 'mpnet'\n",
    "# # model_name = 'bge-large-en-v1.5'; md = 'bge'\n",
    "# # model_name = 'codellama-7b+lora:r=256:a=256'; md = 'codellama7b'\n",
    "\n",
    "# sort_by_list += [\n",
    "#     'random_s=0', 'random_s=1', 'random_s=2',\n",
    "#     'log_prob', 'logit_margin', 'el2n_agg=mean', 'grad_loraB_l2n',\n",
    "#     'numtoks', 'ifd_and_log_pmi', \n",
    "# ]\n",
    "# ###\n",
    "\n",
    "##### does not rely on `model_name`.\n",
    "model_name = ''\n",
    "# md = 'llama7b'\n",
    "# md = 'llama7br256p4096'\n",
    "md = 'llama7br512p4096'\n",
    "# md = 'pythia1br512p4096'\n",
    "\n",
    "# subset_size = 50_000\n",
    "# subset_size = 40_000\n",
    "# subset_size = 20_000\n",
    "# subset_size = 20_000\n",
    "# subset_size = 10_000\n",
    "# subset_size = 5_000\n",
    "# subset_size = 3_000\n",
    "subset_size = 1_000\n",
    "# subset_size = 500\n",
    "\n",
    "sort_by_list += [\n",
    "#     f'dedup_md={md}_emb=text+embedding',\n",
    "#     f'dppmap_k=vmf_gamma=auto{subset_size}_kmd=mpnet',\n",
    "#     f'dppmap_k=rbf_gamma=auto{subset_size}_kmd={md}_kemb=text+embedding',\n",
    "    f'dppmap_k=vmf_gamma=auto{subset_size}_kmd={md}_kemb=grad+rp+loraB',\n",
    "#     f'dppmap_k=vmf_gamma=auto{subset_size}_kmd=bge',\n",
    "#     f'dppmap_k=vmf_gamma=auto{subset_size}_kmd={md}_kemb=text+embedding',\n",
    "#     f'dppmap_k=rbf_gamma=auto{subset_size}_kmd={md}_kemb=grad+rp+loraB',\n",
    "]\n",
    "# sort_by_list += [\n",
    "#     f'dppmap_k=vmf_gamma=0.01_kmd=mpnet',\n",
    "# ]\n",
    "#####\n",
    "\n",
    "\n",
    "dataset_list = [\n",
    "    ## newer with max_seq_len<=2048 exactly\n",
    "#     'stanford_alpaca', \n",
    "    'sharegptv2',\n",
    "#     'wizardlm',\n",
    "#     'wizardlmv2',\n",
    "#     'tulu_v2',\n",
    "#     'open_orca_slim',\n",
    "#     'oasst1',\n",
    "#     'flan_v2',\n",
    "#     'dolly',\n",
    "#     'ultrachat200kv2',\n",
    "    ## older\n",
    "#     'lima',\n",
    "#     'flan2022_1m',\n",
    "#     'tulu_v1_mix',\n",
    "#     'ultrachat',\n",
    "    ## coding\n",
    "#     'starcoder_commentinstr', \n",
    "#     'starcoder_commentinstr_cleaned',\n",
    "#     'starcoder_commentinstrv2',\n",
    "#     'starcoder_commentinstrv2_flppl',\n",
    "#     'starcoder_commentinstrv5',\n",
    "]\n",
    "\n",
    "\n",
    "from note_pruning_analysis import data_inds_dir\n",
    "\n",
    "options_list = itertools.product(dataset_list, sort_by_list)\n",
    "\n",
    "print('test_run =',test_run)\n",
    "cmds = []\n",
    "for dataset, sort_by in options_list:\n",
    "    model_name_ = get_final_model_name(model_name, sort_by)\n",
    "    save_dir = os.path.join(data_inds_dir, model_name_, dataset)\n",
    "    cmd = f\"\"\"\n",
    "     python note_pruning.py \\\n",
    "        --dataset {dataset} \\\n",
    "        --sort_by {sort_by} \\\n",
    "        --model_name {model_name_} \\\n",
    "        --save_dir {save_dir} \\\n",
    "    \"\"\".strip()\n",
    "    cmd = multiline_to_singleline(cmd)\n",
    "    shell_scripts = shell_scripts_template_slurm.format(\n",
    "        conda_env='open-instruct',\n",
    "        cwd=os.getcwd(),\n",
    "        cmd=cmd,\n",
    "        log_dir=log_dir,\n",
    "        save_dir=save_dir)\n",
    "    out = submit_job(\n",
    "        shell_scripts, \n",
    "        job_name=f'prune.{dataset}.{sort_by}', \n",
    "        nodes=1,\n",
    "        num_cpus=64, # 32\n",
    "        cpu_mem=400, # 128, total mem=700.\n",
    "        num_gpus=num_gpus,\n",
    "        gpu_type='v100',\n",
    "        test_run=test_run,\n",
    "        job_duration=job_duration,\n",
    "    )\n",
    "    cmds.append(cmd)\n",
    "    print(cmd)\n",
    "        \n",
    "print('#cmds: ', len(cmds))\n"
   ]
  },
  {
   "cell_type": "code",
   "execution_count": 30,
   "id": "160a7b13",
   "metadata": {},
   "outputs": [],
   "source": [
    "with open('note_pruning_run_cmds.sh', 'w') as f:\n",
    "    s = 'set -e\\nset -x\\n'\n",
    "    devices = os.environ['CUDA_VISIBLE_DEVICES'].split(',')[-1]\n",
    "    s += '\\n\\n'.join([f\"CUDA_VISIBLE_DEVICES={devices} \"+x for x in cmds])\n",
    "    f.write(s)"
   ]
  },
  {
   "cell_type": "code",
   "execution_count": 31,
   "id": "1bdbed3a",
   "metadata": {
    "scrolled": true
   },
   "outputs": [
    {
     "name": "stdout",
     "output_type": "stream",
     "text": [
      "+ CUDA_VISIBLE_DEVICES=1\n",
      "+ python note_pruning.py --dataset sharegptv2 --sort_by dppmap_k=vmf_gamma=auto1000_kmd=llama7br512p4096_kemb=grad+rp+loraB --model_name llama-7b+lora:r=512:a=11585+proj=4096 --save_dir /gpfs/u/home/PTFM/PTFMqngp/scratch/github/mitibm2023/external/open-instruct/scripts/data_inds/llama-7b+lora:r=512:a=11585+proj=4096/sharegptv2\n",
      "/gpfs/u/scratch/PTFM/PTFMqngp/github/rosemary/src/rosemary/__init__.py:25: UserWarning: Install `torch` for functionalities dependent on torch\n",
      "  warn(f'Install `torch` for functionalities dependent on torch')\n",
      "{\n",
      "  \"dataset\": \"sharegptv2\",\n",
      "  \"sort_by\": \"dppmap_k=vmf_gamma=auto1000_kmd=llama7br512p4096_kemb=grad+rp+loraB\",\n",
      "  \"model_name\": \"llama-7b+lora:r=512:a=11585+proj=4096\",\n",
      "  \"save_dir\": \"/gpfs/u/home/PTFM/PTFMqngp/scratch/github/mitibm2023/external/open-instruct/scripts/data_inds/llama-7b+lora:r=512:a=11585+proj=4096/sharegptv2\"\n",
      "}\n",
      "[autotune gamma] Set initial gamma=2.55e-05 / M=1002 to reach target_size=1000\n",
      "[autotune gamma] Terminate since gamma=2.55e-05 / M=1002 is within 0.01 of target_size=1000\n",
      "Rank datapoints with dppmap_k=vmf_gamma=auto1000_kmd=llama7br512p4096_kemb=grad+rp+loraB took 0.04 seconds.\n"
     ]
    }
   ],
   "source": [
    "!bash note_pruning_run_cmds.sh"
   ]
  },
  {
   "cell_type": "markdown",
   "id": "3363aa87",
   "metadata": {},
   "source": [
    "### Generate curriculum from pre-computed scores (via `note_pruning.py`)"
   ]
  },
  {
   "cell_type": "code",
   "execution_count": 28,
   "id": "2a25a293",
   "metadata": {
    "scrolled": true
   },
   "outputs": [
    {
     "name": "stdout",
     "output_type": "stream",
     "text": [
      "save inds (length = 10000) to curriculum/llama-7b+lora:r=512:a=11585+proj=4096/flan_v2/dppmap_k=vmf_gamma=auto1000_kmd=llama7br512p4096_kemb=grad+rp+loraB/inds_prune_size=10000_ep=10.pkl\n",
      "save inds (length = 10000) to curriculum/llama-7b+lora:r=256:a=256/flan_v2/numtoks_input/inds_prune_size=10000_ep=10.pkl\n",
      "save inds (length = 10000) to curriculum/llama-7b+lora:r=256:a=256/flan_v2/numtoks_total_neg/inds_prune_size=10000_ep=10.pkl\n",
      "save inds (length = 10000) to curriculum/llama-7b+lora:r=256:a=256/flan_v2/numtoks_input_neg/inds_prune_size=10000_ep=10.pkl\n",
      "save inds (length = 10000) to curriculum/llama-7b+lora:r=256:a=256/flan_v2/el2n_agg=mean_neg/inds_prune_size=10000_ep=10.pkl\n",
      "save inds (length = 10000) to curriculum/llama-7b+lora:r=256:a=256/flan_v2/logit_margin_neg/inds_prune_size=10000_ep=10.pkl\n",
      "save inds (length = 10000) to curriculum/llama-7b+lora:r=256:a=256/flan_v2/random_s=0_neg/inds_prune_size=10000_ep=10.pkl\n",
      "save inds (length = 10000) to curriculum/llama-7b+lora:r=256:a=256/flan_v2/numtoks_output/inds_prune_size=10000_ep=10.pkl\n",
      "save inds (length = 10000) to curriculum/llama-7b+lora:r=256:a=256/flan_v2/logit_margin/inds_prune_size=10000_ep=10.pkl\n",
      "save inds (length = 10000) to curriculum/llama-7b+lora:r=256:a=256/flan_v2/log_pmi/inds_prune_size=10000_ep=10.pkl\n",
      "save inds (length = 10000) to curriculum/llama-7b+lora:r=256:a=256/flan_v2/dppmap_k=rbf_gamma=auto20000_kmd=llama7b_kemb=text+embedding/inds_prune_size=10000_ep=10.pkl\n",
      "save inds (length = 10000) to curriculum/llama-7b+lora:r=256:a=256/flan_v2/dppmap_k=vmf_gamma=auto1000_kmd=llama7b_kemb=text+embedding/inds_prune_size=10000_ep=10.pkl\n",
      "save inds (length = 10000) to curriculum/llama-7b+lora:r=256:a=256/flan_v2/dppmap_k=vmf_gamma=auto20000_kmd=llama7b_kemb=grad+rp+loraB/inds_prune_size=10000_ep=10.pkl\n",
      "save inds (length = 10000) to curriculum/llama-7b+lora:r=256:a=256/flan_v2/el2n_agg=mean/inds_prune_size=10000_ep=10.pkl\n",
      "save inds (length = 10000) to curriculum/llama-7b+lora:r=256:a=256/flan_v2/log_pmi_neg/inds_prune_size=10000_ep=10.pkl\n",
      "save inds (length = 10000) to curriculum/llama-7b+lora:r=256:a=256/flan_v2/random_s=2_neg/inds_prune_size=10000_ep=10.pkl\n",
      "save inds (length = 10000) to curriculum/llama-7b+lora:r=256:a=256/flan_v2/numtoks_output_neg/inds_prune_size=10000_ep=10.pkl\n",
      "save inds (length = 10000) to curriculum/llama-7b+lora:r=256:a=256/flan_v2/dppmap_k=rbf_gamma=auto10000_kmd=llama7b_kemb=text+embedding/inds_prune_size=10000_ep=10.pkl\n",
      "save inds (length = 10000) to curriculum/llama-7b+lora:r=256:a=256/flan_v2/dppmap_k=rbf_gamma=auto1000_kmd=llama7b_kemb=text+embedding/inds_prune_size=10000_ep=10.pkl\n",
      "save inds (length = 10000) to curriculum/llama-7b+lora:r=256:a=256/flan_v2/dppmap_k=rbf_gamma=auto1000_kmd=llama7b_kemb=grad+rp+loraB/inds_prune_size=10000_ep=10.pkl\n",
      "save inds (length = 10000) to curriculum/llama-7b+lora:r=256:a=256/flan_v2/dppmap_k=vmf_gamma=auto1000_kmd=llama7b_kemb=grad+rp+loraB/inds_prune_size=10000_ep=10.pkl\n",
      "save inds (length = 10000) to curriculum/llama-7b+lora:r=256:a=256/flan_v2/random_s=1/inds_prune_size=10000_ep=10.pkl\n",
      "save inds (length = 10000) to curriculum/llama-7b+lora:r=256:a=256/flan_v2/log_prob_neg/inds_prune_size=10000_ep=10.pkl\n",
      "save inds (length = 10000) to curriculum/llama-7b+lora:r=256:a=256/flan_v2/ifd_neg/inds_prune_size=10000_ep=10.pkl\n",
      "save inds (length = 10000) to curriculum/llama-7b+lora:r=256:a=256/flan_v2/random_s=2/inds_prune_size=10000_ep=10.pkl\n",
      "save inds (length = 10000) to curriculum/llama-7b+lora:r=256:a=256/flan_v2/numtoks_total/inds_prune_size=10000_ep=10.pkl\n",
      "save inds (length = 10000) to curriculum/llama-7b+lora:r=256:a=256/flan_v2/ifd/inds_prune_size=10000_ep=10.pkl\n",
      "save inds (length = 10000) to curriculum/llama-7b+lora:r=256:a=256/flan_v2/grad_loraB_l2n/inds_prune_size=10000_ep=10.pkl\n",
      "save inds (length = 10000) to curriculum/llama-7b+lora:r=256:a=256/flan_v2/dppmap_k=vmf_gamma=auto10000_kmd=llama7b_kemb=grad+rp+loraB/inds_prune_size=10000_ep=10.pkl\n",
      "save inds (length = 10000) to curriculum/llama-7b+lora:r=256:a=256/flan_v2/grad_loraB_l2n_neg/inds_prune_size=10000_ep=10.pkl\n",
      "save inds (length = 10000) to curriculum/llama-7b+lora:r=256:a=256/flan_v2/log_prob/inds_prune_size=10000_ep=10.pkl\n",
      "save inds (length = 10000) to curriculum/llama-7b+lora:r=256:a=256/flan_v2/random_s=0/inds_prune_size=10000_ep=10.pkl\n",
      "save inds (length = 10000) to curriculum/llama-7b+lora:r=256:a=256/flan_v2/random_s=1_neg/inds_prune_size=10000_ep=10.pkl\n"
     ]
    }
   ],
   "source": [
    "import itertools\n",
    "from note_curriculum import (\n",
    "    get_curriculum_scores,\n",
    "    get_curriculum,\n",
    "    generate_curriculum,\n",
    "    generate_curriculum_forall_scoring_fn,\n",
    "    scores_path_to_attrs,\n",
    "    np_random_choice_maximize_noreplacement,\n",
    "    plt_curriculum,\n",
    ")\n",
    "from note_pruning_analysis import assets_dir\n",
    "\n",
    "# model_name = 'llama-7b'; dataset = 'tulu_v1_mix'; M = 150_000; num_epochs = 3\n",
    "# model_name = 'llama-7b'; dataset = 'sharegpt'; M = 150_000; num_epochs = 3\n",
    "\n",
    "## mistral+ultrachat\n",
    "# model_name = 'mistral-7b'; dataset = 'ultrachat200k'; M = 50_000; num_epochs = 2\n",
    "# model_name = 'mistral-7b'; dataset = 'ultrachat15'; M = 100_000; num_epochs = 2\n",
    "# model_name = 'mistral-7b'; dataset = 'ultrachat15'; M = 200_000; num_epochs = 2\n",
    "\n",
    "## semdedup\n",
    "# model_name = 'bge-large-en-v1.5'; dataset = 'wizardlm'; M = 100_000; num_epochs = 2\n",
    "# model_name = 'all-mpnet-base-v2'; dataset = 'ultrachat15'; M = 100_000; num_epochs = 2\n",
    "# model_name = 'all-mpnet-base-v2'; dataset = 'tulu_v1_mix'; M = 150_000; num_epochs = 2\n",
    "# model_name = 'mistral-7b'; dataset = 'ultrachat15'; M = 100_000; num_epochs = 2\n",
    "\n",
    "## starcoder\n",
    "# M = 25_000; num_epochs=5; model_name = ['codellama-7b', 'all-mpnet-base-v2']; \\\n",
    "#     dataset = ['starcoder_commentinstr_cleaned', 'starcoder_commentinstr']\n",
    "# M = 50_000; num_epochs=5; model_name = ['codellama-7b', 'all-mpnet-base-v2']; \\\n",
    "#     dataset = ['starcoder_commentinstrv2']\n",
    "\n",
    "## wizardlm\n",
    "# model_name = ['llama-7b', 'all-mpnet-base-v2', 'bge-large-en-v1.5']; dataset = ['wizardlm']\n",
    "# M = 100_000; num_epochs = 2\n",
    "# M = 50_000; num_epochs = 5\n",
    "# M = 10_000; num_epochs = 10\n",
    "\n",
    "## tulu_v1_mix\n",
    "# model_name = ['llama-7b', 'all-mpnet-base-v2', 'bge-large-en-v1.5']; dataset = ['tulu_v1_mix']\n",
    "# M = 50_000; num_epochs = 5\n",
    "# M = 150_000; num_epochs = 3\n",
    "\n",
    "## tulu_v2, open_orca_slim, sharegptv2\n",
    "model_name = ['llama-7b', 'llama2-7b', 'all-mpnet-base-v2', 'bge-large-en-v1.5', 'codellama-7b', 'pythia-1b']\n",
    "# dataset = ['tulu_v2']\n",
    "# dataset = ['open_orca_slim']\n",
    "# dataset = ['sharegptv2']\n",
    "# dataset = ['stanford_alpaca']\n",
    "dataset = ['flan_v2']\n",
    "# dataset = ['oasst1']\n",
    "# dataset = ['wizardlmv2']\n",
    "# dataset = ['ultrachat200kv2']\n",
    "# dataset = ['dolly']\n",
    "# dataset = ['stanford_alpaca', 'oasst1', 'wizardlm']\n",
    "# dataset = ['starcoder_commentinstrv5']\n",
    "\n",
    "# M = 60_000; num_epochs = 3 # ->20k\n",
    "# M = 50_000; num_epochs = 5 # ->10k\n",
    "M = 10_000; num_epochs = 10 # ->1k\n",
    "\n",
    "\n",
    "\n",
    "pacing_fn_list = [\n",
    "#     f'prune_size={M}_ep=1',\n",
    "    f'prune_size={M}_ep={num_epochs}',\n",
    "#     f'prune_size={M}_ep=3',\n",
    "#     f'singlestep_size={M}_startingfrac=0.1',\n",
    "#     f'singlestep_size={M}_startingfrac=0.05',\n",
    "#     f'fep_size={M}_nsteps=5_startingfrac=0.05_inc=1.5',\n",
    "]\n",
    "\n",
    "output_list = generate_curriculum_forall_scoring_fn(\n",
    "    model_name, dataset, pacing_fn_list, verbose=False)"
   ]
  },
  {
   "cell_type": "code",
   "execution_count": null,
   "id": "772cdbf7",
   "metadata": {
    "scrolled": true
   },
   "outputs": [
    {
     "name": "stdout",
     "output_type": "stream",
     "text": [
      "curriculum/llama-7b+lora:r=256:a=256/tulu_v1_mix/log_prob_neg/scores.pkl\n",
      "fixed exponential pacing startingfrac=0.05, inc=20.0, nsteps=2 \n",
      "Implies: step_lens=[25000, 25000], stepwise_data_fracs=[0.05, 1.0]\n",
      "fixed exponential pacing startingfrac=0.05, inc=1.5, nsteps=5 \n",
      "Implies: step_lens=[10000, 10000, 10000, 10000, 10000], stepwise_data_fracs=[0.05, 0.07500000000000001, 0.1125, 0.16875, 0.253125]\n",
      "fixed exponential pacing startingfrac=0.05, inc=2.0, nsteps=5 \n",
      "Implies: step_lens=[10000, 10000, 10000, 10000, 10000], stepwise_data_fracs=[0.05, 0.1, 0.2, 0.4, 0.8]\n",
      "Error in callback <function flush_figures at 0x7fff5ba411b0> (for post_execute):\n"
     ]
    }
   ],
   "source": [
    "import re\n",
    "import numpy as np\n",
    "from note_curriculum import get_curriculum_scores, generate_curriculum, plt_curriculum\n",
    "import glob\n",
    "import matplotlib.pyplot as plt\n",
    "\n",
    "model_name = 'mistral-7b'; dataset = 'ultrachat'; M =  50_000\n",
    "# model_name = 'llama-7b'; dataset = 'tulu_v1_mix'; M = 150_000\n",
    "\n",
    "\n",
    "paths = glob.glob('curriculum/*/*/*/scores.pkl')\n",
    "paths = [x for x in paths if 'llama' in x and 'tulu_v1_mix' in x and 'log_prob_neg' in x]\n",
    "path = paths[0]\n",
    "\n",
    "verbose = True\n",
    "print(path)\n",
    "pacing_fn = f'prune_size={M}_ep=3'\n",
    "# pacing_fn = f'singlestep_size={M}_startingfrac=0.1'\n",
    "# pacing_fn = f'singlestep_size={M}_startingfrac=0.2'\n",
    "# pacing_fn = f'singlestep_size={M}_startingfrac=0.3'\n",
    "# pacing_fn = f'fep_size={M}_nsteps=5_startingfrac=0.1_inc=2'\n",
    "# pacing_fn = f'fep_size={M}_nsteps=5_startingfrac=0.1_inc=1.5'\n",
    "# pacing_fn = f'fep_size={M}_nsteps=5_startingfrac=0.2_inc=1.5'\n",
    "# pacing_fn = f'fep_size={M}_nsteps=5_startingfrac=0.1_inc=1.5'\n",
    "\n",
    "pacing_fn_list = [\n",
    "    f'prune_size={M}_ep=3',\n",
    "    f'singlestep_size={M}_startingfrac=0.05',\n",
    "#     f'singlestep_size={M}_startingfrac=0.1',\n",
    "#     f'singlestep_size={M}_startingfrac=0.2',\n",
    "#     f'singlestep_size={M}_startingfrac=0.3',\n",
    "#     f'fep_size={M}_nsteps=5_startingfrac=0.1_inc=1.5',\n",
    "#     f'fep_size={M}_nsteps=5_startingfrac=0.1_inc=2',\n",
    "#     f'fep_size={M}_nsteps=5_startingfrac=0.1_inc=3',\n",
    "    f'fep_size={M}_nsteps=5_startingfrac=0.05_inc=1.5',\n",
    "    f'fep_size={M}_nsteps=5_startingfrac=0.05_inc=2',\n",
    "#     f'fep_size={M}_nsteps=5_startingfrac=0.05_inc=3',\n",
    "#     f'fep_size={M}_nsteps=5_startingfrac=0.05_inc=1.25'\n",
    "]\n",
    "\n",
    "\n",
    "\n",
    "nrows = len(pacing_fn_list)\n",
    "fig, axs = plt.subplots(nrows, 3, figsize=(15,3*nrows), sharey=False, gridspec_kw={'width_ratios': [2,.5,.5]})\n",
    "\n",
    "for i, pacing_fn in enumerate(pacing_fn_list):\n",
    "\n",
    "    plt_kwargs = generate_curriculum(path, pacing_fn, verbose=True, save_output=False)\n",
    "    output = plt_kwargs.pop('output')\n",
    "    plt_kwargs.update({'fig': fig, 'axs': axs[i]})\n",
    "    plt_curriculum(**plt_kwargs)\n",
    "\n",
    "fig.tight_layout()\n",
    "\n",
    "\n",
    "\n",
    "save_plt = 0\n",
    "if save_plt:\n",
    "    model_name, dataset, scoring_fn = output['model_name'], output['dataset'], output['scoring_fn']\n",
    "    save_path = os.path.join(\n",
    "        assets_dir, f'note_curriculum_{model_name}:{dataset}:{scoring_fn}.png')\n",
    "    fig.savefig(save_path, bbox_inches='tight', dpi=100)\n",
    "\n"
   ]
  },
  {
   "cell_type": "markdown",
   "id": "3f82473d",
   "metadata": {},
   "source": [
    "### main code"
   ]
  },
  {
   "cell_type": "code",
   "execution_count": 2,
   "id": "0c1891b2",
   "metadata": {},
   "outputs": [
    {
     "name": "stderr",
     "output_type": "stream",
     "text": [
      "/gpfs/u/scratch/PTFM/PTFMqngp/github/rosemary/src/rosemary/__init__.py:25: UserWarning: Install `torch` for functionalities dependent on torch\n",
      "  warn(f'Install `torch` for functionalities dependent on torch')\n"
     ]
    }
   ],
   "source": [
    "import os\n",
    "import sys\n",
    "import numpy as np\n",
    "import time\n",
    "import re\n",
    "import random\n",
    "import json\n",
    "import pickle\n",
    "from tqdm import tqdm \n",
    "\n",
    "import pyarrow\n",
    "import torch\n",
    "import transformers\n",
    "import pandas as pd\n",
    "\n",
    "from note_pruning import (\n",
    "    save_to_pickle,\n",
    "    save_sorted_inds,\n",
    "    sort_kmeans_dist_to_cluster_centers,\n",
    "    save_prune_results,\n",
    ")\n",
    "from note_pruning_analysis import get_lm_output\n",
    "from note_pruning_dpp import torch_vmf_kernel, torch_rbf_kernel\n",
    "from functools import partial\n",
    "\n",
    "from transformers import AutoTokenizer\n",
    "\n",
    "from rosemary import parse_kv_from_string, create_string_from_kv\n",
    "from note_pruning_analysis import lm_output_dir, get_dataset_token_lengths, get_full_model_name, md_to_model_name\n",
    "\n",
    "import note_pruning_dpp\n",
    "import note_pruning_clustering"
   ]
  },
  {
   "cell_type": "code",
   "execution_count": 3,
   "id": "2c45b5d8",
   "metadata": {},
   "outputs": [],
   "source": [
    "test_run = False\n",
    "dataset = 'tulu_v1_human_mix'\n",
    "dataset = 'tulu_v2_human_mix'\n",
    "dataset = 'flan_v2'\n",
    "dataset = 'lima'\n",
    "dataset = 'dolly'\n",
    "# dataset = 'flan2022_1m'\n",
    "# dataset = 'lima'\n",
    "# dataset = 'ultrachat200k'\n",
    "# dataset = 'tulu_v1_mix'\n",
    "# dataset = 'wizardlm'\n",
    "# dataset = 'ultrachat15'\n",
    "# dataset = 'starcoder_commentinstr_cleaned'\n",
    "\n",
    "sort_by = 'random_s=0'\n",
    "\n",
    "# used for generating model output.\n",
    "model_name = 'llama-7b'\n",
    "# model_name = 'llama-7b_ft=hmv1'\n",
    "# model_name = 'llama-7b+lora:r=256:a=256'\n",
    "# model_name = 'llama-7b+lima+lora:r=256:a=256'\n",
    "# model_name = 'mistral-7b+lora:r=256:a=256'\n",
    "# model_name = 'all-mpnet-base-v2'\n",
    "# model_name = 'bge-large-en-v1.5'\n",
    "# model_name = 'codellama-7b+lora:r=256:a=256'\n",
    "\n",
    "\n",
    "# save_dir = f\"data_inds/\"\n",
    "# from note_pruning import get_final_model_name\n",
    "# model_name_ = get_final_model_name(model_name, sort_by)\n",
    "# save_dir = os.path.join(save_dir, model_name_, dataset)\n",
    "# os.makedirs(save_dir, exist_ok=True) \n",
    "\n",
    "# print(dataset, model_name, sort_by)\n",
    "# print(save_dir)"
   ]
  },
  {
   "cell_type": "code",
   "execution_count": null,
   "id": "7a45c132",
   "metadata": {},
   "outputs": [],
   "source": []
  },
  {
   "cell_type": "code",
   "execution_count": 102,
   "id": "74e8895c",
   "metadata": {
    "scrolled": true
   },
   "outputs": [
    {
     "name": "stdout",
     "output_type": "stream",
     "text": [
      "[autotune gamma result] Found gamma=5.7e-05 / M=1004 is within 0.01 of target_size=1000\n",
      "Calling note_pruning_dpp.compute_dppmap with kwargs={\n",
      "    \"dppmap_type\": \"dppmap\",\n",
      "    \"dataset\": \"sharegptv2\",\n",
      "    \"kernel_type\": \"vmf\",\n",
      "    \"kernel_embed_model\": \"llama7b\",\n",
      "    \"kernel_embed_type\": \"grad_rp_loraB\",\n",
      "    \"kernel_kwargs\": {\n",
      "        \"gamma\": 5.7e-05\n",
      "    },\n",
      "    \"quality_score_type\": null,\n",
      "    \"quality_score_embed_model\": null,\n",
      "    \"theta\": 0.0,\n",
      "    \"device\": \"cuda\",\n",
      "    \"max_length\": 1000,\n",
      "    \"prespecified_ordering\": \"random_s=1\",\n",
      "    \"run_name\": \"dppmap_k=vmf_gamma=5.7e-05_kmd=llama7b_kemb=grad+rp+loraB_ord=random:s@1\"\n",
      "}\n"
     ]
    },
    {
     "name": "stderr",
     "output_type": "stream",
     "text": [
      " 68%|██████▊   | 676/999 [00:22<00:10, 29.71it/s, di^2: =2.6e-6] \n"
     ]
    },
    {
     "name": "stdout",
     "output_type": "stream",
     "text": [
      "Stop on dᵢ^2 = -7.5289949563739356e-06. len(inds)=677 / 74242\n"
     ]
    },
    {
     "name": "stderr",
     "output_type": "stream",
     "text": [
      "/gpfs/u/scratch/PTFM/PTFMqngp/github/mitibm2023/external/open-instruct/scripts/note_pruning_dpp.py:891: RankWarning: Polyfit may be poorly conditioned\n",
      "  ax.plot(xs, ys, 'x', markersize=10, label=sort_by)\n",
      "/gpfs/u/scratch/PTFM/PTFMqngp/github/mitibm2023/external/open-instruct/scripts/note_pruning_dpp.py:891: RankWarning: Polyfit may be poorly conditioned\n",
      "  ax.plot(xs, ys, 'x', markersize=10, label=sort_by)\n"
     ]
    },
    {
     "data": {
      "text/plain": [
       "(array([25626, 31767,    13, ..., 49709, 14877, 17944]),\n",
       " {'dppmap_type': 'dppmap',\n",
       "  'dataset': 'sharegptv2',\n",
       "  'kernel_type': 'vmf',\n",
       "  'kernel_embed_model': 'llama7b',\n",
       "  'kernel_embed_type': 'grad_rp_loraB',\n",
       "  'kernel_kwargs': {'gamma': 5.7e-05},\n",
       "  'quality_score_type': None,\n",
       "  'quality_score_embed_model': None,\n",
       "  'theta': 0.0,\n",
       "  'max_length': 1000,\n",
       "  'rand_proj': None,\n",
       "  'M': 677,\n",
       "  'time_elapsed': 32.86785840988159})"
      ]
     },
     "execution_count": 102,
     "metadata": {},
     "output_type": "execute_result"
    }
   ],
   "source": [
    "from note_pruning_dpp import get_dppmap_run_info\n",
    "import re\n",
    "import numpy as np\n",
    "from rosemary import parse_kv_from_string, create_string_from_kv\n",
    "from note_curriculum import get_curriculum_scores\n",
    "from note_pruning_analysis import curriculum_dir\n",
    "from note_pruning import get_dppmap_autotune_gamma_search_result\n",
    "import note_pruning_dpp\n",
    "import json\n",
    "from note_pruning import parse_sort_by_and_compute_dppmap\n",
    "\n",
    "\n",
    "\n",
    "\n",
    "dataset = 'stanford_alpaca'\n",
    "sort_by = 'dppmap_k=vmf_gamma=auto1000_kmd=llama7br256p4096_kemb=grad+rp+loraB_ord=random:s@1'\n",
    "dataset = 'sharegptv2'\n",
    "sort_by = 'dppmap_k=vmf_gamma=auto1000_kmd=llama7b_kemb=grad+rp+loraB_ord=random:s@1'\n",
    "\n",
    "\n",
    "parse_sort_by_and_compute_dppmap(sort_by, dataset)"
   ]
  },
  {
   "cell_type": "code",
   "execution_count": 6,
   "id": "78b5e409",
   "metadata": {},
   "outputs": [
    {
     "data": {
      "text/html": [
       "<style>.container { width:100% !important; }</style>"
      ],
      "text/plain": [
       "<IPython.core.display.HTML object>"
      ]
     },
     "metadata": {},
     "output_type": "display_data"
    }
   ],
   "source": [
    "from rosemary import jpt_setup; jpt_setup()"
   ]
  },
  {
   "cell_type": "code",
   "execution_count": 96,
   "id": "e89ac344",
   "metadata": {},
   "outputs": [],
   "source": []
  },
  {
   "cell_type": "code",
   "execution_count": 99,
   "id": "d6a17f12",
   "metadata": {},
   "outputs": [
    {
     "data": {
      "text/plain": [
       "array([1, 3, 6])"
      ]
     },
     "execution_count": 99,
     "metadata": {},
     "output_type": "execute_result"
    }
   ],
   "source": [
    "np.cumsum(np.array([1,2,3]))"
   ]
  },
  {
   "cell_type": "code",
   "execution_count": 11,
   "id": "08bfef42",
   "metadata": {},
   "outputs": [
    {
     "data": {
      "image/png": "[encoded data removed]",
      "text/plain": [
       "<Figure size 1000x500 with 2 Axes>"
      ]
     },
     "metadata": {},
     "output_type": "display_data"
    }
   ],
   "source": [
    "import matplotlib.pyplot as plt\n",
    "import pickle\n",
    "dataset = 'stanford_alpaca'\n",
    "sort_by = 'dppmap_k=vmf_gamma=3.43e-05_kmd=llama7br256p4096_kemb=grad+rp+loraB'\n",
    "\n",
    "# dataset = 'sharegptv2'\n",
    "# sort_by = 'dppmap_k=vmf_gamma=5.7e-05_kmd=llama7b_kemb=grad+rp+loraB'\n",
    "\n",
    "p = (f'/gpfs/u/home/PTFM/PTFMqngp/scratch/github/mitibm2023/external/open-instruct/scripts/dpp/{dataset}/'\n",
    "     f'{sort_by}_ord=random:s@1/data.pkl')\n",
    "with open(p, 'rb') as f:\n",
    "    o = pickle.load(f)\n",
    "mg_rand = o['marginal_gains'][1:]\n",
    "\n",
    "p = (f'/gpfs/u/home/PTFM/PTFMqngp/scratch/github/mitibm2023/external/open-instruct/scripts/dpp/{dataset}/'\n",
    "     f'{sort_by}/data.pkl')\n",
    "with open(p, 'rb') as f:\n",
    "    o = pickle.load(f)\n",
    "mg = o['marginal_gains'][1:]\n",
    "\n",
    "fig, axs = plt.subplots(1,2,figsize=(10,5))\n",
    "\n",
    "ax = axs[0]\n",
    "ax.plot(mg_rand, label='random')\n",
    "ax.plot(mg, label='greedy')\n",
    "ax.set_ylabel('di2')\n",
    "ax.set_yscale('log')\n",
    "ax.legend()\n",
    "ax.set_xlabel('Iterations')\n",
    "\n",
    "ax = axs[1]\n",
    "ax.plot(np.cumsum(mg_rand), label='random')\n",
    "ax.plot(np.cumsum(mg), label='greedy')\n",
    "ax.set_ylabel('cumulative di2')\n",
    "# ax.set_yscale('log')\n",
    "ax.legend()\n",
    "ax.set_xlabel('Iterations')\n",
    "\n",
    "fig.suptitle(f'{dataset}:{sort_by}')\n",
    "fig.tight_layout()"
   ]
  },
  {
   "cell_type": "code",
   "execution_count": 1,
   "id": "f17b71d2",
   "metadata": {},
   "outputs": [
    {
     "ename": "NameError",
     "evalue": "name 'plt' is not defined",
     "output_type": "error",
     "traceback": [
      "\u001b[0;31m---------------------------------------------------------------------------\u001b[0m",
      "\u001b[0;31mNameError\u001b[0m                                 Traceback (most recent call last)",
      "Cell \u001b[0;32mIn[1], line 20\u001b[0m\n\u001b[1;32m     17\u001b[0m     o \u001b[38;5;241m=\u001b[39m pickle\u001b[38;5;241m.\u001b[39mload(f)\n\u001b[1;32m     18\u001b[0m mg \u001b[38;5;241m=\u001b[39m o[\u001b[38;5;124m'\u001b[39m\u001b[38;5;124mmarginal_gains\u001b[39m\u001b[38;5;124m'\u001b[39m][\u001b[38;5;241m1\u001b[39m:]\n\u001b[0;32m---> 20\u001b[0m fig, axs \u001b[38;5;241m=\u001b[39m \u001b[43mplt\u001b[49m\u001b[38;5;241m.\u001b[39msubplots(\u001b[38;5;241m1\u001b[39m,\u001b[38;5;241m2\u001b[39m,figsize\u001b[38;5;241m=\u001b[39m(\u001b[38;5;241m10\u001b[39m,\u001b[38;5;241m5\u001b[39m))\n\u001b[1;32m     22\u001b[0m ax \u001b[38;5;241m=\u001b[39m axs[\u001b[38;5;241m0\u001b[39m]\n\u001b[1;32m     23\u001b[0m ax\u001b[38;5;241m.\u001b[39mplot(mg_rand, label\u001b[38;5;241m=\u001b[39m\u001b[38;5;124m'\u001b[39m\u001b[38;5;124mrandom\u001b[39m\u001b[38;5;124m'\u001b[39m)\n",
      "\u001b[0;31mNameError\u001b[0m: name 'plt' is not defined"
     ]
    }
   ],
   "source": [
    "import pickle\n",
    "dataset = 'stanford_alpaca'\n",
    "sort_by = 'dppmap_k=vmf_gamma=3.43e-05_kmd=llama7br256p4096_kemb=grad+rp+loraB'\n",
    "\n",
    "# dataset = 'sharegptv2'\n",
    "# sort_by = 'dppmap_k=vmf_gamma=5.7e-05_kmd=llama7b_kemb=grad+rp+loraB'\n",
    "\n",
    "p = (f'/gpfs/u/home/PTFM/PTFMqngp/scratch/github/mitibm2023/external/open-instruct/scripts/dpp/{dataset}/'\n",
    "     f'{sort_by}_ord=random:s@1/data.pkl')\n",
    "with open(p, 'rb') as f:\n",
    "    o = pickle.load(f)\n",
    "mg_rand = o['marginal_gains'][1:]\n",
    "\n",
    "p = (f'/gpfs/u/home/PTFM/PTFMqngp/scratch/github/mitibm2023/external/open-instruct/scripts/dpp/{dataset}/'\n",
    "     f'{sort_by}/data.pkl')\n",
    "with open(p, 'rb') as f:\n",
    "    o = pickle.load(f)\n",
    "mg = o['marginal_gains'][1:]\n",
    "\n",
    "fig, axs = plt.subplots(1,2,figsize=(10,5))\n",
    "\n",
    "ax = axs[0]\n",
    "ax.plot(mg_rand, label='random')\n",
    "ax.plot(mg, label='greedy')\n",
    "ax.set_ylabel('di2')\n",
    "ax.set_yscale('log')\n",
    "ax.legend()\n",
    "ax.set_xlabel('Iterations')\n",
    "\n",
    "ax = axs[1]\n",
    "ax.plot(np.cumsum(mg_rand), label='random')\n",
    "ax.plot(np.cumsum(mg), label='greedy')\n",
    "ax.set_ylabel('cumulative di2')\n",
    "# ax.set_yscale('log')\n",
    "ax.legend()\n",
    "ax.set_xlabel('Iterations')"
   ]
  },
  {
   "cell_type": "code",
   "execution_count": 77,
   "id": "46656c56",
   "metadata": {},
   "outputs": [
    {
     "name": "stdout",
     "output_type": "stream",
     "text": [
      "[autotune gamma result] Found gamma=3.43e-05 / M=1003 is within 0.01 of target_size=1000\n",
      "Calling note_pruning_dpp.compute_dppmap with kwargs={\n",
      "    \"dppmap_type\": \"dppmap\",\n",
      "    \"dataset\": \"stanford_alpaca\",\n",
      "    \"kernel_type\": \"vmf\",\n",
      "    \"kernel_embed_model\": \"llama7br256p4096\",\n",
      "    \"kernel_embed_type\": \"grad_rp_loraB\",\n",
      "    \"kernel_kwargs\": {\n",
      "        \"gamma\": 3.43e-05\n",
      "    },\n",
      "    \"quality_score_type\": null,\n",
      "    \"quality_score_embed_model\": null,\n",
      "    \"theta\": 0.0,\n",
      "    \"device\": \"cuda\",\n",
      "    \"max_length\": 1000,\n",
      "    \"prespecified_ordering\": \"random_s=1\",\n",
      "    \"run_name\": \"dppmap_k=vmf_gamma=3.43e-05_kmd=llama7br256p4096_kemb=grad+rp+loraB_ord=random:s@1\"\n",
      "}\n"
     ]
    }
   ],
   "source": [
    "kvs = parse_kv_from_string(sort_by)\n",
    "\n",
    "if kvs['k'] == 'vmf':\n",
    "    kernel_kwargs = {'gamma': kvs['gamma']}\n",
    "elif kvs['k'] == 'rbf':\n",
    "    kernel_kwargs = {'gamma': kvs['gamma']}\n",
    "elif kvs['k'] == 'lin':\n",
    "    kernel_kwargs = {'gamma': kvs.get('gamma', 1.)}\n",
    "else:\n",
    "    kernel_kwargs = {}\n",
    "\n",
    "if dataset != 'ultrachat15':\n",
    "    max_length = 55_000\n",
    "else:\n",
    "    max_length = 20_000\n",
    "    \n",
    "prespecified_ordering = re.sub(':', '_', re.sub('@', '=', kvs['ord'])) if 'ord' in kvs else None\n",
    "if prespecified_ordering:\n",
    "    ## just run for target_size\n",
    "    assert('auto' in kvs['gamma'])\n",
    "    match = re.search(r'auto([\\d.e+-]+)', sort_by)\n",
    "    max_length = int(match.group(1))\n",
    "    ## fetch prev run autotune-ed gamma, and use it for this run\n",
    "    kvs_ = {k: v for k, v in kvs.items() if k not in [0, 'ord']}\n",
    "    sort_by_without_ord = kvs[0]+'_'+create_string_from_kv(kvs_)\n",
    "    d = get_dppmap_autotune_gamma_search_result(sort_by_without_ord, dataset)\n",
    "    kernel_kwargs = {'gamma': d['gamma']}\n",
    "    sort_by = re.sub(r'auto\\d+', str(d['gamma']), sort_by)\n",
    "\n",
    "\n",
    "kwargs = {\n",
    "    'dppmap_type': 'dppmap',\n",
    "    'dataset': dataset,\n",
    "    'kernel_type': kvs['k'],\n",
    "    'kernel_embed_model': kvs['kmd'],\n",
    "    'kernel_embed_type': re.sub(r'[+]', '_', kvs['kemb']) if 'kemb' in kvs else 'text_embedding',\n",
    "    'kernel_kwargs': kernel_kwargs,\n",
    "    'quality_score_type': re.sub(r'[+]', '_', kvs['q']) if 'q' in kvs else None,\n",
    "    'quality_score_embed_model': kvs.get('qmd', None),\n",
    "    'theta': kvs.get('theta', 0.), # defaults to just diversity no quality\n",
    "    'device': 'cuda',\n",
    "    'max_length': max_length, # balance finish job within 6 hrs with wanting to prune a lot. meaning resulting scores will only be valid up to 20k for large datasets.\n",
    "    'prespecified_ordering': prespecified_ordering,\n",
    "    'run_name': sort_by,\n",
    "}\n",
    "print(f'Calling note_pruning_dpp.compute_dppmap with kwargs={json.dumps(kwargs, indent=4)}')\n",
    "\n",
    "# note_pruning_dpp.compute_dppmap(**kwargs)"
   ]
  },
  {
   "cell_type": "code",
   "execution_count": 74,
   "id": "54ea377f",
   "metadata": {},
   "outputs": [
    {
     "data": {
      "text/plain": [
       "'dppmap_k=vmf_gamma=0.0238_kmd=llama7br256p4096_kemb=grad+rp+loraB_ord=random:s@1'"
      ]
     },
     "execution_count": 74,
     "metadata": {},
     "output_type": "execute_result"
    }
   ],
   "source": []
  },
  {
   "cell_type": "code",
   "execution_count": 44,
   "id": "2b82beb6",
   "metadata": {},
   "outputs": [],
   "source": [
    "\n",
    "kvs = parse_kv_from_string(sort_by)\n",
    "kvs.pop('ord')\n",
    "\n",
    "kvs = parse_kv_from_string(sort_by)\n",
    "\n",
    "\n"
   ]
  },
  {
   "cell_type": "code",
   "execution_count": null,
   "id": "61214739",
   "metadata": {},
   "outputs": [],
   "source": []
  }
 ],
 "metadata": {
  "kernelspec": {
   "display_name": "Python [conda env:open-instruct]",
   "language": "python",
   "name": "conda-env-open-instruct-py"
  },
  "language_info": {
   "codemirror_mode": {
    "name": "ipython",
    "version": 3
   },
   "file_extension": ".py",
   "mimetype": "text/x-python",
   "name": "python",
   "nbconvert_exporter": "python",
   "pygments_lexer": "ipython3",
   "version": "3.10.12"
  }
 },
 "nbformat": 4,
 "nbformat_minor": 5
}
