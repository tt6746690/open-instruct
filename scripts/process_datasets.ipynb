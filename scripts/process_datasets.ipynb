{
 "cells": [
  {
   "cell_type": "code",
   "execution_count": 6,
   "id": "f8a2c747",
   "metadata": {},
   "outputs": [],
   "source": [
    "# flanv2_cot_oasst1_dolly\n",
    "import json\n",
    "import jsonlines"
   ]
  },
  {
   "cell_type": "code",
   "execution_count": 7,
   "id": "8164a1f9",
   "metadata": {},
   "outputs": [],
   "source": [
    "human_mix = [\n",
    "    'flan_v2/flan_v2_data.jsonl',\n",
    "    'cot/cot_data.jsonl',\n",
    "    'oasst1/oasst1_data.jsonl',\n",
    "    'dolly/dolly_data.jsonl',\n",
    "]\n",
    "\n",
    "human_mix = [f'../data/processed/{x}' for x in human_mix]\n"
   ]
  },
  {
   "cell_type": "code",
   "execution_count": 8,
   "id": "e01689c5",
   "metadata": {
    "scrolled": true
   },
   "outputs": [
    {
     "name": "stdout",
     "output_type": "stream",
     "text": [
      "\n",
      "====../data/processed/flan_v2/flan_v2_data.jsonl====\n",
      "{'dataset': 'flan_v2', 'id': 'flan_v2_0', 'messages': [{'role': 'user', 'content': \"In 1994 , the Polish ambassador to South Africa , Mr Durrant , presented the `` Warsaw Cross of Insurrection to SCieniuch 's widow .\\nIn 1994 , the Polish ambassador to South Africa , Mr Scieniuch , presented the `` Warsaw Cross of Insurrection to Durrant 's widow .\\n\\nAre these two sentences paraphrases of each other?\\nOptions are:\\n 1). no.\\n 2). yes.\\n\"}, {'role': 'assistant', 'content': '1).'}]}\n",
      "\n",
      "====../data/processed/cot/cot_data.jsonl====\n",
      "{'dataset': 'cot', 'id': 'cot_0', 'messages': [{'role': 'user', 'content': 'Test for natural language inference.\\nPremise: \"A costume party in full swing.\"\\nHypothesis: \"Everyone at the party is in regular clothes.\"\\nIs the hypothesis entailed by the premise?\\nOptions:\\n- yes\\n- no\\n- it is not possible to tell Step by step answer:'}, {'role': 'assistant', 'content': 'Everyone is either in a costume or regular clothes at a party. Therefore, the final answer is no.'}]}\n",
      "\n",
      "====../data/processed/oasst1/oasst1_data.jsonl====\n",
      "{'dataset': 'oasst1', 'id': 'oasst1_0', 'messages': [{'role': 'user', 'content': 'Can you write a short introduction about the relevance of the term \"monopsony\" in economics? Please use examples related to potential monopsonies in the labour market and cite relevant research.'}, {'role': 'assistant', 'content': '\"Monopsony\" refers to a market structure where there is only one buyer for a particular good or service. In economics, this term is particularly relevant in the labor market, where a monopsony employer has significant power over the wages and working conditions of their employees. The presence of a monopsony can result in lower wages and reduced employment opportunities for workers, as the employer has little incentive to increase wages or provide better working conditions.\\n\\nRecent research has identified potential monopsonies in industries such as retail and fast food, where a few large companies control a significant portion of the market (Bivens & Mishel, 2013). In these industries, workers often face low wages, limited benefits, and reduced bargaining power, leading to a situation where they are dependent on the employer for their livelihood. This dependence can result in further suppression of wages and a decline in working conditions.\\n\\nOverall, the concept of monopsony is essential to understanding the dynamics of labor markets and the impact of market power on workers. Further research is needed to understand the extent and impact of monopsonies on the economy and to develop policies to address this issue.\\n\\nReferences:\\nBivens, J., & Mishel, L. (2013). The Pay of Corporate Executives and Financial Professionals as Evidence of Rents in Top 1 Percent Incomes. Journal of Economic Perspectives, 27(3), 57-78.'}]}\n",
      "\n",
      "====../data/processed/dolly/dolly_data.jsonl====\n",
      "{'dataset': 'dolly', 'id': 'dolly_0', 'messages': [{'role': 'user', 'content': \"Task: When did Virgin Australia start operating?\\n\\nVirgin Australia, the trading name of Virgin Australia Airlines Pty Ltd, is an Australian-based airline. It is the largest airline by fleet size to use the Virgin brand. It commenced services on 31 August 2000 as Virgin Blue, with two aircraft on a single route. It suddenly found itself as a major airline in Australia's domestic market after the collapse of Ansett Australia in September 2001. The airline has since grown to directly serve 32 cities in Australia, from hubs in Brisbane, Melbourne and Sydney.\\n\\nAnswer:\"}, {'role': 'assistant', 'content': 'Virgin Australia commenced services on 31 August 2000 as Virgin Blue, with two aircraft on a single route.'}]}\n"
     ]
    }
   ],
   "source": [
    "path = human_mix[0]\n",
    "\n",
    "for path in human_mix:\n",
    "    print(f'\\n===={path}====')\n",
    "    with jsonlines.open(path, 'r') as jsonl_f:\n",
    "        print(next(iter(jsonl_f)))"
   ]
  },
  {
   "cell_type": "code",
   "execution_count": 9,
   "id": "5ba30533",
   "metadata": {},
   "outputs": [
    {
     "name": "stdout",
     "output_type": "stream",
     "text": [
      "../data/processed/flan_v2/flan_v2_data.jsonl   100000\n",
      "../data/processed/cot/cot_data.jsonl   100000\n",
      "../data/processed/oasst1/oasst1_data.jsonl   55668\n",
      "../data/processed/dolly/dolly_data.jsonl   15011\n"
     ]
    },
    {
     "data": {
      "text/plain": [
       "270679"
      ]
     },
     "execution_count": 9,
     "metadata": {},
     "output_type": "execute_result"
    }
   ],
   "source": [
    "def read_jsonl(path):\n",
    "    with jsonlines.open(path, 'r') as f:\n",
    "        data = [x for x in f]\n",
    "    return data\n",
    "\n",
    "data = []\n",
    "for path in human_mix:\n",
    "    l = read_jsonl(path)\n",
    "    data += l\n",
    "    print(path, ' ', len(l))\n",
    "len(data)"
   ]
  },
  {
   "cell_type": "code",
   "execution_count": 13,
   "id": "726637e9",
   "metadata": {},
   "outputs": [],
   "source": [
    "out_path = '../data/processed/flanv2_cot_oasst1_dolly.jsonl'\n",
    "\n",
    "with jsonlines.open(out_path, 'w') as writer:\n",
    "    writer.write_all(data)"
   ]
  },
  {
   "cell_type": "code",
   "execution_count": 22,
   "id": "62adc80d",
   "metadata": {},
   "outputs": [],
   "source": [
    "import random\n",
    "\n",
    "random.seed(0)\n",
    "shuffled = data[:]\n",
    "random.shuffle(shuffled)\n",
    "\n",
    "out_path = '../data/processed/flanv2_cot_oasst1_dolly_shuffled.jsonl'\n",
    "\n",
    "with jsonlines.open(out_path, 'w') as writer:\n",
    "    writer.write_all(shuffled)\n"
   ]
  }
 ],
 "metadata": {
  "kernelspec": {
   "display_name": "Python [conda env:open-instruct]",
   "language": "python",
   "name": "conda-env-open-instruct-py"
  },
  "language_info": {
   "codemirror_mode": {
    "name": "ipython",
    "version": 3
   },
   "file_extension": ".py",
   "mimetype": "text/x-python",
   "name": "python",
   "nbconvert_exporter": "python",
   "pygments_lexer": "ipython3",
   "version": "3.10.12"
  }
 },
 "nbformat": 4,
 "nbformat_minor": 5
}
