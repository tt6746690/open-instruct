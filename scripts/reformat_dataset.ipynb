{
 "cells": [
  {
   "cell_type": "code",
   "execution_count": 9,
   "id": "72539c6d",
   "metadata": {},
   "outputs": [
    {
     "name": "stdout",
     "output_type": "stream",
     "text": [
      "The autoreload extension is already loaded. To reload it, use:\n",
      "  %reload_ext autoreload\n"
     ]
    },
    {
     "data": {
      "text/html": [
       "<style>.container { width:100% !important; }</style>"
      ],
      "text/plain": [
       "<IPython.core.display.HTML object>"
      ]
     },
     "metadata": {},
     "output_type": "display_data"
    }
   ],
   "source": [
    "from rosemary import jpt_setup; jpt_setup()\n",
    "\n",
    "\n",
    "import json\n",
    "import random\n",
    "import re\n",
    "import os\n",
    "import pandas as pd\n",
    "import argparse\n",
    "from open_instruct.instruction_encode_templates import encode_instruction_example, encode_few_shot_example\n",
    "from open_instruct.reformat_datasets import get_all_supported_datasets"
   ]
  },
  {
   "cell_type": "code",
   "execution_count": 2,
   "id": "6ead8c2c",
   "metadata": {},
   "outputs": [],
   "source": [
    "\"\"\"\n",
    "python open_instruct/reformat_datasets.py \\\n",
    "    --raw_data_dir data/raw_train/ \\\n",
    "    --output_dir data/processed/ \\\n",
    "    --dataset flan_v2_SirNeural\n",
    "\"\"\"\n",
    "\n",
    "raw_data_dir = 'data/raw_train/'\n",
    "output_dir = 'data/processed/'\n",
    "seed = 42"
   ]
  },
  {
   "cell_type": "code",
   "execution_count": 39,
   "id": "85b1b8b7",
   "metadata": {},
   "outputs": [
    {
     "name": "stdout",
     "output_type": "stream",
     "text": [
      "data/raw_train/flan_v2\n",
      "data/processed/flan_v2_SirNeural/flan_v2_SirNeural/flan_v2_SirNeural/flan_v2_SirNeural/flan_v2_SirNeural/flan_v2/flan_v2/flan_v2/flan_v2\n"
     ]
    },
    {
     "data": {
      "text/plain": [
       "(100000, {'fs_noopt', 'fs_opt', 'zs_noopt', 'zs_opt'})"
      ]
     },
     "execution_count": 39,
     "metadata": {},
     "output_type": "execute_result"
    }
   ],
   "source": [
    "# def convert_flan_v2_data(data_dir, output_dir):\n",
    "subfolder = 'flan_v2'\n",
    "data_dir = os.path.join(raw_data_dir, subfolder)\n",
    "output_dir = os.path.join(output_dir, subfolder)\n",
    "\n",
    "print(data_dir)\n",
    "print(output_dir)\n",
    "\n",
    "\n",
    "os.makedirs(output_dir, exist_ok=True)\n",
    "examples = []\n",
    "\n",
    "\n",
    "with open(os.path.join(data_dir, \"flan_v2_resampled_100k.jsonl\"), \"r\") as fin:\n",
    "    for line in fin:\n",
    "        examples.append(json.loads(line))\n",
    "        \n",
    "        \n",
    "\n",
    "len(examples), set([x['_template_type'] for x in examples])"
   ]
  },
  {
   "cell_type": "code",
   "execution_count": 32,
   "id": "d115ac01",
   "metadata": {},
   "outputs": [],
   "source": [
    "for idx, example in enumerate(examples):\n",
    "    prompt = example[\"inputs\"]\n",
    "    if not prompt.endswith(\"\\n\") and not prompt.rstrip().endswith(\":\"):\n",
    "        prompt += \"\\n\"\n",
    "    completion = example[\"targets\"]\n",
    "    sample = {\n",
    "        \"dataset\": \"flan_v2\",\n",
    "        \"id\": f\"flan_v2_{idx}\",\n",
    "        \"messages\": [\n",
    "            {\"role\": \"user\", \"content\": prompt},\n",
    "            {\"role\": \"assistant\", \"content\": completion},\n",
    "        ]\n",
    "    }\n",
    "    break\n",
    "#     fout.write(json.dumps({\n",
    "#         \"dataset\": \"flan_v2\",\n",
    "#         \"id\": f\"flan_v2_{idx}\",\n",
    "#         \"messages\": [\n",
    "#             {\"role\": \"user\", \"content\": prompt},\n",
    "#             {\"role\": \"assistant\", \"content\": completion},\n",
    "#         ]\n",
    "#     }) + \"\\n\")\n",
    "    "
   ]
  },
  {
   "cell_type": "markdown",
   "id": "3a27f903",
   "metadata": {},
   "source": [
    "### flan_v2_SirNeural\n"
   ]
  },
  {
   "cell_type": "code",
   "execution_count": 34,
   "id": "a5bd2282",
   "metadata": {},
   "outputs": [
    {
     "data": {
      "text/plain": [
       "['cot_fs_noopt_train.jsonl',\n",
       " 'cot_fs_opt_train.jsonl',\n",
       " 'cot_zs_noopt_train.jsonl',\n",
       " 'cot_zs_opt_train.jsonl',\n",
       " 'dialog_fs_noopt_train.jsonl',\n",
       " 'dialog_fs_opt_train.jsonl',\n",
       " 'dialog_zs_noopt_train.jsonl',\n",
       " 'dialog_zs_opt_train.jsonl',\n",
       " 'flan_fs_noopt_train.jsonl',\n",
       " 'flan_fs_opt_train.jsonl',\n",
       " 'flan_v2_resampled_1m.jsonl',\n",
       " 'flan_zs_noopt_train.jsonl',\n",
       " 'flan_zs_opt_train.jsonl',\n",
       " 'niv2_fs_noopt_train.jsonl',\n",
       " 'niv2_fs_opt_train.jsonl',\n",
       " 'niv2_zs_noopt_train.jsonl',\n",
       " 'niv2_zs_opt_train.jsonl',\n",
       " 't0_fs_noopt_train.jsonl',\n",
       " 't0_zs_noopt_train.jsonl',\n",
       " 't0_zs_opt_train.jsonl']"
      ]
     },
     "execution_count": 34,
     "metadata": {},
     "output_type": "execute_result"
    }
   ],
   "source": [
    "from datasets import load_dataset\n",
    "input_files = [\n",
    "    'flan_v2_resampled_1m.jsonl',\n",
    "]\n",
    "sorted(input_files)"
   ]
  },
  {
   "cell_type": "code",
   "execution_count": 17,
   "id": "b2af294e",
   "metadata": {},
   "outputs": [
    {
     "name": "stderr",
     "output_type": "stream",
     "text": [
      "Found cached dataset json (/gpfs/u/scratch/PTFM/PTFMqngp/github/mitibm2023/external/open-instruct/scripts/data/raw_train/flan_v2_SirNeural/json/default-987f1825b8bed00f/0.0.0/8bb11242116d547c741b2e8a1f18598ffdd40a1d4f2a2872c7a28b697434bc96)\n"
     ]
    },
    {
     "data": {
      "text/plain": [
       "Dataset({\n",
       "    features: ['inputs', 'targets', 'task'],\n",
       "    num_rows: 42881000\n",
       "})"
      ]
     },
     "execution_count": 17,
     "metadata": {},
     "output_type": "execute_result"
    }
   ],
   "source": []
  },
  {
   "cell_type": "code",
   "execution_count": 38,
   "id": "adbde707",
   "metadata": {},
   "outputs": [
    {
     "name": "stderr",
     "output_type": "stream",
     "text": [
      "Found cached dataset json (/gpfs/u/scratch/PTFM/PTFMqngp/github/mitibm2023/external/open-instruct/scripts/data/raw_train/flan_v2_SirNeural/json/default-4ad86a83850359ad/0.0.0/8bb11242116d547c741b2e8a1f18598ffdd40a1d4f2a2872c7a28b697434bc96)\n"
     ]
    },
    {
     "name": "stdout",
     "output_type": "stream",
     "text": [
      "data/raw_train/flan_v2_SirNeural \n",
      " data/processed/flan_v2_SirNeural\n",
      "Processing flan_v2_resampled_1m.jsonl\n"
     ]
    },
    {
     "data": {
      "application/vnd.jupyter.widget-view+json": {
       "model_id": "",
       "version_major": 2,
       "version_minor": 0
      },
      "text/plain": [
       "Convert data for flan_v2_resampled_1m.jsonl (num_proc=30):   0%|          | 0/100 [00:00<?, ? examples/s]"
      ]
     },
     "metadata": {},
     "output_type": "display_data"
    },
    {
     "data": {
      "application/vnd.jupyter.widget-view+json": {
       "model_id": "053320138dd543c3b5119cb92fdf3932",
       "version_major": 2,
       "version_minor": 0
      },
      "text/plain": [
       "Creating json from Arrow format:   0%|          | 0/1 [00:00<?, ?ba/s]"
      ]
     },
     "metadata": {},
     "output_type": "display_data"
    },
    {
     "data": {
      "text/plain": [
       "124976"
      ]
     },
     "execution_count": 38,
     "metadata": {},
     "output_type": "execute_result"
    }
   ],
   "source": [
    "subfolder = 'flan_v2_SirNeural'\n",
    "data_dir = os.path.join('data/raw_train/', subfolder)\n",
    "output_dir = os.path.join('data/processed/', subfolder)\n",
    "\n",
    "print(data_dir, '\\n', output_dir)\n",
    "\n",
    "\n",
    "#### \n",
    "\n",
    "def convert_data_fn(example, idx):\n",
    "    prompt = example['inputs']\n",
    "    if not prompt.endswith(\"\\n\") and not prompt.rstrip().endswith(\":\"):\n",
    "        prompt += \"\\n\"\n",
    "    completion = example[\"targets\"]\n",
    "    return {\n",
    "        'dataset': \"flan2022mix\", \n",
    "        'id': f\"flan2022mix_{idx}\",\n",
    "        'messages': [\n",
    "            {'role': 'user', 'content': prompt},\n",
    "            {\"role\": \"assistant\", \"content\": completion},\n",
    "        ]}\n",
    "\n",
    "input_files = [\n",
    "    'flan_v2_resampled_1m.jsonl',\n",
    "]\n",
    "for input_file in input_files:\n",
    "    output_path = os.path.join(output_dir, input_file.split('.jsonl')[0]+'_data.jsonl')\n",
    "    if os.path.isfile(output_path):\n",
    "        continue\n",
    "\n",
    "    input_path = os.path.join(data_dir, input_file)\n",
    "    ds = load_dataset('json', data_files={'train': input_path}, split='train', cache_dir=data_dir)\n",
    "    ds = ds.map(convert_data_fn, \n",
    "                remove_columns=[\"inputs\", \"targets\", \"task\"], \n",
    "                with_indices=True,\n",
    "                num_proc=30,\n",
    "                desc=f'Convert data for {input_file}',\n",
    "                keep_in_memory=True)\n",
    "    ds.to_json(output_path)\n"
   ]
  },
  {
   "cell_type": "code",
   "execution_count": 117,
   "id": "3d09ca96",
   "metadata": {},
   "outputs": [
    {
     "data": {
      "text/plain": [
       "100"
      ]
     },
     "execution_count": 117,
     "metadata": {},
     "output_type": "execute_result"
    }
   ],
   "source": []
  }
 ],
 "metadata": {
  "kernelspec": {
   "display_name": "Python [conda env:open-instruct]",
   "language": "python",
   "name": "conda-env-open-instruct-py"
  },
  "language_info": {
   "codemirror_mode": {
    "name": "ipython",
    "version": 3
   },
   "file_extension": ".py",
   "mimetype": "text/x-python",
   "name": "python",
   "nbconvert_exporter": "python",
   "pygments_lexer": "ipython3",
   "version": "3.10.12"
  }
 },
 "nbformat": 4,
 "nbformat_minor": 5
}
