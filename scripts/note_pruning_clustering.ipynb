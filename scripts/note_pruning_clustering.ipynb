{
 "cells": [
  {
   "cell_type": "code",
   "execution_count": 1,
   "id": "de4b80c9",
   "metadata": {
    "scrolled": true
   },
   "outputs": [
    {
     "name": "stderr",
     "output_type": "stream",
     "text": [
      "/gpfs/u/scratch/PTFM/PTFMqngp/github/rosemary/src/rosemary/__init__.py:25: UserWarning: Install `torch` for functionalities dependent on torch\n",
      "  warn(f'Install `torch` for functionalities dependent on torch')\n"
     ]
    },
    {
     "data": {
      "text/html": [
       "<style>.container { width:100% !important; }</style>"
      ],
      "text/plain": [
       "<IPython.core.display.HTML object>"
      ]
     },
     "metadata": {},
     "output_type": "display_data"
    },
    {
     "name": "stdout",
     "output_type": "stream",
     "text": [
      "4\n"
     ]
    }
   ],
   "source": [
    "from rosemary import jpt_parse_args, jpt_setup, jpt_in_notebook; jpt_setup()\n",
    "\n",
    "if jpt_in_notebook():\n",
    "    import os\n",
    "    os.environ['CUDA_VISIBLE_DEVICES'] = os.environ['CUDA_VISIBLE_DEVICES'].split(',')[0] \n",
    "    # '0,1,2,3,4,5'\n",
    "    print(os.environ['CUDA_VISIBLE_DEVICES'])\n",
    "# !nvidia-smi"
   ]
  },
  {
   "cell_type": "code",
   "execution_count": 2,
   "id": "94f65fe6",
   "metadata": {},
   "outputs": [],
   "source": [
    "import argparse\n",
    "import json\n",
    "import pickle\n",
    "import string\n",
    "import time\n",
    "import matplotlib.pyplot as plt\n",
    "\n",
    "import numpy as np\n",
    "from sentence_transformers import SentenceTransformer\n",
    "from sentence_transformers.util import cos_sim\n",
    "from sklearn.cluster import KMeans, AgglomerativeClustering\n",
    "import torch\n",
    "from tqdm import tqdm\n",
    "\n",
    "from datasets import load_dataset\n",
    "from transformers import AutoTokenizer, AutoModel\n",
    "\n",
    "from torch.utils.data import DataLoader\n",
    "import torch\n",
    "import torch.nn.functional as F\n",
    "\n",
    "from note_pruning_analysis import get_lm_output, get_dataset, convert_example_to_str"
   ]
  },
  {
   "cell_type": "code",
   "execution_count": 3,
   "id": "d7a5b259",
   "metadata": {},
   "outputs": [],
   "source": [
    "model_name = 'all-mpnet-base-v2'\n",
    "model_name_or_path = 'results/baselines/sentence-transformers/all-mpnet-base-v2'\n",
    "\n",
    "dataset = 'wizardlm'\n",
    "input_file = 'data/processed/sharegpt/sharegpt_data.jsonl'\n",
    "input_file = 'data/processed/ultrachat/ultrachat_data.jsonl'\n",
    "input_file = 'data/processed/wizardlm/wizardlm_data.jsonl'\n",
    "n_clusters = 50\n",
    "batch_size = 128\n",
    "\n",
    "encode_fn_type = 'input'"
   ]
  },
  {
   "cell_type": "code",
   "execution_count": 4,
   "id": "633f6c61",
   "metadata": {},
   "outputs": [
    {
     "name": "stdout",
     "output_type": "stream",
     "text": [
      "[2023-11-13 16:20:59,557] [INFO] [real_accelerator.py:158:get_accelerator] Setting ds_accelerator to cuda (auto detect)\n"
     ]
    }
   ],
   "source": [
    "\n",
    "model = AutoModel.from_pretrained(model_name_or_path)\n",
    "tokenizer = AutoTokenizer.from_pretrained(model_name_or_path)\n"
   ]
  },
  {
   "cell_type": "code",
   "execution_count": 5,
   "id": "e8b9ac7f",
   "metadata": {
    "scrolled": true
   },
   "outputs": [
    {
     "name": "stderr",
     "output_type": "stream",
     "text": [
      "Found cached dataset json (/gpfs/u/home/PTFM/PTFMqngp/scratch/github/mitibm2023/external/open-instruct/data/processed/wizardlm/json/default-a3f71ae376e517fb/0.0.0/8bb11242116d547c741b2e8a1f18598ffdd40a1d4f2a2872c7a28b697434bc96)\n"
     ]
    },
    {
     "data": {
      "text/plain": [
       "Dataset({\n",
       "    features: ['dataset', 'id', 'messages'],\n",
       "    num_rows: 143000\n",
       "})"
      ]
     },
     "execution_count": 5,
     "metadata": {},
     "output_type": "execute_result"
    }
   ],
   "source": [
    "ds = get_dataset(dataset, processed=True)\n",
    "ds"
   ]
  },
  {
   "cell_type": "code",
   "execution_count": 6,
   "id": "0831bfce",
   "metadata": {
    "scrolled": true
   },
   "outputs": [],
   "source": [
    "d = get_lm_output(dataset, \n",
    "                  model_name, \n",
    "                  encode_fn_type=encode_fn_type,\n",
    "                  return_text_embedding=True,)"
   ]
  },
  {
   "cell_type": "code",
   "execution_count": 68,
   "id": "05fae8a7",
   "metadata": {},
   "outputs": [],
   "source": [
    "X = d['text_embedding']\n",
    "X = X / np.linalg.norm(X, axis=-1, keepdims=True)\n",
    "X = X[:10_000]"
   ]
  },
  {
   "cell_type": "code",
   "execution_count": 72,
   "id": "bda50306",
   "metadata": {
    "scrolled": true
   },
   "outputs": [
    {
     "name": "stdout",
     "output_type": "stream",
     "text": [
      "Initialization complete\n",
      "Iteration 0, inertia 13046.0478515625.\n",
      "Iteration 1, inertia 7963.1513671875.\n",
      "Iteration 2, inertia 7823.31982421875.\n",
      "Iteration 3, inertia 7766.9853515625.\n",
      "Iteration 4, inertia 7734.85400390625.\n",
      "Iteration 5, inertia 7714.994140625.\n",
      "Iteration 6, inertia 7701.08251953125.\n",
      "Iteration 7, inertia 7689.7392578125.\n",
      "Iteration 8, inertia 7681.15478515625.\n",
      "Iteration 9, inertia 7675.09716796875.\n",
      "Iteration 10, inertia 7670.4287109375.\n",
      "Iteration 11, inertia 7666.078125.\n",
      "Iteration 12, inertia 7661.9912109375.\n",
      "Iteration 13, inertia 7658.1611328125.\n",
      "Iteration 14, inertia 7654.46240234375.\n",
      "Iteration 15, inertia 7651.60595703125.\n",
      "Iteration 16, inertia 7649.080078125.\n",
      "Iteration 17, inertia 7646.8916015625.\n",
      "Iteration 18, inertia 7645.15087890625.\n",
      "Iteration 19, inertia 7643.60595703125.\n",
      "Iteration 20, inertia 7642.07568359375.\n",
      "Iteration 21, inertia 7640.21630859375.\n",
      "Iteration 22, inertia 7638.42578125.\n",
      "Iteration 23, inertia 7636.91943359375.\n",
      "Iteration 24, inertia 7635.80810546875.\n",
      "Iteration 25, inertia 7634.9765625.\n",
      "Iteration 26, inertia 7634.20166015625.\n",
      "Iteration 27, inertia 7633.45654296875.\n",
      "Iteration 28, inertia 7632.783203125.\n",
      "Iteration 29, inertia 7632.2587890625.\n",
      "Iteration 30, inertia 7631.81591796875.\n",
      "Iteration 31, inertia 7631.54443359375.\n",
      "Iteration 32, inertia 7631.310546875.\n",
      "Iteration 33, inertia 7631.16748046875.\n",
      "Iteration 34, inertia 7631.056640625.\n",
      "Iteration 35, inertia 7630.96240234375.\n",
      "Iteration 36, inertia 7630.88916015625.\n",
      "Iteration 37, inertia 7630.82080078125.\n",
      "Iteration 38, inertia 7630.74072265625.\n",
      "Iteration 39, inertia 7630.60888671875.\n",
      "Iteration 40, inertia 7630.3955078125.\n",
      "Iteration 41, inertia 7630.154296875.\n",
      "Iteration 42, inertia 7629.8095703125.\n",
      "Iteration 43, inertia 7629.35400390625.\n",
      "Iteration 44, inertia 7629.03564453125.\n",
      "Iteration 45, inertia 7628.77490234375.\n",
      "Iteration 46, inertia 7628.55224609375.\n",
      "Iteration 47, inertia 7628.46484375.\n",
      "Iteration 48, inertia 7628.40771484375.\n",
      "Iteration 49, inertia 7628.37646484375.\n",
      "Iteration 50, inertia 7628.35595703125.\n",
      "Iteration 51, inertia 7628.32177734375.\n",
      "Iteration 52, inertia 7628.27734375.\n",
      "Iteration 53, inertia 7628.25146484375.\n",
      "Iteration 54, inertia 7628.23193359375.\n",
      "Iteration 55, inertia 7628.22412109375.\n",
      "Iteration 56, inertia 7628.212890625.\n",
      "Iteration 57, inertia 7628.201171875.\n",
      "Iteration 58, inertia 7628.17626953125.\n",
      "Iteration 59, inertia 7628.15087890625.\n",
      "Iteration 60, inertia 7628.1083984375.\n",
      "Iteration 61, inertia 7628.0498046875.\n",
      "Iteration 62, inertia 7627.9912109375.\n",
      "Iteration 63, inertia 7627.93701171875.\n",
      "Iteration 64, inertia 7627.8623046875.\n",
      "Iteration 65, inertia 7627.81298828125.\n",
      "Iteration 66, inertia 7627.78076171875.\n",
      "Iteration 67, inertia 7627.7119140625.\n",
      "Iteration 68, inertia 7627.63916015625.\n",
      "Iteration 69, inertia 7627.58251953125.\n",
      "Iteration 70, inertia 7627.55419921875.\n",
      "Iteration 71, inertia 7627.5224609375.\n",
      "Iteration 72, inertia 7627.50732421875.\n",
      "Iteration 73, inertia 7627.50244140625.\n",
      "Converged at iteration 73: strict convergence.\n"
     ]
    },
    {
     "name": "stderr",
     "output_type": "stream",
     "text": [
      "/gpfs/u/scratch/PTFM/PTFMqngp/miniconda3/envs/open-instruct/lib/python3.10/site-packages/sklearn/utils/extmath.py:193: RuntimeWarning: invalid value encountered in matmul\n",
      "  ret = a @ b\n"
     ]
    }
   ],
   "source": [
    "import re\n",
    "from note_pruning_analysis import clustering_run\n",
    "\n",
    "sort_by = f'cl=kmeans_nc={n_clusters}'\n",
    "# sort_by = f'cl=kmeansminibatch_nc={n_clusters}'\n",
    "# sort_by = f'cl=kmeansminibatch_nc={n_clusters}_bsz=256'\n",
    "Y, C, scores = clustering_run(sort_by, X)"
   ]
  },
  {
   "cell_type": "code",
   "execution_count": 34,
   "id": "d68fd5e5",
   "metadata": {},
   "outputs": [],
   "source": [
    "import pandas as pd\n",
    "\n",
    "data = {\n",
    "    'cluster_assignment': Y,\n",
    "    'dist_l2': clustering_dist_to_centroids(X, Y, C, device='cuda', dist='l2'),\n",
    "    'dist_cd': clustering_dist_to_centroids(X, Y, C, device='cuda', dist='cd')\n",
    "}\n",
    "df = pd.DataFrame(data)\n",
    "df"
   ]
  },
  {
   "cell_type": "code",
   "execution_count": 11,
   "id": "3fbd6cde",
   "metadata": {
    "scrolled": true
   },
   "outputs": [
    {
     "name": "stdout",
     "output_type": "stream",
     "text": [
      "torch.Size([50, 86]) 1747637\n"
     ]
    }
   ],
   "source": [
    "from fastchat_topic_clustering import get_topk_indices, print_topk\n",
    "\n",
    "texts = [x[0]['content'] for x in ds[:len(labels)]['messages']]\n",
    "\n",
    "k = 200\n",
    "show_cut_off = 500\n",
    "topk_indices = get_topk_indices(centers, labels, embeddings, k)\n",
    "topk_str = print_topk(texts, labels, topk_indices, show_cut_off)\n",
    "num_clusters = len(centers)\n",
    "\n",
    "print(topk_indices.shape, len(topk_str))"
   ]
  },
  {
   "cell_type": "code",
   "execution_count": 12,
   "id": "53962e64",
   "metadata": {
    "scrolled": true
   },
   "outputs": [
    {
     "data": {
      "text/plain": [
       "[(0, 476),\n",
       " (1, 310),\n",
       " (2, 307),\n",
       " (3, 295),\n",
       " (4, 276),\n",
       " (5, 274),\n",
       " (6, 265),\n",
       " (7, 262),\n",
       " (8, 250),\n",
       " (9, 245),\n",
       " (10, 239),\n",
       " (11, 228),\n",
       " (12, 227),\n",
       " (13, 221),\n",
       " (14, 218),\n",
       " (15, 217),\n",
       " (16, 217),\n",
       " (17, 217),\n",
       " (18, 214),\n",
       " (19, 211),\n",
       " (20, 211),\n",
       " (21, 204),\n",
       " (22, 204),\n",
       " (23, 203),\n",
       " (24, 201),\n",
       " (25, 200),\n",
       " (26, 194),\n",
       " (27, 188),\n",
       " (28, 181),\n",
       " (29, 180),\n",
       " (30, 177),\n",
       " (31, 176),\n",
       " (32, 168),\n",
       " (33, 168),\n",
       " (34, 168),\n",
       " (35, 167),\n",
       " (36, 158),\n",
       " (37, 155),\n",
       " (38, 149),\n",
       " (39, 149),\n",
       " (40, 146),\n",
       " (41, 140),\n",
       " (42, 137),\n",
       " (43, 137),\n",
       " (44, 137),\n",
       " (45, 125),\n",
       " (46, 124),\n",
       " (47, 101),\n",
       " (48, 97),\n",
       " (49, 86)]"
      ]
     },
     "execution_count": 12,
     "metadata": {},
     "output_type": "execute_result"
    }
   ],
   "source": [
    "from collections import Counter\n",
    "c = dict(Counter(labels.tolist()))\n",
    "c = sorted(c.items())\n",
    "c\n",
    "\n",
    "# kmeans\n",
    "# [(0, 142),\n",
    "#  (1, 136),\n",
    "#  (2, 116),\n",
    "#  (3, 112),\n",
    "#  (4, 109),\n",
    "#  (5, 89),\n",
    "#  (6, 82),\n",
    "#  (7, 73),\n",
    "#  (8, 73),\n",
    "#  (9, 68)]\n"
   ]
  },
  {
   "cell_type": "code",
   "execution_count": 14,
   "id": "efe89e6b",
   "metadata": {},
   "outputs": [],
   "source": [
    "from fastchat_topic_clustering import get_cluster_info\n",
    "\n",
    "cluster_alg = 'kmeans'\n",
    "# Dump results\n",
    "filename_prefix = f\"results/clustering/c{n_clusters}_{cluster_alg}\"\n",
    "os.makedirs(os.path.dirname(filename_prefix), exist_ok=True)\n",
    "\n",
    "texts_np = np.array(texts)\n",
    "\n",
    "with open(filename_prefix + \"_topk.txt\", \"w\") as fout:\n",
    "    fout.write(topk_str)\n",
    "\n",
    "with open(filename_prefix + \"_all.jsonl\", \"w\") as fout:\n",
    "    for i in range(len(centers)):\n",
    "        tmp_indices = labels == i\n",
    "        tmp_embeddings = embeddings[tmp_indices]\n",
    "        tmp_texts = texts_np[tmp_indices]\n",
    "\n",
    "        scores = cos_sim(centers[i].unsqueeze(0), tmp_embeddings)[0]\n",
    "        sorted_indices = torch.flip(torch.argsort(scores), dims=[0])\n",
    "\n",
    "        for text, score in zip(tmp_texts[sorted_indices], scores[sorted_indices]):\n",
    "            obj = {\"cluster\": i, \"text\": text, \"sim\": score.item()}\n",
    "            fout.write(json.dumps(obj, ensure_ascii=False) + \"\\n\")\n",
    "\n",
    "# cluster_info = get_cluster_info(texts, labels, topk_indices)\n",
    "# with open(filename_prefix + \"_cluster.json\", \"w\") as fout:\n",
    "#     json.dump(cluster_info, fout, ensure_ascii=False)"
   ]
  },
  {
   "cell_type": "code",
   "execution_count": null,
   "id": "ee7a4cef",
   "metadata": {},
   "outputs": [],
   "source": [
    "cluster_repr_examples = []\n",
    "\n",
    "\n",
    "\n",
    "\n"
   ]
  },
  {
   "cell_type": "code",
   "execution_count": 17,
   "id": "8fb07111",
   "metadata": {},
   "outputs": [
    {
     "name": "stderr",
     "output_type": "stream",
     "text": [
      "\n",
      "KeyboardInterrupt\n",
      "\n"
     ]
    }
   ],
   "source": [
    "\n",
    "cluster_info = []\n",
    "for k in range(len(topk_indices)):\n",
    "    num_samples = torch.sum(labels == k).item()\n",
    "    topk_prompts = []\n",
    "    for idx in topk_indices[k]:\n",
    "        topk_prompts.append(texts[idx])\n",
    "    random_prompts = []\n",
    "    for idx in range(len(topk_indices)):\n",
    "        random_prompts.append(np.random.choice(texts))\n",
    "    cluster_info.append((num_samples, topk_prompts, random_prompts))\n",
    "    break\n",
    "    "
   ]
  },
  {
   "cell_type": "code",
   "execution_count": 33,
   "id": "18ca8b0b",
   "metadata": {},
   "outputs": [
    {
     "data": {
      "text/plain": [
       "torch.Size([50, 86])"
      ]
     },
     "execution_count": 33,
     "metadata": {},
     "output_type": "execute_result"
    }
   ],
   "source": [
    "# np.random.choice(text, size=100, replace=False)\n",
    "\n",
    "\n",
    "inds = np.random.choice(len(text), size=len(topk_indices), replace=False)\n",
    "random_prompts = [texts[i] for i in inds]\n"
   ]
  },
  {
   "cell_type": "code",
   "execution_count": 23,
   "id": "d94b07c3",
   "metadata": {},
   "outputs": [
    {
     "data": {
      "text/plain": [
       "\"Create an algorithm that identifies and categorizes each error message generated by a system and suggests potential solutions to resolve the issue. The algorithm should also provide a severity rating for each error based on its potential impact on the system's functionality.\""
      ]
     },
     "execution_count": 23,
     "metadata": {},
     "output_type": "execute_result"
    }
   ],
   "source": []
  },
  {
   "cell_type": "code",
   "execution_count": 38,
   "id": "2dabebdb",
   "metadata": {},
   "outputs": [
    {
     "data": {
      "text/plain": [
       "torch.Size([50, 86])"
      ]
     },
     "execution_count": 38,
     "metadata": {},
     "output_type": "execute_result"
    }
   ],
   "source": [
    "\n",
    "# num_samples, len(topk_prompts)\n",
    "\n",
    "\n",
    "topk_indices.shape\n",
    "\n"
   ]
  },
  {
   "cell_type": "code",
   "execution_count": 12,
   "id": "477abf91",
   "metadata": {
    "scrolled": true
   },
   "outputs": [
    {
     "name": "stdout",
     "output_type": "stream",
     "text": [
      "metadata: {\n",
      "    \"dataset\": \"ultrachat\",\n",
      "    \"id\": \"ultrachat_113\",\n",
      "    \"idx\": 0,\n",
      "    \"n_turns\": 8\n",
      "}\n",
      "\n",
      "===============\n",
      "= USER        =\n",
      "===============\n",
      "Here is a piece of text: DUBAI, Aug 26 (Reuters) - Saudi Arabia’s stock market outperformed by a large margin on Sunday, led by petrochemical stocks, as Middle Eastern bourses reopened after a one-week break for the Muslim festival of Eid Al Adha.\n",
      "The Saudi stock index rose 1.4 percent, although trading volume was the lowest this year as some individual investors had not yet returned from holidays. Gainers outnumbered losers by 146 to 23.\n",
      "The market has been buoyed this year by inflows of foreign funds in anticipation of Riyadh joining emerging market indexes next year. Recent exchange data indicates those inflows have slowed but not halted as stock valuations have risen.\n",
      "Petrochemical makers were particularly strong after the Brent oil price rebounded above $75.0 a barrel last week. The top petrochemical firm, Saudi Basic Industries , added 1.8 percent and Saudi Kayan rose 3.3 percent.\n",
      "Arabian Shield Cooperative Insurance, which had been trading near 20-month lows, surged 2.5 percent after saying state utility National Water Co had engaged it to provide health insurance services to its employees for a year, a contract worth 104.5 million riyals ($27.9 million).\n",
      "Other regional stock markets were much more subdued, even though the MSCI emerging market index climbed 2.7 percent last week as Turkish markets stabilised after plunging because of the country’s currency crisis.\n",
      "Dubai’s index gained 0.4 percent as top bank Emirates NBD, which had been sliding because of its exposure to Turkey through an acquisition currently underway, rebounded for a second straight trading day, adding 2.0 percent.\n",
      "In Abu Dhabi, the index added 0.5 percent after Abu Dhabi Commercial Bank jumped in the final minutes of trade to close 2.3 percent higher. United Arab Bank soared 13.2 percent but trading volume was very low.\n",
      "Qatar’s index rose in early trade but closed 0.03 percent lower as real estate firm Ezdan, the most heavily traded stock, sank 3.3 percent.\n",
      "SAUDI ARABIA * The index added 1.4 percent to 7,979 points.\n",
      "DUBAI * The index rose 0.4 percent to 2,826 points.\n",
      "ABU DHABI * The index gained 0.5 percent to 4,910 points.\n",
      "QATAR * The index edged down 0.03 percent to 9,445 points.\n",
      "KUWAIT * The index fell 0.6 percent to 5,347 points.\n",
      "BAHRAIN * The index gained 0.3 percent to 1,352 points.\n",
      "OMAN * The index dropped 0.5 percent to 4,367 points.\n",
      "\n",
      "Based on the text material above, generate the response to the following quesion or instruction: Which regional stock markets showed subdued performance, and how did top banks in Dubai and Abu Dhabi perform?\n",
      "\n",
      "===============\n",
      "= ASSISTANT   =\n",
      "===============\n",
      "Other regional stock markets were much more subdued. In Dubai, the index gained 0.4 percent as top bank Emirates NBD, which had been sliding because of its exposure to Turkey through an acquisition currently underway, rebounded for a second straight trading day, adding 2.0 percent. In Abu Dhabi, the index added 0.5 percent after Abu Dhabi Commercial Bank jumped in the final minutes of trade to close 2.3 percent higher.\n",
      "\n",
      "===============\n",
      "= USER        =\n",
      "===============\n",
      "Can you provide more information on why petrochemical stocks were particularly strong in Saudi Arabia's stock market?\n",
      "\n",
      "===============\n",
      "= ASSISTANT   =\n",
      "===============\n",
      "Petrochemical makers were particularly strong after the Brent oil price rebounded above $75.0 a barrel last week. The top petrochemical firm, Saudi Basic Industries , added 1.8 percent and Saudi Kayan rose 3.3 percent.\n",
      "\n",
      "===============\n",
      "= USER        =\n",
      "===============\n",
      "Can you tell me which stock market had the highest number of gainers compared to losers in the recent trading day?\n",
      "\n",
      "===============\n",
      "= ASSISTANT   =\n",
      "===============\n",
      "As per the provided text, the Saudi stock market had the highest number of gainers compared to losers in the recent trading day, with gainers outnumbering losers by 146 to 23.\n",
      "\n",
      "===============\n",
      "= USER        =\n",
      "===============\n",
      "Can you provide information on the trading volume in Saudi Arabia's stock market during the recent trading day?\n",
      "\n",
      "===============\n",
      "= ASSISTANT   =\n",
      "===============\n",
      "As per the provided text, the Saudi stock market rose by 1.4 percent during the recent trading day, although trading volume was the lowest this year as some individual investors had not yet returned from holidays. Unfortunately, there is no information available on the actual trading volume during the recent trading day.\n",
      "\n",
      "\n",
      "\n",
      "\n",
      "\n",
      "\n",
      "\n",
      "\n",
      "\n",
      "\n",
      "\n",
      "\n",
      "\n",
      "\n",
      "\n",
      "\n"
     ]
    },
    {
     "ename": "NameError",
     "evalue": "name 't' is not defined",
     "output_type": "error",
     "traceback": [
      "\u001b[0;31m---------------------------------------------------------------------------\u001b[0m",
      "\u001b[0;31mNameError\u001b[0m                                 Traceback (most recent call last)",
      "Cell \u001b[0;32mIn[12], line 8\u001b[0m\n\u001b[1;32m      6\u001b[0m \u001b[38;5;66;03m# t = dsf[i]['messages'][0]['content']\u001b[39;00m\n\u001b[1;32m      7\u001b[0m \u001b[38;5;28mprint\u001b[39m(convert_example_to_str(\u001b[38;5;241m0\u001b[39m, dsf[i]))\n\u001b[0;32m----> 8\u001b[0m \u001b[38;5;28mprint\u001b[39m(\u001b[38;5;28mlen\u001b[39m(\u001b[43mt\u001b[49m))\n\u001b[1;32m      9\u001b[0m \u001b[38;5;28mprint\u001b[39m(t)\n",
      "\u001b[0;31mNameError\u001b[0m: name 't' is not defined"
     ]
    }
   ],
   "source": [
    "\n",
    "i = 12\n",
    "\n",
    "\n",
    "t = dsf[i]['messages'][0]['content']\n",
    "print(convert_example_to_str(0, dsf[i]))\n",
    "print(len(t))\n",
    "print(t)"
   ]
  },
  {
   "cell_type": "code",
   "execution_count": 30,
   "id": "2ffa3adc",
   "metadata": {},
   "outputs": [
    {
     "name": "stdout",
     "output_type": "stream",
     "text": [
      "664 32991\n"
     ]
    }
   ],
   "source": [
    "print(under_min_length, above_max_length)"
   ]
  },
  {
   "cell_type": "code",
   "execution_count": 17,
   "id": "5e8b2b9a",
   "metadata": {
    "scrolled": true
   },
   "outputs": [
    {
     "name": "stderr",
     "output_type": "stream",
     "text": [
      "Downloading (…)99753/.gitattributes: 100%|██████████| 1.18k/1.18k [00:00<00:00, 5.74MB/s]\n",
      "Downloading (…)_Pooling/config.json: 100%|██████████| 190/190 [00:00<00:00, 1.65MB/s]\n",
      "Downloading (…)0cdb299753/README.md: 100%|██████████| 10.6k/10.6k [00:00<00:00, 84.0MB/s]\n",
      "Downloading (…)db299753/config.json: 100%|██████████| 571/571 [00:00<00:00, 5.29MB/s]\n",
      "Downloading (…)ce_transformers.json: 100%|██████████| 116/116 [00:00<00:00, 1.08MB/s]\n",
      "Downloading (…)753/data_config.json: 100%|██████████| 39.3k/39.3k [00:00<00:00, 127MB/s]\n",
      "Downloading pytorch_model.bin: 100%|██████████| 438M/438M [00:03<00:00, 117MB/s]  \n",
      "Downloading (…)nce_bert_config.json: 100%|██████████| 53.0/53.0 [00:00<00:00, 460kB/s]\n",
      "Downloading (…)cial_tokens_map.json: 100%|██████████| 239/239 [00:00<00:00, 2.53MB/s]\n",
      "Downloading (…)99753/tokenizer.json: 100%|██████████| 466k/466k [00:00<00:00, 28.1MB/s]\n",
      "Downloading (…)okenizer_config.json: 100%|██████████| 363/363 [00:00<00:00, 3.40MB/s]\n",
      "Downloading (…)9753/train_script.py: 100%|██████████| 13.1k/13.1k [00:00<00:00, 106MB/s]\n",
      "Downloading (…)0cdb299753/vocab.txt: 100%|██████████| 232k/232k [00:00<00:00, 18.8MB/s]\n",
      "Downloading (…)b299753/modules.json: 100%|██████████| 349/349 [00:00<00:00, 3.84MB/s]\n"
     ]
    },
    {
     "name": "stdout",
     "output_type": "stream",
     "text": [
      "[2023-11-08 00:02:46,673] [INFO] [real_accelerator.py:158:get_accelerator] Setting ds_accelerator to cuda (auto detect)\n"
     ]
    },
    {
     "name": "stderr",
     "output_type": "stream",
     "text": [
      "Batches:   4%|▍         | 53/1202 [01:36<34:53,  1.82s/it]\n",
      "\n",
      "KeyboardInterrupt\n",
      "\n"
     ]
    },
    {
     "name": "stdout",
     "output_type": "stream",
     "text": [
      "Error in callback <bound method AutoreloadMagics.post_execute_hook of <IPython.extensions.autoreload.AutoreloadMagics object at 0x7f19c4a4e590>> (for post_execute):\n"
     ]
    },
    {
     "ename": "KeyboardInterrupt",
     "evalue": "",
     "output_type": "error",
     "traceback": [
      "\u001b[0;31m---------------------------------------------------------------------------\u001b[0m",
      "\u001b[0;31mKeyboardInterrupt\u001b[0m                         Traceback (most recent call last)",
      "File \u001b[0;32m/gpfs/u/scratch/PTFM/PTFMqngp/minoconda3_x86/envs/open-instruct/lib/python3.10/site-packages/IPython/extensions/autoreload.py:715\u001b[0m, in \u001b[0;36mAutoreloadMagics.post_execute_hook\u001b[0;34m(self)\u001b[0m\n\u001b[1;32m    713\u001b[0m newly_loaded_modules \u001b[38;5;241m=\u001b[39m \u001b[38;5;28mset\u001b[39m(sys\u001b[38;5;241m.\u001b[39mmodules) \u001b[38;5;241m-\u001b[39m \u001b[38;5;28mself\u001b[39m\u001b[38;5;241m.\u001b[39mloaded_modules\n\u001b[1;32m    714\u001b[0m \u001b[38;5;28;01mfor\u001b[39;00m modname \u001b[38;5;129;01min\u001b[39;00m newly_loaded_modules:\n\u001b[0;32m--> 715\u001b[0m     _, pymtime \u001b[38;5;241m=\u001b[39m \u001b[38;5;28;43mself\u001b[39;49m\u001b[38;5;241;43m.\u001b[39;49m\u001b[43m_reloader\u001b[49m\u001b[38;5;241;43m.\u001b[39;49m\u001b[43mfilename_and_mtime\u001b[49m\u001b[43m(\u001b[49m\u001b[43msys\u001b[49m\u001b[38;5;241;43m.\u001b[39;49m\u001b[43mmodules\u001b[49m\u001b[43m[\u001b[49m\u001b[43mmodname\u001b[49m\u001b[43m]\u001b[49m\u001b[43m)\u001b[49m\n\u001b[1;32m    716\u001b[0m     \u001b[38;5;28;01mif\u001b[39;00m pymtime \u001b[38;5;129;01mis\u001b[39;00m \u001b[38;5;129;01mnot\u001b[39;00m \u001b[38;5;28;01mNone\u001b[39;00m:\n\u001b[1;32m    717\u001b[0m         \u001b[38;5;28mself\u001b[39m\u001b[38;5;241m.\u001b[39m_reloader\u001b[38;5;241m.\u001b[39mmodules_mtimes[modname] \u001b[38;5;241m=\u001b[39m pymtime\n",
      "\u001b[0;31mKeyboardInterrupt\u001b[0m: "
     ]
    }
   ],
   "source": [
    "from fastchat_topic_clustering import get_embeddings\n",
    "\n",
    "\n",
    "embeddings = get_embeddings(texts, args.model, args.batch_size)"
   ]
  },
  {
   "cell_type": "code",
   "execution_count": 16,
   "id": "210bbc7a",
   "metadata": {},
   "outputs": [
    {
     "data": {
      "text/plain": [
       "307563"
      ]
     },
     "execution_count": 16,
     "metadata": {},
     "output_type": "execute_result"
    }
   ],
   "source": [
    "from fastchat_topic_clustering import get_embeddings\n",
    "\n",
    "\n",
    "embeddings = get_embeddings(texts, args.model, args.batch_size)\n",
    "if args.cluster_alg == \"kmeans\":\n",
    "    centers, labels = run_k_means(embeddings, num_clusters)\n",
    "elif args.cluster_alg == \"aggcls\":\n",
    "    centers, labels = run_agg_cluster(embeddings, num_clusters)\n",
    "elif args.cluster_alg == \"HDBSCAN\":\n",
    "    centers, labels = run_hdbscan_cluster(embeddings)\n",
    "else:\n",
    "    raise ValueError(f\"Invalid clustering algorithm: {args.cluster_alg}\")\n"
   ]
  }
 ],
 "metadata": {
  "kernelspec": {
   "display_name": "Python [conda env:open-instruct]",
   "language": "python",
   "name": "conda-env-open-instruct-py"
  },
  "language_info": {
   "codemirror_mode": {
    "name": "ipython",
    "version": 3
   },
   "file_extension": ".py",
   "mimetype": "text/x-python",
   "name": "python",
   "nbconvert_exporter": "python",
   "pygments_lexer": "ipython3",
   "version": "3.10.12"
  }
 },
 "nbformat": 4,
 "nbformat_minor": 5
}
