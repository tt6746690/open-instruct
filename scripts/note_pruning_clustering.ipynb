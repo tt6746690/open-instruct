{
 "cells": [
  {
   "cell_type": "markdown",
   "id": "6a5c801e",
   "metadata": {},
   "source": [
    "## submit jobs to cluster"
   ]
  },
  {
   "cell_type": "code",
   "execution_count": 2,
   "id": "d98549b7",
   "metadata": {
    "scrolled": true
   },
   "outputs": [
    {
     "name": "stdout",
     "output_type": "stream",
     "text": [
      "The autoreload extension is already loaded. To reload it, use:\n",
      "  %reload_ext autoreload\n"
     ]
    },
    {
     "data": {
      "text/html": [
       "<style>.container { width:100% !important; }</style>"
      ],
      "text/plain": [
       "<IPython.core.display.HTML object>"
      ]
     },
     "metadata": {},
     "output_type": "display_data"
    },
    {
     "name": "stdout",
     "output_type": "stream",
     "text": [
      "\n",
      "Submiting job with:\n",
      "{\n",
      "    \"job_name\": \"cluster.wizardlm.cl=kmeans_nc=100\",\n",
      "    \"nodes\": 1,\n",
      "    \"num_cpus\": 64,\n",
      "    \"cpu_mem\": 128,\n",
      "    \"num_gpus\": 1,\n",
      "    \"gpu_type\": \"v100\",\n",
      "    \"test_run\": true,\n",
      "    \"queue\": \"x86_6h\",\n",
      "    \"num_jobs\": 1\n",
      "}\n",
      "python note_pruning_clustering.py --model_name all-mpnet-base-v2 --dataset wizardlm --encode_fn_type input --clustering_fn cl=kmeans_nc=100 --normalize_embeddings --save_dir /gpfs/u/home/PTFM/PTFMqngp/scratch/github/mitibm2023/external/open-instruct/scripts/clustering/input/all-mpnet-base-v2/wizardlm/cl=kmeans_nc=100\n",
      "\n",
      "Submiting job with:\n",
      "{\n",
      "    \"job_name\": \"cluster.wizardlm.cl=kmeans_nc=200\",\n",
      "    \"nodes\": 1,\n",
      "    \"num_cpus\": 64,\n",
      "    \"cpu_mem\": 128,\n",
      "    \"num_gpus\": 1,\n",
      "    \"gpu_type\": \"v100\",\n",
      "    \"test_run\": true,\n",
      "    \"queue\": \"x86_6h\",\n",
      "    \"num_jobs\": 1\n",
      "}\n",
      "python note_pruning_clustering.py --model_name all-mpnet-base-v2 --dataset wizardlm --encode_fn_type input --clustering_fn cl=kmeans_nc=200 --normalize_embeddings --save_dir /gpfs/u/home/PTFM/PTFMqngp/scratch/github/mitibm2023/external/open-instruct/scripts/clustering/input/all-mpnet-base-v2/wizardlm/cl=kmeans_nc=200\n",
      "\n",
      "Submiting job with:\n",
      "{\n",
      "    \"job_name\": \"cluster.wizardlm.cl=kmeans_nc=300\",\n",
      "    \"nodes\": 1,\n",
      "    \"num_cpus\": 64,\n",
      "    \"cpu_mem\": 128,\n",
      "    \"num_gpus\": 1,\n",
      "    \"gpu_type\": \"v100\",\n",
      "    \"test_run\": true,\n",
      "    \"queue\": \"x86_6h\",\n",
      "    \"num_jobs\": 1\n",
      "}\n",
      "python note_pruning_clustering.py --model_name all-mpnet-base-v2 --dataset wizardlm --encode_fn_type input --clustering_fn cl=kmeans_nc=300 --normalize_embeddings --save_dir /gpfs/u/home/PTFM/PTFMqngp/scratch/github/mitibm2023/external/open-instruct/scripts/clustering/input/all-mpnet-base-v2/wizardlm/cl=kmeans_nc=300\n",
      "\n",
      "Submiting job with:\n",
      "{\n",
      "    \"job_name\": \"cluster.wizardlm.cl=kmeans_nc=400\",\n",
      "    \"nodes\": 1,\n",
      "    \"num_cpus\": 64,\n",
      "    \"cpu_mem\": 128,\n",
      "    \"num_gpus\": 1,\n",
      "    \"gpu_type\": \"v100\",\n",
      "    \"test_run\": true,\n",
      "    \"queue\": \"x86_6h\",\n",
      "    \"num_jobs\": 1\n",
      "}\n",
      "python note_pruning_clustering.py --model_name all-mpnet-base-v2 --dataset wizardlm --encode_fn_type input --clustering_fn cl=kmeans_nc=400 --normalize_embeddings --save_dir /gpfs/u/home/PTFM/PTFMqngp/scratch/github/mitibm2023/external/open-instruct/scripts/clustering/input/all-mpnet-base-v2/wizardlm/cl=kmeans_nc=400\n",
      "\n",
      "Submiting job with:\n",
      "{\n",
      "    \"job_name\": \"cluster.wizardlm.cl=kmeans_nc=500\",\n",
      "    \"nodes\": 1,\n",
      "    \"num_cpus\": 64,\n",
      "    \"cpu_mem\": 128,\n",
      "    \"num_gpus\": 1,\n",
      "    \"gpu_type\": \"v100\",\n",
      "    \"test_run\": true,\n",
      "    \"queue\": \"x86_6h\",\n",
      "    \"num_jobs\": 1\n",
      "}\n",
      "python note_pruning_clustering.py --model_name all-mpnet-base-v2 --dataset wizardlm --encode_fn_type input --clustering_fn cl=kmeans_nc=500 --normalize_embeddings --save_dir /gpfs/u/home/PTFM/PTFMqngp/scratch/github/mitibm2023/external/open-instruct/scripts/clustering/input/all-mpnet-base-v2/wizardlm/cl=kmeans_nc=500\n",
      "\n",
      "Submiting job with:\n",
      "{\n",
      "    \"job_name\": \"cluster.wizardlm.cl=kmeans_nc=600\",\n",
      "    \"nodes\": 1,\n",
      "    \"num_cpus\": 64,\n",
      "    \"cpu_mem\": 128,\n",
      "    \"num_gpus\": 1,\n",
      "    \"gpu_type\": \"v100\",\n",
      "    \"test_run\": true,\n",
      "    \"queue\": \"x86_6h\",\n",
      "    \"num_jobs\": 1\n",
      "}\n",
      "python note_pruning_clustering.py --model_name all-mpnet-base-v2 --dataset wizardlm --encode_fn_type input --clustering_fn cl=kmeans_nc=600 --normalize_embeddings --save_dir /gpfs/u/home/PTFM/PTFMqngp/scratch/github/mitibm2023/external/open-instruct/scripts/clustering/input/all-mpnet-base-v2/wizardlm/cl=kmeans_nc=600\n",
      "\n",
      "Submiting job with:\n",
      "{\n",
      "    \"job_name\": \"cluster.wizardlm.cl=kmeans_nc=700\",\n",
      "    \"nodes\": 1,\n",
      "    \"num_cpus\": 64,\n",
      "    \"cpu_mem\": 128,\n",
      "    \"num_gpus\": 1,\n",
      "    \"gpu_type\": \"v100\",\n",
      "    \"test_run\": true,\n",
      "    \"queue\": \"x86_6h\",\n",
      "    \"num_jobs\": 1\n",
      "}\n",
      "python note_pruning_clustering.py --model_name all-mpnet-base-v2 --dataset wizardlm --encode_fn_type input --clustering_fn cl=kmeans_nc=700 --normalize_embeddings --save_dir /gpfs/u/home/PTFM/PTFMqngp/scratch/github/mitibm2023/external/open-instruct/scripts/clustering/input/all-mpnet-base-v2/wizardlm/cl=kmeans_nc=700\n",
      "\n",
      "Submiting job with:\n",
      "{\n",
      "    \"job_name\": \"cluster.wizardlm.cl=kmeans_nc=800\",\n",
      "    \"nodes\": 1,\n",
      "    \"num_cpus\": 64,\n",
      "    \"cpu_mem\": 128,\n",
      "    \"num_gpus\": 1,\n",
      "    \"gpu_type\": \"v100\",\n",
      "    \"test_run\": true,\n",
      "    \"queue\": \"x86_6h\",\n",
      "    \"num_jobs\": 1\n",
      "}\n",
      "python note_pruning_clustering.py --model_name all-mpnet-base-v2 --dataset wizardlm --encode_fn_type input --clustering_fn cl=kmeans_nc=800 --normalize_embeddings --save_dir /gpfs/u/home/PTFM/PTFMqngp/scratch/github/mitibm2023/external/open-instruct/scripts/clustering/input/all-mpnet-base-v2/wizardlm/cl=kmeans_nc=800\n",
      "\n",
      "Submiting job with:\n",
      "{\n",
      "    \"job_name\": \"cluster.wizardlm.cl=kmeans_nc=900\",\n",
      "    \"nodes\": 1,\n",
      "    \"num_cpus\": 64,\n",
      "    \"cpu_mem\": 128,\n",
      "    \"num_gpus\": 1,\n",
      "    \"gpu_type\": \"v100\",\n",
      "    \"test_run\": true,\n",
      "    \"queue\": \"x86_6h\",\n",
      "    \"num_jobs\": 1\n",
      "}\n",
      "python note_pruning_clustering.py --model_name all-mpnet-base-v2 --dataset wizardlm --encode_fn_type input --clustering_fn cl=kmeans_nc=900 --normalize_embeddings --save_dir /gpfs/u/home/PTFM/PTFMqngp/scratch/github/mitibm2023/external/open-instruct/scripts/clustering/input/all-mpnet-base-v2/wizardlm/cl=kmeans_nc=900\n",
      "\n",
      "Submiting job with:\n",
      "{\n",
      "    \"job_name\": \"cluster.wizardlm.cl=kmeans_nc=1000\",\n",
      "    \"nodes\": 1,\n",
      "    \"num_cpus\": 64,\n",
      "    \"cpu_mem\": 128,\n",
      "    \"num_gpus\": 1,\n",
      "    \"gpu_type\": \"v100\",\n",
      "    \"test_run\": true,\n",
      "    \"queue\": \"x86_6h\",\n",
      "    \"num_jobs\": 1\n",
      "}\n",
      "python note_pruning_clustering.py --model_name all-mpnet-base-v2 --dataset wizardlm --encode_fn_type input --clustering_fn cl=kmeans_nc=1000 --normalize_embeddings --save_dir /gpfs/u/home/PTFM/PTFMqngp/scratch/github/mitibm2023/external/open-instruct/scripts/clustering/input/all-mpnet-base-v2/wizardlm/cl=kmeans_nc=1000\n",
      "#cmds: 10\n"
     ]
    }
   ],
   "source": [
    "import os\n",
    "from rosemary import jpt_in_notebook, jpt_setup; jpt_setup()\n",
    "from llm.submit import submit_job, multiline_to_singleline, shell_scripts_template_slurm\n",
    "\n",
    "first_N = None\n",
    "log_dir = '/gpfs/u/home/PTFM/PTFMqngp/scratch/github/mitibm2023/external/open-instruct/scripts/'\n",
    "\n",
    "test_run = 1\n",
    "test_run = bool(test_run)\n",
    "\n",
    "####\n",
    "model_name = 'all-mpnet-base-v2'; encode_fn_type = 'input'; normalize_embeddings = True\n",
    "\n",
    "dataset = 'wizardlm'\n",
    "## \n",
    "clustering_fn_list = []\n",
    "# clustering_fn_list += [\n",
    "#     f'cl=kmeans_nc={n_clusters}' for n_clusters in [100, 200, 300, 400, 500, 600, 700, 800, 900, 1000]\n",
    "# ]\n",
    "clustering_fn_list = [\n",
    "    f'cl=kmeans_nc={n_clusters}'\n",
    "]\n",
    "\n",
    "# first_N = 10_000\n",
    "# clustering_fn = f'cl=kmeansminibatch_nc={n_clusters}'\n",
    "# clustering_fn = f'cl=kmeansminibatch_nc={n_clusters}_bsz=256'\n",
    "\n",
    "\n",
    "###\n",
    "\n",
    "cmds = []\n",
    "for clustering_fn in clustering_fn_list:\n",
    "    save_dir = (f\"/gpfs/u/home/PTFM/PTFMqngp/scratch/github/mitibm2023/external/open-instruct/scripts/\"\n",
    "                f\"clustering/{encode_fn_type+'/' if encode_fn_type!='sft' else ''}{model_name}/\"\n",
    "                f\"{dataset+'(N='+str(first_N)+')' if first_N else dataset}/{clustering_fn}\")\n",
    "\n",
    "    cmd = f\"\"\"\n",
    "    python note_pruning_clustering.py \\\n",
    "        --model_name {model_name} \\\n",
    "        --dataset {dataset} \\\n",
    "        --encode_fn_type {encode_fn_type} \\\n",
    "        --clustering_fn {clustering_fn} \\\n",
    "        {'--normalize_embeddings' if normalize_embeddings else ''} \\\n",
    "        {'--first_N '+str(first_N) if first_N else ''} \\\n",
    "        --save_dir {save_dir} \\\n",
    "    \"\"\".strip()\n",
    "    cmd = multiline_to_singleline(cmd)\n",
    "\n",
    "    shell_scripts = shell_scripts_template_slurm.format(\n",
    "        conda_env='open-instruct',\n",
    "        cwd=os.getcwd(),\n",
    "        cmd=cmd,\n",
    "        log_dir=log_dir,\n",
    "        save_dir=save_dir)\n",
    "    out = submit_job(\n",
    "        shell_scripts, \n",
    "        job_name=f'cluster.{dataset}.{clustering_fn}', \n",
    "        nodes=1,\n",
    "        num_cpus=64,\n",
    "        cpu_mem=128,\n",
    "        num_gpus=1,\n",
    "        gpu_type='v100',\n",
    "        test_run=test_run,\n",
    "        job_duration=6,\n",
    "    )\n",
    "    print(cmd)\n",
    "    cmds.append(cmd)\n",
    "    \n",
    "print(f'#cmds: {len(cmds)}')\n"
   ]
  },
  {
   "cell_type": "code",
   "execution_count": 8,
   "id": "7d45c068",
   "metadata": {
    "scrolled": true
   },
   "outputs": [],
   "source": [
    "\n",
    "with open('note_pruning_cluster_test.sh', 'w') as f:\n",
    "    f.write('\\n'.join(['CUDA_VISIBLE_DEVICES=1 '+x for x in cmds]))\n",
    "    \n",
    "    "
   ]
  },
  {
   "cell_type": "markdown",
   "id": "e2caf720",
   "metadata": {},
   "source": [
    "## analyze clustering results"
   ]
  },
  {
   "cell_type": "code",
   "execution_count": 3,
   "id": "0d7393f4",
   "metadata": {},
   "outputs": [],
   "source": [
    "save_dir = (f\"/gpfs/u/home/PTFM/PTFMqngp/scratch/github/mitibm2023/external/open-instruct/scripts/\"\n",
    "            f\"clustering/{encode_fn_type+'/' if encode_fn_type!='sft' else ''}{model_name}/\"\n",
    "            f\"{dataset+'(N='+str(first_N)+')' if first_N else dataset}/{clustering_fn}\")"
   ]
  },
  {
   "cell_type": "code",
   "execution_count": 59,
   "id": "23810526",
   "metadata": {
    "scrolled": false
   },
   "outputs": [
    {
     "data": {
      "text/html": [
       "<div>\n",
       "<style scoped>\n",
       "    .dataframe tbody tr th:only-of-type {\n",
       "        vertical-align: middle;\n",
       "    }\n",
       "\n",
       "    .dataframe tbody tr th {\n",
       "        vertical-align: top;\n",
       "    }\n",
       "\n",
       "    .dataframe thead th {\n",
       "        text-align: right;\n",
       "    }\n",
       "</style>\n",
       "<table border=\"1\" class=\"dataframe\">\n",
       "  <thead>\n",
       "    <tr style=\"text-align: right;\">\n",
       "      <th></th>\n",
       "      <th>n_clusters</th>\n",
       "      <th>clustering_fn</th>\n",
       "      <th>time_elapsed</th>\n",
       "      <th>inertia$\\downarrow$</th>\n",
       "      <th>silhouette_score_cd$\\uparrow$</th>\n",
       "      <th>silhouette_score_l2$\\uparrow$</th>\n",
       "      <th>variance_ratio$\\uparrow$</th>\n",
       "      <th>davies_bouldin_index$\\downarrow$</th>\n",
       "      <th>cluster_sizes_min</th>\n",
       "      <th>cluster_sizes_mean</th>\n",
       "      <th>cluster_sizes_max</th>\n",
       "    </tr>\n",
       "  </thead>\n",
       "  <tbody>\n",
       "    <tr>\n",
       "      <th>0</th>\n",
       "      <td>200</td>\n",
       "      <td>cl=kmeans_nc=200</td>\n",
       "      <td>118.462</td>\n",
       "      <td>97995.406</td>\n",
       "      <td>0.053</td>\n",
       "      <td>0.029</td>\n",
       "      <td>231.343</td>\n",
       "      <td>3.801</td>\n",
       "      <td>240</td>\n",
       "      <td>715</td>\n",
       "      <td>2214</td>\n",
       "    </tr>\n",
       "    <tr>\n",
       "      <th>1</th>\n",
       "      <td>200</td>\n",
       "      <td>cl=kmeansminibatch_nc=200_bsz=4096</td>\n",
       "      <td>26.996</td>\n",
       "      <td>98961.570</td>\n",
       "      <td>0.044</td>\n",
       "      <td>0.024</td>\n",
       "      <td>222.895</td>\n",
       "      <td>4.089</td>\n",
       "      <td>8</td>\n",
       "      <td>715</td>\n",
       "      <td>2015</td>\n",
       "    </tr>\n",
       "    <tr>\n",
       "      <th>2</th>\n",
       "      <td>200</td>\n",
       "      <td>cl=kmeansminibatch_nc=200_bsz=1024</td>\n",
       "      <td>42.962</td>\n",
       "      <td>99405.234</td>\n",
       "      <td>0.045</td>\n",
       "      <td>0.025</td>\n",
       "      <td>219.192</td>\n",
       "      <td>3.913</td>\n",
       "      <td>1</td>\n",
       "      <td>715</td>\n",
       "      <td>2052</td>\n",
       "    </tr>\n",
       "    <tr>\n",
       "      <th>3</th>\n",
       "      <td>200</td>\n",
       "      <td>cl=kmeansminibatch_nc=200_bsz=2048</td>\n",
       "      <td>29.268</td>\n",
       "      <td>99377.891</td>\n",
       "      <td>0.047</td>\n",
       "      <td>0.026</td>\n",
       "      <td>219.304</td>\n",
       "      <td>4.000</td>\n",
       "      <td>1</td>\n",
       "      <td>715</td>\n",
       "      <td>1785</td>\n",
       "    </tr>\n",
       "    <tr>\n",
       "      <th>4</th>\n",
       "      <td>200</td>\n",
       "      <td>cl=kmeans_md=mpnet_dist=cd_emb=text+embedding_...</td>\n",
       "      <td>102.299</td>\n",
       "      <td>97995.430</td>\n",
       "      <td>0.053</td>\n",
       "      <td>0.029</td>\n",
       "      <td>231.343</td>\n",
       "      <td>3.801</td>\n",
       "      <td>240</td>\n",
       "      <td>715</td>\n",
       "      <td>2214</td>\n",
       "    </tr>\n",
       "    <tr>\n",
       "      <th>5</th>\n",
       "      <td>200</td>\n",
       "      <td>cl=kmeansfaissl2_nc=200</td>\n",
       "      <td>26.751</td>\n",
       "      <td>98689.016</td>\n",
       "      <td>0.051</td>\n",
       "      <td>0.028</td>\n",
       "      <td>227.116</td>\n",
       "      <td>3.951</td>\n",
       "      <td>240</td>\n",
       "      <td>715</td>\n",
       "      <td>2170</td>\n",
       "    </tr>\n",
       "    <tr>\n",
       "      <th>6</th>\n",
       "      <td>200</td>\n",
       "      <td>cl=kmeansminibatch_nc=200_bsz=256</td>\n",
       "      <td>73.982</td>\n",
       "      <td>102598.000</td>\n",
       "      <td>0.037</td>\n",
       "      <td>0.020</td>\n",
       "      <td>191.181</td>\n",
       "      <td>3.419</td>\n",
       "      <td>1</td>\n",
       "      <td>715</td>\n",
       "      <td>3634</td>\n",
       "    </tr>\n",
       "    <tr>\n",
       "      <th>7</th>\n",
       "      <td>200</td>\n",
       "      <td>cl=kmeansfaisscd_nc=200</td>\n",
       "      <td>25.072</td>\n",
       "      <td>127678.469</td>\n",
       "      <td>0.057</td>\n",
       "      <td>0.031</td>\n",
       "      <td>225.686</td>\n",
       "      <td>3.914</td>\n",
       "      <td>233</td>\n",
       "      <td>715</td>\n",
       "      <td>1539</td>\n",
       "    </tr>\n",
       "  </tbody>\n",
       "</table>\n",
       "</div>"
      ],
      "text/plain": [
       "  n_clusters                                      clustering_fn  time_elapsed  \\\n",
       "0        200                                   cl=kmeans_nc=200       118.462   \n",
       "1        200                 cl=kmeansminibatch_nc=200_bsz=4096        26.996   \n",
       "2        200                 cl=kmeansminibatch_nc=200_bsz=1024        42.962   \n",
       "3        200                 cl=kmeansminibatch_nc=200_bsz=2048        29.268   \n",
       "4        200  cl=kmeans_md=mpnet_dist=cd_emb=text+embedding_...       102.299   \n",
       "5        200                            cl=kmeansfaissl2_nc=200        26.751   \n",
       "6        200                  cl=kmeansminibatch_nc=200_bsz=256        73.982   \n",
       "7        200                            cl=kmeansfaisscd_nc=200        25.072   \n",
       "\n",
       "   inertia$\\downarrow$  silhouette_score_cd$\\uparrow$  \\\n",
       "0            97995.406                          0.053   \n",
       "1            98961.570                          0.044   \n",
       "2            99405.234                          0.045   \n",
       "3            99377.891                          0.047   \n",
       "4            97995.430                          0.053   \n",
       "5            98689.016                          0.051   \n",
       "6           102598.000                          0.037   \n",
       "7           127678.469                          0.057   \n",
       "\n",
       "   silhouette_score_l2$\\uparrow$  variance_ratio$\\uparrow$  \\\n",
       "0                          0.029                   231.343   \n",
       "1                          0.024                   222.895   \n",
       "2                          0.025                   219.192   \n",
       "3                          0.026                   219.304   \n",
       "4                          0.029                   231.343   \n",
       "5                          0.028                   227.116   \n",
       "6                          0.020                   191.181   \n",
       "7                          0.031                   225.686   \n",
       "\n",
       "   davies_bouldin_index$\\downarrow$  cluster_sizes_min  cluster_sizes_mean  \\\n",
       "0                             3.801                240                 715   \n",
       "1                             4.089                  8                 715   \n",
       "2                             3.913                  1                 715   \n",
       "3                             4.000                  1                 715   \n",
       "4                             3.801                240                 715   \n",
       "5                             3.951                240                 715   \n",
       "6                             3.419                  1                 715   \n",
       "7                             3.914                233                 715   \n",
       "\n",
       "   cluster_sizes_max  \n",
       "0               2214  \n",
       "1               2015  \n",
       "2               2052  \n",
       "3               1785  \n",
       "4               2214  \n",
       "5               2170  \n",
       "6               3634  \n",
       "7               1539  "
      ]
     },
     "execution_count": 59,
     "metadata": {},
     "output_type": "execute_result"
    }
   ],
   "source": [
    "import re\n",
    "import numpy as np\n",
    "import pandas as pd\n",
    "import matplotlib.pyplot as plt\n",
    "from note_pruning_analysis import get_clustering_results, flatten_dict\n",
    "\n",
    "dataset='wizardlm'\n",
    "model_name='all-mpnet-base-v2'\n",
    "encode_fn_type = 'input'\n",
    "\n",
    "# clustering_fn_list = [\n",
    "#     f'cl=kmeans_nc={x}' for x in np.arange(100,1100,100)\n",
    "# ]\n",
    "\n",
    "clustering_fn_list = os.listdir(os.path.join('clustering', encode_fn_type, model_name, dataset))\n",
    "clustering_fn_list = [x for x in clustering_fn_list if 'nc=200' in x]\n",
    "\n",
    "\n",
    "data = []\n",
    "for clustering_fn in clustering_fn_list:\n",
    "    d = get_clustering_results(dataset, model_name, clustering_fn, encode_fn_type='input', return_data=False)\n",
    "    d = flatten_dict(d['info'])\n",
    "    for k in list(d.keys()):\n",
    "        d[k.split('scores_')[-1]] = d.pop(k)\n",
    "    d = {'n_clusters': re.search(r'nc=([^_]+)', d['clustering_fn']).group(1),\n",
    "         **d}\n",
    "    # d.pop('clustering_fn')\n",
    "    d['cluster_sizes_min'] = int(np.min(d['cluster_sizes']))\n",
    "    d['cluster_sizes_mean'] = int(np.mean(d['cluster_sizes']))\n",
    "    d['cluster_sizes_max'] = int(np.max(d['cluster_sizes']))\n",
    "    data.append(d)\n",
    "    \n",
    "df = pd.DataFrame(data)\n",
    "df = df.drop(columns=['N', 'model_name', 'dataset', 'encode_fn_type', 'cluster_sizes'])\n",
    "\n",
    "higher_is_better = [\n",
    "    ('inertia', False),\n",
    "    ('silhouette_score_cd', True),\n",
    "    ('silhouette_score_l2', True),\n",
    "    ('variance_ratio', True),\n",
    "    ('davies_bouldin_index', False),\n",
    "]\n",
    "\n",
    "df = df.rename(columns={k: k+('$\\\\uparrow$' if v else '$\\\\downarrow$') for k, v in higher_is_better})\n",
    "df = df.round(3)\n",
    "df"
   ]
  },
  {
   "cell_type": "code",
   "execution_count": 141,
   "id": "0bd682c8",
   "metadata": {
    "scrolled": true
   },
   "outputs": [
    {
     "ename": "ValueError",
     "evalue": "invalid literal for int() with base 10: '200_bsz=1024'",
     "output_type": "error",
     "traceback": [
      "\u001b[0;31m---------------------------------------------------------------------------\u001b[0m",
      "\u001b[0;31mValueError\u001b[0m                                Traceback (most recent call last)",
      "Cell \u001b[0;32mIn[141], line 1\u001b[0m\n\u001b[0;32m----> 1\u001b[0m xs \u001b[38;5;241m=\u001b[39m \u001b[43mdf\u001b[49m\u001b[43m[\u001b[49m\u001b[38;5;124;43m'\u001b[39;49m\u001b[38;5;124;43mclustering_fn\u001b[39;49m\u001b[38;5;124;43m'\u001b[39;49m\u001b[43m]\u001b[49m\u001b[38;5;241;43m.\u001b[39;49m\u001b[43mapply\u001b[49m\u001b[43m(\u001b[49m\u001b[38;5;28;43;01mlambda\u001b[39;49;00m\u001b[43m \u001b[49m\u001b[43mx\u001b[49m\u001b[43m:\u001b[49m\u001b[43m \u001b[49m\u001b[38;5;28;43mint\u001b[39;49m\u001b[43m(\u001b[49m\u001b[43mx\u001b[49m\u001b[38;5;241;43m.\u001b[39;49m\u001b[43msplit\u001b[49m\u001b[43m(\u001b[49m\u001b[38;5;124;43m'\u001b[39;49m\u001b[38;5;124;43mnc=\u001b[39;49m\u001b[38;5;124;43m'\u001b[39;49m\u001b[43m)\u001b[49m\u001b[43m[\u001b[49m\u001b[38;5;241;43m-\u001b[39;49m\u001b[38;5;241;43m1\u001b[39;49m\u001b[43m]\u001b[49m\u001b[43m)\u001b[49m\u001b[43m)\u001b[49m\n\u001b[1;32m      2\u001b[0m ys \u001b[38;5;241m=\u001b[39m df[\u001b[38;5;124m'\u001b[39m\u001b[38;5;124mscores_inertia\u001b[39m\u001b[38;5;124m'\u001b[39m]\u001b[38;5;241m.\u001b[39mto_numpy()\n\u001b[1;32m      3\u001b[0m plt\u001b[38;5;241m.\u001b[39mplot(xs, ys)\n",
      "File \u001b[0;32m/gpfs/u/scratch/PTFM/PTFMqngp/minoconda3_x86/envs/open-instruct/lib/python3.10/site-packages/pandas/core/series.py:4760\u001b[0m, in \u001b[0;36mSeries.apply\u001b[0;34m(self, func, convert_dtype, args, by_row, **kwargs)\u001b[0m\n\u001b[1;32m   4625\u001b[0m \u001b[38;5;28;01mdef\u001b[39;00m \u001b[38;5;21mapply\u001b[39m(\n\u001b[1;32m   4626\u001b[0m     \u001b[38;5;28mself\u001b[39m,\n\u001b[1;32m   4627\u001b[0m     func: AggFuncType,\n\u001b[0;32m   (...)\u001b[0m\n\u001b[1;32m   4632\u001b[0m     \u001b[38;5;241m*\u001b[39m\u001b[38;5;241m*\u001b[39mkwargs,\n\u001b[1;32m   4633\u001b[0m ) \u001b[38;5;241m-\u001b[39m\u001b[38;5;241m>\u001b[39m DataFrame \u001b[38;5;241m|\u001b[39m Series:\n\u001b[1;32m   4634\u001b[0m \u001b[38;5;250m    \u001b[39m\u001b[38;5;124;03m\"\"\"\u001b[39;00m\n\u001b[1;32m   4635\u001b[0m \u001b[38;5;124;03m    Invoke function on values of Series.\u001b[39;00m\n\u001b[1;32m   4636\u001b[0m \n\u001b[0;32m   (...)\u001b[0m\n\u001b[1;32m   4751\u001b[0m \u001b[38;5;124;03m    dtype: float64\u001b[39;00m\n\u001b[1;32m   4752\u001b[0m \u001b[38;5;124;03m    \"\"\"\u001b[39;00m\n\u001b[1;32m   4753\u001b[0m     \u001b[38;5;28;01mreturn\u001b[39;00m \u001b[43mSeriesApply\u001b[49m\u001b[43m(\u001b[49m\n\u001b[1;32m   4754\u001b[0m \u001b[43m        \u001b[49m\u001b[38;5;28;43mself\u001b[39;49m\u001b[43m,\u001b[49m\n\u001b[1;32m   4755\u001b[0m \u001b[43m        \u001b[49m\u001b[43mfunc\u001b[49m\u001b[43m,\u001b[49m\n\u001b[1;32m   4756\u001b[0m \u001b[43m        \u001b[49m\u001b[43mconvert_dtype\u001b[49m\u001b[38;5;241;43m=\u001b[39;49m\u001b[43mconvert_dtype\u001b[49m\u001b[43m,\u001b[49m\n\u001b[1;32m   4757\u001b[0m \u001b[43m        \u001b[49m\u001b[43mby_row\u001b[49m\u001b[38;5;241;43m=\u001b[39;49m\u001b[43mby_row\u001b[49m\u001b[43m,\u001b[49m\n\u001b[1;32m   4758\u001b[0m \u001b[43m        \u001b[49m\u001b[43margs\u001b[49m\u001b[38;5;241;43m=\u001b[39;49m\u001b[43margs\u001b[49m\u001b[43m,\u001b[49m\n\u001b[1;32m   4759\u001b[0m \u001b[43m        \u001b[49m\u001b[43mkwargs\u001b[49m\u001b[38;5;241;43m=\u001b[39;49m\u001b[43mkwargs\u001b[49m\u001b[43m,\u001b[49m\n\u001b[0;32m-> 4760\u001b[0m \u001b[43m    \u001b[49m\u001b[43m)\u001b[49m\u001b[38;5;241;43m.\u001b[39;49m\u001b[43mapply\u001b[49m\u001b[43m(\u001b[49m\u001b[43m)\u001b[49m\n",
      "File \u001b[0;32m/gpfs/u/scratch/PTFM/PTFMqngp/minoconda3_x86/envs/open-instruct/lib/python3.10/site-packages/pandas/core/apply.py:1207\u001b[0m, in \u001b[0;36mSeriesApply.apply\u001b[0;34m(self)\u001b[0m\n\u001b[1;32m   1204\u001b[0m     \u001b[38;5;28;01mreturn\u001b[39;00m \u001b[38;5;28mself\u001b[39m\u001b[38;5;241m.\u001b[39mapply_compat()\n\u001b[1;32m   1206\u001b[0m \u001b[38;5;66;03m# self.func is Callable\u001b[39;00m\n\u001b[0;32m-> 1207\u001b[0m \u001b[38;5;28;01mreturn\u001b[39;00m \u001b[38;5;28;43mself\u001b[39;49m\u001b[38;5;241;43m.\u001b[39;49m\u001b[43mapply_standard\u001b[49m\u001b[43m(\u001b[49m\u001b[43m)\u001b[49m\n",
      "File \u001b[0;32m/gpfs/u/scratch/PTFM/PTFMqngp/minoconda3_x86/envs/open-instruct/lib/python3.10/site-packages/pandas/core/apply.py:1287\u001b[0m, in \u001b[0;36mSeriesApply.apply_standard\u001b[0;34m(self)\u001b[0m\n\u001b[1;32m   1281\u001b[0m \u001b[38;5;66;03m# row-wise access\u001b[39;00m\n\u001b[1;32m   1282\u001b[0m \u001b[38;5;66;03m# apply doesn't have a `na_action` keyword and for backward compat reasons\u001b[39;00m\n\u001b[1;32m   1283\u001b[0m \u001b[38;5;66;03m# we need to give `na_action=\"ignore\"` for categorical data.\u001b[39;00m\n\u001b[1;32m   1284\u001b[0m \u001b[38;5;66;03m# TODO: remove the `na_action=\"ignore\"` when that default has been changed in\u001b[39;00m\n\u001b[1;32m   1285\u001b[0m \u001b[38;5;66;03m#  Categorical (GH51645).\u001b[39;00m\n\u001b[1;32m   1286\u001b[0m action \u001b[38;5;241m=\u001b[39m \u001b[38;5;124m\"\u001b[39m\u001b[38;5;124mignore\u001b[39m\u001b[38;5;124m\"\u001b[39m \u001b[38;5;28;01mif\u001b[39;00m \u001b[38;5;28misinstance\u001b[39m(obj\u001b[38;5;241m.\u001b[39mdtype, CategoricalDtype) \u001b[38;5;28;01melse\u001b[39;00m \u001b[38;5;28;01mNone\u001b[39;00m\n\u001b[0;32m-> 1287\u001b[0m mapped \u001b[38;5;241m=\u001b[39m \u001b[43mobj\u001b[49m\u001b[38;5;241;43m.\u001b[39;49m\u001b[43m_map_values\u001b[49m\u001b[43m(\u001b[49m\n\u001b[1;32m   1288\u001b[0m \u001b[43m    \u001b[49m\u001b[43mmapper\u001b[49m\u001b[38;5;241;43m=\u001b[39;49m\u001b[43mcurried\u001b[49m\u001b[43m,\u001b[49m\u001b[43m \u001b[49m\u001b[43mna_action\u001b[49m\u001b[38;5;241;43m=\u001b[39;49m\u001b[43maction\u001b[49m\u001b[43m,\u001b[49m\u001b[43m \u001b[49m\u001b[43mconvert\u001b[49m\u001b[38;5;241;43m=\u001b[39;49m\u001b[38;5;28;43mself\u001b[39;49m\u001b[38;5;241;43m.\u001b[39;49m\u001b[43mconvert_dtype\u001b[49m\n\u001b[1;32m   1289\u001b[0m \u001b[43m\u001b[49m\u001b[43m)\u001b[49m\n\u001b[1;32m   1291\u001b[0m \u001b[38;5;28;01mif\u001b[39;00m \u001b[38;5;28mlen\u001b[39m(mapped) \u001b[38;5;129;01mand\u001b[39;00m \u001b[38;5;28misinstance\u001b[39m(mapped[\u001b[38;5;241m0\u001b[39m], ABCSeries):\n\u001b[1;32m   1292\u001b[0m     \u001b[38;5;66;03m# GH#43986 Need to do list(mapped) in order to get treated as nested\u001b[39;00m\n\u001b[1;32m   1293\u001b[0m     \u001b[38;5;66;03m#  See also GH#25959 regarding EA support\u001b[39;00m\n\u001b[1;32m   1294\u001b[0m     \u001b[38;5;28;01mreturn\u001b[39;00m obj\u001b[38;5;241m.\u001b[39m_constructor_expanddim(\u001b[38;5;28mlist\u001b[39m(mapped), index\u001b[38;5;241m=\u001b[39mobj\u001b[38;5;241m.\u001b[39mindex)\n",
      "File \u001b[0;32m/gpfs/u/scratch/PTFM/PTFMqngp/minoconda3_x86/envs/open-instruct/lib/python3.10/site-packages/pandas/core/base.py:921\u001b[0m, in \u001b[0;36mIndexOpsMixin._map_values\u001b[0;34m(self, mapper, na_action, convert)\u001b[0m\n\u001b[1;32m    918\u001b[0m \u001b[38;5;28;01mif\u001b[39;00m \u001b[38;5;28misinstance\u001b[39m(arr, ExtensionArray):\n\u001b[1;32m    919\u001b[0m     \u001b[38;5;28;01mreturn\u001b[39;00m arr\u001b[38;5;241m.\u001b[39mmap(mapper, na_action\u001b[38;5;241m=\u001b[39mna_action)\n\u001b[0;32m--> 921\u001b[0m \u001b[38;5;28;01mreturn\u001b[39;00m \u001b[43malgorithms\u001b[49m\u001b[38;5;241;43m.\u001b[39;49m\u001b[43mmap_array\u001b[49m\u001b[43m(\u001b[49m\u001b[43marr\u001b[49m\u001b[43m,\u001b[49m\u001b[43m \u001b[49m\u001b[43mmapper\u001b[49m\u001b[43m,\u001b[49m\u001b[43m \u001b[49m\u001b[43mna_action\u001b[49m\u001b[38;5;241;43m=\u001b[39;49m\u001b[43mna_action\u001b[49m\u001b[43m,\u001b[49m\u001b[43m \u001b[49m\u001b[43mconvert\u001b[49m\u001b[38;5;241;43m=\u001b[39;49m\u001b[43mconvert\u001b[49m\u001b[43m)\u001b[49m\n",
      "File \u001b[0;32m/gpfs/u/scratch/PTFM/PTFMqngp/minoconda3_x86/envs/open-instruct/lib/python3.10/site-packages/pandas/core/algorithms.py:1814\u001b[0m, in \u001b[0;36mmap_array\u001b[0;34m(arr, mapper, na_action, convert)\u001b[0m\n\u001b[1;32m   1812\u001b[0m values \u001b[38;5;241m=\u001b[39m arr\u001b[38;5;241m.\u001b[39mastype(\u001b[38;5;28mobject\u001b[39m, copy\u001b[38;5;241m=\u001b[39m\u001b[38;5;28;01mFalse\u001b[39;00m)\n\u001b[1;32m   1813\u001b[0m \u001b[38;5;28;01mif\u001b[39;00m na_action \u001b[38;5;129;01mis\u001b[39;00m \u001b[38;5;28;01mNone\u001b[39;00m:\n\u001b[0;32m-> 1814\u001b[0m     \u001b[38;5;28;01mreturn\u001b[39;00m \u001b[43mlib\u001b[49m\u001b[38;5;241;43m.\u001b[39;49m\u001b[43mmap_infer\u001b[49m\u001b[43m(\u001b[49m\u001b[43mvalues\u001b[49m\u001b[43m,\u001b[49m\u001b[43m \u001b[49m\u001b[43mmapper\u001b[49m\u001b[43m,\u001b[49m\u001b[43m \u001b[49m\u001b[43mconvert\u001b[49m\u001b[38;5;241;43m=\u001b[39;49m\u001b[43mconvert\u001b[49m\u001b[43m)\u001b[49m\n\u001b[1;32m   1815\u001b[0m \u001b[38;5;28;01melse\u001b[39;00m:\n\u001b[1;32m   1816\u001b[0m     \u001b[38;5;28;01mreturn\u001b[39;00m lib\u001b[38;5;241m.\u001b[39mmap_infer_mask(\n\u001b[1;32m   1817\u001b[0m         values, mapper, mask\u001b[38;5;241m=\u001b[39misna(values)\u001b[38;5;241m.\u001b[39mview(np\u001b[38;5;241m.\u001b[39muint8), convert\u001b[38;5;241m=\u001b[39mconvert\n\u001b[1;32m   1818\u001b[0m     )\n",
      "File \u001b[0;32mlib.pyx:2920\u001b[0m, in \u001b[0;36mpandas._libs.lib.map_infer\u001b[0;34m()\u001b[0m\n",
      "Cell \u001b[0;32mIn[141], line 1\u001b[0m, in \u001b[0;36m<lambda>\u001b[0;34m(x)\u001b[0m\n\u001b[0;32m----> 1\u001b[0m xs \u001b[38;5;241m=\u001b[39m df[\u001b[38;5;124m'\u001b[39m\u001b[38;5;124mclustering_fn\u001b[39m\u001b[38;5;124m'\u001b[39m]\u001b[38;5;241m.\u001b[39mapply(\u001b[38;5;28;01mlambda\u001b[39;00m x: \u001b[38;5;28;43mint\u001b[39;49m\u001b[43m(\u001b[49m\u001b[43mx\u001b[49m\u001b[38;5;241;43m.\u001b[39;49m\u001b[43msplit\u001b[49m\u001b[43m(\u001b[49m\u001b[38;5;124;43m'\u001b[39;49m\u001b[38;5;124;43mnc=\u001b[39;49m\u001b[38;5;124;43m'\u001b[39;49m\u001b[43m)\u001b[49m\u001b[43m[\u001b[49m\u001b[38;5;241;43m-\u001b[39;49m\u001b[38;5;241;43m1\u001b[39;49m\u001b[43m]\u001b[49m\u001b[43m)\u001b[49m)\n\u001b[1;32m      2\u001b[0m ys \u001b[38;5;241m=\u001b[39m df[\u001b[38;5;124m'\u001b[39m\u001b[38;5;124mscores_inertia\u001b[39m\u001b[38;5;124m'\u001b[39m]\u001b[38;5;241m.\u001b[39mto_numpy()\n\u001b[1;32m      3\u001b[0m plt\u001b[38;5;241m.\u001b[39mplot(xs, ys)\n",
      "\u001b[0;31mValueError\u001b[0m: invalid literal for int() with base 10: '200_bsz=1024'"
     ]
    }
   ],
   "source": [
    "\n",
    "\n",
    "xs = df['clustering_fn'].apply(lambda x: int(x.split('nc=')[-1]))\n",
    "ys = df['scores_inertia'].to_numpy()\n",
    "plt.plot(xs, ys)\n",
    "\n",
    "# ys = df['scores_silhouette_score_cd'].to_numpy()\n",
    "# plt.plot(xs, ys)\n",
    "# ys = df['scores_silhouette_score_l2'].to_numpy()\n",
    "# plt.plot(xs, ys)\n"
   ]
  },
  {
   "cell_type": "code",
   "execution_count": 8,
   "id": "ba980acf",
   "metadata": {
    "scrolled": true
   },
   "outputs": [
    {
     "data": {
      "image/png": "[encoded data removed]",
      "text/plain": [
       "<Figure size 300x900 with 3 Axes>"
      ]
     },
     "metadata": {},
     "output_type": "display_data"
    }
   ],
   "source": [
    "ys_list = df['cluster_sizes'].tolist()\n",
    "N = len(ys_list)\n",
    "\n",
    "fig, axs = plt.subplots(N,1,figsize=(3,3*N), sharex=False)\n",
    "for i in range(N):\n",
    "    ys = ys_list[i]\n",
    "    ax = axs[i]\n",
    "    ax.hist(ys)\n",
    "    ax.set_title(df.iloc[i]['clustering_fn'])\n",
    "fig.tight_layout()"
   ]
  },
  {
   "cell_type": "markdown",
   "id": "9515deb5",
   "metadata": {},
   "source": [
    "## clustering code base\n"
   ]
  },
  {
   "cell_type": "code",
   "execution_count": 1,
   "id": "de4b80c9",
   "metadata": {
    "scrolled": true
   },
   "outputs": [
    {
     "name": "stderr",
     "output_type": "stream",
     "text": [
      "/gpfs/u/scratch/PTFM/PTFMqngp/minoconda3_x86/envs/open-instruct/lib/python3.10/site-packages/tqdm/auto.py:21: TqdmWarning: IProgress not found. Please update jupyter and ipywidgets. See https://ipywidgets.readthedocs.io/en/stable/user_install.html\n",
      "  from .autonotebook import tqdm as notebook_tqdm\n"
     ]
    },
    {
     "data": {
      "text/html": [
       "<style>.container { width:100% !important; }</style>"
      ],
      "text/plain": [
       "<IPython.core.display.HTML object>"
      ]
     },
     "metadata": {},
     "output_type": "display_data"
    },
    {
     "name": "stdout",
     "output_type": "stream",
     "text": [
      "['2', '3']\n",
      "2\n"
     ]
    }
   ],
   "source": [
    "from rosemary import jpt_parse_args, jpt_setup, jpt_in_notebook; jpt_setup()\n",
    "\n",
    "if jpt_in_notebook():\n",
    "    import os\n",
    "    print(os.environ['CUDA_VISIBLE_DEVICES'].split(','))\n",
    "    os.environ['CUDA_VISIBLE_DEVICES'] = os.environ['CUDA_VISIBLE_DEVICES'].split(',')[0] \n",
    "    # '0,1,2,3,4,5'\n",
    "    print(os.environ['CUDA_VISIBLE_DEVICES'])\n",
    "# !nvidia-smi"
   ]
  },
  {
   "cell_type": "code",
   "execution_count": 2,
   "id": "94f65fe6",
   "metadata": {},
   "outputs": [],
   "source": [
    "import re\n",
    "import argparse\n",
    "import json\n",
    "import pickle\n",
    "import string\n",
    "import time\n",
    "import matplotlib.pyplot as plt\n",
    "\n",
    "import numpy as np\n",
    "import scipy\n",
    "from sentence_transformers import SentenceTransformer\n",
    "from sentence_transformers.util import cos_sim\n",
    "from sklearn.cluster import KMeans, AgglomerativeClustering\n",
    "import torch\n",
    "from tqdm import tqdm\n",
    "import pandas as pd\n",
    "\n",
    "from datasets import load_dataset\n",
    "from transformers import AutoTokenizer, AutoModel\n",
    "\n",
    "from torch.utils.data import DataLoader\n",
    "import torch\n",
    "import torch.nn.functional as F\n",
    "\n",
    "import time\n",
    "from note_pruning_analysis import (\n",
    "    get_lm_output,\n",
    "    get_dataset,\n",
    ")\n",
    "from note_pruning_clustering import (\n",
    "    pairwise_cosine_distance,\n",
    "    clustering_sort_by_cluster_size,\n",
    "    clustering_algorithm_scores,\n",
    "    clustering_dist_to_centroids,\n",
    "    clustering_knn_withincluster,\n",
    "    clustering_run,\n",
    "    clustering_compute_and_save_results,\n",
    "    sklearn_compute_inertia_dense,\n",
    ")\n",
    "\n",
    "from llm.submit import get_host_info\n",
    "if get_host_info()['arch'] == 'x86_64': import faiss"
   ]
  },
  {
   "cell_type": "code",
   "execution_count": 54,
   "id": "d7a5b259",
   "metadata": {},
   "outputs": [],
   "source": [
    "model_name = 'all-mpnet-base-v2'\n",
    "\n",
    "dataset = 'wizardlm'\n",
    "# dataset = 'ultrachat15'\n",
    "encode_fn_type = 'input'\n",
    "# first_N = 10_000\n",
    "first_N = None\n",
    "\n",
    "n_clusters = 200\n",
    "clustering_fn = f'cl=kmeans_nc={n_clusters}'\n",
    "bsz = 4096\n",
    "clustering_fn = f'cl=kmeansminibatch_nc={n_clusters}_bsz={bsz}'\n",
    "clustering_fn = f'cl=kmeansfaissl2_nc={n_clusters}'\n",
    "clustering_fn = f'cl=kmeansfaisscd_nc={n_clusters}'"
   ]
  },
  {
   "cell_type": "code",
   "execution_count": 55,
   "id": "51bad3b3",
   "metadata": {},
   "outputs": [
    {
     "data": {
      "text/plain": [
       "'clustering/input/all-mpnet-base-v2/wizardlm/cl=kmeansfaisscd_nc=200_test'"
      ]
     },
     "execution_count": 55,
     "metadata": {},
     "output_type": "execute_result"
    }
   ],
   "source": [
    "save_dir = os.path.join('clustering', encode_fn_type, model_name, dataset, clustering_fn+'_test')\n",
    "os.makedirs(save_dir, exist_ok=True)\n",
    "save_dir"
   ]
  },
  {
   "cell_type": "code",
   "execution_count": 56,
   "id": "e8b9ac7f",
   "metadata": {
    "scrolled": true
   },
   "outputs": [
    {
     "data": {
      "text/plain": [
       "Dataset({\n",
       "    features: ['dataset', 'id', 'messages', 'text'],\n",
       "    num_rows: 143000\n",
       "})"
      ]
     },
     "execution_count": 56,
     "metadata": {},
     "output_type": "execute_result"
    }
   ],
   "source": [
    "\n",
    "ds = get_dataset(dataset, processed=True)\n",
    "if encode_fn_type == 'input':\n",
    "    def get_user_prompt_fn(example):\n",
    "        example['text'] = example['messages'][0]['content']\n",
    "        return example\n",
    "    ds = ds.map(get_user_prompt_fn, num_proc=16)\n",
    "\n",
    "ds"
   ]
  },
  {
   "cell_type": "code",
   "execution_count": 57,
   "id": "0831bfce",
   "metadata": {
    "scrolled": true
   },
   "outputs": [],
   "source": [
    "d = get_lm_output(dataset, \n",
    "                  model_name, \n",
    "                  encode_fn_type=encode_fn_type,\n",
    "                  return_text_embedding=True,)\n",
    "X = d['text_embedding']\n",
    "X = X / np.linalg.norm(X, axis=-1, keepdims=True)\n",
    "\n",
    "if first_N:\n",
    "    ds = ds.select(range(first_N))\n",
    "    X = X[:first_N]"
   ]
  },
  {
   "cell_type": "code",
   "execution_count": 58,
   "id": "84d79649",
   "metadata": {
    "scrolled": true
   },
   "outputs": [
    {
     "name": "stdout",
     "output_type": "stream",
     "text": [
      "Sampling a subset of 51200 / 143000 for training\n",
      "Clustering 51200 points in 768D to 200 clusters, redo 1 times, 30 iterations\n",
      "  Preprocessing in 0.23 s\n",
      "  Iteration 29 (22.76 s, search 20.10 s): objective=28569.9 imbalance=1.112 nsplit=0       \n",
      "cent_dist_l2_vs_cd_spearmanr: 0.9999999999917207\n"
     ]
    }
   ],
   "source": [
    "\n",
    "\n",
    "info = {}\n",
    "info['N'] = len(X)\n",
    "info['dataset'] = 'dataset'\n",
    "info['model_name'] = model_name\n",
    "info['encode_fn_type'] = encode_fn_type\n",
    "info['clustering_fn'] = clustering_fn\n",
    "\n",
    "t0 = time.time()\n",
    "Y, C = clustering_run(clustering_fn, X)\n",
    "info['time_elapsed'] = time.time()-t0\n",
    "info['scores'] = {}\n",
    "info['scores'].update({'inertia': sklearn_compute_inertia_dense(X, Y, C)})\n",
    "info['scores'].update(clustering_algorithm_scores(X, Y))\n",
    "info['cluster_sizes'] = np.unique(Y, return_counts=True)[1].tolist()\n",
    "\n",
    "with open(os.path.join(save_dir, 'info.json'), 'w') as f:\n",
    "    json.dump(info, f, ensure_ascii=False, indent=4)\n",
    "\n",
    "clustering_compute_and_save_results(X, Y, C, ds=ds, save_dir=save_dir)\n"
   ]
  },
  {
   "cell_type": "code",
   "execution_count": 62,
   "id": "e886a061",
   "metadata": {},
   "outputs": [
    {
     "data": {
      "text/plain": [
       "array([1.        , 1.        , 0.99999994, ..., 0.99999994, 1.        ,\n",
       "       0.99999994], dtype=float32)"
      ]
     },
     "execution_count": 62,
     "metadata": {},
     "output_type": "execute_result"
    }
   ],
   "source": []
  }
 ],
 "metadata": {
  "kernelspec": {
   "display_name": "Python [conda env:open-instruct]",
   "language": "python",
   "name": "conda-env-open-instruct-py"
  },
  "language_info": {
   "codemirror_mode": {
    "name": "ipython",
    "version": 3
   },
   "file_extension": ".py",
   "mimetype": "text/x-python",
   "name": "python",
   "nbconvert_exporter": "python",
   "pygments_lexer": "ipython3",
   "version": "3.10.13"
  }
 },
 "nbformat": 4,
 "nbformat_minor": 5
}
