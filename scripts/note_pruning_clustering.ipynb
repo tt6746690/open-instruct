{
 "cells": [
  {
   "cell_type": "code",
   "execution_count": 2,
   "id": "de4b80c9",
   "metadata": {
    "scrolled": true
   },
   "outputs": [
    {
     "name": "stdout",
     "output_type": "stream",
     "text": [
      "The autoreload extension is already loaded. To reload it, use:\n",
      "  %reload_ext autoreload\n"
     ]
    },
    {
     "data": {
      "text/html": [
       "<style>.container { width:100% !important; }</style>"
      ],
      "text/plain": [
       "<IPython.core.display.HTML object>"
      ]
     },
     "metadata": {},
     "output_type": "display_data"
    },
    {
     "name": "stdout",
     "output_type": "stream",
     "text": [
      "0\n",
      "Tue Nov  7 23:47:20 2023       \n",
      "+-----------------------------------------------------------------------------+\n",
      "| NVIDIA-SMI 470.57.02    Driver Version: 470.57.02    CUDA Version: 11.4     |\n",
      "|-------------------------------+----------------------+----------------------+\n",
      "| GPU  Name        Persistence-M| Bus-Id        Disp.A | Volatile Uncorr. ECC |\n",
      "| Fan  Temp  Perf  Pwr:Usage/Cap|         Memory-Usage | GPU-Util  Compute M. |\n",
      "|                               |                      |               MIG M. |\n",
      "|===============================+======================+======================|\n",
      "|   0  Tesla V100-SXM2...  On   | 00000000:15:00.0 Off |                    0 |\n",
      "| N/A   28C    P0    43W / 300W |      0MiB / 32510MiB |      0%      Default |\n",
      "|                               |                      |                  N/A |\n",
      "+-------------------------------+----------------------+----------------------+\n",
      "|   1  Tesla V100-SXM2...  On   | 00000000:16:00.0 Off |                    0 |\n",
      "| N/A   30C    P0    41W / 300W |      0MiB / 32510MiB |      0%      Default |\n",
      "|                               |                      |                  N/A |\n",
      "+-------------------------------+----------------------+----------------------+\n",
      "|   2  Tesla V100-SXM2...  On   | 00000000:3A:00.0 Off |                    0 |\n",
      "| N/A   52C    P0   274W / 300W |  19732MiB / 32510MiB |    100%      Default |\n",
      "|                               |                      |                  N/A |\n",
      "+-------------------------------+----------------------+----------------------+\n",
      "|   3  Tesla V100-SXM2...  On   | 00000000:3B:00.0 Off |                    0 |\n",
      "| N/A   37C    P0    42W / 300W |      0MiB / 32510MiB |      0%      Default |\n",
      "|                               |                      |                  N/A |\n",
      "+-------------------------------+----------------------+----------------------+\n",
      "|   4  Tesla V100-SXM2...  On   | 00000000:89:00.0 Off |                    0 |\n",
      "| N/A   28C    P0    41W / 300W |      0MiB / 32510MiB |      0%      Default |\n",
      "|                               |                      |                  N/A |\n",
      "+-------------------------------+----------------------+----------------------+\n",
      "|   5  Tesla V100-SXM2...  On   | 00000000:8A:00.0 Off |                    0 |\n",
      "| N/A   30C    P0    42W / 300W |      0MiB / 32510MiB |      0%      Default |\n",
      "|                               |                      |                  N/A |\n",
      "+-------------------------------+----------------------+----------------------+\n",
      "|   6  Tesla V100-SXM2...  On   | 00000000:B2:00.0 Off |                    0 |\n",
      "| N/A   54C    P0   264W / 300W |  19732MiB / 32510MiB |    100%      Default |\n",
      "|                               |                      |                  N/A |\n",
      "+-------------------------------+----------------------+----------------------+\n",
      "|   7  Tesla V100-SXM2...  On   | 00000000:B3:00.0 Off |                    0 |\n",
      "| N/A   39C    P0    41W / 300W |      0MiB / 32510MiB |      0%      Default |\n",
      "|                               |                      |                  N/A |\n",
      "+-------------------------------+----------------------+----------------------+\n",
      "                                                                               \n",
      "+-----------------------------------------------------------------------------+\n",
      "| Processes:                                                                  |\n",
      "|  GPU   GI   CI        PID   Type   Process name                  GPU Memory |\n",
      "|        ID   ID                                                   Usage      |\n",
      "|=============================================================================|\n",
      "|    2   N/A  N/A      8903      C   python3                         19729MiB |\n",
      "|    6   N/A  N/A      8902      C   python3                         19729MiB |\n",
      "+-----------------------------------------------------------------------------+\n"
     ]
    }
   ],
   "source": [
    "from rosemary import jpt_parse_args, jpt_setup, jpt_in_notebook; jpt_setup()\n",
    "\n",
    "if jpt_in_notebook():\n",
    "    import os\n",
    "    os.environ['CUDA_VISIBLE_DEVICES'] = os.environ['CUDA_VISIBLE_DEVICES'].split(',')[0] \n",
    "    # '0,1,2,3,4,5'\n",
    "    print(os.environ['CUDA_VISIBLE_DEVICES'])\n",
    "    \n",
    "!nvidia-smi"
   ]
  },
  {
   "cell_type": "code",
   "execution_count": 3,
   "id": "426e04ff",
   "metadata": {},
   "outputs": [],
   "source": [
    "import argparse\n",
    "import json\n",
    "import pickle\n",
    "import string\n",
    "import time\n",
    "\n",
    "import numpy as np\n",
    "from sentence_transformers import SentenceTransformer\n",
    "from sentence_transformers.util import cos_sim\n",
    "from sklearn.cluster import KMeans, AgglomerativeClustering\n",
    "import torch\n",
    "from tqdm import tqdm"
   ]
  },
  {
   "cell_type": "code",
   "execution_count": 7,
   "id": "d7a5b259",
   "metadata": {},
   "outputs": [
    {
     "data": {
      "text/plain": [
       "Namespace(input_file='data/processed/sharegpt/sharegpt_data.jsonl', model='all-mpnet-base-v2', batch_size=256, min_length=32, max_length=1536, english_only=False, num_clusters=20, cluster_alg='kmeans', show_top_k=200, show_cut_off=512)"
      ]
     },
     "execution_count": 7,
     "metadata": {},
     "output_type": "execute_result"
    }
   ],
   "source": [
    "parser = argparse.ArgumentParser()\n",
    "parser.add_argument(\"--input-file\", type=str, required=True)\n",
    "parser.add_argument(\"--model\", type=str, default=\"all-mpnet-base-v2\")\n",
    "# default=\"all-MiniLM-L12-v2\")\n",
    "# default=\"multi-qa-distilbert-cos-v1\")\n",
    "parser.add_argument(\"--batch-size\", type=int, default=256)\n",
    "parser.add_argument(\"--min-length\", type=int)\n",
    "parser.add_argument(\"--max-length\", type=int)\n",
    "parser.add_argument(\"--english-only\", action=\"store_true\")\n",
    "parser.add_argument(\"--num-clusters\", type=int, default=20)\n",
    "parser.add_argument(\n",
    "    \"--cluster-alg\",\n",
    "    type=str,\n",
    "    choices=[\"kmeans\", \"aggcls\", \"HDBSCAN\"],\n",
    "    default=\"kmeans\",\n",
    ")\n",
    "parser.add_argument(\"--show-top-k\", type=int, default=200)\n",
    "parser.add_argument(\"--show-cut-off\", type=int, default=512)\n",
    "\n",
    "\n",
    "input_path = 'data/processed/sharegpt/sharegpt_data.jsonl'\n",
    "\n",
    "cmd = f\"\"\"\n",
    "    --input-file {input_path}\n",
    "    --min-length 32\n",
    "    --max-length 1536\n",
    "\"\"\"\n",
    "\n",
    "args = jpt_parse_args(parser, cmd)\n",
    "\n",
    "\n",
    "num_clusters = args.num_clusters\n",
    "show_top_k = args.show_top_k\n",
    "show_cut_off = args.show_cut_off\n",
    "\n",
    "args"
   ]
  },
  {
   "cell_type": "code",
   "execution_count": 15,
   "id": "c0b91141",
   "metadata": {},
   "outputs": [],
   "source": [
    "from fastchat_topic_clustering import read_texts, remove_punctuation\n",
    "\n",
    "## wpq: modify read_text a bit\n",
    "# texts = read_texts(\n",
    "#     args.input_file, args.min_length, args.max_length, args.english_only\n",
    "# )\n",
    "input_file = args.input_file\n",
    "min_length = args.min_length\n",
    "max_length = args.max_length\n",
    "\n",
    "\n",
    "visited = set()\n",
    "texts = []\n",
    "\n",
    "lines = json.load(open(input_file, \"r\"))\n",
    "for l in lines:\n",
    "    l = json.loads(l)['messages']\n",
    "    line_texts = [x['content'] for x in l if x['role']=='user']\n",
    "    for text in line_texts:\n",
    "        text = text.strip()\n",
    "\n",
    "        # Filter short or long prompts\n",
    "        if min_length:\n",
    "            if len(text) < min_length:\n",
    "                continue\n",
    "        if max_length:\n",
    "            if len(text) > max_length:\n",
    "                continue\n",
    "\n",
    "        # De-duplication\n",
    "        words = sorted([x.lower() for x in remove_punctuation(text).split(\" \")])\n",
    "        words = \"\".join(words)\n",
    "        if words in visited:\n",
    "            continue\n",
    "\n",
    "        visited.add(words)\n",
    "        texts.append(text)\n",
    "        \n",
    "print(f\"#text: {len(texts)}\")"
   ]
  },
  {
   "cell_type": "code",
   "execution_count": 17,
   "id": "271dc069",
   "metadata": {
    "scrolled": true
   },
   "outputs": [
    {
     "name": "stderr",
     "output_type": "stream",
     "text": [
      "Downloading (…)99753/.gitattributes: 100%|██████████| 1.18k/1.18k [00:00<00:00, 5.74MB/s]\n",
      "Downloading (…)_Pooling/config.json: 100%|██████████| 190/190 [00:00<00:00, 1.65MB/s]\n",
      "Downloading (…)0cdb299753/README.md: 100%|██████████| 10.6k/10.6k [00:00<00:00, 84.0MB/s]\n",
      "Downloading (…)db299753/config.json: 100%|██████████| 571/571 [00:00<00:00, 5.29MB/s]\n",
      "Downloading (…)ce_transformers.json: 100%|██████████| 116/116 [00:00<00:00, 1.08MB/s]\n",
      "Downloading (…)753/data_config.json: 100%|██████████| 39.3k/39.3k [00:00<00:00, 127MB/s]\n",
      "Downloading pytorch_model.bin: 100%|██████████| 438M/438M [00:03<00:00, 117MB/s]  \n",
      "Downloading (…)nce_bert_config.json: 100%|██████████| 53.0/53.0 [00:00<00:00, 460kB/s]\n",
      "Downloading (…)cial_tokens_map.json: 100%|██████████| 239/239 [00:00<00:00, 2.53MB/s]\n",
      "Downloading (…)99753/tokenizer.json: 100%|██████████| 466k/466k [00:00<00:00, 28.1MB/s]\n",
      "Downloading (…)okenizer_config.json: 100%|██████████| 363/363 [00:00<00:00, 3.40MB/s]\n",
      "Downloading (…)9753/train_script.py: 100%|██████████| 13.1k/13.1k [00:00<00:00, 106MB/s]\n",
      "Downloading (…)0cdb299753/vocab.txt: 100%|██████████| 232k/232k [00:00<00:00, 18.8MB/s]\n",
      "Downloading (…)b299753/modules.json: 100%|██████████| 349/349 [00:00<00:00, 3.84MB/s]\n"
     ]
    },
    {
     "name": "stdout",
     "output_type": "stream",
     "text": [
      "[2023-11-08 00:02:46,673] [INFO] [real_accelerator.py:158:get_accelerator] Setting ds_accelerator to cuda (auto detect)\n"
     ]
    },
    {
     "name": "stderr",
     "output_type": "stream",
     "text": [
      "Batches:   4%|▍         | 53/1202 [01:36<34:53,  1.82s/it]\n",
      "\n",
      "KeyboardInterrupt\n",
      "\n"
     ]
    },
    {
     "name": "stdout",
     "output_type": "stream",
     "text": [
      "Error in callback <bound method AutoreloadMagics.post_execute_hook of <IPython.extensions.autoreload.AutoreloadMagics object at 0x7f19c4a4e590>> (for post_execute):\n"
     ]
    },
    {
     "ename": "KeyboardInterrupt",
     "evalue": "",
     "output_type": "error",
     "traceback": [
      "\u001b[0;31m---------------------------------------------------------------------------\u001b[0m",
      "\u001b[0;31mKeyboardInterrupt\u001b[0m                         Traceback (most recent call last)",
      "File \u001b[0;32m/gpfs/u/scratch/PTFM/PTFMqngp/minoconda3_x86/envs/open-instruct/lib/python3.10/site-packages/IPython/extensions/autoreload.py:715\u001b[0m, in \u001b[0;36mAutoreloadMagics.post_execute_hook\u001b[0;34m(self)\u001b[0m\n\u001b[1;32m    713\u001b[0m newly_loaded_modules \u001b[38;5;241m=\u001b[39m \u001b[38;5;28mset\u001b[39m(sys\u001b[38;5;241m.\u001b[39mmodules) \u001b[38;5;241m-\u001b[39m \u001b[38;5;28mself\u001b[39m\u001b[38;5;241m.\u001b[39mloaded_modules\n\u001b[1;32m    714\u001b[0m \u001b[38;5;28;01mfor\u001b[39;00m modname \u001b[38;5;129;01min\u001b[39;00m newly_loaded_modules:\n\u001b[0;32m--> 715\u001b[0m     _, pymtime \u001b[38;5;241m=\u001b[39m \u001b[38;5;28;43mself\u001b[39;49m\u001b[38;5;241;43m.\u001b[39;49m\u001b[43m_reloader\u001b[49m\u001b[38;5;241;43m.\u001b[39;49m\u001b[43mfilename_and_mtime\u001b[49m\u001b[43m(\u001b[49m\u001b[43msys\u001b[49m\u001b[38;5;241;43m.\u001b[39;49m\u001b[43mmodules\u001b[49m\u001b[43m[\u001b[49m\u001b[43mmodname\u001b[49m\u001b[43m]\u001b[49m\u001b[43m)\u001b[49m\n\u001b[1;32m    716\u001b[0m     \u001b[38;5;28;01mif\u001b[39;00m pymtime \u001b[38;5;129;01mis\u001b[39;00m \u001b[38;5;129;01mnot\u001b[39;00m \u001b[38;5;28;01mNone\u001b[39;00m:\n\u001b[1;32m    717\u001b[0m         \u001b[38;5;28mself\u001b[39m\u001b[38;5;241m.\u001b[39m_reloader\u001b[38;5;241m.\u001b[39mmodules_mtimes[modname] \u001b[38;5;241m=\u001b[39m pymtime\n",
      "\u001b[0;31mKeyboardInterrupt\u001b[0m: "
     ]
    }
   ],
   "source": [
    "from fastchat_topic_clustering import get_embeddings\n",
    "\n",
    "\n",
    "embeddings = get_embeddings(texts, args.model, args.batch_size)"
   ]
  },
  {
   "cell_type": "code",
   "execution_count": 21,
   "id": "c931b4bc",
   "metadata": {},
   "outputs": [
    {
     "name": "stderr",
     "output_type": "stream",
     "text": [
      "Downloading (…)okenizer_config.json: 100%|██████████| 363/363 [00:00<00:00, 2.34MB/s]\n",
      "Downloading (…)solve/main/vocab.txt: 100%|██████████| 232k/232k [00:00<00:00, 93.2MB/s]\n",
      "Downloading (…)/main/tokenizer.json: 100%|██████████| 466k/466k [00:00<00:00, 115MB/s]\n",
      "Downloading (…)cial_tokens_map.json: 100%|██████████| 239/239 [00:00<00:00, 1.59MB/s]\n"
     ]
    },
    {
     "data": {
      "text/plain": [
       "MPNetTokenizerFast(name_or_path='sentence-transformers/all-mpnet-base-v2', vocab_size=30527, model_max_length=512, is_fast=True, padding_side='right', truncation_side='right', special_tokens={'bos_token': '<s>', 'eos_token': '</s>', 'unk_token': '[UNK]', 'sep_token': '</s>', 'pad_token': '<pad>', 'cls_token': '<s>', 'mask_token': '<mask>'}, clean_up_tokenization_spaces=True),  added_tokens_decoder={\n",
       "\t0: AddedToken(\"<s>\", rstrip=False, lstrip=False, single_word=False, normalized=False, special=True),\n",
       "\t1: AddedToken(\"<pad>\", rstrip=False, lstrip=False, single_word=False, normalized=False, special=True),\n",
       "\t2: AddedToken(\"</s>\", rstrip=False, lstrip=False, single_word=False, normalized=False, special=True),\n",
       "\t3: AddedToken(\"<unk>\", rstrip=False, lstrip=False, single_word=False, normalized=True, special=True),\n",
       "\t104: AddedToken(\"[UNK]\", rstrip=False, lstrip=False, single_word=False, normalized=False, special=True),\n",
       "\t30526: AddedToken(\"<mask>\", rstrip=False, lstrip=True, single_word=False, normalized=False, special=True),\n",
       "}"
      ]
     },
     "execution_count": 21,
     "metadata": {},
     "output_type": "execute_result"
    }
   ],
   "source": [
    "# max([len(x) for x in texts])\n",
    "\n",
    "\n",
    "from transformers import AutoTokenizer\n",
    "\n",
    "tokenizer = AutoTokenizer.from_pretrained('sentence-transformers/'+args.model)\n",
    "tokenizer\n"
   ]
  },
  {
   "cell_type": "code",
   "execution_count": 27,
   "id": "6fea7469",
   "metadata": {},
   "outputs": [],
   "source": [
    "input_ids = tokenizer(texts[:10000]).input_ids\n",
    "lens = [len(x) for x in input_ids]\n",
    "lens"
   ]
  },
  {
   "cell_type": "code",
   "execution_count": 31,
   "id": "c1cb0f91",
   "metadata": {},
   "outputs": [
    {
     "data": {
      "text/plain": [
       "<matplotlib.legend.Legend at 0x7f1717fc5a20>"
      ]
     },
     "execution_count": 31,
     "metadata": {},
     "output_type": "execute_result"
    },
    {
     "data": {
      "image/png": "[encoded data removed]",
      "text/plain": [
       "<Figure size 500x500 with 1 Axes>"
      ]
     },
     "metadata": {},
     "output_type": "display_data"
    }
   ],
   "source": [
    "import matplotlib.pyplot as plt\n",
    "\n",
    "fig, ax = plt.subplots(1,1,figsize=(5,5))\n",
    "ax.hist(lens)\n",
    "\n",
    "q = .95\n",
    "v = np.quantile(lens, q)\n",
    "ax.axvline(x=v, color='r', linestyle='--', label=f'{q} quantile')\n",
    "ax.legend()"
   ]
  },
  {
   "cell_type": "code",
   "execution_count": 16,
   "id": "acb9ef76",
   "metadata": {},
   "outputs": [
    {
     "data": {
      "text/plain": [
       "307563"
      ]
     },
     "execution_count": 16,
     "metadata": {},
     "output_type": "execute_result"
    }
   ],
   "source": [
    "from fastchat_topic_clustering import get_embeddings\n",
    "\n",
    "\n",
    "embeddings = get_embeddings(texts, args.model, args.batch_size)\n",
    "if args.cluster_alg == \"kmeans\":\n",
    "    centers, labels = run_k_means(embeddings, num_clusters)\n",
    "elif args.cluster_alg == \"aggcls\":\n",
    "    centers, labels = run_agg_cluster(embeddings, num_clusters)\n",
    "elif args.cluster_alg == \"HDBSCAN\":\n",
    "    centers, labels = run_hdbscan_cluster(embeddings)\n",
    "else:\n",
    "    raise ValueError(f\"Invalid clustering algorithm: {args.cluster_alg}\")\n"
   ]
  }
 ],
 "metadata": {
  "kernelspec": {
   "display_name": "Python [conda env:open-instruct]",
   "language": "python",
   "name": "conda-env-open-instruct-py"
  },
  "language_info": {
   "codemirror_mode": {
    "name": "ipython",
    "version": 3
   },
   "file_extension": ".py",
   "mimetype": "text/x-python",
   "name": "python",
   "nbconvert_exporter": "python",
   "pygments_lexer": "ipython3",
   "version": "3.10.13"
  }
 },
 "nbformat": 4,
 "nbformat_minor": 5
}
