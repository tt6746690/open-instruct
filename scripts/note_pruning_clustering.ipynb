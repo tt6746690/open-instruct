{
 "cells": [
  {
   "cell_type": "markdown",
   "id": "d7cb5c94",
   "metadata": {},
   "source": [
    "## submit jobs to cluster"
   ]
  },
  {
   "cell_type": "code",
   "execution_count": 230,
   "id": "4929d242",
   "metadata": {
    "scrolled": true
   },
   "outputs": [
    {
     "name": "stdout",
     "output_type": "stream",
     "text": [
      "The autoreload extension is already loaded. To reload it, use:\n",
      "  %reload_ext autoreload\n"
     ]
    },
    {
     "data": {
      "text/html": [
       "<style>.container { width:100% !important; }</style>"
      ],
      "text/plain": [
       "<IPython.core.display.HTML object>"
      ]
     },
     "metadata": {},
     "output_type": "display_data"
    },
    {
     "name": "stdout",
     "output_type": "stream",
     "text": [
      "\n",
      "Submiting job with:\n",
      "{\n",
      "    \"job_name\": \"cluster.wizardlm.cl=kmeans_nc=100\",\n",
      "    \"nodes\": 1,\n",
      "    \"num_cpus\": 64,\n",
      "    \"cpu_mem\": 128,\n",
      "    \"num_gpus\": 1,\n",
      "    \"gpu_type\": \"v100\",\n",
      "    \"test_run\": false,\n",
      "    \"queue\": \"el8\",\n",
      "    \"num_jobs\": 1\n",
      "}\n",
      "python note_pruning_clustering.py --model_name all-mpnet-base-v2 --dataset wizardlm --encode_fn_type input --clustering_fn cl=kmeans_nc=100 --normalize_embeddings --save_dir /gpfs/u/home/PTFM/PTFMqngp/scratch/github/mitibm2023/external/open-instruct/scripts/clustering/input/all-mpnet-base-v2/wizardlm/cl=kmeans_nc=100\n",
      "\n",
      "Submiting job with:\n",
      "{\n",
      "    \"job_name\": \"cluster.wizardlm.cl=kmeans_nc=300\",\n",
      "    \"nodes\": 1,\n",
      "    \"num_cpus\": 64,\n",
      "    \"cpu_mem\": 128,\n",
      "    \"num_gpus\": 1,\n",
      "    \"gpu_type\": \"v100\",\n",
      "    \"test_run\": false,\n",
      "    \"queue\": \"el8\",\n",
      "    \"num_jobs\": 1\n",
      "}\n",
      "python note_pruning_clustering.py --model_name all-mpnet-base-v2 --dataset wizardlm --encode_fn_type input --clustering_fn cl=kmeans_nc=300 --normalize_embeddings --save_dir /gpfs/u/home/PTFM/PTFMqngp/scratch/github/mitibm2023/external/open-instruct/scripts/clustering/input/all-mpnet-base-v2/wizardlm/cl=kmeans_nc=300\n",
      "\n",
      "Submiting job with:\n",
      "{\n",
      "    \"job_name\": \"cluster.wizardlm.cl=kmeans_nc=1000\",\n",
      "    \"nodes\": 1,\n",
      "    \"num_cpus\": 64,\n",
      "    \"cpu_mem\": 128,\n",
      "    \"num_gpus\": 1,\n",
      "    \"gpu_type\": \"v100\",\n",
      "    \"test_run\": false,\n",
      "    \"queue\": \"el8\",\n",
      "    \"num_jobs\": 1\n",
      "}\n",
      "python note_pruning_clustering.py --model_name all-mpnet-base-v2 --dataset wizardlm --encode_fn_type input --clustering_fn cl=kmeans_nc=1000 --normalize_embeddings --save_dir /gpfs/u/home/PTFM/PTFMqngp/scratch/github/mitibm2023/external/open-instruct/scripts/clustering/input/all-mpnet-base-v2/wizardlm/cl=kmeans_nc=1000\n",
      "#cmds: 3\n"
     ]
    }
   ],
   "source": [
    "import os\n",
    "from rosemary import jpt_in_notebook, jpt_setup; jpt_setup()\n",
    "from llm.submit import submit_job, multiline_to_singleline, shell_scripts_template_slurm\n",
    "\n",
    "first_N = None\n",
    "log_dir = '/gpfs/u/home/PTFM/PTFMqngp/scratch/github/mitibm2023/external/open-instruct/scripts/'\n",
    "\n",
    "test_run = 1\n",
    "test_run = bool(test_run)\n",
    "\n",
    "####\n",
    "model_name = 'all-mpnet-base-v2'; encode_fn_type = 'input'; normalize_embeddings = True\n",
    "\n",
    "datasets = 'wizardlm'\n",
    "## \n",
    "clustering_fn_list = []\n",
    "clustering_fn_list += [\n",
    "    f'cl=kmeans_nc={n_clusters}' for n_clusters in [100, 300, 1000]\n",
    "]\n",
    "\n",
    "# first_N = 10_000\n",
    "# clustering_fn = f'cl=kmeansminibatch_nc={n_clusters}'\n",
    "# clustering_fn = f'cl=kmeansminibatch_nc={n_clusters}_bsz=256'\n",
    "\n",
    "\n",
    "###\n",
    "\n",
    "cmds = []\n",
    "for clustering_fn in clustering_fn_list:\n",
    "    save_dir = (f\"/gpfs/u/home/PTFM/PTFMqngp/scratch/github/mitibm2023/external/open-instruct/scripts/\"\n",
    "                f\"clustering/{encode_fn_type+'/' if encode_fn_type!='sft' else ''}{model_name}/\"\n",
    "                f\"{dataset+'(N='+str(first_N)+')' if first_N else dataset}/{clustering_fn}\")\n",
    "\n",
    "    cmd = f\"\"\"\n",
    "    python note_pruning_clustering.py \\\n",
    "        --model_name {model_name} \\\n",
    "        --dataset {dataset} \\\n",
    "        --encode_fn_type {encode_fn_type} \\\n",
    "        --clustering_fn {clustering_fn} \\\n",
    "        {'--normalize_embeddings' if normalize_embeddings else ''} \\\n",
    "        {'--first_N '+str(first_N) if first_N else ''} \\\n",
    "        --save_dir {save_dir} \\\n",
    "    \"\"\".strip()\n",
    "    cmd = multiline_to_singleline(cmd)\n",
    "\n",
    "    shell_scripts = shell_scripts_template_slurm.format(\n",
    "        conda_env='open-instruct',\n",
    "        cwd=os.getcwd(),\n",
    "        cmd=cmd,\n",
    "        log_dir=log_dir,\n",
    "        save_dir=save_dir)\n",
    "    out = submit_job(\n",
    "        shell_scripts, \n",
    "        job_name=f'cluster.{dataset}.{clustering_fn}', \n",
    "        nodes=1,\n",
    "        num_cpus=64,\n",
    "        cpu_mem=128,\n",
    "        num_gpus=1,\n",
    "        gpu_type='v100',\n",
    "        test_run=test_run,\n",
    "        job_duration=6,\n",
    "    )\n",
    "    print(cmd)\n",
    "    cmds.append(cmd)\n",
    "    \n",
    "print(f'#cmds: {len(cmds)}')\n"
   ]
  },
  {
   "cell_type": "markdown",
   "id": "1f1db217",
   "metadata": {},
   "source": [
    "## analyze clustering results"
   ]
  },
  {
   "cell_type": "code",
   "execution_count": null,
   "id": "b6f26402",
   "metadata": {},
   "outputs": [],
   "source": [
    "\n",
    "\n",
    "\n",
    "    save_dir = (f\"/gpfs/u/home/PTFM/PTFMqngp/scratch/github/mitibm2023/external/open-instruct/scripts/\"\n",
    "                f\"clustering/{encode_fn_type+'/' if encode_fn_type!='sft' else ''}{model_name}/\"\n",
    "                f\"{dataset+'(N='+str(first_N)+')' if first_N else dataset}/{clustering_fn}\")\n"
   ]
  },
  {
   "cell_type": "code",
   "execution_count": null,
   "id": "21486cd9",
   "metadata": {},
   "outputs": [],
   "source": []
  },
  {
   "cell_type": "markdown",
   "id": "0b17d0f7",
   "metadata": {},
   "source": [
    "## clustering code base\n"
   ]
  },
  {
   "cell_type": "code",
   "execution_count": 1,
   "id": "de4b80c9",
   "metadata": {
    "scrolled": true
   },
   "outputs": [
    {
     "name": "stderr",
     "output_type": "stream",
     "text": [
      "/gpfs/u/scratch/PTFM/PTFMqngp/github/rosemary/src/rosemary/__init__.py:25: UserWarning: Install `torch` for functionalities dependent on torch\n",
      "  warn(f'Install `torch` for functionalities dependent on torch')\n"
     ]
    },
    {
     "data": {
      "text/html": [
       "<style>.container { width:100% !important; }</style>"
      ],
      "text/plain": [
       "<IPython.core.display.HTML object>"
      ]
     },
     "metadata": {},
     "output_type": "display_data"
    },
    {
     "name": "stdout",
     "output_type": "stream",
     "text": [
      "4\n"
     ]
    }
   ],
   "source": [
    "from rosemary import jpt_parse_args, jpt_setup, jpt_in_notebook; jpt_setup()\n",
    "\n",
    "if jpt_in_notebook():\n",
    "    import os\n",
    "    os.environ['CUDA_VISIBLE_DEVICES'] = os.environ['CUDA_VISIBLE_DEVICES'].split(',')[0] \n",
    "    # '0,1,2,3,4,5'\n",
    "    print(os.environ['CUDA_VISIBLE_DEVICES'])\n",
    "# !nvidia-smi"
   ]
  },
  {
   "cell_type": "code",
   "execution_count": 211,
   "id": "94f65fe6",
   "metadata": {},
   "outputs": [],
   "source": [
    "import re\n",
    "import argparse\n",
    "import json\n",
    "import pickle\n",
    "import string\n",
    "import time\n",
    "import matplotlib.pyplot as plt\n",
    "\n",
    "import numpy as np\n",
    "import scipy\n",
    "from sentence_transformers import SentenceTransformer\n",
    "from sentence_transformers.util import cos_sim\n",
    "from sklearn.cluster import KMeans, AgglomerativeClustering\n",
    "import torch\n",
    "from tqdm import tqdm\n",
    "import pandas as pd\n",
    "\n",
    "from datasets import load_dataset\n",
    "from transformers import AutoTokenizer, AutoModel\n",
    "\n",
    "from torch.utils.data import DataLoader\n",
    "import torch\n",
    "import torch.nn.functional as F\n",
    "\n",
    "import time\n",
    "from note_pruning_analysis import (\n",
    "    get_lm_output,\n",
    "    get_dataset,\n",
    ")\n",
    "from note_pruning_clustering import (\n",
    "    pairwise_cosine_distance,\n",
    "    clustering_sort_by_cluster_size,\n",
    "    clustering_algorithm_scores,\n",
    "    clustering_dist_to_centroids,\n",
    "    clustering_knn_withincluster,\n",
    "    clustering_run,\n",
    "    clustering_compute_and_save_results,\n",
    ")\n"
   ]
  },
  {
   "cell_type": "code",
   "execution_count": 20,
   "id": "d7a5b259",
   "metadata": {},
   "outputs": [],
   "source": [
    "model_name = 'all-mpnet-base-v2'\n",
    "\n",
    "dataset = 'wizardlm'\n",
    "encode_fn_type = 'input'\n",
    "first_N = 10_000\n",
    "\n",
    "n_clusters = 50\n",
    "clustering_fn = f'cl=kmeans_nc={n_clusters}'\n",
    "# clustering_fn = f'cl=kmeansminibatch_nc={n_clusters}'\n",
    "# clustering_fn = f'cl=kmeansminibatch_nc={n_clusters}_bsz=256'"
   ]
  },
  {
   "cell_type": "code",
   "execution_count": 21,
   "id": "abb20541",
   "metadata": {},
   "outputs": [
    {
     "data": {
      "text/plain": [
       "'clustering/input/all-mpnet-base-v2/wizardlm/cl=kmeans_nc=50'"
      ]
     },
     "execution_count": 21,
     "metadata": {},
     "output_type": "execute_result"
    }
   ],
   "source": [
    "save_dir = os.path.join('clustering', encode_fn_type, model_name, dataset, clustering_fn)\n",
    "os.makedirs(save_dir, exist_ok=True)\n",
    "save_dir"
   ]
  },
  {
   "cell_type": "code",
   "execution_count": 5,
   "id": "e8b9ac7f",
   "metadata": {
    "scrolled": true
   },
   "outputs": [
    {
     "name": "stderr",
     "output_type": "stream",
     "text": [
      "Found cached dataset json (/gpfs/u/home/PTFM/PTFMqngp/scratch/github/mitibm2023/external/open-instruct/data/processed/wizardlm/json/default-a3f71ae376e517fb/0.0.0/8bb11242116d547c741b2e8a1f18598ffdd40a1d4f2a2872c7a28b697434bc96)\n",
      "Loading cached processed dataset at /gpfs/u/home/PTFM/PTFMqngp/scratch/github/mitibm2023/external/open-instruct/data/processed/wizardlm/json/default-a3f71ae376e517fb/0.0.0/8bb11242116d547c741b2e8a1f18598ffdd40a1d4f2a2872c7a28b697434bc96/cache-b089bdb80a735e3f_*_of_00016.arrow\n"
     ]
    },
    {
     "data": {
      "text/plain": [
       "Dataset({\n",
       "    features: ['dataset', 'id', 'messages', 'text'],\n",
       "    num_rows: 143000\n",
       "})"
      ]
     },
     "execution_count": 5,
     "metadata": {},
     "output_type": "execute_result"
    }
   ],
   "source": [
    "\n",
    "ds = get_dataset(dataset, processed=True)\n",
    "if encode_fn_type == 'input':\n",
    "    def get_user_prompt_fn(example):\n",
    "        example['text'] = example['messages'][0]['content']\n",
    "        return example\n",
    "    ds = ds.map(get_user_prompt_fn, num_proc=16)\n",
    "\n",
    "ds"
   ]
  },
  {
   "cell_type": "code",
   "execution_count": 151,
   "id": "0831bfce",
   "metadata": {
    "scrolled": true
   },
   "outputs": [],
   "source": [
    "d = get_lm_output(dataset, \n",
    "                  model_name, \n",
    "                  encode_fn_type=encode_fn_type,\n",
    "                  return_text_embedding=True,)\n",
    "X = d['text_embedding']\n",
    "X = X / np.linalg.norm(X, axis=-1, keepdims=True)\n",
    "\n",
    "if first_N:\n",
    "    ds = ds.select(range(first_N))\n",
    "    X = X[:first_N]"
   ]
  },
  {
   "cell_type": "code",
   "execution_count": 207,
   "id": "84d79649",
   "metadata": {
    "scrolled": true
   },
   "outputs": [
    {
     "name": "stdout",
     "output_type": "stream",
     "text": [
      "Initialization complete\n",
      "Iteration 0, inertia 12931.5439453125.\n",
      "Iteration 1, inertia 7934.09423828125.\n",
      "Iteration 2, inertia 7803.97412109375.\n",
      "Iteration 3, inertia 7746.900390625.\n",
      "Iteration 4, inertia 7716.85693359375.\n",
      "Iteration 5, inertia 7699.97998046875.\n",
      "Iteration 6, inertia 7687.66845703125.\n",
      "Iteration 7, inertia 7676.87548828125.\n",
      "Iteration 8, inertia 7665.97412109375.\n",
      "Iteration 9, inertia 7656.21435546875.\n",
      "Iteration 10, inertia 7647.6005859375.\n",
      "Iteration 11, inertia 7639.76513671875.\n",
      "Iteration 12, inertia 7632.611328125.\n",
      "Iteration 13, inertia 7625.7197265625.\n",
      "Iteration 14, inertia 7619.814453125.\n",
      "Iteration 15, inertia 7615.34326171875.\n",
      "Iteration 16, inertia 7611.671875.\n",
      "Iteration 17, inertia 7608.85400390625.\n",
      "Iteration 18, inertia 7606.2548828125.\n",
      "Iteration 19, inertia 7604.70654296875.\n",
      "Iteration 20, inertia 7603.83349609375.\n",
      "Iteration 21, inertia 7603.06787109375.\n",
      "Iteration 22, inertia 7602.5693359375.\n",
      "Iteration 23, inertia 7602.13232421875.\n",
      "Iteration 24, inertia 7601.8115234375.\n",
      "Iteration 25, inertia 7601.55419921875.\n",
      "Iteration 26, inertia 7601.3740234375.\n",
      "Iteration 27, inertia 7601.29345703125.\n",
      "Iteration 28, inertia 7601.1982421875.\n",
      "Iteration 29, inertia 7601.10595703125.\n",
      "Iteration 30, inertia 7601.0498046875.\n",
      "Iteration 31, inertia 7600.9833984375.\n",
      "Iteration 32, inertia 7600.89990234375.\n",
      "Iteration 33, inertia 7600.798828125.\n",
      "Iteration 34, inertia 7600.68212890625.\n",
      "Iteration 35, inertia 7600.53466796875.\n",
      "Iteration 36, inertia 7600.28466796875.\n",
      "Iteration 37, inertia 7600.041015625.\n",
      "Iteration 38, inertia 7599.80908203125.\n",
      "Iteration 39, inertia 7599.25927734375.\n",
      "Iteration 40, inertia 7598.60302734375.\n",
      "Iteration 41, inertia 7597.94775390625.\n",
      "Iteration 42, inertia 7597.42431640625.\n",
      "Iteration 43, inertia 7597.02783203125.\n",
      "Iteration 44, inertia 7596.73779296875.\n",
      "Iteration 45, inertia 7596.529296875.\n",
      "Iteration 46, inertia 7596.390625.\n",
      "Iteration 47, inertia 7596.34130859375.\n",
      "Iteration 48, inertia 7596.3203125.\n",
      "Iteration 49, inertia 7596.30029296875.\n",
      "Iteration 50, inertia 7596.28173828125.\n",
      "Iteration 51, inertia 7596.2431640625.\n",
      "Iteration 52, inertia 7596.20703125.\n",
      "Iteration 53, inertia 7596.1875.\n",
      "Iteration 54, inertia 7596.18017578125.\n",
      "Iteration 55, inertia 7596.17236328125.\n",
      "Iteration 56, inertia 7596.16552734375.\n",
      "Converged at iteration 56: strict convergence.\n"
     ]
    },
    {
     "name": "stderr",
     "output_type": "stream",
     "text": [
      "/gpfs/u/scratch/PTFM/PTFMqngp/miniconda3/envs/open-instruct/lib/python3.10/site-packages/sklearn/utils/extmath.py:193: RuntimeWarning: invalid value encountered in matmul\n",
      "  ret = a @ b\n"
     ]
    }
   ],
   "source": [
    "\n",
    "info = {}\n",
    "info['N'] = len(X)\n",
    "info['dataset'] = 'dataset'\n",
    "info['model_name'] = model_name\n",
    "info['encode_fn_type'] = encode_fn_type\n",
    "\n",
    "t0 = time.time()\n",
    "Y, C, clustering_model = clustering_run(clustering_fn, X)\n",
    "info['time_elapsed'] = time.time()-t0\n",
    "info['scores'] = {}\n",
    "info['scores'].update({'inertia': clustering_model.inertia_})\n",
    "info['scores'].update(clustering_algorithm_scores(X, Y))\n",
    "info['cluster_sizes'] = np.unique(Y, return_counts=True)[1].tolist()\n",
    "\n",
    "with open(os.path.join(save_dir, 'info.json'), 'w') as f:\n",
    "    json.dump(info, f, ensure_ascii=False, indent=4)\n",
    "\n",
    "clustering_compute_and_save_results(X, Y, C, ds=ds, save_dir=save_dir)\n"
   ]
  }
 ],
 "metadata": {
  "kernelspec": {
   "display_name": "Python [conda env:open-instruct]",
   "language": "python",
   "name": "conda-env-open-instruct-py"
  },
  "language_info": {
   "codemirror_mode": {
    "name": "ipython",
    "version": 3
   },
   "file_extension": ".py",
   "mimetype": "text/x-python",
   "name": "python",
   "nbconvert_exporter": "python",
   "pygments_lexer": "ipython3",
   "version": "3.10.12"
  }
 },
 "nbformat": 4,
 "nbformat_minor": 5
}
