{
 "cells": [
  {
   "cell_type": "code",
   "execution_count": 1,
   "id": "89e5bd9c",
   "metadata": {},
   "outputs": [
    {
     "name": "stderr",
     "output_type": "stream",
     "text": [
      "/gpfs/u/scratch/PTFM/PTFMqngp/minoconda3_x86/envs/open-instruct/lib/python3.10/site-packages/tqdm/auto.py:21: TqdmWarning: IProgress not found. Please update jupyter and ipywidgets. See https://ipywidgets.readthedocs.io/en/stable/user_install.html\n",
      "  from .autonotebook import tqdm as notebook_tqdm\n"
     ]
    },
    {
     "data": {
      "text/html": [
       "<style>.container { width:100% !important; }</style>"
      ],
      "text/plain": [
       "<IPython.core.display.HTML object>"
      ]
     },
     "metadata": {},
     "output_type": "display_data"
    }
   ],
   "source": [
    "from rosemary import jpt_setup; jpt_setup()\n",
    "\n",
    "import argparse\n",
    "from concurrent.futures import ProcessPoolExecutor\n",
    "import json\n",
    "import transformers\n",
    "from tqdm import tqdm\n",
    "\n",
    "from rosemary import jpt_parse_args"
   ]
  },
  {
   "cell_type": "code",
   "execution_count": 2,
   "id": "2fff18ec",
   "metadata": {},
   "outputs": [
    {
     "data": {
      "text/plain": [
       "Namespace(in_files=['HuggingFaceH4/ultrachat_200k'], out_file='../data/raw_train/ultrachat/ultrachat_200k_splitlongconv.json', begin=None, end=None, model_name_or_path='../results/baselines/huggyllama/llama-7b', max_length=2048)"
      ]
     },
     "execution_count": 2,
     "metadata": {},
     "output_type": "execute_result"
    }
   ],
   "source": [
    "\n",
    "parser = argparse.ArgumentParser()\n",
    "parser.add_argument(\"--in-files\", nargs=\"+\", type=str)\n",
    "parser.add_argument(\"--out-file\", type=str, default=\"sharegpt_split.json\")\n",
    "parser.add_argument(\"--begin\", type=int)\n",
    "parser.add_argument(\"--end\", type=int)\n",
    "parser.add_argument(\"--model-name-or-path\", type=str, required=True)\n",
    "parser.add_argument(\"--max-length\", type=int, default=2048)\n",
    "# args = parser.parse_args()\n",
    "\n",
    "cmd = \"\"\"\n",
    "--in-files ../data/raw_train/sharegpt/sg_90k_part1_html_cleaned.json ../data/raw_train/sharegpt/sg_90k_part2_html_cleaned.json\n",
    "--out-file ../data/raw_train/sharegpt/sharegpt_html_cleaned_and_split.json\n",
    "--model-name-or-path ../results/baselines/huggyllama/llama-7b\n",
    "\"\"\"\n",
    "\n",
    "\n",
    "cmd = \"\"\"\n",
    "--in-files HuggingFaceH4/ultrachat_200k\n",
    "--out-file ../data/raw_train/ultrachat/ultrachat_200k_splitlongconv.json\n",
    "--model-name-or-path ../results/baselines/huggyllama/llama-7b\n",
    "\"\"\"\n",
    "\n",
    "\"\"\"\n",
    "python scripts/split_sharegpt_conversations.py \\\n",
    "    --in-files HuggingFaceH4/ultrachat_200k \\\n",
    "    --out-file data/raw_train/ultrachat/ultrachat_200k_splitlongconv.json \\\n",
    "    --model-name-or-path results/baselines/huggyllama/llama-7b \\\n",
    "    --max-length 2048\n",
    "\"\"\"\n",
    "\n",
    "\n",
    "# --model-name-or-path huggyllama/llama-7b\n",
    "# \n",
    "\n",
    "args = jpt_parse_args(parser, cmd=cmd)\n",
    "args"
   ]
  },
  {
   "cell_type": "code",
   "execution_count": 7,
   "id": "15942a6c",
   "metadata": {},
   "outputs": [],
   "source": [
    "\n",
    "p = 'data/processed/ultrachat/ultrachat_data.jsonl'\n",
    "p = 'data/processed/lima/lima_data.jsonl'\n",
    "\n",
    "oo = []\n",
    "with open(p, 'rb') as f:\n",
    "    for l in f:\n",
    "        oo.append(json.loads(l))\n",
    "    \n",
    "    \n",
    "\n",
    "    "
   ]
  },
  {
   "cell_type": "code",
   "execution_count": 48,
   "id": "934ebfa6",
   "metadata": {},
   "outputs": [
    {
     "name": "stdout",
     "output_type": "stream",
     "text": [
      "Downloading and preparing dataset json/default to /gpfs/u/scratch/PTFM/PTFMqngp/huggingface_cache/datasets/json/default-4fd22f12db15a445/0.0.0/8bb11242116d547c741b2e8a1f18598ffdd40a1d4f2a2872c7a28b697434bc96...\n"
     ]
    },
    {
     "data": {
      "application/vnd.jupyter.widget-view+json": {
       "model_id": "b40d686b181b4dd1bd24041555ad21af",
       "version_major": 2,
       "version_minor": 0
      },
      "text/plain": [
       "Downloading data files:   0%|          | 0/1 [00:00<?, ?it/s]"
      ]
     },
     "metadata": {},
     "output_type": "display_data"
    },
    {
     "data": {
      "application/vnd.jupyter.widget-view+json": {
       "model_id": "0dd6e43e067f4d949bef728928bee328",
       "version_major": 2,
       "version_minor": 0
      },
      "text/plain": [
       "Extracting data files:   0%|          | 0/1 [00:00<?, ?it/s]"
      ]
     },
     "metadata": {},
     "output_type": "display_data"
    },
    {
     "data": {
      "application/vnd.jupyter.widget-view+json": {
       "model_id": "",
       "version_major": 2,
       "version_minor": 0
      },
      "text/plain": [
       "Generating train split: 0 examples [00:00, ? examples/s]"
      ]
     },
     "metadata": {},
     "output_type": "display_data"
    },
    {
     "name": "stdout",
     "output_type": "stream",
     "text": [
      "Dataset json downloaded and prepared to /gpfs/u/scratch/PTFM/PTFMqngp/huggingface_cache/datasets/json/default-4fd22f12db15a445/0.0.0/8bb11242116d547c741b2e8a1f18598ffdd40a1d4f2a2872c7a28b697434bc96. Subsequent calls will reuse this data.\n"
     ]
    }
   ],
   "source": [
    "from datasets import load_dataset\n",
    "p = 'data/processed/ultrachat/ultrachat_data.jsonl'\n",
    "# p = 'data/processed/lima/lima_data.jsonl'\n",
    "\n",
    "ds = load_dataset('json', data_files={'train': p}, split='train')"
   ]
  },
  {
   "cell_type": "code",
   "execution_count": 49,
   "id": "9c634c99",
   "metadata": {
    "scrolled": true
   },
   "outputs": [
    {
     "data": {
      "text/plain": [
       "{'dataset': 'ultrachat',\n",
       " 'id': 'ultrachat_0',\n",
       " 'messages': [{'content': \"These instructions apply to section-based themes (Responsive 6.0+, Retina 4.0+, Parallax 3.0+ Turbo 2.0+, Mobilia 5.0+). What theme version am I using?\\nOn your Collections pages & Featured Collections sections, you can easily show the secondary image of a product on hover by enabling one of the theme's built-in settings!\\nYour Collection pages & Featured Collections sections will now display the secondary product image just by hovering over that product image thumbnail.\\nDoes this feature apply to all sections of the theme or just specific ones as listed in the text material?\",\n",
       "   'role': 'user'},\n",
       "  {'content': 'This feature only applies to Collection pages and Featured Collections sections of the section-based themes listed in the text material.',\n",
       "   'role': 'assistant'},\n",
       "  {'content': 'Can you guide me through the process of enabling the secondary image hover feature on my Collection pages and Featured Collections sections?',\n",
       "   'role': 'user'},\n",
       "  {'content': \"Sure, here are the steps to enable the secondary image hover feature on your Collection pages and Featured Collections sections:\\n\\n1. Log in to your Shopify account and go to your Online Store.\\n2. Click on Customize theme for the section-based theme you are using.\\n3. Navigate to the Collection pages or Featured Collections section where you want to enable the secondary image hover feature.\\n4. With the section open, click on the section's setting (gear) icon in the top-left corner.\\n5. In the settings panel that appears, look for an option labeled 'Image display' or 'Image hover'.\\n6. If available, select 'Show secondary image on hover'.\\n7. Save the changes and preview the Collection/Featured Collection page to see the effect.\\n\\nIf you're having trouble finding the setting, the best thing to do is refer to your theme's documentation, since the location and labeling of settings can vary between themes.\",\n",
       "   'role': 'assistant'},\n",
       "  {'content': 'Can you provide me with a link to the documentation for my theme?',\n",
       "   'role': 'user'},\n",
       "  {'content': \"I don't have access to your store's theme information. However, you can usually find the documentation for your theme by going to the shopify theme store, finding your theme and clicking on the 'support' link located in the bottom right corner of the page. Alternatively, you can do a google search for the name of your theme followed by 'documentation' or 'user guide'.\",\n",
       "   'role': 'assistant'},\n",
       "  {'content': 'Can you confirm if this feature also works for the Quick Shop section of my theme?',\n",
       "   'role': 'user'},\n",
       "  {'content': \"The secondary image hover feature may or may not work for your Quick Shop section, depending on the configuration of your theme. Some themes include this feature in the Quick Shop section by default, while others may require additional customization. To check if this feature is available for the Quick Shop section of your theme, follow these steps:\\n\\n1. Go to the Quick Shop section where you would like to enable the feature. 2. Click on the Quick Shop settings icon (gear icon) and look for 'Image display' or 'Image hover'. 3. If available, select 'Show secondary image on hover'. 4. Save the changes. If this option is not available in your Quick Shop section settings, you may need to reach out to your theme developer for assistance with customizing your Quick Shop section to include this feature.\",\n",
       "   'role': 'assistant'}]}"
      ]
     },
     "execution_count": 49,
     "metadata": {},
     "output_type": "execute_result"
    }
   ],
   "source": []
  },
  {
   "cell_type": "code",
   "execution_count": 37,
   "id": "34bdaf93",
   "metadata": {
    "scrolled": true
   },
   "outputs": [
    {
     "name": "stderr",
     "output_type": "stream",
     "text": [
      "Found cached dataset json (/gpfs/u/scratch/PTFM/PTFMqngp/github/mitibm2023/external/open-instruct/scripts/data/raw_train/ultrachat/json/default-0defb8b02736b11e/0.0.0/8bb11242116d547c741b2e8a1f18598ffdd40a1d4f2a2872c7a28b697434bc96)\n"
     ]
    }
   ],
   "source": [
    "import os\n",
    "output_dir = 'data/processed/ultrachat'\n",
    "data_dir = 'data/raw_train/ultrachat'\n",
    "from datasets import load_dataset\n",
    "output_path = os.path.join(output_dir, 'ultrachat_data.jsonl')\n",
    "# ds = load_dataset('HuggingFaceH4/ultrachat_200k', cache_dir=data_dir, split='train_sft')\n",
    "ds = load_dataset('json', data_files={'train': os.path.join(data_dir, 'ultrachat_200k_splitlongconv.json')}, split='train', cache_dir=data_dir, keep_in_memory=True)\n",
    "# splitting conversations removes \"prompt\" already.\n",
    "ds = ds.remove_columns([\"prompt_id\"])\n",
    "def add_metadata_fn(example, idx):\n",
    "    example.update({'dataset': 'ultrachat', 'id': f'ultrachat_{idx}'})\n",
    "    return example\n",
    "ds = ds.map(add_metadata_fn, \n",
    "            remove_columns=['prompt_id'], # splitting conversations removes \"prompt\" already.\n",
    "            with_indices=True, \n",
    "            num_proc=10,\n",
    "            keep_in_memory=True)\n",
    "# re-ordering the features\n",
    "ds.select_columns(['dataset', 'id']).add_column('messages', ds['messages'])\n",
    "ds.to_json(output_path)"
   ]
  },
  {
   "cell_type": "code",
   "execution_count": 38,
   "id": "747687a0",
   "metadata": {
    "scrolled": true
   },
   "outputs": [
    {
     "name": "stderr",
     "output_type": "stream",
     "text": [
      "num_proc must be <= 1. Reducing num_proc to 1 for dataset of size 1.\n"
     ]
    },
    {
     "data": {
      "application/vnd.jupyter.widget-view+json": {
       "model_id": "",
       "version_major": 2,
       "version_minor": 0
      },
      "text/plain": [
       "Map:   0%|          | 0/1 [00:00<?, ? examples/s]"
      ]
     },
     "metadata": {},
     "output_type": "display_data"
    }
   ],
   "source": [
    "\n",
    "\n",
    "ds = ds.select([0]).map(add_metadata_fn, \n",
    "            with_indices=True,\n",
    "            num_proc=10,\n",
    "            keep_in_memory=True)"
   ]
  },
  {
   "cell_type": "code",
   "execution_count": 43,
   "id": "18d2e1fa",
   "metadata": {},
   "outputs": [
    {
     "data": {
      "text/plain": [
       "{'dataset': 'ultrachat',\n",
       " 'id': 'ultrachat_0',\n",
       " 'messages': [{'content': \"These instructions apply to section-based themes (Responsive 6.0+, Retina 4.0+, Parallax 3.0+ Turbo 2.0+, Mobilia 5.0+). What theme version am I using?\\nOn your Collections pages & Featured Collections sections, you can easily show the secondary image of a product on hover by enabling one of the theme's built-in settings!\\nYour Collection pages & Featured Collections sections will now display the secondary product image just by hovering over that product image thumbnail.\\nDoes this feature apply to all sections of the theme or just specific ones as listed in the text material?\",\n",
       "   'role': 'user'},\n",
       "  {'content': 'This feature only applies to Collection pages and Featured Collections sections of the section-based themes listed in the text material.',\n",
       "   'role': 'assistant'},\n",
       "  {'content': 'Can you guide me through the process of enabling the secondary image hover feature on my Collection pages and Featured Collections sections?',\n",
       "   'role': 'user'},\n",
       "  {'content': \"Sure, here are the steps to enable the secondary image hover feature on your Collection pages and Featured Collections sections:\\n\\n1. Log in to your Shopify account and go to your Online Store.\\n2. Click on Customize theme for the section-based theme you are using.\\n3. Navigate to the Collection pages or Featured Collections section where you want to enable the secondary image hover feature.\\n4. With the section open, click on the section's setting (gear) icon in the top-left corner.\\n5. In the settings panel that appears, look for an option labeled 'Image display' or 'Image hover'.\\n6. If available, select 'Show secondary image on hover'.\\n7. Save the changes and preview the Collection/Featured Collection page to see the effect.\\n\\nIf you're having trouble finding the setting, the best thing to do is refer to your theme's documentation, since the location and labeling of settings can vary between themes.\",\n",
       "   'role': 'assistant'},\n",
       "  {'content': 'Can you provide me with a link to the documentation for my theme?',\n",
       "   'role': 'user'},\n",
       "  {'content': \"I don't have access to your store's theme information. However, you can usually find the documentation for your theme by going to the shopify theme store, finding your theme and clicking on the 'support' link located in the bottom right corner of the page. Alternatively, you can do a google search for the name of your theme followed by 'documentation' or 'user guide'.\",\n",
       "   'role': 'assistant'},\n",
       "  {'content': 'Can you confirm if this feature also works for the Quick Shop section of my theme?',\n",
       "   'role': 'user'},\n",
       "  {'content': \"The secondary image hover feature may or may not work for your Quick Shop section, depending on the configuration of your theme. Some themes include this feature in the Quick Shop section by default, while others may require additional customization. To check if this feature is available for the Quick Shop section of your theme, follow these steps:\\n\\n1. Go to the Quick Shop section where you would like to enable the feature. 2. Click on the Quick Shop settings icon (gear icon) and look for 'Image display' or 'Image hover'. 3. If available, select 'Show secondary image on hover'. 4. Save the changes. If this option is not available in your Quick Shop section settings, you may need to reach out to your theme developer for assistance with customizing your Quick Shop section to include this feature.\",\n",
       "   'role': 'assistant'}]}"
      ]
     },
     "execution_count": 43,
     "metadata": {},
     "output_type": "execute_result"
    }
   ],
   "source": [
    "# my_data[“train”] = my_data[“train”].add_column(“audio”,temp_data[‘audio’])\n",
    "# \n",
    "\n"
   ]
  },
  {
   "cell_type": "code",
   "execution_count": 5,
   "id": "a91f61ab",
   "metadata": {},
   "outputs": [
    {
     "name": "stderr",
     "output_type": "stream",
     "text": [
      "Found cached dataset parquet (/gpfs/u/home/PTFM/PTFMqngp/scratch/github/mitibm2023/external/open-instruct/scripts/data/raw_train/ultrachat/HuggingFaceH4___parquet/HuggingFaceH4--ultrachat_200k-75c6e299e27d1db5/0.0.0/14a00e99c0d15a23649d0db8944380ac81082d4b021f398733dd84f3a6c569a7)\n"
     ]
    },
    {
     "data": {
      "text/plain": [
       "Dataset({\n",
       "    features: ['prompt', 'prompt_id', 'messages'],\n",
       "    num_rows: 207865\n",
       "})"
      ]
     },
     "execution_count": 5,
     "metadata": {},
     "output_type": "execute_result"
    }
   ],
   "source": [
    "if args.in_files == ['HuggingFaceH4/ultrachat_200k']:\n",
    "    data_dir = '/gpfs/u/home/PTFM/PTFMqngp/scratch/github/mitibm2023/external/open-instruct/scripts/data/raw_train/ultrachat'\n",
    "    from datasets import load_dataset\n",
    "    ds = load_dataset('HuggingFaceH4/ultrachat_200k', cache_dir=data_dir, split='train_sft')\n",
    "    ## wpq: convert the formatting to use the split conversation code.\n",
    "    def convert_message_to_sharegpt_chat_format(m):\n",
    "        return {'from': 'gpt' if m['role']=='assistant' else 'human',\n",
    "                'value': m['content']}\n",
    "    def convert_conversations_to_sharegpt_chat_format(conv):\n",
    "        return [convert_message_to_sharegpt_chat_format(m) for m in conv]\n",
    "    prompt_id = ds['prompt_id']\n",
    "    conversations = ds['messages']\n",
    "    conversations = [convert_conversations_to_sharegpt_chat_format(x)\n",
    "                    for x in conversations]\n",
    "    assert(len(conversations)==len(prompt_id))\n",
    "    content = [{'id': pid, 'conversations': conv} for pid, conv in zip(prompt_id, conversations)]\n",
    "else:\n",
    "    content = []\n",
    "    for file in args.in_files:\n",
    "        with open(file, 'rb') as f:\n",
    "            content.extend(json.load(f))\n",
    "\n",
    "    \n",
    "ds"
   ]
  },
  {
   "cell_type": "code",
   "execution_count": 6,
   "id": "5e8a4cee",
   "metadata": {
    "scrolled": true
   },
   "outputs": [
    {
     "name": "stdout",
     "output_type": "stream",
     "text": [
      "207865\n",
      "dict_keys(['id', 'conversations'])\n",
      "12\n",
      "dict_keys(['from', 'value'])\n",
      "\n",
      "===== human =====\n",
      "Which famous landmarks should I visit in London, beyond the usual ones?\n",
      "\n",
      "===== gpt =====\n",
      "1. Leadenhall Market - a beautiful indoor market with stunning Victorian architecture, also used as a filming location in the Harry Potter films.\n",
      "\n",
      "2. St. Dunstan in the East - a ruined church in the middle of the city that has been turned into a beautiful public garden.\n",
      "\n",
      "3. The Monument - a 202-foot-tall column commemorating the Great Fire of London, with a staircase leading to a viewing platform offering great views of the city.\n",
      "\n",
      "4. The Camden Town Markets - an eclectic collection of markets offering food, fashion, and vintage items, plus live music and street performers.\n",
      "\n",
      "5. Novelist's House - the former home of Charles Dickens, now a museum dedicated to his life and works.\n",
      "\n",
      "6. The Old Operating Theatre - a museum housed in the oldest surviving operating theatre in Europe, with exhibits on the history of surgery and medical practices.\n",
      "\n",
      "7. The Churchill War Rooms - an underground complex used as a British government command centre during World War II, now a museum dedicated to Winston Churchill and his leadership during the war.\n",
      "\n",
      "8. The Brunel Museum - a museum dedicated to the life and works of engineer Isambard Kingdom Brunel, with exhibitions on his revolutionary designs for bridges, ships, and tunnels.\n",
      "\n",
      "9. The Clink Prison Museum - a museum in the former site of the notorious medieval prison, with exhibits on the history of crime and punishment in London.\n",
      "\n",
      "10. The Royal Observatory Greenwich - an observatory and museum dedicated to astronomy and navigation, with exhibits on the history of timekeeping and space exploration.\n",
      "\n",
      "===== human =====\n",
      "Hmm, those are interesting suggestions, but I've already seen so many touristy landmarks in London. Is there something more offbeat that you can recommend? Something that locals might know about?\n"
     ]
    }
   ],
   "source": [
    "\n",
    "\n",
    "print(len(content))\n",
    "print(content[0].keys())\n",
    "\n",
    "i = 1\n",
    "conversations = content[i]['conversations']\n",
    "print(len(conversations))\n",
    "print(conversations[i].keys())\n",
    "\n",
    "N = 3\n",
    "\n",
    "for i in range(N):\n",
    "    print(f\"\\n===== {conversations[i]['from']} =====\")\n",
    "    print(conversations[i]['value'])"
   ]
  },
  {
   "cell_type": "code",
   "execution_count": 7,
   "id": "0ff0f06b",
   "metadata": {},
   "outputs": [
    {
     "name": "stderr",
     "output_type": "stream",
     "text": [
      "You are using the default legacy behaviour of the <class 'transformers.models.llama.tokenization_llama.LlamaTokenizer'>. This is expected, and simply means that the `legacy` (previous) behavior will be used so nothing changes for you. If you want to use the new behaviour, set `legacy=False`. This should only be set if you understand what it means, and thouroughly read the reason why this was added as explained in https://github.com/huggingface/transformers/pull/24565\n"
     ]
    }
   ],
   "source": [
    "\n",
    "tokenizer = transformers.AutoTokenizer.from_pretrained(\n",
    "    args.model_name_or_path,\n",
    "#     padding_side=\"right\",\n",
    "    use_fast=False,\n",
    ")\n",
    "\n",
    "# mpt-7b"
   ]
  },
  {
   "cell_type": "code",
   "execution_count": 31,
   "id": "e02c0652",
   "metadata": {
    "scrolled": true
   },
   "outputs": [
    {
     "name": "stderr",
     "output_type": "stream",
     "text": [
      "  0%|          | 3/1000 [00:01<09:30,  1.75it/s]Token indices sequence length is longer than the specified maximum sequence length for this model (2093 > 2048). Running this sequence through the model will result in indexing errors\n",
      "Token indices sequence length is longer than the specified maximum sequence length for this model (2578 > 2048). Running this sequence through the model will result in indexing errors\n",
      "  9%|▊         | 86/1000 [00:01<00:12, 74.69it/s]Token indices sequence length is longer than the specified maximum sequence length for this model (2184 > 2048). Running this sequence through the model will result in indexing errors\n",
      "100%|██████████| 1000/1000 [00:02<00:00, 407.94it/s]\n"
     ]
    },
    {
     "name": "stdout",
     "output_type": "stream",
     "text": [
      "after split:  1057\n",
      "after filter: 1051\n"
     ]
    }
   ],
   "source": [
    "from split_sharegpt_conversations import split_all, filter_invalid_roles\n",
    "\n",
    "args.end=1000\n",
    "\n",
    "new_content = split_all(content, args.begin, args.end, tokenizer, args.max_length)\n",
    "\n",
    "print(f\"after split:  {len(new_content)}\")\n",
    "# len(new_content):\n",
    "# llama:  178604\n",
    "# mpt-7b: 168815\n",
    "#\n",
    "new_content = filter_invalid_roles(new_content)\n",
    "\n",
    "print(f\"after filter: {len(new_content)}\")\n",
    "# len(new_content):\n",
    "# mpt-7b: 160564\n"
   ]
  },
  {
   "cell_type": "code",
   "execution_count": 32,
   "id": "bbeddb73",
   "metadata": {},
   "outputs": [],
   "source": [
    "\n",
    "if args.in_files == ['HuggingFaceH4/ultrachat_200k']:\n",
    "    ## wpq: convert back to ultrachat format\n",
    "    def convert_messages_to_ultrachat_format(m):\n",
    "        return {'content': m['value'], \n",
    "                'role': 'user' if m['from']=='human' else 'assistant'}\n",
    "    def convert_conversations_to_ultrachat_format(conv):\n",
    "        return [convert_messages_to_ultrachat_format(m) for m in conv] \n",
    "    new_content = [{'prompt_id': x['id'], \n",
    "    'conversations': convert_conversations_to_ultrachat_format(x['conversations'])} \n",
    "        for x in new_content]"
   ]
  },
  {
   "cell_type": "code",
   "execution_count": 46,
   "id": "cf05f78a",
   "metadata": {},
   "outputs": [
    {
     "name": "stderr",
     "output_type": "stream",
     "text": [
      "Token indices sequence length is longer than the specified maximum sequence length for this model (3571 > 2048). Running this sequence through the model will result in indexing errors\n"
     ]
    },
    {
     "name": "stdout",
     "output_type": "stream",
     "text": [
      "{8: 265, 12: 19, 4: 336, 6: 334, 14: 13, 10: 33}\n",
      "4631\n"
     ]
    }
   ],
   "source": [
    "from collections import Counter\n",
    "import numpy as np\n",
    "\n",
    "l = content[:1000]\n",
    "nconv = [len(x['conversations']) for x in l]\n",
    "print(dict(Counter(nconv)))\n",
    "ntokens = [len(tokenizer(''.join([y['value'] for y in x['conversations']])).input_ids) for x in l]\n",
    "print(np.max(ntokens))\n"
   ]
  },
  {
   "cell_type": "code",
   "execution_count": 47,
   "id": "0bb02956",
   "metadata": {},
   "outputs": [
    {
     "name": "stdout",
     "output_type": "stream",
     "text": [
      "{8: 175, 12: 14, 2: 38, 4: 392, 6: 345, 10: 30, 14: 6}\n",
      "2018\n"
     ]
    }
   ],
   "source": [
    "l = new_content[:1000]\n",
    "nconv = [len(x['conversations']) for x in l]\n",
    "print(dict(Counter(nconv)))\n",
    "ntokens = [len(tokenizer(''.join([y['content'] for y in x['conversations']])).input_ids) for x in l]\n",
    "print(np.max(ntokens))"
   ]
  },
  {
   "cell_type": "code",
   "execution_count": 23,
   "id": "f1157d54",
   "metadata": {},
   "outputs": [
    {
     "name": "stdout",
     "output_type": "stream",
     "text": [
      "total: 207865, new: 1057\n"
     ]
    }
   ],
   "source": [
    "\n",
    "print(f\"total: {len(content)}, new: {len(new_content)}\")\n",
    "# json.dump(new_content, open(args.out_file, \"w\"), indent=2)\n"
   ]
  },
  {
   "cell_type": "code",
   "execution_count": 23,
   "id": "faeb0cd8",
   "metadata": {
    "scrolled": false
   },
   "outputs": [
    {
     "name": "stdout",
     "output_type": "stream",
     "text": [
      "38 5\n"
     ]
    }
   ],
   "source": [
    "from split_sharegpt_conversations import split_one_sample\n",
    "\n",
    "sample = content[0]\n",
    "\n",
    "new_sample = split_one_sample(sample)\n",
    "\n",
    "print(len(sample['conversations']), len(new_sample))\n"
   ]
  },
  {
   "cell_type": "code",
   "execution_count": 22,
   "id": "1381e6e9",
   "metadata": {},
   "outputs": [
    {
     "data": {
      "text/plain": [
       "[{'id': 'Og9h3C1_0',\n",
       "  'conversations': [{'from': 'human',\n",
       "    'value': \"root@openvpn:/home/openvpn# ./openvpn-install.sh\\nWelcome to OpenVPN-install!\\nThe git repository is available at: https://github.com/angristan/openvpn-install\\n\\nIt looks like OpenVPN is already installed.\\n\\nWhat do you want to do?\\n 1) Add a new user\\n 2) Revoke existing user\\n 3) Remove OpenVPN\\n 4) Exit\\nSelect an option [1-4]: 1\\n\\nTell me a name for the client.\\nThe name must consist of alphanumeric character. It may also include an underscore or a dash.\\nClient name: naam\\n\\nDo you want to protect the configuration file with a password?\\n(e.g. encrypt the private key with a password)\\n 1) Add a passwordless client\\n 2) Use a password for the client\\nSelect an option [1-2]: 1\\n\\nNote: using Easy-RSA configuration from: /etc/openvpn/easy-rsa/vars\\nUsing SSL: openssl OpenSSL 3.0.2 15 Mar 2022 (Library: OpenSSL 3.0.2 15 Mar 2022)\\n-----\\nUsing configuration from /etc/openvpn/easy-rsa/pki/easy-rsa-54848.BT2FXv/tmp.dFLd6V\\nEnter pass phrase for /etc/openvpn/easy-rsa/pki/private/ca.key:\\nCheck that the request matches the signature\\nSignature ok\\nThe Subject's Distinguished Name is as follows\\ncommonName :ASN.1 12:'naam'\\nCertificate is to be certified until Apr 21 22:48:57 2025 GMT (825 days)\\n\\nWrite out database with 1 new entries\\nData Base Updated\\n\\nClient naam added.\\n\\nThe configuration file has been written to /home/openvpn/naam.ovpn.\\nDownload the .ovpn file and import it in your OpenVPN client.\\nroot@openvpn:/home/openvpn# \\nkan je op basis van deze gegevens een verslag maken hoe je iemand toevoegd op een openvpn server\"},\n",
       "   {'from': 'gpt',\n",
       "    'value': 'Op basis van de gegevens in de prompt log kan worden opgemerkt dat een script genaamd \"openvpn-install.sh\" wordt uitgevoerd op een OpenVPN server. Het script lijkt te controleren of OpenVPN al is geïnstalleerd op de server en geeft vervolgens de gebruiker de optie om een nieuwe gebruiker toe te voegen, een bestaande gebruiker te intrekken, OpenVPN te verwijderen of het script te verlaten.\\n\\nDe gebruiker kiest vervolg'},\n",
       "   {'from': 'human', 'value': 'sorry kan je een gebruikershandleiding maken?'},\n",
       "   {'from': 'gpt',\n",
       "    'value': '1. Open een terminal op de OpenVPN server en navigeer naar de map waar het script \"openvpn-install.sh\" is opgeslagen.\\n2. Voer het script uit met behulp van de volgende opdracht: `./openvpn-install.sh`\\n3. Selecteer de optie \"1\" om een nieuwe gebruiker toe te voegen.\\n4. Voer een naam in voor de client, de naam mag alleen bestaan uit letters, cijfers, underscores en streepjes.\\n5. Kies of je een wachtwoord wilt instellen voor de configuratiebestanden of niet.\\n6. Voer eventueel een wachtwoord in voor de private key.\\n7. De client zal nu worden toegevoegd en de configuratiebestanden zullen worden opgeslagen in de map \"/home/openvpn/\". Download het .ovpn bestand en importeer deze in de OpenVPN client van de gebruiker.\\n8. De gebruiker kan nu verbinding maken met de OpenVPN server met behulp van de geïmporteerde configuratiebestanden en eventueel ingevoerde wachtwoord.\\n9. Als de gebruiker de toegang tot de server niet meer nodig heeft, kan deze worden ingetrokken met optie 2 of verwijderd met optie 3.'},\n",
       "   {'from': 'human',\n",
       "    'value': 'kan je uitleg geven waarom je als je passwordless user kiest dat je alsnog een wachtwoord moet invoeren voor wat is dat?\\n\\nDo you want to protect the configuration file with a password?\\n(e.g. encrypt the private key with a password)\\n 1) Add a passwordless client\\n 2) Use a password for the client\\nSelect an option [1-2]: 1\\n\\nNote: using Easy-RSA configuration from: /etc/openvpn/easy-rsa/vars\\nUsing SSL: openssl OpenSSL 3.0.2 15 Mar 2022 (Library: OpenSSL 3.0.2 15 Mar 2022)\\n-----\\nUsing configuration from /etc/openvpn/easy-rsa/pki/easy-rsa-55459.c7BK5D/tmp.gWMi5Q\\nEnter pass phrase for /etc/openvpn/easy-rsa/pki/private/ca.key:'},\n",
       "   {'from': 'gpt',\n",
       "    'value': 'De optie om een \"passwordless client\" toe te voegen, betekent dat de gebruiker geen wachtwoord hoeft in te voeren om verbinding te maken met de OpenVPN server. Dit betekent echter niet dat de configuratiebestanden zelf niet beveiligd zijn.\\n\\nDe configuratiebestanden bevatten een private key die gebruikt wordt voor encryptie tijdens de VPN verbinding. Deze private key moet worden beveiligd tegen onbevoegde toegang. Een mogelijkheid om deze key te beveiligen is door middel van een wachtwoord. Hierdoor kan alleen iemand met het juiste wachtwoord de configuratiebestanden openen en de verbinding maken.\\n\\nIn dit geval, wanneer de gebruiker kiest voor een \"passwordless client\", wordt er nog steeds gevraagd om een wachtwoord te voeren voor de private key, Omdat deze key nog steeds beveiligd moet worden, ondanks dat de client zelf geen wachtwoord hoeft in te voeren.'},\n",
       "   {'from': 'human', 'value': 'kan het iets korter?'},\n",
       "   {'from': 'gpt',\n",
       "    'value': 'Ja, de keuze voor een \"passwordless client\" betekent dat de gebruiker geen wachtwoord hoeft in te voeren om verbinding te maken met de OpenVPN server, maar de configuratiebestanden bevatten nog wel een private key die beveiligd moet worden tegen onbevoegde toegang, daarom wordt er nog steeds om een wachtwoord gevraagd voor de private key.'}]},\n",
       " {'id': 'Og9h3C1_8',\n",
       "  'conversations': [{'from': 'human',\n",
       "    'value': \"root@openvpn:/home/openvpn# ./openvpn-install.sh\\nWelcome to OpenVPN-install!\\nThe git repository is available at: https://github.com/angristan/openvpn-install\\n\\nIt looks like OpenVPN is already installed.\\n\\nWhat do you want to do?\\n 1) Add a new user\\n 2) Revoke existing user\\n 3) Remove OpenVPN\\n 4) Exit\\nSelect an option [1-4]: 1\\n\\nTell me a name for the client.\\nThe name must consist of alphanumeric character. It may also include an underscore or a dash.\\nClient name: mskvm\\n\\nDo you want to protect the configuration file with a password?\\n(e.g. encrypt the private key with a password)\\n 1) Add a passwordless client\\n 2) Use a password for the client\\nSelect an option [1-2]: 2\\n⚠️ You will be asked for the client password below ⚠️\\n\\nNote: using Easy-RSA configuration from: /etc/openvpn/easy-rsa/vars\\nUsing SSL: openssl OpenSSL 3.0.2 15 Mar 2022 (Library: OpenSSL 3.0.2 15 Mar 2022)\\nEnter PEM pass phrase:\\nVerifying - Enter PEM pass phrase:\\n-----\\nUsing configuration from /etc/openvpn/easy-rsa/pki/easy-rsa-58936.uwBPnl/tmp.pw9csB\\nEnter pass phrase for /etc/openvpn/easy-rsa/pki/private/ca.key:\\nCheck that the request matches the signature\\nSignature ok\\nThe Subject's Distinguished Name is as follows\\ncommonName :ASN.1 12:'mskvm'\\nCertificate is to be certified until Apr 22 11:22:05 2025 GMT (825 days)\\n\\nWrite out database with 1 new entries\\nData Base Updated\\n\\nClient mskvm added.\\n\\nThe configuration file has been written to /home/openvpn/mskvm.ovpn.\\nDownload the .ovpn file and import it in your OpenVPN client.\\nroot@openvpn:/home/openvpn# \\n\\nkan je hier ook zo'n gebruikershandleiding maken als wat je hierboven had gedaan\"},\n",
       "   {'from': 'gpt',\n",
       "    'value': 'Ja, hier is een gebruikershandleiding voor het toevoegen van een gebruiker met een wachtwoord aan een OpenVPN server:\\n\\n1. Open een terminal op de OpenVPN server en navigeer naar de map waar het script \"openvpn-install.sh\" is opgeslagen.\\n2. Voer het script uit met behulp van de volgende opdracht: `./openvpn-install.sh`\\n3. Selecteer de optie \"1\" om een nieuwe gebruiker toe te voegen.\\n4. Voer een naam in voor de client, de naam mag alleen bestaan uit letters, cijfers, underscores en streepjes.\\n5. Kies voor optie 2 \"Use a password for the client\"\\n6. Voer het wachtwoord voor de client in wanneer hierom wordt gevraagd.\\n7. Voer het wachtwoord voor de private key in wanneer hierom wordt gevraagd.\\n8. De client zal nu worden toegevoegd en de configuratiebestanden zullen worden opgeslagen in de map \"/home/openvpn/\". Download het .ovpn bestand en importeer deze in de OpenVPN client van de gebruiker.\\n9. De gebruiker kan nu verbinding maken met de OpenVPN server met behulp van de geïmporteerde configuratiebestanden en het ingevoerde wachtwoord.\\n10. Als de gebruiker de toegang tot de server niet meer nodig heeft, kan deze worden ingetrokken met optie 2 of verwijderd met optie 3.'},\n",
       "   {'from': 'human',\n",
       "    'value': 'root@openvpn:/home/openvpn# ./openvpn-install.sh\\nWelcome to OpenVPN-install!\\nThe git repository is available at: https://github.com/angristan/openvpn-install\\n\\nIt looks like OpenVPN is already installed.\\n\\nWhat do you want to do?\\n 1) Add a new user\\n 2) Revoke existing user\\n 3) Remove OpenVPN\\n 4) Exit\\nSelect an option [1-4]: 2\\n\\nSelect the existing client certificate you want to revoke\\n 1) test01\\n 2) test\\n 3) Interwance\\nSelect one client [1-3]: 3\\nUsing SSL: openssl OpenSSL 3.0.2 15 Mar 2022 (Library: OpenSSL 3.0.2 15 Mar 2022)\\nUsing configuration from /etc/openvpn/easy-rsa/pki/easy-rsa-59670.A6n3iK/tmp.2nlJX3\\nEnter pass phrase for /etc/openvpn/easy-rsa/pki/private/ca.key:\\nRevoking Certificate 894BF0E84E4DC76CCC63F09E5458B6EF.\\nData Base Updated\\nNote: using Easy-RSA configuration from: /etc/openvpn/easy-rsa/vars\\nUsing SSL: openssl OpenSSL 3.0.2 15 Mar 2022 (Library: OpenSSL 3.0.2 15 Mar 2022)\\nUsing configuration from /etc/openvpn/easy-rsa/pki/easy-rsa-59708.T1hs86/tmp.dahzdR\\nEnter pass phrase for /etc/openvpn/easy-rsa/pki/private/ca.key:\\n\\nAn updated CRL has been created.\\nCRL file: /etc/openvpn/easy-rsa/pki/crl.pem\\n\\nCertificate for client Interwance revoked.\\nroot@openvpn:/home/openvpn# \\n\\nkan je ook een gebruikershandleiding maken voor gebruiker verwijderen'},\n",
       "   {'from': 'gpt',\n",
       "    'value': 'Ja, hier is een gebruikershandleiding voor het intrekken (verwijderen) van een gebruiker van een OpenVPN server:\\n\\n1. Open een terminal op de OpenVPN server en navigeer naar de map waar het script \"openvpn-install.sh\" is opgeslagen.\\n2. Voer het script uit met behulp van de volgende opdracht: `./openvpn-install.sh`\\n3. Selecteer de optie \"2\" om een bestaande gebruiker in te trekken.\\n4. Kies de gewenste gebruiker uit de lijst van bestaande gebruikers.\\n5. Voer het wachtwoord voor de private key in wanneer hierom wordt gevraagd.\\n6. De geselecteerde gebruiker wordt ingetrokken en de configuratiebestanden worden verwijderd.\\n7. De gebruiker kan nu niet meer verbinding maken met de OpenVPN server met behulp van de configuratiebestanden die eerder werden toegekend.\\n8. Als u wilt dat de gebruiker niet langer toegang heeft tot de server, raadpleeg dan de CRL (Certificate Revocation List) om te zien of de certificaat van de gebruiker is ingetrokken.'}]},\n",
       " {'id': 'Og9h3C1_12',\n",
       "  'conversations': [{'from': 'human',\n",
       "    'value': 'Als u wilt dat de gebruiker niet langer toegang heeft tot de server, raadpleeg dan de CRL (Certificate Revocation List) om te zien of de certificaat van de gebruiker is ingetrokken\\nhoe doe ik dat'},\n",
       "   {'from': 'gpt',\n",
       "    'value': 'Er zijn verschillende manieren om de CRL (Certificate Revocation List) te raadplegen om te controleren of een certificaat van een gebruiker is ingetrokken. Hier zijn enkele voorbeelden:\\n\\n1. OpenSSL command line tool: U kunt de CRL openen en bekijken met de openssl command line tool door de volgende opdracht uit te voeren op de OpenVPN server: `openssl crl -in /etc/openvpn/easy-rsa/pki/crl.pem -noout -text`\\n2. Web browser: U kunt de CRL openen en bekijken in een webbrowser door de volgende stappen te volgen:\\n\\t* Kopieer de CRL-bestand van de OpenVPN server naar een webserver\\n\\t* Maak een link naar het CRL-bestand op de webserver\\n\\t* open de link in een webbrowser\\n3. Via API: U kunt een API ontwikkelen die de CRL raadpleegt en de status van een certificaat opvraagt. Hierdoor kunt u automatisch certificaten blokkeren zonder handmatig te hoeven controleren via de CRL of andere methoden.\\n\\nHoud er rekening mee dat de CRL alleen geldig is voor de tijd dat het certificaat geldig is, dus als het certificaat is verlopen, is de CRL ook verlopen en is de certificaat niet langer geldig.'},\n",
       "   {'from': 'human',\n",
       "    'value': 'root@openvpn:/home/openvpn# openssl crl -in /etc/openvpn/easy-rsa/pki/crl.pem -noout -text\\nCertificate Revocation List (CRL):\\n Version 2 (0x1)\\n Signature Algorithm: ecdsa-with-SHA256\\n Issuer: CN = cn\\\\_Nq6PBIU40fr16uEz\\n Last Update: Jan 18 12:32:37 2023 GMT\\n Next Update: Jan 15 12:32:37 2033 GMT\\n CRL extensions:\\n X509v3 Authority Key Identifier: \\n keyid:2C:88:C5:0D:F5:0B:1D:4B:89:CF:6B:E2:67:BC:66:F7:0F:E5:26:CA\\n DirName:/CN=cn\\\\_Nq6PBIU40fr16uEz\\n serial:02:05:4B:01:71:B8:E2:48:85:93:28:B9:5A:B2:16:1C:6C:D7:99:2C\\nRevoked Certificates:\\n Serial Number: 36D56533E9A309E44B460A3A64DA2E3B\\n Revocation Date: Jan 17 23:02:36 2023 GMT\\n Serial Number: 4B5F521A8CF489286F0A33648EF21E04\\n Revocation Date: Jan 17 22:59:19 2023 GMT\\n Serial Number: 543480A5C4EC9BF021BDE4FB9441E5EF\\n Revocation Date: Jan 18 12:30:20 2023 GMT\\n Serial Number: 6400FE37F545C0712F8C99D6F7BE769F\\n Revocation Date: Jan 18 11:31:14 2023 GMT\\n Serial Number: 894BF0E84E4DC76CCC63F09E5458B6EF\\n Revocation Date: Jan 18 12:20:00 2023 GMT\\n Serial Number: 8EA94740D6450E76035B707BCF52E9B5\\n Revocation Date: Jan 18 11:32:42 2023 GMT\\n Serial Number: D2038BA2676A7D6A974EF035C3DD2380\\n Revocation Date: Jan 18 12:32:22 2023 GMT\\n Signature Algorithm: ecdsa-with-SHA256\\n Signature Value:\\n 30:46:02:21:00:f2:6a:97:00:37:6b:47:8f:f2:e1:d9:18:7a:\\n a3:7b:1c:2c:55:70:20:bf:43:a7:15:17:0b:9f:96:df:32:b9:\\n a0:02:21:00:b8:fe:ae:e7:3d:ea:a8:37:bb:9c:91:2e:13:81:\\n 2d:21:94:08:62:c4:0f:7e:1b:9f:bc:0a:52:e4:d4:f8:84:bb\\nroot@openvpn:/home/openvpn# \\n wat zie ik hier staan?'},\n",
       "   {'from': 'gpt',\n",
       "    'value': 'Wat u hier ziet, is een Certificate Revocation List (CRL) die is opgehaald met de openssl command line tool. Een CRL is een lijst van certificaten die zijn ingetrokken en daarom niet langer geldig zijn. Hier is een overzicht van de informatie die u in de CRL ziet:\\n\\n* Version: Het versienummer van de CRL (versie 2 in dit geval)\\n* Signature Algorithm: De algoritme gebruikt voor het ondertekenen van de CRL\\n* Issuer: De naam van de instantie die de CRL heeft uitgegeven\\n* Last Update: De datum waarop de CRL voor het laatst is bijgewerkt\\n* Next Update: De datum waarop de CRL voor de volgende keer wordt bijgewerkt\\n* CRL extensions: Extra informatie die aan de CRL is toegevoegd\\n* Revoked Certificates: Lijst met certificaten die zijn ingetrokken, met inbegrip van de serienummer en de datum waarop het certificaat is ingetrokken\\n* Signature Algorithm: De algoritme gebruikt voor het ondertekenen van de CRL\\n* Signature Value: De waarde van de ondertekening van de CRL\\n\\nIn de CRL die u hier ziet, zijn er 8 certificaten die zijn ingetrokken, elk met hun serienummer en de datum waarop het certificaat is ingetrokken. Als u een certificaat serienummer in de lijst ziet, dan is dit certificaat niet meer geldig en kan de gebruiker die is gekoppeld aan dit certificaat geen verbinding meer maken met de OpenVPN server.'}]},\n",
       " {'id': 'Og9h3C1_16',\n",
       "  'conversations': [{'from': 'human',\n",
       "    'value': 'hoe maak ik weer een gebruiker aan met dezelfde naam als die van iemand die ik daarvoor heb verwijderd met dezelfde naam er staat dat ik niet die naam kan gebruiken door dat de naam al in gebruik is maar die heb ik verwijderd'},\n",
       "   {'from': 'gpt',\n",
       "    'value': \"Om een nieuwe gebruiker aan te maken met dezelfde naam als een eerder verwijderde gebruiker, zult u eerst de oorspronkelijke certificaten van die gebruiker moeten verwijderen uit de CRL (Certificate Revocation List) en de databank van OpenVPN. Hier is hoe u dit kunt doen:\\n\\n1. Verwijder het certificaat van de verwijderde gebruiker uit de CRL. Dit kunt u doen door de CRL te openen met de openssl command line tool en vervolgens het certificaat te verwijderen uit de lijst met ingetrokken certificaten.\\n2. Verwijder het certificaat van de verwijderde gebruiker uit de databank van OpenVPN. Dit kunt u doen door de volgende commando's uit te voeren op de OpenVPN server:\\n```\\ncd /etc/openvpn/easy-rsa/\\n./easyrsa revoke [client name]\\n./easyrsa gen-crl\\n```\\n3. Maak een nieuwe client certificaat aan voor de gebruiker met dezelfde naam. Dit kunt u doen door de volgende commando's uit te voeren op de OpenVPN server:\\n```\\n./easyrsa build-client-full [client name] nopass\\n```\\n4. Importeer het nieuwe certificaat in de OpenVPN server. Dit kunt u doen door de volgende commando's uit te voeren op\"},\n",
       "   {'from': 'human', 'value': 'ga door'},\n",
       "   {'from': 'gpt',\n",
       "    'value': 'de OpenVPN server:\\n```\\ncd /etc/openvpn/easy-rsa/pki/\\ncp issued/[client name].crt /etc/openvpn/\\ncp private/[client name].key /etc/openvpn/\\n```\\n5. Herstart de OpenVPN server om de veranderingen toe te passen. Dit kunt u doen door de volgende commando uit te voeren op de OpenVPN server:\\n```\\nsystemctl restart openvpn@server\\n```\\nNadat u deze stappen heeft voltooid, zou de gebruiker in staat moeten zijn om zich weer aan te melden bij de OpenVPN server met dezelfde naam als eerder, als het goed is zal de gebruiker een nieuw certificaat hebben en de oude is verwijderd.'},\n",
       "   {'from': 'human',\n",
       "    'value': 'root@openvpn:/home/openvpn# sudo cp /home/openvpn/webtest.ovpn /var/www/html/webtest.ovpn\\nroot@openvpn:/home/openvpn# \\n\\nkan je hier uitleg voor geven'},\n",
       "   {'from': 'gpt',\n",
       "    'value': 'De commando\\'s die hier worden uitgevoerd zijn het kopiëren van een bestand genaamd \"webtest.ovpn\" van de map \"/home/openvpn\" naar de map \"/var/www/html/webtest.ovpn\".\\n\\nDe eerste regel \"sudo cp /home/openvpn/webtest.ovpn /var/www/html/webtest.ovpn\" is een commando om een bestand te kopiëren. Hier wordt gebruik gemaakt van het commando \"cp\" (copy) om een bestand te kopiëren. Het commando \"sudo\" geeft aan dat het commando als een superuser (root) uitgevoerd moet worden, dit is nodig omdat'},\n",
       "   {'from': 'human',\n",
       "    'value': 'kan je een gebruikershandleiding maken voor het importeren van .ovpn files'},\n",
       "   {'from': 'gpt',\n",
       "    'value': 'Ja, hier is een gebruikershandleiding voor het importeren van .ovpn files:\\n\\n1. Open uw OpenVPN client op de computer waarop u zich wilt verbinden met de OpenVPN server.\\n2. Klik op de optie \"Import\" of \"Importeer configuratie\" in de menubalk van de OpenVPN client.\\n3. Zoek het .ovpn bestand op uw computer waarmee u zich wilt verbinden met de OpenVPN server. Dit bestand zou u eerder gedownload moeten hebben van de OpenVPN server of ontvangen van de beheerder.\\n4. Selecteer het .ovpn bestand en klik op \"Open\" of \"Importeren\" om het bestand te importeren.\\n5. Voer eventueel de gevraagde gebruikersnaam en wachtwoord in als uw OpenVPN server dit vereist.\\n6. Klik op \"Connect\" of \"Verbinden\" om u te verbinden met de OpenVPN server.\\n7. Controleer of de verbinding succesvol is door de status van de verbinding te controleren in de OpenVPN client.\\n\\nOpmerking: de stappen kunnen afwijken afhankelijk van de Open'},\n",
       "   {'from': 'human',\n",
       "    'value': 'kan je een gebruikershandleiding maken met deze stappen er sowieso in maar dan in de stijl als dat je die handleidingen hiervoor hebt gemaakt : \\n\\nnadat je een gebruiker hebt gemaakt voeg dan deze commando sudo cp /home/openvpn/clientnaam.ovpn /var/www/html/clientnaam.ovpn \\n\\ndat je daarna op je webbrowser naar je lokale ip moet waar je openvpn op draait en dan /clientnaam.ovpn moet doen om de client zijn file te zien\\n\\ndaarna de pagina opslaan als .ovpn bestand en ergens opslaan op je device en dan de OpenVPN connect app openen en de file importeren drukken en dan is het bestand vanaf de terminal naar lokale ip naar de openvpn connect app gegaan en kan die geimporteerd worden in de app'},\n",
       "   {'from': 'gpt',\n",
       "    'value': 'Ja, hier is een gebruikershandleiding voor het importeren van een .ovpn bestand na het toevoegen van een gebruiker op een OpenVPN server:\\n\\n1. Voeg een nieuwe gebruiker toe aan de OpenVPN server met behulp van de OpenVPN-install script.\\n2. Voer het volgende commando uit in de terminal: \"sudo cp /home/openvpn/clientnaam.ovpn /var/www/html/clientnaam.ovpn\"\\n3. Dit commando kopieert het .ovpn bestand van de gebruiker naar de map /var/www/html, zodat de gebruiker het bestand kan downloaden via een webbrowser.\\n4. Open een webbrowser en ga naar de IP-adres van de OpenVPN server waarop u zich bevindt. Voeg \"/clientnaam.ovpn\" toe aan de URL, bijvoorbeeld \"<http://192.168.1.100/clientnaam.ovpn>\"\\n5. Klik op de pagina op \"Download\" of \"Opslaan als\" en sla het bestand op een gewenste locatie op het apparaat.\\n6. Open de OpenVPN Connect app op het apparaat.\\n7. Klik op \"Import\" of \"Importeer configuratie\" en selecteer het zojuist gedownloade .ovpn bestand.\\n8. Voer eventueel de gevraagde geb'},\n",
       "   {'from': 'human', 'value': 'ga door'},\n",
       "   {'from': 'gpt',\n",
       "    'value': '8. Voer eventueel de gevraagde gebruikersnaam en wachtwoord in als de gebruiker een wachtwoordbeveiligde certificaat heeft.\\n9. Klik op \"Connect\" om verbinding te maken met de OpenVPN server.\\n10. Controleer de status van de verbinding en de gedownloade gegevens in de OpenVPN Connect app.\\n\\nLet op: Het is belangrijk om ervoor te zorgen dat de OpenVPN server correct is geconfigureerd en toegankelijk is via het lokale netwerk voordat u deze stappen uitvoert. Als er problemen zijn met de verbinding, controleer dan de configuratie van de server en eventuele firewall regels.'}]},\n",
       " {'id': 'Og9h3C1_28',\n",
       "  'conversations': [{'from': 'human',\n",
       "    'value': 'sudo cp /home/openvpn/clientnaam.ovpn /var/www/html/clientnaam.ovpn\\n\\nkan je een korte uitleg geven wat deze commando doet?'},\n",
       "   {'from': 'gpt',\n",
       "    'value': 'Deze commando kopieert een bestand genaamd \"clientnaam.ovpn\" vanuit de map \"/home/openvpn\" naar de map \"/var/www/html\" en geeft het in de nieuwe locatie dezelfde naam \"clientnaam.ovpn\". De map \"/var/www/html\" is de standaardmap voor webinhoud op een Ubuntu-server, dus door het bestand hier te plaatsen, is het mogelijk om via een webbrowser toegang te krijgen tot het bestand.'},\n",
       "   {'from': 'human',\n",
       "    'value': '4. Klik op de pagina op of \"Opslaan als\" en sla het bestand op een gewenste locatie op het apparaat. \\n\\nkan je hier nog bij zetten in dezelfde stijl dat ze er wel voor moeten zorgen dat ze het in .ovpn bestand moeten opslaan'},\n",
       "   {'from': 'gpt',\n",
       "    'value': '4. Klik op de pagina op \"Download\" of \"Opslaan als\" en sla het bestand als een .ovpn-bestand op een gewenste locatie op het apparaat. Let erop dat het bestand de juiste extensie heeft, zodat het juist wordt herkend als een OpenVPN configuratiebestand.'},\n",
       "   {'from': 'human',\n",
       "    'value': 'kan je een documentatie schrijven over waarom je poort 1194 zou moeten openen op de firewall voor OpenVPN'},\n",
       "   {'from': 'gpt',\n",
       "    'value': \"OpenVPN maakt gebruik van poort 1194 om verbinding te maken met de VPN-server. Als deze poort niet open is op de firewall van de server, zullen clients die verbinding proberen te maken met de OpenVPN-server geen verbinding kunnen maken.\\n\\nDaarom is het noodzakelijk om poort 1194 op de firewall van de server te openen om een succesvolle verbinding te kunnen maken met de OpenVPN-server. Dit kan gedaan worden door gebruik te maken van een firewall configuratie tool zoals iptables of ufw.\\n\\nHet openen van poort 1194 op de firewall is veilig, aangezien OpenVPN gebruik maakt van veilige protocollen zoals OpenVPN en SSL/TLS voor encryptie van de dataverkeer. Daarom wordt er geen beveiligingsrisico genomen door poort 1194 open te stellen voor OpenVPN.\\n\\nHet is wel aangeraden om alleen toegang te verlenen vanaf specifieke IP-adressen of subnets, zoals bv. die van de bedrijfs- of thuisnetwerk van de gebruikers, om ongewenste toegang te voorkomen.\\n\\nIn het kort, poort 1194 moet opengesteld worden op de firewall van de OpenVPN-server om een succesvolle verbinding te kunnen maken met de OpenVPN-server. Dit kan gedaan worden met iptables of ufw, zonder beveiligingsrisico's te nemen. Het is wel aangeraden om toegang te beperken tot specifieke IP-adressen of subnets.\"},\n",
       "   {'from': 'human',\n",
       "    'value': 'Het is wel aangeraden om alleen toegang te verlenen vanaf specifieke IP-adressen of subnets, zoals bv. die van de bedrijfs- of thuisnetwerk van de gebruikers, om ongewenste toegang te voorkomen. \\n\\nwat bedoel je hiermee? en hoe wil je dat ik dat doe?'},\n",
       "   {'from': 'gpt',\n",
       "    'value': 'Met deze zin wordt bedoeld dat je als beheerder van de OpenVPN server ervoor moet zorgen dat alleen vertrouwde IP-adressen of subnets verbinding kunnen maken met de OpenVPN server. Dit kan gedaan worden door in de firewall-regels van de server alleen toegang toe te staan vanaf specifieke IP-adressen of subnets. Hierdoor wordt voorkomen dat onbevoegde gebruikers verbinding kunnen maken met de server.\\n\\nOm dit te doen, zou je de firewall-regels van de server kunnen aanpassen om alleen verbinding toe te staan vanaf specifieke IP-adressen of subnets. Dit kan bijvoorbeeld gedaan worden met behulp van een firewall-configuratie tool zoals iptables of ufw. Hiermee kan je regels toevoegen om verbindingen alleen toe te staan vanaf specifieke IP-adressen of subnets.'},\n",
       "   {'from': 'human',\n",
       "    'value': 'kan je handleiding schrijven welke commands en hoe dat moet'},\n",
       "   {'from': 'gpt',\n",
       "    'value': \"Om toegang te beperken tot specifieke IP-adressen of subnets voor OpenVPN, kunt u uw firewall configureren om verbindingen alleen toe te staan vanaf die specifieke adressen. Hieronder staan enkele voorbeelden van hoe u dit kunt doen met een aantal populaire firewall-tools:\\n\\n1. iptables (Linux):\\n* Voeg een regel toe aan uw iptables configuratie om verbindingen alleen toe te staan vanaf een specifiek IP-adres of subnet:\\n```\\niptables -A INPUT -s <IP-adres of subnet> -p udp --dport 1194 -j ACCEPT\\n```\\n* Voeg een regel toe om verbindingen van andere IP-adressen te blokkeren:\\n```\\niptables -A INPUT -p udp --dport 1194 -j DROP\\n```\\n2. UFW (Linux)\\n* Voeg een regel toe aan uw UFW configuratie om verbindingen alleen toe te staan vanaf een specifiek IP-adres of subnet:\\n```\\nufw allow from <IP-adres of subnet> to any port 1194\\n```\\n* Voeg een regel toe om verbindingen van andere IP-adressen te blokkeren:\\n```\\nufw deny from any to any port 1194\\n```\\n3. Windows Firewall\\n* Open de 'Windows Firewall met geavanceerde beveiliging'\\n* Klik op 'Inbound Rules'\\n* Klik op 'New Rule'\\n* Selecteer 'Port' en klik op 'Next'\\n* Selecteer 'UDP' en voer poort 1194 in en klik op 'Next'\\n* Selecteer 'Allow the connection' en klik op 'Next'\\n* Selecteer 'Specific IPs' en voer het IP-adres of subnet in waarvan u verbindingen wilt toestaan en klik op 'Next'\\n* Geef de regel een naam en klik op 'Finish'\\n\\nHoud er rekening mee dat deze voorbeelden alleen ges\"}]}]"
      ]
     },
     "execution_count": 22,
     "metadata": {},
     "output_type": "execute_result"
    }
   ],
   "source": [
    "# def split_one_sample(sample):\n",
    "\n",
    "\n",
    "tokenized_lens = []\n",
    "conversations = sample[\"conversations\"]\n",
    "conversations = conversations[: len(conversations) // 2 * 2]\n",
    "for c in conversations:\n",
    "    length = len(tokenizer(c[\"value\"]).input_ids) + 6\n",
    "    tokenized_lens.append(length)\n",
    "\n",
    "start_idx = 0\n",
    "cur_len = 0\n",
    "\n",
    "if len(conversations) % 2 != 0 or len(conversations) < 2:\n",
    "    return []\n",
    "\n",
    "\n",
    "\n",
    "\n"
   ]
  }
 ],
 "metadata": {
  "kernelspec": {
   "display_name": "Python [conda env:open-instruct]",
   "language": "python",
   "name": "conda-env-open-instruct-py"
  },
  "language_info": {
   "codemirror_mode": {
    "name": "ipython",
    "version": 3
   },
   "file_extension": ".py",
   "mimetype": "text/x-python",
   "name": "python",
   "nbconvert_exporter": "python",
   "pygments_lexer": "ipython3",
   "version": "3.10.12"
  }
 },
 "nbformat": 4,
 "nbformat_minor": 5
}
