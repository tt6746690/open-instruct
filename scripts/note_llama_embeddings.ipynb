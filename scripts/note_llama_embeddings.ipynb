{
 "cells": [
  {
   "cell_type": "code",
   "execution_count": null,
   "id": "b7ddd718",
   "metadata": {
    "scrolled": true
   },
   "outputs": [],
   "source": [
    "from rosemary import jpt_in_notebook\n",
    "from llm.submit import submit_job, multiline_to_singleline\n",
    "\n",
    "shell_scripts_template = \"\"\"\n",
    "echo \"Running on $SLURM_JOB_NODELIST\"\n",
    "echo \"======\"\n",
    "\n",
    "master_addr=$(scontrol show hostnames \"$SLURM_JOB_NODELIST\" | head -n 1)\n",
    "master_port=10002\n",
    "RDZV_ENDPOINT=$master_addr:$master_port\n",
    "\n",
    "source ~/.profile\n",
    "conda activate open-instruct\n",
    "cd /gpfs/u/scratch/PTFM/PTFMqngp/github/mitibm2023/external/open-instruct/scripts\n",
    "\n",
    "set -e\n",
    "set -x\n",
    "echo \"======\"\n",
    "srun {cmd}\n",
    "\n",
    "[ ! -f \"{log_dir}/$SLURM_JOB_ID*.out\" ] && mv {log_dir}/$SLURM_JOB_ID*.out {save_dir}\n",
    "\"\"\"\n",
    "nodes = 1; gpus=6\n",
    "\n",
    "test_run = 1\n",
    "test_run = bool(test_run)\n",
    "\n",
    "\n",
    "model_name = 'llama-7b'; model_name_or_path = '../results/baselines/huggyllama/llama-7b'\n",
    "# model_name = 'llama-7b_ft=hmv1'; model_name_or_path = '../results/ft1/llama-7b_humanmix'\n",
    "\n",
    "save_dir = f\"/gpfs/u/home/PTFM/PTFMqngp/scratch/github/mitibm2023/external/open-instruct/scripts/model_outputs/{model_name}\"\n",
    "log_dir = '/gpfs/u/home/PTFM/PTFMqngp/scratch/github/mitibm2023/external/open-instruct/scripts/'\n",
    "\n",
    "# datasets = ['cot', 'dolly', 'flan_v2', 'lima', 'oasst1']; nodes = 1; gpus=6; cpu_mem = 512\n",
    "# datasets = ['tulu_v1_human_mix', 'tulu_v2_human_mix']; nodes = 1; gpus=1; cpu_mem = 64\n",
    "# datasets = ['flan_v2']; nodes = 1; gpus=6; cpu_mem = 512\n",
    "datasets = ['flan2022_1m']; nodes = 2; gpus=6; cpu_mem = 512\n",
    "\n",
    "## for testing\n",
    "# datasets = ['lima']; nodes = 1; gpus=2; cpu_mem = 512\n",
    "\n",
    "\n",
    "\n",
    "for dataset in datasets:\n",
    "    cmd = f\"\"\"\n",
    "    torchrun --nnodes={nodes} --nproc_per_node={gpus} \\\n",
    "        --rdzv-id=$SLURM_JOB_ID --rdzv-backend=c10d --rdzv-endpoint=$RDZV_ENDPOINT \\\n",
    "        note_llama_embeddings.py \\\n",
    "        --dataset {dataset} \\\n",
    "        --model_name_or_path {model_name_or_path} \\\n",
    "        --save_dir {save_dir} \\\n",
    "        --use_dist \\\n",
    "        --shuffle\n",
    "    \"\"\"\n",
    "    cmd = multiline_to_singleline(cmd)\n",
    "\n",
    "    shell_scripts = shell_scripts_template.format(\n",
    "        cmd=cmd, log_dir=log_dir, save_dir=save_dir)\n",
    "    out = submit_job(\n",
    "        shell_scripts, \n",
    "        job_name=f'LM_outputs.{dataset}', \n",
    "        nodes=nodes,\n",
    "        num_cpus=32,\n",
    "        cpu_mem=cpu_mem,\n",
    "        num_gpus=gpus,\n",
    "        gpu_type='v100',\n",
    "        test_run=test_run,\n",
    "        job_duration=6,\n",
    "    )\n",
    "    print(cmd)\n",
    "    if not test_run:\n",
    "        print(out)"
   ]
  },
  {
   "cell_type": "code",
   "execution_count": null,
   "id": "a0dab267",
   "metadata": {
    "scrolled": true
   },
   "outputs": [],
   "source": [
    "p = '/gpfs/u/home/PTFM/PTFMqngp/scratch/github/mitibm2023/external/open-instruct/scripts/model_outputs/llama-7b/lima.pkl'\n",
    "with open(p, 'rb') as f:\n",
    "    x = pickle.load(f)\n",
    "x"
   ]
  },
  {
   "cell_type": "code",
   "execution_count": null,
   "id": "0e976e3d",
   "metadata": {},
   "outputs": [],
   "source": [
    "\n",
    "import matplotlib.pyplot as plt\n",
    "\n",
    "fig, axs = plt.subplots(1,2,figsize=(10,5))\n",
    "\n",
    "ax = axs[0]\n",
    "ax.plot(np.exp(x['log_probs']), label='probs')\n",
    "ax.plot(x['el2ns'], label='el2n')\n",
    "ax.legend()\n",
    "\n",
    "ax = axs[1]\n",
    "ax.scatter(np.exp(x['log_probs']), x['el2ns'])\n",
    "ax.set_xlabel('prob')\n",
    "ax.set_ylabel('el2n')\n"
   ]
  },
  {
   "cell_type": "code",
   "execution_count": null,
   "id": "57b7802b",
   "metadata": {},
   "outputs": [],
   "source": [
    "import os\n",
    "\n",
    "processed_dir = '../data/processed'\n",
    "datasets = []\n",
    "for dataset in os.listdir(processed_dir) + ['tulu_v1_human_mix', 'tulu_v2_human_mix']:\n",
    "    dataset_path = os.path.join(processed_dir, dataset)\n",
    "    save_path = os.path.join(save_dir, f'{dataset}.pkl')\n",
    "    if 'tulu'==dataset:\n",
    "        continue\n",
    "    if 'tulu' not in dataset and not os.path.isdir(dataset_path):\n",
    "        continue\n",
    "    if os.path.isfile(save_path):\n",
    "        continue\n",
    "    datasets.append(dataset)\n",
    "    \n",
    "datasets\n",
    "    "
   ]
  },
  {
   "cell_type": "code",
   "execution_count": 1,
   "id": "554b1e77",
   "metadata": {},
   "outputs": [
    {
     "name": "stderr",
     "output_type": "stream",
     "text": [
      "/gpfs/u/scratch/PTFM/PTFMqngp/github/rosemary/src/rosemary/__init__.py:25: UserWarning: Install `torch` for functionalities dependent on torch\n",
      "  warn(f'Install `torch` for functionalities dependent on torch')\n"
     ]
    },
    {
     "data": {
      "text/html": [
       "<style>.container { width:100% !important; }</style>"
      ],
      "text/plain": [
       "<IPython.core.display.HTML object>"
      ]
     },
     "metadata": {},
     "output_type": "display_data"
    },
    {
     "name": "stdout",
     "output_type": "stream",
     "text": [
      "Fri Oct  6 21:46:49 2023       \n",
      "+-----------------------------------------------------------------------------+\n",
      "| NVIDIA-SMI 460.91.03    Driver Version: 460.91.03    CUDA Version: 11.2     |\n",
      "|-------------------------------+----------------------+----------------------+\n",
      "| GPU  Name        Persistence-M| Bus-Id        Disp.A | Volatile Uncorr. ECC |\n",
      "| Fan  Temp  Perf  Pwr:Usage/Cap|         Memory-Usage | GPU-Util  Compute M. |\n",
      "|                               |                      |               MIG M. |\n",
      "|===============================+======================+======================|\n",
      "|   0  Tesla V100-SXM2...  On   | 00000035:04:00.0 Off |                    0 |\n",
      "| N/A   32C    P0    38W / 300W |      0MiB / 32510MiB |      0%      Default |\n",
      "|                               |                      |                  N/A |\n",
      "+-------------------------------+----------------------+----------------------+\n",
      "|   1  Tesla V100-SXM2...  On   | 00000035:05:00.0 Off |                    0 |\n",
      "| N/A   33C    P0    38W / 300W |      0MiB / 32510MiB |      0%      Default |\n",
      "|                               |                      |                  N/A |\n",
      "+-------------------------------+----------------------+----------------------+\n",
      "                                                                               \n",
      "+-----------------------------------------------------------------------------+\n",
      "| Processes:                                                                  |\n",
      "|  GPU   GI   CI        PID   Type   Process name                  GPU Memory |\n",
      "|        ID   ID                                                   Usage      |\n",
      "|=============================================================================|\n",
      "|  No running processes found                                                 |\n",
      "+-----------------------------------------------------------------------------+\n"
     ]
    }
   ],
   "source": [
    "from rosemary import jpt_parse_args, jpt_setup, jpt_in_notebook; jpt_setup()\n",
    "\n",
    "if jpt_in_notebook():\n",
    "    import os\n",
    "    \n",
    "    os.environ['CUDA_VISIBLE_DEVICES'] = '0'\n",
    "#     os.environ['CUDA_VISIBLE_DEVICES'] = '0,1,2,3'\n",
    "    \n",
    "!nvidia-smi"
   ]
  },
  {
   "cell_type": "code",
   "execution_count": 2,
   "id": "29f3b4e8",
   "metadata": {},
   "outputs": [
    {
     "name": "stdout",
     "output_type": "stream",
     "text": [
      "[2023-10-06 21:46:54,901] [INFO] [real_accelerator.py:158:get_accelerator] Setting ds_accelerator to cuda (auto detect)\n"
     ]
    }
   ],
   "source": [
    "from collections import defaultdict\n",
    "from functools import partial\n",
    "import os\n",
    "import numpy as np\n",
    "import time\n",
    "import random\n",
    "import pickle\n",
    "from tqdm import tqdm \n",
    "\n",
    "import pyarrow # import before `torch`, `transformers`, `datasets`\n",
    "import torch\n",
    "from torch.utils.data import DataLoader\n",
    "\n",
    "from datasets import load_dataset\n",
    "\n",
    "from transformers import AutoModelForCausalLM, AutoTokenizer\n",
    "\n",
    "from open_instruct.finetune_trainer import encode_with_prompt_completion_format, encode_with_messages_format\n",
    "from note_llama_embeddings import combine_lm_outputs_for_mixes, datasets_shard_chunk_size, compute_losses\n"
   ]
  },
  {
   "cell_type": "code",
   "execution_count": 3,
   "id": "8b6c67a9",
   "metadata": {},
   "outputs": [],
   "source": [
    "test_run = True\n",
    "shuffle = False\n",
    "\n",
    "model_name = 'llama-7b'; model_name_or_path = '../results/baselines/huggyllama/llama-7b'\n",
    "model_name = 'pythia-1.4b'; model_name_or_path = '../results/baselines/EleutherAI/pythia-1.4b'\n",
    "model_name = 'pythia-160m-deduped'; model_name_or_path = 'EleutherAI/pythia-160m-deduped'\n",
    "\n",
    "\n",
    "save_dir = f\"/gpfs/u/home/PTFM/PTFMqngp/scratch/github/mitibm2023/external/open-instruct/scripts/model_outputs/{model_name}\"\n",
    "if not test_run:\n",
    "    os.makedirs(save_dir, exist_ok=True)"
   ]
  },
  {
   "cell_type": "code",
   "execution_count": 54,
   "id": "2aa6afe1",
   "metadata": {
    "scrolled": true
   },
   "outputs": [
    {
     "name": "stdout",
     "output_type": "stream",
     "text": [
      "rank/local_rank/world_size: 0/0/1\n",
      "\n"
     ]
    }
   ],
   "source": [
    "dataset = 'lima'\n",
    "dataset = 'flan_v2'\n",
    "\n",
    "use_dist = False\n",
    "shuffle = True\n",
    "\n",
    "\n",
    "if dataset in ['tulu_v1_human_mix', 'tulu_v2_human_mix']:\n",
    "    combine_lm_outputs_for_mixes(dataset, save_dir)\n",
    "\n",
    "\n",
    "if use_dist:\n",
    "    dist.init_process_group(\"gloo\", timeout=datetime.timedelta(hours=6))\n",
    "    world_size = dist.get_world_size()\n",
    "    rank = dist.get_rank() # global rank\n",
    "    local_rank = int(os.environ[\"LOCAL_RANK\"])\n",
    "else:\n",
    "    rank = 0\n",
    "    local_rank = 0\n",
    "    world_size = 1\n",
    "\n",
    "print(f'rank/local_rank/world_size: {rank}/{local_rank}/{world_size}\\n')\n",
    "\n",
    "device = f'cuda:{str(local_rank)}'\n"
   ]
  },
  {
   "cell_type": "code",
   "execution_count": 5,
   "id": "2bd9434f",
   "metadata": {},
   "outputs": [
    {
     "name": "stderr",
     "output_type": "stream",
     "text": [
      "Using pad_token, but it is not set yet.\n"
     ]
    }
   ],
   "source": [
    "model = AutoModelForCausalLM.from_pretrained(\n",
    "    model_name_or_path,\n",
    "    device_map=device,\n",
    "    torch_dtype=torch.float16)\n",
    "model.eval()\n",
    "\n",
    "tokenizer = AutoTokenizer.from_pretrained(\n",
    "    model_name_or_path, use_fast=True)\n",
    "tokenizer.padding_side = 'left'\n",
    "if tokenizer.pad_token is None:\n",
    "    tokenizer.pad_token = tokenizer.eos_token\n",
    "    tokenizer.pad_token_id = tokenizer.eos_token_id"
   ]
  },
  {
   "cell_type": "code",
   "execution_count": 55,
   "id": "3dbcbc6d",
   "metadata": {},
   "outputs": [
    {
     "name": "stderr",
     "output_type": "stream",
     "text": [
      "Found cached dataset json (/gpfs/u/scratch/PTFM/PTFMqngp/huggingface_cache/datasets/json/default-486fcbba36f2e93b/0.0.0/8bb11242116d547c741b2e8a1f18598ffdd40a1d4f2a2872c7a28b697434bc96)\n"
     ]
    },
    {
     "data": {
      "application/vnd.jupyter.widget-view+json": {
       "model_id": "b5f0412d2a35414195a94e9639525f6f",
       "version_major": 2,
       "version_minor": 0
      },
      "text/plain": [
       "  0%|          | 0/1 [00:00<?, ?it/s]"
      ]
     },
     "metadata": {},
     "output_type": "display_data"
    },
    {
     "name": "stdout",
     "output_type": "stream",
     "text": [
      "flan_v2 dataset length = 1000\n"
     ]
    },
    {
     "data": {
      "application/vnd.jupyter.widget-view+json": {
       "model_id": "",
       "version_major": 2,
       "version_minor": 0
      },
      "text/plain": [
       "Tokenizing and reformatting instruction data (num_proc=16):   0%|          | 0/1000 [00:00<?, ? examples/s]"
      ]
     },
     "metadata": {},
     "output_type": "display_data"
    }
   ],
   "source": [
    "processed_dir = '../data/processed'\n",
    "if 'flan2022' in dataset:\n",
    "    train_file = os.path.join(processed_dir, 'flan2022', f'{dataset}_data.jsonl')\n",
    "else:\n",
    "    train_file = os.path.join(processed_dir, dataset, f'{dataset}_data.jsonl')\n",
    "assert(os.path.isfile(train_file))\n",
    "\n",
    "\n",
    "encode_function = partial(\n",
    "    encode_with_messages_format, tokenizer=tokenizer, max_seq_length=2048)\n",
    "\n",
    "if rank == 0:\n",
    "    raw_datasets = load_dataset(\"json\", data_files={'train': train_file})\n",
    "    if test_run:\n",
    "        raw_datasets['train'] = raw_datasets['train'].select(range(1000))\n",
    "    print(f\"{dataset} dataset length = {len(raw_datasets['train'])}\")\n",
    "    lm_datasets = raw_datasets.map(\n",
    "        encode_function, batched=False, num_proc=16,\n",
    "        desc=\"Tokenizing and reformatting instruction data\")\n",
    "if use_dist:\n",
    "    dist.barrier()\n",
    "if rank!= 0:\n",
    "    raw_datasets = load_dataset(\"json\", data_files={'train': train_file})\n",
    "    if test_run:\n",
    "        raw_datasets['train'] = raw_datasets['train'].select(range(1000))\n",
    "    print(f\"{dataset} dataset length = {len(raw_datasets['train'])}\")\n",
    "    lm_datasets = raw_datasets.map(\n",
    "        encode_function, batched=False, num_proc=16,\n",
    "        desc=\"Tokenizing and reformatting instruction data\")\n",
    "\n",
    "    \n",
    "\n",
    "train_dataset = lm_datasets['train']\n",
    "train_dataset.set_format(\n",
    "    type=\"torch\",\n",
    "    output_all_columns=False,\n",
    "    columns=['input_ids', 'labels', 'attention_mask'])\n",
    "if shuffle:\n",
    "    random.seed(0)\n",
    "    shuffle_inds = list(range(len(train_dataset)))\n",
    "    random.shuffle(shuffle_inds)\n",
    "    reverse_shuffle_inds = [(i, ind) for i, ind in enumerate(shuffle_inds)]\n",
    "    reverse_shuffle_inds = sorted(reverse_shuffle_inds, key=lambda x: x[1])\n",
    "    reverse_shuffle_inds = [x[0] for x in reverse_shuffle_inds]\n",
    "    train_dataset = train_dataset.select(shuffle_inds)\n",
    "train_dataset_chunk_sizes = [datasets_shard_chunk_size(len(train_dataset), num_shards=world_size, index=i) \n",
    "            for i in range(world_size)]\n",
    "train_dataset = train_dataset.shard(\n",
    "    num_shards=world_size, \n",
    "    index=rank,\n",
    "    contiguous=True)\n",
    "loader = DataLoader(train_dataset, shuffle=False, batch_size=1, pin_memory=True) "
   ]
  },
  {
   "cell_type": "code",
   "execution_count": 56,
   "id": "0e2f99ef",
   "metadata": {},
   "outputs": [
    {
     "name": "stderr",
     "output_type": "stream",
     "text": [
      "100%|██████████| 1000/1000 [01:07<00:00, 14.88it/s]\n"
     ]
    },
    {
     "name": "stdout",
     "output_type": "stream",
     "text": [
      "[local_rank/global=0/0] output=[('text_embedding', (1000, 768)), ('log_prob', (1000, 1)), ('el2n_agg=mean', (1000, 1)), ('el2n_agg=l2n', (1000, 1)), ('logit_margin', (1000, 1)), ('grad_norm', (1000, 1))]\n"
     ]
    }
   ],
   "source": [
    "i = 0\n",
    "\n",
    "output = defaultdict(list)\n",
    "for batch in tqdm(loader, disable=rank!=0, total=len(loader)):\n",
    "    batch = {k: v.to(device, non_blocking=True) for k, v in batch.items()}\n",
    "    # with torch.inference_mode():\n",
    "    outputs = model(**batch, output_hidden_states=True)\n",
    "\n",
    "    # (bsz, seq_len, hidden_size) -> (bsz, hidden_size)\n",
    "    text_embedding = outputs['hidden_states'][-1].mean(1)\n",
    "    # average of output token log probs\n",
    "    log_prob = -outputs['loss']\n",
    "    # compute EL2N score\n",
    "    losses = compute_losses(outputs['logits'], batch['labels'])\n",
    "\n",
    "    output['text_embedding'].append(text_embedding.detach().cpu().to(torch.float32))\n",
    "    output['log_prob'].append(log_prob.detach().cpu())\n",
    "    for k in ['el2n_agg=mean', 'el2n_agg=l2n', 'logit_margin']:\n",
    "        output[k].append(losses[k].detach().cpu())\n",
    "\n",
    "    \n",
    "    model.zero_grad()\n",
    "    outputs['loss'].backward()\n",
    "    \n",
    "\n",
    "    grads = []\n",
    "    for param_name, param in model.named_parameters():\n",
    "        if param.requires_grad and param.grad is not None:\n",
    "            grads.append(param.grad.squeeze())\n",
    "    grads = [x.reshape(-1,1) for x in grads]\n",
    "    grads = torch.vstack(grads)\n",
    "    grad_norm = torch.sum(grads*grads).detach().cpu()\n",
    "    output['grad_norm'].append(grad_norm)\n",
    "    # print(f'grad_norm = {grad_norm:.2f}')\n",
    "    \n",
    "    \n",
    "    i += 1\n",
    "#     if i == 300:\n",
    "#         break\n",
    "        \n",
    "    \n",
    "for k, v in output.items():\n",
    "    output[k] = torch.vstack(v).to(torch.float32).numpy()\n",
    "    \n",
    "\n",
    "print(f'[local_rank/global={local_rank}/{rank}] '\n",
    "      f'output={[(k, v.shape) for k, v in output.items()]}')"
   ]
  },
  {
   "cell_type": "code",
   "execution_count": 66,
   "id": "2f97eb7d",
   "metadata": {},
   "outputs": [
    {
     "data": {
      "image/png": "[encoded data removed]",
      "text/plain": [
       "<Figure size 500x500 with 2 Axes>"
      ]
     },
     "metadata": {},
     "output_type": "display_data"
    }
   ],
   "source": [
    "from rosemary import plt_kernel_matrix_one\n",
    "import matplotlib.pyplot as plt\n",
    "from scipy import stats\n",
    "\n",
    "metrics_name = ['log_prob', 'el2n_agg=mean', 'el2n_agg=l2n', 'logit_margin', 'grad_norm']\n",
    "metrics = [output[k] for k in metrics_name]\n",
    "any_isnan_mask = np.hstack([np.isnan(x) for x in metrics]).any(-1)\n",
    "metrics = [x[~any_isnan_mask] for x in metrics]\n",
    "N = len(metrics)\n",
    "K = np.zeros((N, N))\n",
    "for i, mi in enumerate(metrics):\n",
    "    for j, mj in enumerate(metrics):\n",
    "        s = stats.spearmanr(mi, mj)\n",
    "        K[i,j] = s.statistic\n",
    "        \n",
    "\n",
    "fig, ax = plt.subplots(1,1,figsize=(5,5))\n",
    "plt_kernel_matrix_one(\n",
    "    fig, ax, K, title=f'Spearmanr ({model_name}:{dataset})', \n",
    "    vmin=-1, vmax=1, cmap='bwr', annotate=True)\n",
    "ax.set_xticklabels(metrics_name, rotation=-45)\n",
    "ax.set_yticklabels(metrics_name)\n",
    "\n",
    "fig.tight_layout()"
   ]
  },
  {
   "cell_type": "code",
   "execution_count": 53,
   "id": "66a3c82a",
   "metadata": {},
   "outputs": [
    {
     "data": {
      "image/png": "[encoded data removed]",
      "text/plain": [
       "<Figure size 500x500 with 2 Axes>"
      ]
     },
     "metadata": {},
     "output_type": "display_data"
    }
   ],
   "source": [
    "from rosemary import plt_kernel_matrix_one\n",
    "import matplotlib.pyplot as plt\n",
    "from scipy import stats\n",
    "\n",
    "metrics_name = ['log_prob', 'el2n_agg=mean', 'el2n_agg=l2n', 'logit_margin', 'grad_norm']\n",
    "metrics = [output[k] for k in metrics_name]\n",
    "N = len(metrics)\n",
    "K = np.zeros((N, N))\n",
    "for i, mi in enumerate(metrics):\n",
    "    for j, mj in enumerate(metrics):\n",
    "        s = stats.spearmanr(mi, mj)\n",
    "        K[i,j] = s.statistic\n",
    "        \n",
    "\n",
    "fig, ax = plt.subplots(1,1,figsize=(5,5))\n",
    "plt_kernel_matrix_one(\n",
    "    fig, ax, K, title=f'Spearmanr ({model_name}:{dataset})', \n",
    "    vmin=-1, vmax=1, cmap='bwr', annotate=True)\n",
    "ax.set_xticklabels(metrics_name, rotation=-45)\n",
    "ax.set_yticklabels(metrics_name)\n",
    "\n",
    "fig.tight_layout()"
   ]
  },
  {
   "cell_type": "code",
   "execution_count": null,
   "id": "9d8ffeae",
   "metadata": {},
   "outputs": [],
   "source": []
  },
  {
   "cell_type": "code",
   "execution_count": 11,
   "id": "0e561999",
   "metadata": {},
   "outputs": [],
   "source": [
    "\n",
    "\n",
    "outputs['loss'].backward()\n",
    "# logits[0, class_idx].backward(retain_graph=True)\n",
    "\n",
    "# bsz, seq, dim\n",
    "# outputs['logits'][0,0,1000].backward(retain_graph=True)\n",
    "\n",
    "\n"
   ]
  },
  {
   "cell_type": "code",
   "execution_count": 12,
   "id": "d94ced3a",
   "metadata": {},
   "outputs": [
    {
     "name": "stdout",
     "output_type": "stream",
     "text": [
      "Gradient for gpt_neox.embed_in.weight: torch.Size([50304, 768])\n",
      "Gradient for gpt_neox.layers.0.input_layernorm.weight: torch.Size([768])\n",
      "Gradient for gpt_neox.layers.0.input_layernorm.bias: torch.Size([768])\n",
      "Gradient for gpt_neox.layers.0.post_attention_layernorm.weight: torch.Size([768])\n",
      "Gradient for gpt_neox.layers.0.post_attention_layernorm.bias: torch.Size([768])\n",
      "Gradient for gpt_neox.layers.0.attention.query_key_value.weight: torch.Size([2304, 768])\n",
      "Gradient for gpt_neox.layers.0.attention.query_key_value.bias: torch.Size([2304])\n",
      "Gradient for gpt_neox.layers.0.attention.dense.weight: torch.Size([768, 768])\n",
      "Gradient for gpt_neox.layers.0.attention.dense.bias: torch.Size([768])\n",
      "Gradient for gpt_neox.layers.0.mlp.dense_h_to_4h.weight: torch.Size([3072, 768])\n",
      "Gradient for gpt_neox.layers.0.mlp.dense_h_to_4h.bias: torch.Size([3072])\n",
      "Gradient for gpt_neox.layers.0.mlp.dense_4h_to_h.weight: torch.Size([768, 3072])\n",
      "Gradient for gpt_neox.layers.0.mlp.dense_4h_to_h.bias: torch.Size([768])\n",
      "Gradient for gpt_neox.layers.1.input_layernorm.weight: torch.Size([768])\n",
      "Gradient for gpt_neox.layers.1.input_layernorm.bias: torch.Size([768])\n",
      "Gradient for gpt_neox.layers.1.post_attention_layernorm.weight: torch.Size([768])\n",
      "Gradient for gpt_neox.layers.1.post_attention_layernorm.bias: torch.Size([768])\n",
      "Gradient for gpt_neox.layers.1.attention.query_key_value.weight: torch.Size([2304, 768])\n",
      "Gradient for gpt_neox.layers.1.attention.query_key_value.bias: torch.Size([2304])\n",
      "Gradient for gpt_neox.layers.1.attention.dense.weight: torch.Size([768, 768])\n",
      "Gradient for gpt_neox.layers.1.attention.dense.bias: torch.Size([768])\n",
      "Gradient for gpt_neox.layers.1.mlp.dense_h_to_4h.weight: torch.Size([3072, 768])\n",
      "Gradient for gpt_neox.layers.1.mlp.dense_h_to_4h.bias: torch.Size([3072])\n",
      "Gradient for gpt_neox.layers.1.mlp.dense_4h_to_h.weight: torch.Size([768, 3072])\n",
      "Gradient for gpt_neox.layers.1.mlp.dense_4h_to_h.bias: torch.Size([768])\n",
      "Gradient for gpt_neox.layers.2.input_layernorm.weight: torch.Size([768])\n",
      "Gradient for gpt_neox.layers.2.input_layernorm.bias: torch.Size([768])\n",
      "Gradient for gpt_neox.layers.2.post_attention_layernorm.weight: torch.Size([768])\n",
      "Gradient for gpt_neox.layers.2.post_attention_layernorm.bias: torch.Size([768])\n",
      "Gradient for gpt_neox.layers.2.attention.query_key_value.weight: torch.Size([2304, 768])\n",
      "Gradient for gpt_neox.layers.2.attention.query_key_value.bias: torch.Size([2304])\n",
      "Gradient for gpt_neox.layers.2.attention.dense.weight: torch.Size([768, 768])\n",
      "Gradient for gpt_neox.layers.2.attention.dense.bias: torch.Size([768])\n",
      "Gradient for gpt_neox.layers.2.mlp.dense_h_to_4h.weight: torch.Size([3072, 768])\n",
      "Gradient for gpt_neox.layers.2.mlp.dense_h_to_4h.bias: torch.Size([3072])\n",
      "Gradient for gpt_neox.layers.2.mlp.dense_4h_to_h.weight: torch.Size([768, 3072])\n",
      "Gradient for gpt_neox.layers.2.mlp.dense_4h_to_h.bias: torch.Size([768])\n",
      "Gradient for gpt_neox.layers.3.input_layernorm.weight: torch.Size([768])\n",
      "Gradient for gpt_neox.layers.3.input_layernorm.bias: torch.Size([768])\n",
      "Gradient for gpt_neox.layers.3.post_attention_layernorm.weight: torch.Size([768])\n",
      "Gradient for gpt_neox.layers.3.post_attention_layernorm.bias: torch.Size([768])\n",
      "Gradient for gpt_neox.layers.3.attention.query_key_value.weight: torch.Size([2304, 768])\n",
      "Gradient for gpt_neox.layers.3.attention.query_key_value.bias: torch.Size([2304])\n",
      "Gradient for gpt_neox.layers.3.attention.dense.weight: torch.Size([768, 768])\n",
      "Gradient for gpt_neox.layers.3.attention.dense.bias: torch.Size([768])\n",
      "Gradient for gpt_neox.layers.3.mlp.dense_h_to_4h.weight: torch.Size([3072, 768])\n",
      "Gradient for gpt_neox.layers.3.mlp.dense_h_to_4h.bias: torch.Size([3072])\n",
      "Gradient for gpt_neox.layers.3.mlp.dense_4h_to_h.weight: torch.Size([768, 3072])\n",
      "Gradient for gpt_neox.layers.3.mlp.dense_4h_to_h.bias: torch.Size([768])\n",
      "Gradient for gpt_neox.layers.4.input_layernorm.weight: torch.Size([768])\n",
      "Gradient for gpt_neox.layers.4.input_layernorm.bias: torch.Size([768])\n",
      "Gradient for gpt_neox.layers.4.post_attention_layernorm.weight: torch.Size([768])\n",
      "Gradient for gpt_neox.layers.4.post_attention_layernorm.bias: torch.Size([768])\n",
      "Gradient for gpt_neox.layers.4.attention.query_key_value.weight: torch.Size([2304, 768])\n",
      "Gradient for gpt_neox.layers.4.attention.query_key_value.bias: torch.Size([2304])\n",
      "Gradient for gpt_neox.layers.4.attention.dense.weight: torch.Size([768, 768])\n",
      "Gradient for gpt_neox.layers.4.attention.dense.bias: torch.Size([768])\n",
      "Gradient for gpt_neox.layers.4.mlp.dense_h_to_4h.weight: torch.Size([3072, 768])\n",
      "Gradient for gpt_neox.layers.4.mlp.dense_h_to_4h.bias: torch.Size([3072])\n",
      "Gradient for gpt_neox.layers.4.mlp.dense_4h_to_h.weight: torch.Size([768, 3072])\n",
      "Gradient for gpt_neox.layers.4.mlp.dense_4h_to_h.bias: torch.Size([768])\n",
      "Gradient for gpt_neox.layers.5.input_layernorm.weight: torch.Size([768])\n",
      "Gradient for gpt_neox.layers.5.input_layernorm.bias: torch.Size([768])\n",
      "Gradient for gpt_neox.layers.5.post_attention_layernorm.weight: torch.Size([768])\n",
      "Gradient for gpt_neox.layers.5.post_attention_layernorm.bias: torch.Size([768])\n",
      "Gradient for gpt_neox.layers.5.attention.query_key_value.weight: torch.Size([2304, 768])\n",
      "Gradient for gpt_neox.layers.5.attention.query_key_value.bias: torch.Size([2304])\n",
      "Gradient for gpt_neox.layers.5.attention.dense.weight: torch.Size([768, 768])\n",
      "Gradient for gpt_neox.layers.5.attention.dense.bias: torch.Size([768])\n",
      "Gradient for gpt_neox.layers.5.mlp.dense_h_to_4h.weight: torch.Size([3072, 768])\n",
      "Gradient for gpt_neox.layers.5.mlp.dense_h_to_4h.bias: torch.Size([3072])\n",
      "Gradient for gpt_neox.layers.5.mlp.dense_4h_to_h.weight: torch.Size([768, 3072])\n",
      "Gradient for gpt_neox.layers.5.mlp.dense_4h_to_h.bias: torch.Size([768])\n",
      "Gradient for gpt_neox.layers.6.input_layernorm.weight: torch.Size([768])\n",
      "Gradient for gpt_neox.layers.6.input_layernorm.bias: torch.Size([768])\n",
      "Gradient for gpt_neox.layers.6.post_attention_layernorm.weight: torch.Size([768])\n",
      "Gradient for gpt_neox.layers.6.post_attention_layernorm.bias: torch.Size([768])\n",
      "Gradient for gpt_neox.layers.6.attention.query_key_value.weight: torch.Size([2304, 768])\n",
      "Gradient for gpt_neox.layers.6.attention.query_key_value.bias: torch.Size([2304])\n",
      "Gradient for gpt_neox.layers.6.attention.dense.weight: torch.Size([768, 768])\n",
      "Gradient for gpt_neox.layers.6.attention.dense.bias: torch.Size([768])\n",
      "Gradient for gpt_neox.layers.6.mlp.dense_h_to_4h.weight: torch.Size([3072, 768])\n",
      "Gradient for gpt_neox.layers.6.mlp.dense_h_to_4h.bias: torch.Size([3072])\n",
      "Gradient for gpt_neox.layers.6.mlp.dense_4h_to_h.weight: torch.Size([768, 3072])\n",
      "Gradient for gpt_neox.layers.6.mlp.dense_4h_to_h.bias: torch.Size([768])\n",
      "Gradient for gpt_neox.layers.7.input_layernorm.weight: torch.Size([768])\n",
      "Gradient for gpt_neox.layers.7.input_layernorm.bias: torch.Size([768])\n",
      "Gradient for gpt_neox.layers.7.post_attention_layernorm.weight: torch.Size([768])\n",
      "Gradient for gpt_neox.layers.7.post_attention_layernorm.bias: torch.Size([768])\n",
      "Gradient for gpt_neox.layers.7.attention.query_key_value.weight: torch.Size([2304, 768])\n",
      "Gradient for gpt_neox.layers.7.attention.query_key_value.bias: torch.Size([2304])\n",
      "Gradient for gpt_neox.layers.7.attention.dense.weight: torch.Size([768, 768])\n",
      "Gradient for gpt_neox.layers.7.attention.dense.bias: torch.Size([768])\n",
      "Gradient for gpt_neox.layers.7.mlp.dense_h_to_4h.weight: torch.Size([3072, 768])\n",
      "Gradient for gpt_neox.layers.7.mlp.dense_h_to_4h.bias: torch.Size([3072])\n",
      "Gradient for gpt_neox.layers.7.mlp.dense_4h_to_h.weight: torch.Size([768, 3072])\n",
      "Gradient for gpt_neox.layers.7.mlp.dense_4h_to_h.bias: torch.Size([768])\n",
      "Gradient for gpt_neox.layers.8.input_layernorm.weight: torch.Size([768])\n",
      "Gradient for gpt_neox.layers.8.input_layernorm.bias: torch.Size([768])\n",
      "Gradient for gpt_neox.layers.8.post_attention_layernorm.weight: torch.Size([768])\n",
      "Gradient for gpt_neox.layers.8.post_attention_layernorm.bias: torch.Size([768])\n",
      "Gradient for gpt_neox.layers.8.attention.query_key_value.weight: torch.Size([2304, 768])\n",
      "Gradient for gpt_neox.layers.8.attention.query_key_value.bias: torch.Size([2304])\n",
      "Gradient for gpt_neox.layers.8.attention.dense.weight: torch.Size([768, 768])\n",
      "Gradient for gpt_neox.layers.8.attention.dense.bias: torch.Size([768])\n",
      "Gradient for gpt_neox.layers.8.mlp.dense_h_to_4h.weight: torch.Size([3072, 768])\n",
      "Gradient for gpt_neox.layers.8.mlp.dense_h_to_4h.bias: torch.Size([3072])\n",
      "Gradient for gpt_neox.layers.8.mlp.dense_4h_to_h.weight: torch.Size([768, 3072])\n",
      "Gradient for gpt_neox.layers.8.mlp.dense_4h_to_h.bias: torch.Size([768])\n",
      "Gradient for gpt_neox.layers.9.input_layernorm.weight: torch.Size([768])\n",
      "Gradient for gpt_neox.layers.9.input_layernorm.bias: torch.Size([768])\n",
      "Gradient for gpt_neox.layers.9.post_attention_layernorm.weight: torch.Size([768])\n",
      "Gradient for gpt_neox.layers.9.post_attention_layernorm.bias: torch.Size([768])\n",
      "Gradient for gpt_neox.layers.9.attention.query_key_value.weight: torch.Size([2304, 768])\n",
      "Gradient for gpt_neox.layers.9.attention.query_key_value.bias: torch.Size([2304])\n",
      "Gradient for gpt_neox.layers.9.attention.dense.weight: torch.Size([768, 768])\n",
      "Gradient for gpt_neox.layers.9.attention.dense.bias: torch.Size([768])\n",
      "Gradient for gpt_neox.layers.9.mlp.dense_h_to_4h.weight: torch.Size([3072, 768])\n",
      "Gradient for gpt_neox.layers.9.mlp.dense_h_to_4h.bias: torch.Size([3072])\n",
      "Gradient for gpt_neox.layers.9.mlp.dense_4h_to_h.weight: torch.Size([768, 3072])\n",
      "Gradient for gpt_neox.layers.9.mlp.dense_4h_to_h.bias: torch.Size([768])\n",
      "Gradient for gpt_neox.layers.10.input_layernorm.weight: torch.Size([768])\n",
      "Gradient for gpt_neox.layers.10.input_layernorm.bias: torch.Size([768])\n",
      "Gradient for gpt_neox.layers.10.post_attention_layernorm.weight: torch.Size([768])\n",
      "Gradient for gpt_neox.layers.10.post_attention_layernorm.bias: torch.Size([768])\n",
      "Gradient for gpt_neox.layers.10.attention.query_key_value.weight: torch.Size([2304, 768])\n",
      "Gradient for gpt_neox.layers.10.attention.query_key_value.bias: torch.Size([2304])\n",
      "Gradient for gpt_neox.layers.10.attention.dense.weight: torch.Size([768, 768])\n",
      "Gradient for gpt_neox.layers.10.attention.dense.bias: torch.Size([768])\n",
      "Gradient for gpt_neox.layers.10.mlp.dense_h_to_4h.weight: torch.Size([3072, 768])\n",
      "Gradient for gpt_neox.layers.10.mlp.dense_h_to_4h.bias: torch.Size([3072])\n",
      "Gradient for gpt_neox.layers.10.mlp.dense_4h_to_h.weight: torch.Size([768, 3072])\n",
      "Gradient for gpt_neox.layers.10.mlp.dense_4h_to_h.bias: torch.Size([768])\n",
      "Gradient for gpt_neox.layers.11.input_layernorm.weight: torch.Size([768])\n",
      "Gradient for gpt_neox.layers.11.input_layernorm.bias: torch.Size([768])\n",
      "Gradient for gpt_neox.layers.11.post_attention_layernorm.weight: torch.Size([768])\n",
      "Gradient for gpt_neox.layers.11.post_attention_layernorm.bias: torch.Size([768])\n",
      "Gradient for gpt_neox.layers.11.attention.query_key_value.weight: torch.Size([2304, 768])\n",
      "Gradient for gpt_neox.layers.11.attention.query_key_value.bias: torch.Size([2304])\n",
      "Gradient for gpt_neox.layers.11.attention.dense.weight: torch.Size([768, 768])\n",
      "Gradient for gpt_neox.layers.11.attention.dense.bias: torch.Size([768])\n",
      "Gradient for gpt_neox.layers.11.mlp.dense_h_to_4h.weight: torch.Size([3072, 768])\n",
      "Gradient for gpt_neox.layers.11.mlp.dense_h_to_4h.bias: torch.Size([3072])\n",
      "Gradient for gpt_neox.layers.11.mlp.dense_4h_to_h.weight: torch.Size([768, 3072])\n",
      "Gradient for gpt_neox.layers.11.mlp.dense_4h_to_h.bias: torch.Size([768])\n",
      "Gradient for gpt_neox.final_layer_norm.weight: torch.Size([768])\n",
      "Gradient for gpt_neox.final_layer_norm.bias: torch.Size([768])\n",
      "Gradient for embed_out.weight: torch.Size([50304, 768])\n"
     ]
    }
   ],
   "source": [
    "\n",
    "\n",
    "grads = []\n",
    "\n",
    "for param_name, param in model.named_parameters():\n",
    "    if param.requires_grad and param.grad is not None:\n",
    "        print(f\"Gradient for {param_name}: {param.grad.shape}\")\n",
    "        grads.append(param.grad.squeeze())\n"
   ]
  },
  {
   "cell_type": "code",
   "execution_count": 13,
   "id": "4bb222c5",
   "metadata": {},
   "outputs": [
    {
     "data": {
      "text/plain": [
       "(torch.Size([162322944, 1]),\n",
       " tensor(1742., device='cuda:0', dtype=torch.float16))"
      ]
     },
     "execution_count": 13,
     "metadata": {},
     "output_type": "execute_result"
    }
   ],
   "source": [
    "grads = [x.reshape(-1,1) for x in grads]\n",
    "grads = torch.vstack(grads)\n",
    "grads.shape, torch.sum(grads*grads)"
   ]
  },
  {
   "cell_type": "code",
   "execution_count": 15,
   "id": "29d436a6",
   "metadata": {
    "scrolled": true
   },
   "outputs": [
    {
     "name": "stdout",
     "output_type": "stream",
     "text": [
      "grad = 0.605 GB\n"
     ]
    }
   ],
   "source": [
    "print(f'grad = {grads.shape[0]*4/1024/1024/1024:.3f} GB')"
   ]
  },
  {
   "cell_type": "code",
   "execution_count": null,
   "id": "3f3658c0",
   "metadata": {},
   "outputs": [],
   "source": [
    "\n",
    "# Compute gradients for all logits at once\n",
    "class_indices = torch.arange(logits_all_classes.size(1))  # Assuming logits are in the second dimension\n",
    "logit_gradients = torch.autograd.grad(outputs=logits_all_classes[:, class_indices], inputs=model.parameters(), retain_graph=True)\n"
   ]
  },
  {
   "cell_type": "code",
   "execution_count": null,
   "id": "daeb3770",
   "metadata": {
    "scrolled": true
   },
   "outputs": [],
   "source": [
    "from note_llama_embeddings import compute_losses\n",
    "\n",
    "labels = batch['labels']\n",
    "logits = outputs['logits']\n",
    "\n",
    "\n",
    "# compute_losses(logits, labels)"
   ]
  },
  {
   "cell_type": "code",
   "execution_count": null,
   "id": "d04b4775",
   "metadata": {},
   "outputs": [],
   "source": []
  }
 ],
 "metadata": {
  "kernelspec": {
   "display_name": "Python [conda env:open-instruct]",
   "language": "python",
   "name": "conda-env-open-instruct-py"
  },
  "language_info": {
   "codemirror_mode": {
    "name": "ipython",
    "version": 3
   },
   "file_extension": ".py",
   "mimetype": "text/x-python",
   "name": "python",
   "nbconvert_exporter": "python",
   "pygments_lexer": "ipython3",
   "version": "3.10.12"
  }
 },
 "nbformat": 4,
 "nbformat_minor": 5
}
