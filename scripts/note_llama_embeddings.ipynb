{
 "cells": [
  {
   "cell_type": "code",
   "execution_count": 1,
   "id": "b7ddd718",
   "metadata": {
    "scrolled": true
   },
   "outputs": [
    {
     "name": "stdout",
     "output_type": "stream",
     "text": [
      "\n",
      "Submiting job with:\n",
      "{\n",
      "    \"job_name\": \"lm_outputs.flan2022_1m\",\n",
      "    \"nodes\": 5,\n",
      "    \"num_cpus\": 32,\n",
      "    \"cpu_mem\": 512,\n",
      "    \"num_gpus\": 6,\n",
      "    \"gpu_type\": \"v100\",\n",
      "    \"test_run\": false,\n",
      "    \"queue\": \"el8\",\n",
      "    \"num_jobs\": 1\n",
      "}\n",
      "torchrun --nnodes=5 --nproc_per_node=6 --rdzv-id=$SLURM_JOB_ID --rdzv-backend=c10d --rdzv-endpoint=$RDZV_ENDPOINT note_llama_embeddings.py --dataset=flan2022_1m --model_name_or_path=../results/baselines/huggyllama/llama-7b --save_dir=/gpfs/u/home/PTFM/PTFMqngp/scratch/github/mitibm2023/external/open-instruct/scripts/model_outputs/llama-7b+lora:r=256:a=256 --use_dist --shuffle --compute_grad --use_lora --lora_rank=256 --lora_alpha=256\n",
      "[{'args': 'sbatch --job-name=lm_outputs.flan2022_1m --partition=el8 --nodes=5 --ntasks-per-node=1 --cpus-per-task=32 --mem=512GB --gres=gpu:6 --output=/gpfs/u/scratch/PTFM/PTFMqngp/github/mitibm2023/external/open-instruct/scripts/%J.out --time=6:00:00 /gpfs/u/scratch/PTFM/PTFMqngp/github/mitibm2023/external/open-instruct/scripts/tmppqb9n_gx', 'job_id': 1009462}]\n"
     ]
    },
    {
     "name": "stderr",
     "output_type": "stream",
     "text": [
      "/gpfs/u/scratch/PTFM/PTFMqngp/github/rosemary/src/rosemary/__init__.py:25: UserWarning: Install `torch` for functionalities dependent on torch\n",
      "  warn(f'Install `torch` for functionalities dependent on torch')\n"
     ]
    }
   ],
   "source": [
    "from rosemary import jpt_in_notebook\n",
    "from llm.submit import submit_job, multiline_to_singleline\n",
    "\n",
    "shell_scripts_template = \"\"\"\n",
    "echo \"Running on $SLURM_JOB_NODELIST\"\n",
    "echo \"======\"\n",
    "\n",
    "master_addr=$(scontrol show hostnames \"$SLURM_JOB_NODELIST\" | head -n 1)\n",
    "master_port=10002\n",
    "RDZV_ENDPOINT=$master_addr:$master_port\n",
    "\n",
    "source ~/.profile\n",
    "conda activate open-instruct\n",
    "cd /gpfs/u/scratch/PTFM/PTFMqngp/github/mitibm2023/external/open-instruct/scripts\n",
    "\n",
    "set -e\n",
    "set -x\n",
    "echo \"======\"\n",
    "srun {cmd}\n",
    "\n",
    "[ ! -f \"{log_dir}/$SLURM_JOB_ID*.out\" ] && mv {log_dir}/$SLURM_JOB_ID*.out {save_dir}\n",
    "\"\"\"\n",
    "log_dir = '/gpfs/u/home/PTFM/PTFMqngp/scratch/github/mitibm2023/external/open-instruct/scripts/'\n",
    "\n",
    "nodes = 1; gpus=6\n",
    "\n",
    "test_run = 0\n",
    "test_run = bool(test_run)\n",
    "\n",
    "\n",
    "model_name = 'llama-7b'; model_name_or_path = '../results/baselines/huggyllama/llama-7b'\n",
    "# model_name = 'llama-7b_ft=hmv1'; model_name_or_path = '../results/ft1/llama-7b_humanmix'\n",
    "# model_name = 'pythia-160m-deduped'; model_name_or_path = 'EleutherAI/pythia-160m-deduped'\n",
    "# model_name = 'pythia-1b-deduped'; model_name_or_path = 'EleutherAI/pythia-1b-deduped'\n",
    "\n",
    "compute_grad = False; use_lora = False\n",
    "compute_grad = True; use_lora = True; lora_rank = 256; lora_alpha = lora_rank\n",
    "\n",
    "\n",
    "# datasets = ['cot', 'dolly', 'flan_v2', 'lima', 'oasst1']; nodes = 1; gpus=6; cpu_mem = 512\n",
    "# datasets = ['tulu_v1_human_mix', 'tulu_v2_human_mix']; nodes = 1; gpus=1; cpu_mem = 64\n",
    "# datasets = ['flan_v2']; nodes = 1; gpus=6; cpu_mem = 512\n",
    "datasets = ['flan2022_1m']; nodes = 5; gpus=6; cpu_mem = 512\n",
    "\n",
    "# # for testing\n",
    "# datasets = ['lima']; nodes = 1; gpus=2; cpu_mem = 512\n",
    "\n",
    "save_dir = (f\"/gpfs/u/home/PTFM/PTFMqngp/scratch/github/mitibm2023/external/open-instruct/scripts/\"\n",
    "            f\"model_outputs/{model_name}\")\n",
    "if use_lora:\n",
    "    save_dir += f'+lora:r={lora_rank}:a={lora_alpha}'\n",
    "\n",
    "\n",
    "for dataset in datasets:\n",
    "    cmd = f\"\"\"\n",
    "    torchrun --nnodes={nodes} --nproc_per_node={gpus} \\\n",
    "        --rdzv-id=$SLURM_JOB_ID --rdzv-backend=c10d --rdzv-endpoint=$RDZV_ENDPOINT \\\n",
    "        note_llama_embeddings.py \\\n",
    "        --dataset={dataset} \\\n",
    "        --model_name_or_path={model_name_or_path} \\\n",
    "        --save_dir={save_dir} \\\n",
    "        --use_dist \\\n",
    "        --shuffle \\\n",
    "        {'--compute_grad' if compute_grad else ''} \\\n",
    "        {'--use_lora' if use_lora else ''} \\\n",
    "        {'--lora_rank='+str(lora_rank) if use_lora else ''} \\\n",
    "        {'--lora_alpha='+str(lora_alpha) if use_lora else ''} \\\n",
    "    \"\"\"\n",
    "    cmd = multiline_to_singleline(cmd)\n",
    "\n",
    "    shell_scripts = shell_scripts_template.format(\n",
    "        cmd=cmd, log_dir=log_dir, save_dir=save_dir)\n",
    "    out = submit_job(\n",
    "        shell_scripts, \n",
    "        job_name=f'lm_outputs.{dataset}', \n",
    "        nodes=nodes,\n",
    "        num_cpus=32,\n",
    "        cpu_mem=cpu_mem,\n",
    "        num_gpus=gpus,\n",
    "        gpu_type='v100',\n",
    "        test_run=test_run,\n",
    "        job_duration=6,\n",
    "    )\n",
    "    print(cmd)\n",
    "    if not test_run:\n",
    "        print(out)"
   ]
  },
  {
   "cell_type": "code",
   "execution_count": null,
   "id": "a0dab267",
   "metadata": {
    "scrolled": true
   },
   "outputs": [],
   "source": [
    "p = '/gpfs/u/home/PTFM/PTFMqngp/scratch/github/mitibm2023/external/open-instruct/scripts/model_outputs/llama-7b/lima.pkl'\n",
    "with open(p, 'rb') as f:\n",
    "    x = pickle.load(f)\n",
    "x"
   ]
  },
  {
   "cell_type": "code",
   "execution_count": null,
   "id": "0e976e3d",
   "metadata": {},
   "outputs": [],
   "source": [
    "\n",
    "import matplotlib.pyplot as plt\n",
    "\n",
    "fig, axs = plt.subplots(1,2,figsize=(10,5))\n",
    "\n",
    "ax = axs[0]\n",
    "ax.plot(np.exp(x['log_probs']), label='probs')\n",
    "ax.plot(x['el2ns'], label='el2n')\n",
    "ax.legend()\n",
    "\n",
    "ax = axs[1]\n",
    "ax.scatter(np.exp(x['log_probs']), x['el2ns'])\n",
    "ax.set_xlabel('prob')\n",
    "ax.set_ylabel('el2n')\n"
   ]
  },
  {
   "cell_type": "code",
   "execution_count": null,
   "id": "57b7802b",
   "metadata": {},
   "outputs": [],
   "source": [
    "import os\n",
    "\n",
    "processed_dir = '../data/processed'\n",
    "datasets = []\n",
    "for dataset in os.listdir(processed_dir) + ['tulu_v1_human_mix', 'tulu_v2_human_mix']:\n",
    "    dataset_path = os.path.join(processed_dir, dataset)\n",
    "    save_path = os.path.join(save_dir, f'{dataset}.pkl')\n",
    "    if 'tulu'==dataset:\n",
    "        continue\n",
    "    if 'tulu' not in dataset and not os.path.isdir(dataset_path):\n",
    "        continue\n",
    "    if os.path.isfile(save_path):\n",
    "        continue\n",
    "    datasets.append(dataset)\n",
    "    \n",
    "datasets\n",
    "    "
   ]
  },
  {
   "cell_type": "code",
   "execution_count": 1,
   "id": "554b1e77",
   "metadata": {},
   "outputs": [
    {
     "name": "stderr",
     "output_type": "stream",
     "text": [
      "/gpfs/u/scratch/PTFM/PTFMqngp/github/rosemary/src/rosemary/__init__.py:25: UserWarning: Install `torch` for functionalities dependent on torch\n",
      "  warn(f'Install `torch` for functionalities dependent on torch')\n"
     ]
    },
    {
     "data": {
      "text/html": [
       "<style>.container { width:100% !important; }</style>"
      ],
      "text/plain": [
       "<IPython.core.display.HTML object>"
      ]
     },
     "metadata": {},
     "output_type": "display_data"
    },
    {
     "name": "stdout",
     "output_type": "stream",
     "text": [
      "Sat Oct  7 19:48:43 2023       \n",
      "+-----------------------------------------------------------------------------+\n",
      "| NVIDIA-SMI 460.91.03    Driver Version: 460.91.03    CUDA Version: 11.2     |\n",
      "|-------------------------------+----------------------+----------------------+\n",
      "| GPU  Name        Persistence-M| Bus-Id        Disp.A | Volatile Uncorr. ECC |\n",
      "| Fan  Temp  Perf  Pwr:Usage/Cap|         Memory-Usage | GPU-Util  Compute M. |\n",
      "|                               |                      |               MIG M. |\n",
      "|===============================+======================+======================|\n",
      "|   0  Tesla V100-SXM2...  On   | 00000035:04:00.0 Off |                    0 |\n",
      "| N/A   30C    P0    38W / 300W |      0MiB / 32510MiB |      0%      Default |\n",
      "|                               |                      |                  N/A |\n",
      "+-------------------------------+----------------------+----------------------+\n",
      "|   1  Tesla V100-SXM2...  On   | 00000035:05:00.0 Off |                    0 |\n",
      "| N/A   31C    P0    38W / 300W |      0MiB / 32510MiB |      0%      Default |\n",
      "|                               |                      |                  N/A |\n",
      "+-------------------------------+----------------------+----------------------+\n",
      "                                                                               \n",
      "+-----------------------------------------------------------------------------+\n",
      "| Processes:                                                                  |\n",
      "|  GPU   GI   CI        PID   Type   Process name                  GPU Memory |\n",
      "|        ID   ID                                                   Usage      |\n",
      "|=============================================================================|\n",
      "|  No running processes found                                                 |\n",
      "+-----------------------------------------------------------------------------+\n"
     ]
    }
   ],
   "source": [
    "from rosemary import jpt_parse_args, jpt_setup, jpt_in_notebook; jpt_setup()\n",
    "\n",
    "if jpt_in_notebook():\n",
    "    import os\n",
    "    \n",
    "    os.environ['CUDA_VISIBLE_DEVICES'] = '1'\n",
    "#     os.environ['CUDA_VISIBLE_DEVICES'] = '0,1,2,3'\n",
    "    \n",
    "!nvidia-smi"
   ]
  },
  {
   "cell_type": "code",
   "execution_count": 2,
   "id": "29f3b4e8",
   "metadata": {},
   "outputs": [
    {
     "name": "stdout",
     "output_type": "stream",
     "text": [
      "[2023-10-07 19:48:45,460] [INFO] [real_accelerator.py:158:get_accelerator] Setting ds_accelerator to cuda (auto detect)\n"
     ]
    }
   ],
   "source": [
    "from collections import defaultdict\n",
    "from functools import partial\n",
    "import os\n",
    "import numpy as np\n",
    "import time\n",
    "import re\n",
    "import random\n",
    "import pickle\n",
    "from tqdm import tqdm \n",
    "import pandas as pd\n",
    "\n",
    "\n",
    "import pyarrow # import before `torch`, `transformers`, `datasets`\n",
    "import torch\n",
    "from torch.utils.data import DataLoader\n",
    "\n",
    "from datasets import load_dataset\n",
    "\n",
    "from transformers import AutoModelForCausalLM, AutoTokenizer\n",
    "from peft import get_peft_config, get_peft_model, LoraConfig, TaskType\n",
    "\n",
    "from open_instruct.finetune_trainer import encode_with_prompt_completion_format, encode_with_messages_format\n",
    "from note_llama_embeddings import (\n",
    "    combine_lm_outputs_for_mixes, \n",
    "    datasets_shard_chunk_size, \n",
    "    compute_losses, \n",
    "    compute_grad_statistic, \n",
    "    compute_grad_norm,\n",
    "    print_trainable_parameters,\n",
    "    get_grad_statistic_pattern,\n",
    ")\n"
   ]
  },
  {
   "cell_type": "code",
   "execution_count": 54,
   "id": "8b6c67a9",
   "metadata": {},
   "outputs": [],
   "source": [
    "test_run = True\n",
    "dataset = 'lima'\n",
    "dataset = 'flan_v2'\n",
    "# dataset = 'oasst1'\n",
    "use_dist = False\n",
    "shuffle = True\n",
    "compute_grad = True\n",
    "use_lora = True\n",
    "lora_rank = 512\n",
    "lora_alpha = lora_rank\n",
    "\n",
    "model_name = 'llama-7b'; model_name_or_path = '../results/baselines/huggyllama/llama-7b'\n",
    "# model_name = 'pythia-1.4b'; model_name_or_path = '../results/baselines/EleutherAI/pythia-1.4b'\n",
    "# model_name = 'pythia-160m-deduped'; model_name_or_path = 'EleutherAI/pythia-160m-deduped'\n",
    "\n",
    "\n",
    "save_dir = f\"/gpfs/u/home/PTFM/PTFMqngp/scratch/github/mitibm2023/external/open-instruct/scripts/model_outputs/{model_name}\"\n",
    "if not test_run:\n",
    "    os.makedirs(save_dir, exist_ok=True)"
   ]
  },
  {
   "cell_type": "code",
   "execution_count": 55,
   "id": "2aa6afe1",
   "metadata": {
    "scrolled": true
   },
   "outputs": [
    {
     "name": "stdout",
     "output_type": "stream",
     "text": [
      "rank/local_rank/world_size: 0/0/1\n",
      "\n"
     ]
    }
   ],
   "source": [
    "if dataset in ['tulu_v1_human_mix', 'tulu_v2_human_mix']:\n",
    "    combine_lm_outputs_for_mixes(dataset, save_dir)\n",
    "\n",
    "if use_dist:\n",
    "    dist.init_process_group(\"gloo\", timeout=datetime.timedelta(hours=6))\n",
    "    world_size = dist.get_world_size()\n",
    "    rank = dist.get_rank() # global rank\n",
    "    local_rank = int(os.environ[\"LOCAL_RANK\"])\n",
    "else:\n",
    "    rank = 0\n",
    "    local_rank = 0\n",
    "    world_size = 1\n",
    "\n",
    "print(f'rank/local_rank/world_size: {rank}/{local_rank}/{world_size}\\n')\n",
    "\n",
    "device = f'cuda:{str(local_rank)}'"
   ]
  },
  {
   "cell_type": "code",
   "execution_count": 56,
   "id": "2bd9434f",
   "metadata": {},
   "outputs": [
    {
     "data": {
      "application/vnd.jupyter.widget-view+json": {
       "model_id": "875c2e01621247a79e802930bf540828",
       "version_major": 2,
       "version_minor": 0
      },
      "text/plain": [
       "Loading checkpoint shards:   0%|          | 0/2 [00:00<?, ?it/s]"
      ]
     },
     "metadata": {},
     "output_type": "display_data"
    },
    {
     "name": "stderr",
     "output_type": "stream",
     "text": [
      "Using pad_token, but it is not set yet.\n"
     ]
    }
   ],
   "source": [
    "model = AutoModelForCausalLM.from_pretrained(\n",
    "    model_name_or_path,\n",
    "    device_map=device,\n",
    "    torch_dtype=torch.float16,\n",
    ")\n",
    "\n",
    "tokenizer = AutoTokenizer.from_pretrained(\n",
    "    model_name_or_path, use_fast=True)\n",
    "tokenizer.padding_side = 'left'\n",
    "if tokenizer.pad_token is None:\n",
    "    tokenizer.pad_token = tokenizer.eos_token\n",
    "    tokenizer.pad_token_id = tokenizer.eos_token_id"
   ]
  },
  {
   "cell_type": "code",
   "execution_count": 57,
   "id": "16010ac6",
   "metadata": {
    "scrolled": true
   },
   "outputs": [
    {
     "name": "stdout",
     "output_type": "stream",
     "text": [
      "Initializing lora(r=512,a=512)\n",
      "trainable params: 268435456 || all params: 7275286528 || trainable%: 3.69\n"
     ]
    }
   ],
   "source": [
    "if use_lora:\n",
    "    if not compute_grad:\n",
    "        raise ValueError('compute_grad must be True if use LoRA!')\n",
    "    \n",
    "    print(f'Initializing lora(r={lora_rank},a={lora_alpha})')\n",
    "    # ensure the same initialization\n",
    "    torch.manual_seed(0)\n",
    "    torch.cuda.manual_seed(0)\n",
    "    \n",
    "    if 'llama' in model_name_or_path:\n",
    "        # target_modules = ['q_proj', 'k_proj', 'v_proj', 'o_proj', 'gate_proj', 'up_proj', 'down_proj']\n",
    "        target_modules = ['q_proj', 'k_proj', 'v_proj', 'o_proj']\n",
    "    elif 'pythia' in model_name_or_path:\n",
    "        target_modules = ['query_key_value']\n",
    "    else:\n",
    "        raise ValueError(f'Define new `target_modules` for LoraConfig for {model_name_or_path}')\n",
    "\n",
    "    peft_config = LoraConfig(\n",
    "        task_type=TaskType.CAUSAL_LM, \n",
    "        inference_mode=False, \n",
    "        bias='none',\n",
    "        r=lora_rank,\n",
    "        lora_alpha=lora_alpha, \n",
    "        lora_dropout=0.,\n",
    "        target_modules=target_modules,\n",
    "    )\n",
    "    \n",
    "    model.enable_input_require_grads()\n",
    "    model = get_peft_model(model, peft_config)\n",
    "    \n",
    "    ## don't need to compute gradient to `lora_A`, saves computation (i think) but not space.\n",
    "    for param_name, param in model.named_parameters():\n",
    "        if param.requires_grad and 'lora_A' in param_name:\n",
    "            param.requires_grad = False\n",
    "\n",
    "print_trainable_parameters(model)"
   ]
  },
  {
   "cell_type": "code",
   "execution_count": 87,
   "id": "79970d3f",
   "metadata": {},
   "outputs": [
    {
     "name": "stdout",
     "output_type": "stream",
     "text": [
      "rank=0 -0.01562499813735485 5.669414804287953e-06 0.01562497392296791 13.06145191192627\n"
     ]
    }
   ],
   "source": [
    "w = model.base_model.model.model.layers[0].self_attn.q_proj.lora_A.default.weight\n",
    "print(f'rank={rank}', w.min().cpu().item(), w.mean().cpu().item(), w.max().cpu().item(), w.norm().cpu().item())"
   ]
  },
  {
   "cell_type": "code",
   "execution_count": 58,
   "id": "a2bc2a9a",
   "metadata": {
    "scrolled": true
   },
   "outputs": [],
   "source": [
    "\n",
    "if compute_grad:\n",
    "    if 'llama' in model_name_or_path:\n",
    "        # Computing full gradient for llama is computationally prohibitive.\n",
    "        # Use gradient checkpointing to prevent oom issues.\n",
    "        # Note gradient checkpointing is only applied when in training mode\n",
    "        #     https://github.com/huggingface/transformers/blob/main/src/transformers/models/llama/modeling_llama.py#L908\n",
    "        # So need to set `model.train()`. This is harmless because\n",
    "        # llama's eval/train computation is exactly the same, since there's no dropout layer.\n",
    "        model.gradient_checkpointing_enable()\n",
    "        model.train()\n",
    "else:\n",
    "    model.eval()"
   ]
  },
  {
   "cell_type": "code",
   "execution_count": 59,
   "id": "3dbcbc6d",
   "metadata": {},
   "outputs": [
    {
     "name": "stderr",
     "output_type": "stream",
     "text": [
      "Found cached dataset json (/gpfs/u/scratch/PTFM/PTFMqngp/huggingface_cache/datasets/json/default-486fcbba36f2e93b/0.0.0/8bb11242116d547c741b2e8a1f18598ffdd40a1d4f2a2872c7a28b697434bc96)\n"
     ]
    },
    {
     "data": {
      "application/vnd.jupyter.widget-view+json": {
       "model_id": "b79cd1e9938d4b5bb81c873ae17e0f46",
       "version_major": 2,
       "version_minor": 0
      },
      "text/plain": [
       "  0%|          | 0/1 [00:00<?, ?it/s]"
      ]
     },
     "metadata": {},
     "output_type": "display_data"
    },
    {
     "name": "stderr",
     "output_type": "stream",
     "text": [
      "Loading cached processed dataset at /gpfs/u/scratch/PTFM/PTFMqngp/huggingface_cache/datasets/json/default-486fcbba36f2e93b/0.0.0/8bb11242116d547c741b2e8a1f18598ffdd40a1d4f2a2872c7a28b697434bc96/cache-dbeef5a7f9797401_*_of_00016.arrow\n"
     ]
    },
    {
     "name": "stdout",
     "output_type": "stream",
     "text": [
      "flan_v2 dataset length = 1000\n"
     ]
    }
   ],
   "source": [
    "processed_dir = '../data/processed'\n",
    "if 'flan2022' in dataset:\n",
    "    train_file = os.path.join(processed_dir, 'flan2022', f'{dataset}_data.jsonl')\n",
    "else:\n",
    "    train_file = os.path.join(processed_dir, dataset, f'{dataset}_data.jsonl')\n",
    "assert(os.path.isfile(train_file))\n",
    "\n",
    "\n",
    "encode_function = partial(\n",
    "    encode_with_messages_format, tokenizer=tokenizer, max_seq_length=2048)\n",
    "\n",
    "if rank == 0:\n",
    "    raw_datasets = load_dataset(\"json\", data_files={'train': train_file})\n",
    "    if test_run:\n",
    "        raw_datasets['train'] = raw_datasets['train'].select(range(1000))\n",
    "    print(f\"{dataset} dataset length = {len(raw_datasets['train'])}\")\n",
    "    lm_datasets = raw_datasets.map(\n",
    "        encode_function, batched=False, num_proc=16,\n",
    "        desc=\"Tokenizing and reformatting instruction data\")\n",
    "if use_dist:\n",
    "    dist.barrier()\n",
    "if rank!= 0:\n",
    "    raw_datasets = load_dataset(\"json\", data_files={'train': train_file})\n",
    "    if test_run:\n",
    "        raw_datasets['train'] = raw_datasets['train'].select(range(1000))\n",
    "    print(f\"{dataset} dataset length = {len(raw_datasets['train'])}\")\n",
    "    lm_datasets = raw_datasets.map(\n",
    "        encode_function, batched=False, num_proc=16,\n",
    "        desc=\"Tokenizing and reformatting instruction data\")\n",
    "\n",
    "    \n",
    "\n",
    "train_dataset = lm_datasets['train']\n",
    "train_dataset.set_format(\n",
    "    type=\"torch\",\n",
    "    output_all_columns=False,\n",
    "    columns=['input_ids', 'labels', 'attention_mask'])\n",
    "if shuffle:\n",
    "    random.seed(0)\n",
    "    shuffle_inds = list(range(len(train_dataset)))\n",
    "    random.shuffle(shuffle_inds)\n",
    "    reverse_shuffle_inds = [(i, ind) for i, ind in enumerate(shuffle_inds)]\n",
    "    reverse_shuffle_inds = sorted(reverse_shuffle_inds, key=lambda x: x[1])\n",
    "    reverse_shuffle_inds = [x[0] for x in reverse_shuffle_inds]\n",
    "    train_dataset = train_dataset.select(shuffle_inds)\n",
    "train_dataset_chunk_sizes = [datasets_shard_chunk_size(len(train_dataset), num_shards=world_size, index=i) \n",
    "            for i in range(world_size)]\n",
    "train_dataset = train_dataset.shard(\n",
    "    num_shards=world_size, \n",
    "    index=rank,\n",
    "    contiguous=True)\n",
    "loader = DataLoader(train_dataset, shuffle=False, batch_size=1, pin_memory=True) "
   ]
  },
  {
   "cell_type": "code",
   "execution_count": 60,
   "id": "bd9bebbd",
   "metadata": {},
   "outputs": [
    {
     "data": {
      "text/plain": [
       "{'loraB': 'lora_B\\\\.[a-zA-Z_]+\\\\.weight'}"
      ]
     },
     "execution_count": 60,
     "metadata": {},
     "output_type": "execute_result"
    }
   ],
   "source": [
    "\n",
    "grad_statistic_patterns = get_grad_statistic_pattern(model_name_or_path, use_lora)\n",
    "grad_statistic_patterns\n"
   ]
  },
  {
   "cell_type": "code",
   "execution_count": 61,
   "id": "0e2f99ef",
   "metadata": {},
   "outputs": [
    {
     "name": "stderr",
     "output_type": "stream",
     "text": [
      " 30%|██▉       | 299/1000 [02:30<05:52,  1.99it/s]"
     ]
    },
    {
     "name": "stdout",
     "output_type": "stream",
     "text": [
      "[local_rank/global=0/0] output=[('text_embedding', (300, 4096), dtype('float32')), ('log_prob', (300, 1), dtype('float32')), ('el2n_agg=mean', (300, 1), dtype('float32')), ('el2n_agg=l2n', (300, 1), dtype('float32')), ('logit_margin', (300, 1), dtype('float32')), ('grad_loraB_l2n', (300, 1), dtype('float32'))]\n"
     ]
    },
    {
     "name": "stderr",
     "output_type": "stream",
     "text": [
      "\n"
     ]
    }
   ],
   "source": [
    "from note_llama_embeddings import compute_grad_statistic\n",
    "i = 0\n",
    "\n",
    "output = defaultdict(list)\n",
    "for batch in tqdm(loader, disable=rank!=0, total=len(loader)):\n",
    "    batch = {k: v.to(device, non_blocking=True) for k, v in batch.items()}\n",
    "    \n",
    "    if compute_grad:\n",
    "        outputs = model(**batch, output_hidden_states=True, use_cache=False)\n",
    "        model.zero_grad()\n",
    "        outputs['loss'].backward()\n",
    "    else:\n",
    "        with torch.inference_mode():\n",
    "            outputs = model(**batch, output_hidden_states=True)\n",
    "    \n",
    "    # (bsz, seq_len, hidden_size) -> (bsz, hidden_size)\n",
    "    text_embedding = outputs['hidden_states'][-1].mean(1)\n",
    "    output['text_embedding'].append(text_embedding.to(torch.float32).detach().cpu())\n",
    "    \n",
    "     # average of output token log probs\n",
    "    output['log_prob'].append(-outputs['loss'].detach().cpu())\n",
    "    \n",
    "    # el2n scores\n",
    "    losses = compute_losses(outputs['logits'], batch['labels'])\n",
    "    for k in ['el2n_agg=mean', 'el2n_agg=l2n', 'logit_margin']:\n",
    "        output[k].append(losses[k].detach().cpu())\n",
    "\n",
    "    ## gradient statistic\n",
    "    if compute_grad:\n",
    "        grad_statistics = compute_grad_statistic(model, grad_statistic_patterns)\n",
    "        for k, v in grad_statistics.items():\n",
    "            output[f'grad_{k}'].append(v.detach().cpu())\n",
    "    \n",
    "    i += 1\n",
    "    if i == 300:\n",
    "        break\n",
    "#     break\n",
    "        \n",
    "    \n",
    "for k, v in output.items():\n",
    "    output[k] = torch.vstack(v).to(torch.float32).numpy()\n",
    "    \n",
    "\n",
    "print(f'[local_rank/global={local_rank}/{rank}] '\n",
    "      f'output={[(k, v.shape, v.dtype) for k, v in output.items()]}')"
   ]
  },
  {
   "cell_type": "code",
   "execution_count": 80,
   "id": "da8b9e20",
   "metadata": {
    "scrolled": true
   },
   "outputs": [
    {
     "data": {
      "text/html": [
       "<div>\n",
       "<style scoped>\n",
       "    .dataframe tbody tr th:only-of-type {\n",
       "        vertical-align: middle;\n",
       "    }\n",
       "\n",
       "    .dataframe tbody tr th {\n",
       "        vertical-align: top;\n",
       "    }\n",
       "\n",
       "    .dataframe thead th {\n",
       "        text-align: right;\n",
       "    }\n",
       "</style>\n",
       "<table border=\"1\" class=\"dataframe\">\n",
       "  <thead>\n",
       "    <tr style=\"text-align: right;\">\n",
       "      <th></th>\n",
       "      <th>param_name</th>\n",
       "      <th>shape</th>\n",
       "      <th>numel</th>\n",
       "      <th>mean</th>\n",
       "      <th>norm</th>\n",
       "    </tr>\n",
       "  </thead>\n",
       "  <tbody>\n",
       "    <tr>\n",
       "      <th>6</th>\n",
       "      <td>base_model.model.model.layers.1.self_attn.v_pr...</td>\n",
       "      <td>(4096, 512)</td>\n",
       "      <td>2097152</td>\n",
       "      <td>3.309589e-08</td>\n",
       "      <td>0.952091</td>\n",
       "    </tr>\n",
       "    <tr>\n",
       "      <th>10</th>\n",
       "      <td>base_model.model.model.layers.2.self_attn.v_pr...</td>\n",
       "      <td>(4096, 512)</td>\n",
       "      <td>2097152</td>\n",
       "      <td>-1.527118e-08</td>\n",
       "      <td>0.734453</td>\n",
       "    </tr>\n",
       "    <tr>\n",
       "      <th>2</th>\n",
       "      <td>base_model.model.model.layers.0.self_attn.v_pr...</td>\n",
       "      <td>(4096, 512)</td>\n",
       "      <td>2097152</td>\n",
       "      <td>-3.344830e-07</td>\n",
       "      <td>0.467976</td>\n",
       "    </tr>\n",
       "    <tr>\n",
       "      <th>22</th>\n",
       "      <td>base_model.model.model.layers.5.self_attn.v_pr...</td>\n",
       "      <td>(4096, 512)</td>\n",
       "      <td>2097152</td>\n",
       "      <td>-5.076922e-08</td>\n",
       "      <td>0.434146</td>\n",
       "    </tr>\n",
       "    <tr>\n",
       "      <th>30</th>\n",
       "      <td>base_model.model.model.layers.7.self_attn.v_pr...</td>\n",
       "      <td>(4096, 512)</td>\n",
       "      <td>2097152</td>\n",
       "      <td>-1.266995e-07</td>\n",
       "      <td>0.424931</td>\n",
       "    </tr>\n",
       "    <tr>\n",
       "      <th>...</th>\n",
       "      <td>...</td>\n",
       "      <td>...</td>\n",
       "      <td>...</td>\n",
       "      <td>...</td>\n",
       "      <td>...</td>\n",
       "    </tr>\n",
       "    <tr>\n",
       "      <th>108</th>\n",
       "      <td>base_model.model.model.layers.27.self_attn.q_p...</td>\n",
       "      <td>(4096, 512)</td>\n",
       "      <td>2097152</td>\n",
       "      <td>1.264275e-08</td>\n",
       "      <td>0.026321</td>\n",
       "    </tr>\n",
       "    <tr>\n",
       "      <th>5</th>\n",
       "      <td>base_model.model.model.layers.1.self_attn.k_pr...</td>\n",
       "      <td>(4096, 512)</td>\n",
       "      <td>2097152</td>\n",
       "      <td>1.477039e-08</td>\n",
       "      <td>0.024496</td>\n",
       "    </tr>\n",
       "    <tr>\n",
       "      <th>109</th>\n",
       "      <td>base_model.model.model.layers.27.self_attn.k_p...</td>\n",
       "      <td>(4096, 512)</td>\n",
       "      <td>2097152</td>\n",
       "      <td>-3.440975e-09</td>\n",
       "      <td>0.020781</td>\n",
       "    </tr>\n",
       "    <tr>\n",
       "      <th>1</th>\n",
       "      <td>base_model.model.model.layers.0.self_attn.k_pr...</td>\n",
       "      <td>(4096, 512)</td>\n",
       "      <td>2097152</td>\n",
       "      <td>8.407061e-09</td>\n",
       "      <td>0.019470</td>\n",
       "    </tr>\n",
       "    <tr>\n",
       "      <th>0</th>\n",
       "      <td>base_model.model.model.layers.0.self_attn.q_pr...</td>\n",
       "      <td>(4096, 512)</td>\n",
       "      <td>2097152</td>\n",
       "      <td>-1.474820e-11</td>\n",
       "      <td>0.014006</td>\n",
       "    </tr>\n",
       "  </tbody>\n",
       "</table>\n",
       "<p>128 rows × 5 columns</p>\n",
       "</div>"
      ],
      "text/plain": [
       "                                            param_name        shape    numel  \\\n",
       "6    base_model.model.model.layers.1.self_attn.v_pr...  (4096, 512)  2097152   \n",
       "10   base_model.model.model.layers.2.self_attn.v_pr...  (4096, 512)  2097152   \n",
       "2    base_model.model.model.layers.0.self_attn.v_pr...  (4096, 512)  2097152   \n",
       "22   base_model.model.model.layers.5.self_attn.v_pr...  (4096, 512)  2097152   \n",
       "30   base_model.model.model.layers.7.self_attn.v_pr...  (4096, 512)  2097152   \n",
       "..                                                 ...          ...      ...   \n",
       "108  base_model.model.model.layers.27.self_attn.q_p...  (4096, 512)  2097152   \n",
       "5    base_model.model.model.layers.1.self_attn.k_pr...  (4096, 512)  2097152   \n",
       "109  base_model.model.model.layers.27.self_attn.k_p...  (4096, 512)  2097152   \n",
       "1    base_model.model.model.layers.0.self_attn.k_pr...  (4096, 512)  2097152   \n",
       "0    base_model.model.model.layers.0.self_attn.q_pr...  (4096, 512)  2097152   \n",
       "\n",
       "             mean      norm  \n",
       "6    3.309589e-08  0.952091  \n",
       "10  -1.527118e-08  0.734453  \n",
       "2   -3.344830e-07  0.467976  \n",
       "22  -5.076922e-08  0.434146  \n",
       "30  -1.266995e-07  0.424931  \n",
       "..            ...       ...  \n",
       "108  1.264275e-08  0.026321  \n",
       "5    1.477039e-08  0.024496  \n",
       "109 -3.440975e-09  0.020781  \n",
       "1    8.407061e-09  0.019470  \n",
       "0   -1.474820e-11  0.014006  \n",
       "\n",
       "[128 rows x 5 columns]"
      ]
     },
     "execution_count": 80,
     "metadata": {},
     "output_type": "execute_result"
    }
   ],
   "source": [
    "\n",
    "param_names = []\n",
    "grads = []\n",
    "for param_name, param in model.named_parameters():\n",
    "    if param.requires_grad and param.grad is not None:\n",
    "        param_names.append(param_name)\n",
    "        grads.append(param.grad.to(torch.float32))\n",
    "\n",
    "data = []\n",
    "for param_name, grad in zip(param_names, grads):\n",
    "    data.append({\n",
    "        'param_name': param_name,\n",
    "        'shape': grad.shape,\n",
    "        'numel': grad.numel(),\n",
    "        'mean': grad.mean().detach().cpu().item(),\n",
    "        'norm': grad.norm().detach().cpu().item(),\n",
    "    })\n",
    "        \n",
    "        \n",
    "\n",
    "df = pd.DataFrame(data)\n",
    "\n",
    "# pattern = r'\\bquery_key_value\\.weight\\b'\n",
    "# # pattern = r'\\bmlp\\..*?\\.weight\\b'\n",
    "pattern = r'\\blora_B\\b'\n",
    "\n",
    "df = df[df['param_name'].apply(lambda x: True if re.search(pattern, x) else False)]\n",
    "df = df.sort_values(['norm'], ascending=False)\n",
    "\n",
    "df"
   ]
  },
  {
   "cell_type": "code",
   "execution_count": 81,
   "id": "f854fa3c",
   "metadata": {},
   "outputs": [
    {
     "data": {
      "text/plain": [
       "(array([66., 25., 21.,  6.,  8.,  0.,  0.,  1.,  0.,  1.]),\n",
       " array([0.01400609, 0.10781454, 0.201623  , 0.29543145, 0.3892399 ,\n",
       "        0.48304836, 0.57685681, 0.67066526, 0.76447371, 0.85828217,\n",
       "        0.95209062]),\n",
       " <BarContainer object of 10 artists>)"
      ]
     },
     "execution_count": 81,
     "metadata": {},
     "output_type": "execute_result"
    },
    {
     "data": {
      "image/png": "[encoded data removed]",
      "text/plain": [
       "<Figure size 640x480 with 1 Axes>"
      ]
     },
     "metadata": {},
     "output_type": "display_data"
    }
   ],
   "source": [
    "plt.hist(df['norm'].to_numpy())"
   ]
  },
  {
   "cell_type": "code",
   "execution_count": 79,
   "id": "e5556130",
   "metadata": {},
   "outputs": [
    {
     "data": {
      "text/plain": [
       "(array([75., 22., 15.,  7.,  5.,  2.,  0.,  0.,  0.,  2.]),\n",
       " array([0.01864145, 0.12531811, 0.23199476, 0.33867141, 0.44534806,\n",
       "        0.55202471, 0.65870136, 0.76537802, 0.87205467, 0.97873132,\n",
       "        1.08540797]),\n",
       " <BarContainer object of 10 artists>)"
      ]
     },
     "execution_count": 79,
     "metadata": {},
     "output_type": "execute_result"
    },
    {
     "data": {
      "image/png": "[encoded data removed]",
      "text/plain": [
       "<Figure size 640x480 with 1 Axes>"
      ]
     },
     "metadata": {},
     "output_type": "display_data"
    }
   ],
   "source": [
    "plt.hist(df['norm'].to_numpy())"
   ]
  },
  {
   "cell_type": "code",
   "execution_count": 17,
   "id": "ccbf71ef",
   "metadata": {},
   "outputs": [],
   "source": [
    "# output_fullgrad = output.copy()"
   ]
  },
  {
   "cell_type": "code",
   "execution_count": 62,
   "id": "62166c44",
   "metadata": {
    "scrolled": true
   },
   "outputs": [],
   "source": [
    "\n",
    "output_fullgrad.update({f'grad_loraB(r={lora_rank})_l2n': output['grad_loraB_l2n']})\n",
    "# del output_fullgrad['grad_loraB_l2n']"
   ]
  },
  {
   "cell_type": "code",
   "execution_count": 63,
   "id": "e2cd0413",
   "metadata": {},
   "outputs": [
    {
     "data": {
      "image/png": "[encoded data removed]",
      "text/plain": [
       "<Figure size 800x800 with 2 Axes>"
      ]
     },
     "metadata": {},
     "output_type": "display_data"
    }
   ],
   "source": [
    "from rosemary import plt_kernel_matrix_one\n",
    "import matplotlib.pyplot as plt\n",
    "from scipy import stats\n",
    "\n",
    "metrics_name = ['log_prob', 'el2n_agg=mean', 'el2n_agg=l2n', 'logit_margin']\n",
    "metrics_name += [x for x in output_fullgrad if 'grad' in x and 'sum' not in x]\n",
    "metrics = [output_fullgrad[k] for k in metrics_name]\n",
    "any_isnan_mask = np.hstack([np.isnan(x) for x in metrics]).any(-1)\n",
    "metrics = [x[~any_isnan_mask] for x in metrics]\n",
    "N = len(metrics)\n",
    "K = np.zeros((N, N))\n",
    "for i, mi in enumerate(metrics):\n",
    "    for j, mj in enumerate(metrics):\n",
    "        s = stats.spearmanr(mi, mj)\n",
    "        K[i,j] = s.statistic\n",
    "        \n",
    "\n",
    "fig, ax = plt.subplots(1,1,figsize=(8,8))\n",
    "plt_kernel_matrix_one(\n",
    "    fig, ax, K, title=f'Spearmanr ({model_name}:{dataset})', \n",
    "    vmin=-1, vmax=1, cmap='bwr', n_ticks=N, annotate=True)\n",
    "ax.set_xticklabels(metrics_name, rotation=-45)\n",
    "ax.set_yticklabels(metrics_name)\n",
    "\n",
    "fig.tight_layout()"
   ]
  },
  {
   "cell_type": "code",
   "execution_count": 41,
   "id": "9d8ffeae",
   "metadata": {},
   "outputs": [
    {
     "data": {
      "text/plain": [
       "array([[0.7337741 ],\n",
       "       [0.4971503 ],\n",
       "       [0.3368366 ],\n",
       "       [0.39310965],\n",
       "       [0.33957723],\n",
       "       [0.32302433],\n",
       "       [0.29393336],\n",
       "       [1.259916  ],\n",
       "       [1.0904397 ],\n",
       "       [0.19749328],\n",
       "       [0.6159407 ],\n",
       "       [1.3101168 ],\n",
       "       [0.28377447],\n",
       "       [0.713701  ],\n",
       "       [0.2674226 ],\n",
       "       [0.991541  ],\n",
       "       [1.2790775 ],\n",
       "       [0.25900862],\n",
       "       [0.2934487 ],\n",
       "       [0.5284021 ],\n",
       "       [1.182624  ],\n",
       "       [0.27685302],\n",
       "       [1.0931882 ],\n",
       "       [1.6186028 ],\n",
       "       [0.26211146],\n",
       "       [0.30602688],\n",
       "       [1.0768642 ],\n",
       "       [0.33676794],\n",
       "       [0.3762995 ],\n",
       "       [0.05822904],\n",
       "       [0.35429898],\n",
       "       [0.99870944],\n",
       "       [0.18733303],\n",
       "       [0.42744902],\n",
       "       [1.690022  ],\n",
       "       [0.39844003],\n",
       "       [0.21763827],\n",
       "       [0.22708143],\n",
       "       [0.8608039 ],\n",
       "       [0.8133187 ],\n",
       "       [0.8917393 ],\n",
       "       [1.5955082 ],\n",
       "       [1.1689816 ],\n",
       "       [0.871199  ],\n",
       "       [1.0055825 ],\n",
       "       [0.8185023 ],\n",
       "       [0.50973684],\n",
       "       [0.4104462 ],\n",
       "       [0.6292106 ],\n",
       "       [0.70769507],\n",
       "       [1.3151985 ],\n",
       "       [0.71600723],\n",
       "       [1.0871907 ],\n",
       "       [0.37407392],\n",
       "       [0.4316545 ],\n",
       "       [0.8692809 ],\n",
       "       [0.44602028],\n",
       "       [1.1888344 ],\n",
       "       [0.07024164],\n",
       "       [0.44355747],\n",
       "       [1.0479518 ],\n",
       "       [0.19744997],\n",
       "       [0.90023834],\n",
       "       [1.632772  ],\n",
       "       [0.24037509],\n",
       "       [1.9380081 ],\n",
       "       [0.3986332 ],\n",
       "       [0.3897928 ],\n",
       "       [0.90956277],\n",
       "       [1.6597676 ],\n",
       "       [0.5116315 ],\n",
       "       [0.23365268],\n",
       "       [0.40182412],\n",
       "       [1.419946  ],\n",
       "       [0.9308156 ],\n",
       "       [0.23050487],\n",
       "       [0.7010555 ],\n",
       "       [1.2501427 ],\n",
       "       [0.19075623],\n",
       "       [0.27671507],\n",
       "       [0.46869862],\n",
       "       [2.7155972 ],\n",
       "       [0.7925153 ],\n",
       "       [0.19947056],\n",
       "       [0.55470955],\n",
       "       [0.12769377],\n",
       "       [0.27554214],\n",
       "       [0.5151383 ],\n",
       "       [1.0791763 ],\n",
       "       [1.0398711 ],\n",
       "       [0.80727726],\n",
       "       [0.27335396],\n",
       "       [0.3436448 ],\n",
       "       [0.65416646],\n",
       "       [1.557925  ],\n",
       "       [0.40947178],\n",
       "       [0.9336826 ],\n",
       "       [1.635427  ],\n",
       "       [0.46306548],\n",
       "       [1.0594984 ],\n",
       "       [0.7938821 ],\n",
       "       [0.45425   ],\n",
       "       [0.22771415],\n",
       "       [1.3779898 ],\n",
       "       [0.44739795],\n",
       "       [0.3790973 ],\n",
       "       [0.22275798],\n",
       "       [0.75420976],\n",
       "       [0.25661743],\n",
       "       [1.3576869 ],\n",
       "       [1.1780096 ],\n",
       "       [0.1491427 ],\n",
       "       [0.4307832 ],\n",
       "       [0.43836695],\n",
       "       [1.3924719 ],\n",
       "       [0.6477333 ],\n",
       "       [1.0940067 ],\n",
       "       [0.82902515],\n",
       "       [0.16575365],\n",
       "       [0.5857578 ],\n",
       "       [0.35292605],\n",
       "       [0.4288358 ],\n",
       "       [1.0351212 ],\n",
       "       [0.84160364],\n",
       "       [0.19421014],\n",
       "       [0.28087354],\n",
       "       [0.37753046],\n",
       "       [0.1776876 ],\n",
       "       [0.34798732],\n",
       "       [0.5502932 ],\n",
       "       [0.22752139],\n",
       "       [0.23410027],\n",
       "       [0.21081056],\n",
       "       [0.2283485 ],\n",
       "       [0.8247191 ],\n",
       "       [0.31330243],\n",
       "       [0.8242496 ],\n",
       "       [0.6095101 ],\n",
       "       [0.9062633 ],\n",
       "       [1.1161488 ],\n",
       "       [0.59910446],\n",
       "       [0.8662861 ],\n",
       "       [0.279631  ],\n",
       "       [0.6991179 ],\n",
       "       [0.22311728],\n",
       "       [0.90887594],\n",
       "       [1.2505662 ],\n",
       "       [0.78493655],\n",
       "       [1.5228443 ],\n",
       "       [0.03722547],\n",
       "       [0.7244888 ],\n",
       "       [0.9429969 ],\n",
       "       [0.9096152 ],\n",
       "       [0.5554398 ],\n",
       "       [0.19884115],\n",
       "       [0.81982726],\n",
       "       [1.2156621 ],\n",
       "       [0.85659945],\n",
       "       [0.30135226],\n",
       "       [1.1064628 ],\n",
       "       [0.41553968],\n",
       "       [0.41269705],\n",
       "       [0.33640555],\n",
       "       [0.4144334 ],\n",
       "       [0.52039653],\n",
       "       [0.5347299 ],\n",
       "       [0.9206201 ],\n",
       "       [1.6898985 ],\n",
       "       [2.2633412 ],\n",
       "       [0.3784543 ],\n",
       "       [0.39910617],\n",
       "       [1.4616847 ],\n",
       "       [1.7584195 ],\n",
       "       [0.602989  ],\n",
       "       [0.17052615],\n",
       "       [0.17720006],\n",
       "       [0.28269976],\n",
       "       [1.2028849 ],\n",
       "       [0.85503393],\n",
       "       [0.98639154],\n",
       "       [0.07720321],\n",
       "       [1.8206068 ],\n",
       "       [0.7355754 ],\n",
       "       [1.1494601 ],\n",
       "       [0.07866891],\n",
       "       [1.1248059 ],\n",
       "       [0.5487902 ],\n",
       "       [1.279018  ],\n",
       "       [0.43446255],\n",
       "       [2.4446948 ],\n",
       "       [0.2898805 ],\n",
       "       [0.31082714],\n",
       "       [0.18866384],\n",
       "       [0.3994699 ],\n",
       "       [0.87436557],\n",
       "       [1.3370172 ],\n",
       "       [0.19190006],\n",
       "       [0.8418745 ],\n",
       "       [1.9249297 ],\n",
       "       [0.6848905 ],\n",
       "       [1.3601277 ],\n",
       "       [0.51507294],\n",
       "       [0.8442068 ],\n",
       "       [1.3534596 ],\n",
       "       [0.9803165 ],\n",
       "       [1.6489522 ],\n",
       "       [1.270127  ],\n",
       "       [0.38678423],\n",
       "       [0.79993474],\n",
       "       [0.53855574],\n",
       "       [0.953059  ],\n",
       "       [0.15452704],\n",
       "       [1.0910482 ],\n",
       "       [1.1944964 ],\n",
       "       [0.6185564 ],\n",
       "       [2.3530855 ],\n",
       "       [0.1940173 ],\n",
       "       [0.0992249 ],\n",
       "       [0.6373872 ],\n",
       "       [1.7925388 ],\n",
       "       [0.04674921],\n",
       "       [1.4555595 ],\n",
       "       [0.13064037],\n",
       "       [0.        ],\n",
       "       [1.3615586 ],\n",
       "       [0.22646496],\n",
       "       [0.29943374],\n",
       "       [0.05500123],\n",
       "       [0.76240194],\n",
       "       [1.6937821 ],\n",
       "       [1.5210427 ],\n",
       "       [0.9345936 ],\n",
       "       [0.9026816 ],\n",
       "       [0.93037784],\n",
       "       [0.91517794],\n",
       "       [0.64945835],\n",
       "       [2.1311805 ],\n",
       "       [0.2961642 ],\n",
       "       [1.04505   ],\n",
       "       [1.1836687 ],\n",
       "       [1.0248358 ],\n",
       "       [0.7420541 ],\n",
       "       [1.1955644 ],\n",
       "       [1.030974  ],\n",
       "       [0.20046753],\n",
       "       [0.76870936],\n",
       "       [0.22406417],\n",
       "       [0.19976957],\n",
       "       [1.1010566 ],\n",
       "       [0.40173137],\n",
       "       [0.18577911],\n",
       "       [1.174086  ],\n",
       "       [0.20485732],\n",
       "       [0.77395695],\n",
       "       [1.287037  ],\n",
       "       [1.4403393 ],\n",
       "       [1.9091018 ],\n",
       "       [0.27594697],\n",
       "       [0.4344538 ],\n",
       "       [0.8332215 ],\n",
       "       [0.9051281 ],\n",
       "       [1.4237114 ],\n",
       "       [0.23373379],\n",
       "       [0.86688733],\n",
       "       [0.9673237 ],\n",
       "       [0.16526207],\n",
       "       [0.9542203 ],\n",
       "       [0.04743849],\n",
       "       [0.59200084],\n",
       "       [0.32434574],\n",
       "       [0.2854706 ],\n",
       "       [0.5025465 ],\n",
       "       [0.88781756],\n",
       "       [0.2403551 ],\n",
       "       [0.3585388 ],\n",
       "       [0.7638216 ],\n",
       "       [1.8081875 ],\n",
       "       [0.21390842],\n",
       "       [0.543922  ],\n",
       "       [1.6768255 ],\n",
       "       [0.26814288],\n",
       "       [2.5951824 ],\n",
       "       [0.15593971],\n",
       "       [1.0979494 ],\n",
       "       [0.4691114 ],\n",
       "       [0.8494346 ],\n",
       "       [0.8894331 ],\n",
       "       [1.4724095 ],\n",
       "       [0.402425  ],\n",
       "       [0.6262891 ],\n",
       "       [0.31458575],\n",
       "       [0.8723124 ],\n",
       "       [0.21824263],\n",
       "       [0.18647912],\n",
       "       [0.24878374],\n",
       "       [1.4598255 ],\n",
       "       [0.95679617],\n",
       "       [0.42170855],\n",
       "       [1.2712831 ],\n",
       "       [0.1960879 ]], dtype=float32)"
      ]
     },
     "execution_count": 41,
     "metadata": {},
     "output_type": "execute_result"
    }
   ],
   "source": []
  },
  {
   "cell_type": "code",
   "execution_count": null,
   "id": "d04b4775",
   "metadata": {},
   "outputs": [],
   "source": []
  }
 ],
 "metadata": {
  "kernelspec": {
   "display_name": "Python [conda env:open-instruct]",
   "language": "python",
   "name": "conda-env-open-instruct-py"
  },
  "language_info": {
   "codemirror_mode": {
    "name": "ipython",
    "version": 3
   },
   "file_extension": ".py",
   "mimetype": "text/x-python",
   "name": "python",
   "nbconvert_exporter": "python",
   "pygments_lexer": "ipython3",
   "version": "3.10.12"
  }
 },
 "nbformat": 4,
 "nbformat_minor": 5
}
